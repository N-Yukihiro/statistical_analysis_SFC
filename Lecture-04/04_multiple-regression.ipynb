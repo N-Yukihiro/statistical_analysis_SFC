{
  "cells": [
    {
      "cell_type": "markdown",
      "id": "7bc0f0b8-f785-4763-895f-1cd897b00b10",
      "metadata": {},
      "source": [
        "# 重回帰分析\n",
        "\n",
        "### データの読み込み\n",
        "\n",
        "『家計調査』2017年11月、第2−6表「年間収入階級別1世帯当たり1か月間の収入と支出」から作成した所得階級と支出のデータ`kakei201709_l18.csv`を用いる.\n",
        "\n",
        "月間消費支出(円)(`CONS`), 月間消費支出(1万円)(`CONS1`),\n",
        "年間収入(1万円)(INC), 有業人員(人)(`WORK`). いずれも調査世帯の平均値"
      ]
    },
    {
      "cell_type": "code",
      "execution_count": null,
      "id": "d4288ca6-cc46-4c3c-ac50-c9195a28ed82",
      "metadata": {},
      "outputs": [],
      "source": [
        "library(pacman)\n",
        "p_load(readr)\n",
        "kakei <- readr::read_csv(\"../data/kakei201709_l18.csv\")"
      ]
    },
    {
      "cell_type": "markdown",
      "id": "2dc212ad-6f1b-4b17-8ea5-1084d900cf95",
      "metadata": {},
      "source": [
        "### ペアプロット\n",
        "\n",
        "いくつかの変数をまとめて散布図を描くには,\n",
        "`GGally`パッケージの`ggpairs()`関数が便利.\n",
        "右上(upper)にはピアソンの積率相関係数を示し,\n",
        "対角線(diag)には密度などを表してくれる."
      ]
    },
    {
      "cell_type": "code",
      "execution_count": null,
      "id": "00fb68ca-3119-4ec4-9e5d-bbf5fb5fc6b7",
      "metadata": {},
      "outputs": [],
      "source": [
        "p_load(GGally)"
      ]
    },
    {
      "cell_type": "markdown",
      "id": "e35c2eaf-1f59-40d5-98f3-2ef8a8e70f65",
      "metadata": {},
      "source": [
        "### 最尤推定\n",
        "\n",
        "最尤推定法を利用するには, `glm()`関数を利用する.\n",
        "確率密度関数の分布族として正規分布(ガウス分布)を利用することを`family = \"gaussian\"`で宣言する.\n",
        "説明変数を増やして重回帰分析とするには, 説明変数を`+`でつなぐ.\n",
        "最小二乗法を行う`lm()`関数でも同じ."
      ]
    },
    {
      "cell_type": "code",
      "execution_count": null,
      "id": "a7f7d221-45b5-4c4b-a5dc-57b262e8c80a",
      "metadata": {},
      "outputs": [],
      "source": [
        "model1 <- glm(CONS1 ~ INC, \n",
        "              family = \"gaussian\",\n",
        "              data   = kakei)\n",
        "model2 <- glm(CONS1 ~ INC + WORK, \n",
        "              family = \"gaussian\",\n",
        "              data   = kakei)\n",
        "model3 <- glm(CONS1 ~ WORK, \n",
        "              family = \"gaussian\", \n",
        "              data   = kakei)"
      ]
    },
    {
      "cell_type": "markdown",
      "id": "123b854b-63ed-49a8-b892-4a4dfd2d3234",
      "metadata": {},
      "source": [
        "### 結果の表示\n",
        "\n",
        "`jtools`パッケージの`summ()`関数を利用して結果を確認する.\n",
        "最尤推定法は正規分布以外も利用できるため,\n",
        "より汎用的な$R^2$などが計算されるが, 今回は線形回帰分析であるため割愛.\n",
        "最終行に$\\hat{\\sigma}^2$も計算される."
      ]
    },
    {
      "cell_type": "code",
      "execution_count": null,
      "id": "4c44ecb4-9ab0-4380-8a64-7fe8af00bf27",
      "metadata": {},
      "outputs": [],
      "source": [
        "p_load(jtools)\n",
        "summ(model2)"
      ]
    },
    {
      "cell_type": "markdown",
      "id": "b48b645e-5949-4d03-a9b0-a48598c683e9",
      "metadata": {},
      "source": [
        "### 標準回帰係数の算出\n",
        "\n",
        "標準回帰係数を算出するには,\n",
        "`scale = TRUE, transform.response = TRUE`を利用する."
      ]
    },
    {
      "cell_type": "code",
      "execution_count": null,
      "id": "9bb47fa7-4b69-4451-8d12-6a14c444b600",
      "metadata": {},
      "outputs": [],
      "source": [
        "summ(model2, \n",
        "     scale              = TRUE, \n",
        "     transform.response = TRUE)"
      ]
    },
    {
      "cell_type": "markdown",
      "id": "b4d78845-604f-446a-a10f-9af7edb15bf3",
      "metadata": {},
      "source": [
        "### 複数の分析結果を並べる\n",
        "\n",
        "複数の分析結果を並べるのには`stargazer`は有用."
      ]
    },
    {
      "cell_type": "code",
      "execution_count": null,
      "id": "4e2c8191-d403-4273-a244-329db13703e5",
      "metadata": {},
      "outputs": [],
      "source": [
        "p_load(stargazer)\n",
        "stargazer(model1, model2, model3,\n",
        "          type              = \"text\",\n",
        "          style             = \"all\", \n",
        "          ci                = TRUE,\n",
        "          star.cutoffs      = NA, \n",
        "          omit.table.layout = 'n',\n",
        "          align             = TRUE)"
      ]
    },
    {
      "cell_type": "markdown",
      "id": "37578293-6e20-41dd-8dad-1e5076161c26",
      "metadata": {},
      "source": [
        "### AICによるモデル間の比較\n",
        "\n",
        "`AIC()`関数を用いて、モデル推定結果を比較できる."
      ]
    },
    {
      "cell_type": "code",
      "execution_count": null,
      "id": "0f83dcc7-b801-40ac-b764-b4d22d98bc22",
      "metadata": {},
      "outputs": [],
      "source": [
        "AIC(model1, model2, model3)"
      ]
    },
    {
      "cell_type": "markdown",
      "id": "c21ee1c0-9ff5-434a-8046-43e08cc8baf6",
      "metadata": {},
      "source": [
        "### BICによるモデル間の比較\n",
        "\n",
        "`BIC()`関数を用いて、モデル推定結果を比較できる."
      ]
    },
    {
      "cell_type": "code",
      "execution_count": null,
      "id": "888135d7-7a49-4455-af77-49ad579975d6",
      "metadata": {},
      "outputs": [],
      "source": [
        "BIC(model1, model2, model3)"
      ]
    },
    {
      "cell_type": "markdown",
      "id": "ba8dd53f-afe2-4236-93b0-7526d9784bce",
      "metadata": {},
      "source": [
        "## 結果の図示\n",
        "\n",
        "### 結果の図示\n",
        "\n",
        "回帰分析の結果は表だけでなく, グラフ化するとわかりやすい.\n",
        "結果のグラフ化には`coefplot`パッケージの`coefplot()`関数が便利."
      ]
    },
    {
      "cell_type": "code",
      "execution_count": null,
      "id": "4e351f9b-6d3b-4870-a5df-5aef0d8e259d",
      "metadata": {},
      "outputs": [],
      "source": [
        "p_load(coefplot)"
      ]
    },
    {
      "cell_type": "markdown",
      "id": "5b38c75c-f76f-460a-a294-e24d54ca534c",
      "metadata": {},
      "source": [
        "### 結果の図示2\n",
        "\n",
        "定数項は基準が違うために一緒にプロットすると見づらい場合がある.\n",
        "`intercept = FALSE`を引数に入れれば定数項を表示しない."
      ]
    },
    {
      "cell_type": "code",
      "execution_count": null,
      "id": "d6685c9b-22b3-4b13-8f59-ed282648efce",
      "metadata": {},
      "outputs": [],
      "source": [
        "coefplot(model2,\n",
        "         intercept = FALSE)"
      ]
    },
    {
      "cell_type": "markdown",
      "id": "296f7117-1585-4b56-9d62-90a8267f6442",
      "metadata": {},
      "source": [
        "### 複数のモデルを比較\n",
        "\n",
        "複数のモデルをグラフを用いて比較するには,\n",
        "`coefplot`パッケージの`multiplot()`関数が便利."
      ]
    },
    {
      "cell_type": "code",
      "execution_count": null,
      "id": "567c51ae-7099-45df-9502-3ee25668b2dc",
      "metadata": {},
      "outputs": [],
      "source": [
        "multiplot(model1, \n",
        "          model2, \n",
        "          model3)"
      ]
    },
    {
      "cell_type": "markdown",
      "id": "42d46342-8873-4414-b975-c37c4dc0888b",
      "metadata": {},
      "source": [
        "### 標準回帰係数のプロット\n",
        "\n",
        "標準回帰係数へは`arm`パッケージの`standardize(standardize.y = TRUE)`で変換できる."
      ]
    },
    {
      "cell_type": "code",
      "execution_count": null,
      "id": "72d23e06-6b1c-47e3-8825-19b72dcdb1ae",
      "metadata": {},
      "outputs": [],
      "source": [
        "p_load(arm)"
      ]
    },
    {
      "cell_type": "markdown",
      "id": "f39774c2-ab60-4587-adc2-1a5b814ac695",
      "metadata": {},
      "source": [
        "### 標準回帰係数のマルチプロット\n",
        "\n",
        "標準回帰係数へは`arm`パッケージの`standardize(standardize.y = TRUE)`で変換すれば,\n",
        "マルチプロットもできる."
      ]
    },
    {
      "cell_type": "code",
      "execution_count": null,
      "id": "314ec96e-fcd7-4d1f-afb8-f91b991103e7",
      "metadata": {},
      "outputs": [],
      "source": [
        "multiplot(\n",
        "  arm::standardize(model1,\n",
        "                   standardize.y = TRUE),\n",
        "  arm::standardize(model2,\n",
        "                   standardize.y = TRUE),\n",
        "  arm::standardize(model3,\n",
        "                   standardize.y = TRUE),\n",
        "  names = c(\"model1\", \"model2\", \"model3\")\n",
        "  )"
      ]
    },
    {
      "cell_type": "markdown",
      "id": "050f85a4-efe7-47e4-873c-5b4c824331ac",
      "metadata": {},
      "source": [
        "### 予測値の算出\n",
        "\n",
        "`predict()`関数を利用して予測値を算出する."
      ]
    },
    {
      "cell_type": "code",
      "execution_count": null,
      "id": "0d52b0af-b391-47a0-b81d-d4644bec3ac6",
      "metadata": {},
      "outputs": [],
      "source": [
        "p_load(dplyr)\n",
        "pred1 <- predict(model1)\n",
        "pred2 <- predict(model2)\n",
        "pred3 <- predict(model3)"
      ]
    },
    {
      "cell_type": "markdown",
      "id": "0cce6a5b-d621-480a-9290-faa2d7ce0336",
      "metadata": {},
      "source": [
        "### 予測値と実測値のプロット\n",
        "\n",
        "予測値と実測値のプロットを行う."
      ]
    },
    {
      "cell_type": "code",
      "execution_count": null,
      "id": "9051ff94-7a45-4cbc-afe8-298e0638329c",
      "metadata": {},
      "outputs": [],
      "source": [
        "p_load(ggplot2)\n",
        "ggplot() +\n",
        "  aes(x = kakei$CONS1) +\n",
        "  geom_point(aes(y = pred1),\n",
        "             colour = \"blue\") +\n",
        "  geom_point(aes(y = pred2),\n",
        "             colour = \"red\") +\n",
        "  geom_point(aes(y = pred3),\n",
        "             colour = \"green\") +\n",
        "  geom_abline(slope     = 1, \n",
        "              intercept = 0)"
      ]
    },
    {
      "cell_type": "markdown",
      "id": "9b54f1f9-b88b-4a94-9fb0-bfe92c4e8f22",
      "metadata": {},
      "source": [
        "### 分散不均一の考慮\n",
        "\n",
        "Welchのt検定のように分散不均一を考慮する際には`estimatr`パッケージの`lm_robust()`関数を利用すると分散不均一を補正した標準誤差を計算できる."
      ]
    },
    {
      "cell_type": "code",
      "execution_count": null,
      "id": "c2c415bc-e8ca-4c37-8108-faa84b5d24a1",
      "metadata": {},
      "outputs": [],
      "source": [
        "p_load(estimatr)"
      ]
    },
    {
      "cell_type": "markdown",
      "id": "bfffa1e7-5c64-4b5f-af67-e40862e42e93",
      "metadata": {},
      "source": [
        "分散不均一を補正した結果は`summ()`関数の中で`robust`の引数を指定することでも表示できる."
      ]
    },
    {
      "cell_type": "code",
      "execution_count": null,
      "id": "2f022f7f-969d-43c7-a9df-3717c63cd621",
      "metadata": {},
      "outputs": [],
      "source": [
        "summ(model2, robust = \"HC3\")"
      ]
    },
    {
      "cell_type": "markdown",
      "id": "12c72b99-1326-49d5-b909-05038590ff47",
      "metadata": {},
      "source": [
        "### LOOCVの計算\n",
        "\n",
        "`caret`パッケージを利用してLOOCVを求める."
      ]
    },
    {
      "cell_type": "code",
      "execution_count": null,
      "id": "f3fd8b23-b7aa-455f-b7bd-45a0a15777ce",
      "metadata": {},
      "outputs": [],
      "source": [
        "p_load(caret)"
      ]
    },
    {
      "cell_type": "code",
      "execution_count": null,
      "id": "3e80b3e6-5538-4fa9-bca8-9e4b9b29ca23",
      "metadata": {},
      "outputs": [],
      "source": [
        "LOOCV2 <- train(CONS1 ~ INC + WORK, \n",
        "                data      = kakei,\n",
        "                method    = \"lm\", \n",
        "                trControl = trainControl(method = \"LOOCV\"))\n",
        "LOOCV2"
      ]
    },
    {
      "cell_type": "code",
      "execution_count": null,
      "id": "43040217-8aa7-47b0-aa20-34d953263c6f",
      "metadata": {},
      "outputs": [],
      "source": [
        "LOOCV3 <- train(CONS1 ~ WORK, \n",
        "                data      = kakei,\n",
        "                method    = \"lm\", \n",
        "                trControl = trainControl(method = \"LOOCV\"))\n",
        "LOOCV3"
      ]
    },
    {
      "cell_type": "markdown",
      "id": "6234d031-d28e-4da6-bf9e-99277e832117",
      "metadata": {},
      "source": [
        "### 残差と予測値のプロット\n",
        "\n",
        "残差プロットをするためには,\n",
        "`ggfortify`パッケージと`autoplot()`関数を利用するのが便利. x軸が予測値,\n",
        "y軸が残差"
      ]
    },
    {
      "cell_type": "code",
      "execution_count": null,
      "id": "0d37ad35-2a32-4ce4-b710-42ff93dc5c5d",
      "metadata": {},
      "outputs": [],
      "source": [
        "p_load(ggfortify)"
      ]
    },
    {
      "cell_type": "markdown",
      "id": "970b0921-36dc-4215-90c4-7dafc0b4195d",
      "metadata": {},
      "source": [
        "### 残差の平方根プロット\n",
        "\n",
        "残差の変動を確認するため, x軸が予測値,\n",
        "y軸が標準化した残差の絶対値の平和根の散布図を描く."
      ]
    },
    {
      "cell_type": "code",
      "execution_count": null,
      "id": "29e3a911-6082-4135-84d9-0de46cceac80",
      "metadata": {},
      "outputs": [],
      "source": [
        "autoplot(model2, \n",
        "         which = 3, \n",
        "         ncol  = 1)"
      ]
    },
    {
      "cell_type": "markdown",
      "id": "0aca6b53-4d74-4b28-8905-01c33a78db16",
      "metadata": {},
      "source": [
        "### 残差の正規Q-Qプロット\n",
        "\n",
        "残差の正規Q-Qプロットで直線状に標準化した残差が乗っているかチェックする."
      ]
    },
    {
      "cell_type": "code",
      "execution_count": null,
      "id": "3e7057ef-6483-4360-ab29-4eedbc9b4187",
      "metadata": {},
      "outputs": [],
      "source": [
        "autoplot(model2, \n",
        "         which = 2,\n",
        "         ncol  = 1)"
      ]
    },
    {
      "cell_type": "markdown",
      "id": "9edc9054-364f-4387-bf53-9288cfb52512",
      "metadata": {},
      "source": [
        "### 標準化残差とてこ比のプロット\n",
        "\n",
        "x軸にてこ比, y軸に標準化残差を描画する."
      ]
    },
    {
      "cell_type": "code",
      "execution_count": null,
      "id": "6fae89ea-b8f3-4cb5-81d4-f1bf486631b8",
      "metadata": {},
      "outputs": [],
      "source": [
        "autoplot(model2,\n",
        "         which = 5,\n",
        "         ncol  = 1)"
      ]
    },
    {
      "cell_type": "markdown",
      "id": "1a5ea098-335f-4038-8545-b6217d92b635",
      "metadata": {},
      "source": [
        "### てこ比とCookの距離のプロット\n",
        "\n",
        "x軸にてこ比, y軸にCookの距離を設定し, 散布図を描く."
      ]
    },
    {
      "cell_type": "code",
      "execution_count": null,
      "id": "0bcffa99-8f37-468c-8a6d-0790bc1ac90c",
      "metadata": {},
      "outputs": [],
      "source": [
        "autoplot(model2, \n",
        "         which = 6, \n",
        "         ncol  = 1)"
      ]
    },
    {
      "cell_type": "markdown",
      "id": "1575cec5-ba62-4180-849a-76ee5bbef48b",
      "metadata": {},
      "source": [
        "### 多重共線性のチェック\n",
        "\n",
        "多重共線性のチェックのため, VIFを計算する. VIFの計算には,\n",
        "`summ()`関数の引数で`vifs = TRUE`を追加する.\n",
        "VIFが10以下であれば問題ない. 2以下が理想だとする意見もある."
      ]
    },
    {
      "cell_type": "code",
      "execution_count": null,
      "id": "1bee16fe-896b-490d-b0bf-05f53de03f2b",
      "metadata": {},
      "outputs": [],
      "source": [
        "summ(model2, vifs = TRUE)"
      ]
    }
  ],
  "metadata": {
    "kernelspec": {
      "display_name": "Python 3",
      "language": "python",
      "name": "python3"
    }
  },
  "nbformat": 4,
  "nbformat_minor": 5
}
