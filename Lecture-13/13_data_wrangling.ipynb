{
  "cells": [
    {
      "cell_type": "markdown",
      "metadata": {},
      "source": [
        "# Rによるデータ整形\n",
        "\n",
        "# Why Do We Do Data Transformation?\n",
        "\n",
        "## 前処理の必要性\n",
        "\n",
        "これまで様々な統計手法を学んだ. その際には分析に適したデータを利用した.\n",
        "\n",
        "現実のデータを扱う際には,\n",
        "分析手法を実行できるようにする”前処理”が必要となる.\n",
        "現実のデータは多くの場合, 分析がしづらい状態で存在している.\n",
        "\n",
        "## なぜデータ整形をRで行うのか\n",
        "\n",
        "GUI\n",
        "\n",
        "-   ExcelなどのGUIでは操作の過程が残しづい\n",
        "-   似たようなデータで同じ作業をする場合,\n",
        "    1から同じ作業を繰り返す必要がある\n",
        "\n",
        "CUI\n",
        "\n",
        "-   全ての作業をコマンドとして入力する必要があり, 作業の過程は全て残せる\n",
        "-   作業過程を他人と共有でき, 手法の改善や再現性の確保が可能\n",
        "-   似たようなデータも入力するデータを変更すれば簡単に結果を得られる\n",
        "\n",
        "## パッケージの読み込み\n",
        "\n",
        "`tidyverse`パッケージ(`dplyr`パッケージなどを含むパッケージ)がデータの前処理にはとても便利.\n",
        "`tidylog`パッケージを利用すると具体的にどのような操作が行われたか示されるのではじめは読み込んでおくと良い."
      ],
      "id": "b7c52de4-0365-479c-9bd3-91ff8b5b586c"
    },
    {
      "cell_type": "code",
      "execution_count": null,
      "metadata": {},
      "outputs": [],
      "source": [
        "library(pacman)\n",
        "p_load(tidyverse, tidylog)"
      ],
      "id": "cb7e4daa-a094-45f2-b97d-5830263863aa"
    },
    {
      "cell_type": "markdown",
      "metadata": {},
      "source": [
        "## 利用するデータ\n",
        "\n",
        "まず, R内にデフォルトで格納されている `iris`(アヤメの花のデータ) を使う."
      ],
      "id": "32382f3d-efd8-4015-8c7c-c7f6c56e6009"
    },
    {
      "cell_type": "code",
      "execution_count": null,
      "metadata": {},
      "outputs": [],
      "source": [
        "head(iris)"
      ],
      "id": "fb5b909b-6a17-4d9c-922d-22dc94cdd911"
    },
    {
      "cell_type": "markdown",
      "metadata": {},
      "source": [
        "## データ構造の確認\n",
        "\n",
        "`dplyr::glimpse()`関数を利用して, データ構造を確認する"
      ],
      "id": "902e5258-a477-4b4b-b721-01c452aa6374"
    },
    {
      "cell_type": "code",
      "execution_count": null,
      "metadata": {},
      "outputs": [],
      "source": [
        "dplyr::glimpse(iris)"
      ],
      "id": "900d8bba-ee06-4554-a185-7abf21891f02"
    },
    {
      "cell_type": "markdown",
      "metadata": {},
      "source": [
        "# 列選択(select)\n",
        "\n",
        "## 列を選択する\n",
        "\n",
        "列を選択するには `dplyr::select()`関数を利用する.\n",
        "第1引数に利用するデータ, それ以降にどの列を選択するのかなどを指定する.\n",
        "\n",
        "## 列名指定による選択\n",
        "\n",
        "`iris`のデータからがく片の長さの列を取り出す\n",
        "それぞれ取り出したい列名を指定する. ここでは,\n",
        "第1引数で指定すべきデータは, パイプ関数で繋げているため指定しない."
      ],
      "id": "7a9d9f2c-c0b1-4320-9e6e-44e9cec6e635"
    },
    {
      "cell_type": "code",
      "execution_count": null,
      "metadata": {},
      "outputs": [],
      "source": [
        "iris |> \n",
        "  select(Sepal.Length) |> \n",
        "  head()"
      ],
      "id": "eefb22ee-1cf2-4cb4-be98-e9be040f6820"
    },
    {
      "cell_type": "markdown",
      "metadata": {},
      "source": [
        "## 列番号指定による選択\n",
        "\n",
        "列選択は, 列の番号（最も左にあるものが1）で指定することもできる.\n",
        "1列目と3列目を取り出す."
      ],
      "id": "ea48e601-7987-42ab-94e0-b9a4b04fc705"
    },
    {
      "cell_type": "code",
      "execution_count": null,
      "metadata": {},
      "outputs": [],
      "source": [
        "iris |> \n",
        "  select(1, 3) |> \n",
        "  head()"
      ],
      "id": "9bcec807-8cbd-41d4-8c21-f8ccbe226021"
    },
    {
      "cell_type": "markdown",
      "metadata": {},
      "source": [
        "## 連続する列の指定\n",
        "\n",
        "連続する列番号で指定することもできる. 1列目から3列目を取り出す."
      ],
      "id": "70a7f14b-6147-4dbb-8be1-eca703b4e1c5"
    },
    {
      "cell_type": "code",
      "execution_count": null,
      "metadata": {},
      "outputs": [],
      "source": [
        "iris |> \n",
        "  select(1:3) |> \n",
        "  head()"
      ],
      "id": "7eae4b98-6c01-4035-a400-e210eab43a7b"
    },
    {
      "cell_type": "markdown",
      "metadata": {},
      "source": [
        "連続する列はを列名でも指定できる.\n",
        "`Sepal.Length`の列から`Petal.Length`列までを取り出す."
      ],
      "id": "2decda90-b2a8-4571-b5f5-a1dc7b9f1ee0"
    },
    {
      "cell_type": "code",
      "execution_count": null,
      "metadata": {},
      "outputs": [],
      "source": [
        "iris |> \n",
        "  select(Sepal.Length:Petal.Length) |> \n",
        "  head()"
      ],
      "id": "13a1b4f7-e13f-4ddf-8380-97429c751794"
    },
    {
      "cell_type": "markdown",
      "metadata": {},
      "source": [
        "## 列の除外\n",
        "\n",
        "除きたい列がある場合には`!`もしくは`-`で除くことができる.\n",
        "`Species`を除く."
      ],
      "id": "8b8fe1c4-5f31-4562-9b98-375616cf82a1"
    },
    {
      "cell_type": "code",
      "execution_count": null,
      "metadata": {},
      "outputs": [],
      "source": [
        "iris |> \n",
        "  select(!Species) |> \n",
        "  head()"
      ],
      "id": "48d2ae05-3f27-48c5-998b-ec9ea5d8394d"
    },
    {
      "cell_type": "markdown",
      "metadata": {},
      "source": [
        "除きたい列は`c()`で複数選択することもできる."
      ],
      "id": "eee34bb6-197b-45a1-92bd-447005131410"
    },
    {
      "cell_type": "code",
      "execution_count": null,
      "metadata": {},
      "outputs": [],
      "source": [
        "iris |> \n",
        "  select(!c(Sepal.Length, \n",
        "            Petal.Length)) |> \n",
        "  head()"
      ],
      "id": "36814108-d70d-4854-bf78-2154fb00de4c"
    },
    {
      "cell_type": "markdown",
      "metadata": {},
      "source": [
        "## 文字列の一致による列選択(前方一致)\n",
        "\n",
        "指定した文字列と一致する列を選択することもできる.\n",
        "列名の前方一致で列を選択するには, 第2引数以降に`starts_with(\" \")`と書く\n",
        "デフォルトでは`\" \"`の中の文字の大文字と小文字は区別されない."
      ],
      "id": "ec0b7cf8-4f88-4115-ac31-75b4cb64737c"
    },
    {
      "cell_type": "code",
      "execution_count": null,
      "metadata": {},
      "outputs": [],
      "source": [
        "iris |> \n",
        "  select(starts_with(\"petal\")) |> \n",
        "  head()"
      ],
      "id": "6564a206-d00f-47d4-8475-44ef1a4b3af7"
    },
    {
      "cell_type": "markdown",
      "metadata": {},
      "source": [
        "## 文字列の一致による列選択(後方一致)\n",
        "\n",
        "列名の後方一致で列を選択するには, 第2引数以降に`ends_with(\" \")`と書く.\n",
        "大文字と小文字を区別するためには, `ignore.case = FALSE`を追記する."
      ],
      "id": "007cb6eb-9a5f-4efc-8164-b214061bc393"
    },
    {
      "cell_type": "code",
      "execution_count": null,
      "metadata": {},
      "outputs": [],
      "source": [
        "iris |> \n",
        "  select(ends_with(\"Length\", \n",
        "                   ignore.case = FALSE)) |> \n",
        "  head()"
      ],
      "id": "94532e0a-e625-441d-8ce4-8344e0a8241d"
    },
    {
      "cell_type": "markdown",
      "metadata": {},
      "source": [
        "## 文字列の一致による列選択(部分一致)\n",
        "\n",
        "列名の部分一致で列を選択するには, 第2引数以降に`contains(\" \")`と書く."
      ],
      "id": "56760a29-e30f-4a94-a3b5-be508944c351"
    },
    {
      "cell_type": "code",
      "execution_count": null,
      "metadata": {},
      "outputs": [],
      "source": [
        "iris |> \n",
        "  select(contains(\"al\")) |> \n",
        "  head()"
      ],
      "id": "90df92c5-eeca-4982-a27e-d680aaf4ef28"
    },
    {
      "cell_type": "markdown",
      "metadata": {},
      "source": [
        "## 文字列の一致による列選択(正規表現)\n",
        "\n",
        "正規表現で列を選択することもできる. 第2引数以降に`matches(\".*.\")`と書く."
      ],
      "id": "7d31a646-64b2-49bc-8f89-d2115ef2f8df"
    },
    {
      "cell_type": "code",
      "execution_count": null,
      "metadata": {},
      "outputs": [],
      "source": [
        "iris |> \n",
        "  select(matches(\".i.\")) |> \n",
        "  head()"
      ],
      "id": "3ca88888-e6b4-4c03-beb6-8eb62bf45f72"
    },
    {
      "cell_type": "markdown",
      "metadata": {},
      "source": [
        "## 文字列の一致による列選択(事前指定)\n",
        "\n",
        "指定したい列名をあらかじめ指定し, その列を選択することもできる.\n",
        "あらかじめ指定した列名を選択するには`one_of()`と書き, 指定する."
      ],
      "id": "a3117e10-6491-4605-8372-20842eaa3517"
    },
    {
      "cell_type": "code",
      "execution_count": null,
      "metadata": {},
      "outputs": [],
      "source": [
        "var_list <- c(\"Sepal.Length\", \"Petal.Width\")\n",
        "iris |> \n",
        "  select(one_of(var_list)) |> \n",
        "  head()"
      ],
      "id": "dd55e890-7f4a-4d56-aba9-78425ebe1eea"
    },
    {
      "cell_type": "markdown",
      "metadata": {},
      "source": [
        "## 列名の変更\n",
        "\n",
        "列名を別の名前に置き換えて選択することもできる. そのためには,\n",
        "`新しい列名 = 選択したい列名`と書く."
      ],
      "id": "5ce44525-3ee5-4232-aa65-2a95e435a098"
    },
    {
      "cell_type": "code",
      "execution_count": null,
      "metadata": {},
      "outputs": [],
      "source": [
        "iris |> \n",
        "  select(var = Species) |> \n",
        "  head()"
      ],
      "id": "e137d6c6-ede2-4615-9b12-e4f9c2f44cde"
    },
    {
      "cell_type": "markdown",
      "metadata": {},
      "source": [
        "置き換えたい列が複数ある場合は連番を振ってくれる."
      ],
      "id": "d1f9916a-4a61-44f0-9339-5fe2eb99392d"
    },
    {
      "cell_type": "code",
      "execution_count": null,
      "metadata": {},
      "outputs": [],
      "source": [
        "iris |> \n",
        "  select(var = contains(\"al\")) |> \n",
        "  head()"
      ],
      "id": "da0c32cf-d3a6-4c93-a3a3-b781689e9bc3"
    },
    {
      "cell_type": "markdown",
      "metadata": {},
      "source": [
        "列名を変更するだけであれば`rename()`関数が利用できる."
      ],
      "id": "dd730080-91b5-4dab-9bdf-7411a2641bb7"
    },
    {
      "cell_type": "code",
      "execution_count": null,
      "metadata": {},
      "outputs": [],
      "source": [
        "iris |> \n",
        "  rename(var = Species) |> \n",
        "  head()"
      ],
      "id": "fcf2b02b-d79d-46d3-aff6-b0de00a34cda"
    },
    {
      "cell_type": "markdown",
      "metadata": {},
      "source": [
        "連番で並んでいる列を利用して選択することもできる.\n",
        "その際には`num_range()`を利用し, `prefix`に共通する列名,\n",
        "`range`に連番の範囲, `width`に連番の桁数を指定する."
      ],
      "id": "5f650ec2-8d2e-4824-b644-b25f4b12d5b9"
    },
    {
      "cell_type": "code",
      "execution_count": null,
      "metadata": {},
      "outputs": [],
      "source": [
        "dat <- iris |> \n",
        "  select(var = contains(\"al\"))\n",
        "dat |> \n",
        "  select(num_range(prefix = \"var\", \n",
        "                   range  = 1:3, \n",
        "                   width  = 1)) |> \n",
        "  head()"
      ],
      "id": "912e94a3-f11c-45cf-aa8c-d4a8bb417d94"
    },
    {
      "cell_type": "markdown",
      "metadata": {},
      "source": [
        "# 行選択(filter)\n",
        "\n",
        "## 行を選択する\n",
        "\n",
        "行を選択するには`dplyr::filter()`関数を利用する.\n",
        "第一引数に利用するデータ, それ以降に行を選択する条件などを指定する.\n",
        "`iris`のデータからがく片の長さが平均(5.84)より大きい行を取り出す."
      ],
      "id": "d830e686-f25b-402a-9a8a-92f56fb9df23"
    },
    {
      "cell_type": "code",
      "execution_count": null,
      "metadata": {},
      "outputs": [],
      "source": [
        "iris |> \n",
        "  dplyr::filter(Sepal.Length > 5.84) |> \n",
        "  head()"
      ],
      "id": "ae574631-0c1f-497c-9f76-8d886b3aa92d"
    },
    {
      "cell_type": "markdown",
      "metadata": {},
      "source": [
        "## 条件に一致しない行の選択\n",
        "\n",
        "単一の値と等しくない行を選択するには`!=`で指定する."
      ],
      "id": "8fe7ff7a-d325-4e25-a7d8-6329902a92bb"
    },
    {
      "cell_type": "code",
      "execution_count": null,
      "metadata": {},
      "outputs": [],
      "source": [
        "iris |> \n",
        "  filter(Species != \"versicolor\") |> \n",
        "  head()"
      ],
      "id": "5daf6dda-69a6-4c12-97ca-cf6656de4243"
    },
    {
      "cell_type": "markdown",
      "metadata": {},
      "source": [
        "## 条件の範囲に該当する行の選択\n",
        "\n",
        "条件に当てはまる範囲で行を選択することもできる.\n",
        "その際には`between()`で指定する."
      ],
      "id": "6f25f4af-a707-47da-814c-1c07a59b54bb"
    },
    {
      "cell_type": "code",
      "execution_count": null,
      "metadata": {},
      "outputs": [],
      "source": [
        "iris |> \n",
        "  filter(between(Sepal.Length, 5, 6)) |> \n",
        "  head()"
      ],
      "id": "741d7f7a-ef9b-4ace-a19b-e75917428942"
    },
    {
      "cell_type": "markdown",
      "metadata": {},
      "source": [
        "## 複数条件による行の選択(論理和)\n",
        "\n",
        "複数条件で行を選択する際に「または(論理和)」で指定することもできる.\n",
        "論理和を利用する際には条件を`|`でつなぐ."
      ],
      "id": "56ae344b-51cf-4f78-acc6-31cd5fe8f507"
    },
    {
      "cell_type": "code",
      "execution_count": null,
      "metadata": {},
      "outputs": [],
      "source": [
        "iris |> \n",
        "  filter(Species != \"setosa\" | Sepal.Length > 5.5) |> \n",
        "  head()"
      ],
      "id": "a583abf1-bf08-4fb9-a551-ceab8a2e1d7d"
    },
    {
      "cell_type": "markdown",
      "metadata": {},
      "source": [
        "## 複数条件による行の選択(論理積)\n",
        "\n",
        "複数条件で行を選択する際に「かつ(論理積)」で指定することもできる.\n",
        "論理積を利用する際には条件を`&`または`,`でつなぐ."
      ],
      "id": "6a967b9d-eecb-4134-b508-3e5233e0d486"
    },
    {
      "cell_type": "code",
      "execution_count": null,
      "metadata": {},
      "outputs": [],
      "source": [
        "iris |> \n",
        "  filter(Species != \"setosa\" & Sepal.Length > 5.5) |> \n",
        "  head()"
      ],
      "id": "61587a60-1f81-4ed8-9934-641996e7e605"
    },
    {
      "cell_type": "markdown",
      "metadata": {},
      "source": [
        "## 複数条件による行の選択(排他的論理和)\n",
        "\n",
        "同様に排他的論理和を選択することもできる."
      ],
      "id": "33524aa4-052a-4aae-b540-fe4a222b39d6"
    },
    {
      "cell_type": "code",
      "execution_count": null,
      "metadata": {},
      "outputs": [],
      "source": [
        "iris |> \n",
        "  filter(xor(Sepal.Length > 5.84, \n",
        "             Petal.Length >= 3.76)) |> \n",
        "  head()"
      ],
      "id": "0aec1ea9-2fd4-45d1-b4e9-9aa7ddb3440b"
    },
    {
      "cell_type": "markdown",
      "metadata": {},
      "source": [
        "## 部分集合を利用した行の選択\n",
        "\n",
        "部分集合に一致する行を選択するには`%in%`演算子を利用する."
      ],
      "id": "5490bf9c-9415-41a1-935c-a474b6641301"
    },
    {
      "cell_type": "code",
      "execution_count": null,
      "metadata": {},
      "outputs": [],
      "source": [
        "iris |> \n",
        "  filter(Species %in% c(\"setosa\", \"virginica\")) |> \n",
        "  head()"
      ],
      "id": "ff481350-be5d-4f90-8fb8-658eb87f3dc2"
    },
    {
      "cell_type": "markdown",
      "metadata": {},
      "source": [
        "# その他の行操作\n",
        "\n",
        "## 重複の削除(distinct)\n",
        "\n",
        "重複を削除するには`dplyr::distinct()`関数を利用する."
      ],
      "id": "5155a954-a3ae-4d7b-9bd1-73d48005a237"
    },
    {
      "cell_type": "code",
      "execution_count": null,
      "metadata": {},
      "outputs": [],
      "source": [
        "iris |> \n",
        "  distinct(Species) |> \n",
        "  head()"
      ],
      "id": "80790595-e4af-4fb8-bbc5-d81e85a24176"
    },
    {
      "cell_type": "markdown",
      "metadata": {},
      "source": [
        "指定した列以外も残す場合には`.keep_all = TRUE`と記載する.\n",
        "結果を見ると`setosa`, `versicolor`,\n",
        "`virginica`のそれぞれ最初に登場した行が選択されている."
      ],
      "id": "86f3b8b6-8f83-49b4-b63d-a27a97a67e0f"
    },
    {
      "cell_type": "code",
      "execution_count": null,
      "metadata": {},
      "outputs": [],
      "source": [
        "iris |> \n",
        "  distinct(Species, .keep_all = TRUE) |> \n",
        "  head()"
      ],
      "id": "5f33a892-0916-4c04-bdfc-00694acf6bea"
    },
    {
      "cell_type": "markdown",
      "metadata": {},
      "source": [
        "## 行番号による抽出\n",
        "\n",
        "行番号を指定して行を選択するには`dplyr::slice()`を利用する."
      ],
      "id": "daadc14d-508f-4f9b-b5ed-d0d70c3b3bfc"
    },
    {
      "cell_type": "code",
      "execution_count": null,
      "metadata": {},
      "outputs": [],
      "source": [
        "iris |> \n",
        "  slice(10:15) |> \n",
        "  head()"
      ],
      "id": "1a573ffe-6904-4490-98be-84d70b52c4c0"
    },
    {
      "cell_type": "markdown",
      "metadata": {},
      "source": [
        "# 列変換(mutate)\n",
        "\n",
        "## 列を変換する\n",
        "\n",
        "列を変換するには`dplyr::mutate()`関数を利用する.\n",
        "第一引数に利用するデータ,\n",
        "それ以降に追加する列名とどのように変換するのかなどを指定する.\n",
        "`iris`のデータからがく片の長さを2倍したものと2乗したものをそれぞれ`twice`と`square`に格納する."
      ],
      "id": "14e8d89f-e8ff-424d-a8ab-e4795d62d69a"
    },
    {
      "cell_type": "code",
      "execution_count": null,
      "metadata": {},
      "outputs": [],
      "source": [
        "iris |> \n",
        "  dplyr::mutate(twice  = Sepal.Length * 2,\n",
        "                square = Sepal.Length^2) |> \n",
        "  head()"
      ],
      "id": "b07f1447-fee4-44e6-a73c-2c75e1ce24bd"
    },
    {
      "cell_type": "markdown",
      "metadata": {},
      "source": [
        "## 列の上書き\n",
        "\n",
        "追加する列名の場所に既存の列名を指定すると値が上書きされる."
      ],
      "id": "6e02977f-3bc2-4804-b833-2219558d7498"
    },
    {
      "cell_type": "code",
      "execution_count": null,
      "metadata": {},
      "outputs": [],
      "source": [
        "iris |> \n",
        "  dplyr::mutate(Sepal.Length = Sepal.Length * 2) |> \n",
        "  head()"
      ],
      "id": "5e0ff24d-576f-4d81-a9b3-4f60d60706aa"
    },
    {
      "cell_type": "markdown",
      "metadata": {},
      "source": [
        "## if文を利用した列変換\n",
        "\n",
        "if文を利用して条件に従って値を指定することができる."
      ],
      "id": "07958671-9304-4282-9e7f-aeadbc31ac34"
    },
    {
      "cell_type": "code",
      "execution_count": null,
      "metadata": {},
      "outputs": [],
      "source": [
        "iris |> \n",
        "  mutate(TF = if_else(condition = \n",
        "                        Sepal.Length > mean(iris$Sepal.Length),\n",
        "                      true      = TRUE, \n",
        "                      false     = FALSE)) |> \n",
        "  head()"
      ],
      "id": "ba898ea9-7ce3-4836-8e64-56113584100f"
    },
    {
      "cell_type": "markdown",
      "metadata": {},
      "source": [
        "## 複数条件を利用した列変換\n",
        "\n",
        "複数の条件を利用するには`case_when()`を利用する."
      ],
      "id": "bc43a45e-908f-478f-a822-1fb7d1a4d9dd"
    },
    {
      "cell_type": "code",
      "execution_count": null,
      "metadata": {},
      "outputs": [],
      "source": [
        "iris |> \n",
        "  mutate(SpeciesNo = case_when(\n",
        "    Species == \"setosa\"     ~ \"A\",\n",
        "    Species == \"versicolor\" ~ \"B\",\n",
        "    TRUE                    ~ \"C\"\n",
        "  )) |> \n",
        "  head()"
      ],
      "id": "67233217-ceb3-46bd-acd8-2801a9199136"
    },
    {
      "cell_type": "markdown",
      "metadata": {},
      "source": [
        "# 縦横変換(pivot_longer, pivot_wider)\n",
        "\n",
        "## 縦横変換する\n",
        "\n",
        "横型データを縦型データにしたり, その逆にしたりするには,\n",
        "`tidyr::pivot_longer()`, `tidyr::pivot_wider()`を利用する.\n",
        "\n",
        "コンピューター言語は基本的に縦型データのほうが扱いやすい.\n",
        "R界隈では特にtidy dataという.\n",
        "\n",
        "## 縦型データへの変換\n",
        "\n",
        "`pivot_longer()`関数の場合は, 第1引数に利用するデータ,\n",
        "第2引数に残す列名, 第3引数に元の変数名を格納する列名,\n",
        "第4引数に元の変数の値を格納する列名を指定する.\n",
        "ここでは先に各個体にidを振っている.\n",
        "\n",
        "`iris`のデータを使って, 種別以外の変数を縦型に変換する."
      ],
      "id": "020f9528-bf91-4c3f-ba1d-9401fd205718"
    },
    {
      "cell_type": "code",
      "execution_count": null,
      "metadata": {},
      "outputs": [],
      "source": [
        "iris_long <- iris |> \n",
        " rowid_to_column(\"id\") |> \n",
        "  pivot_longer(cols      = !c(id, Species),\n",
        "               names_to  = \"Var\",\n",
        "               values_to = \"value\") \n",
        "iris_long |> head()"
      ],
      "id": "ecdba8cd-dd1c-488a-996d-83e1877dc483"
    },
    {
      "cell_type": "markdown",
      "metadata": {},
      "source": [
        "## 横型データへの変換\n",
        "\n",
        "`pivot_wider()`関数の場合は, 第1引数に利用するデータ,\n",
        "第2引数に変数名が格納してある列名,\n",
        "第3引数に変数の値が格納してある列名を指定する."
      ],
      "id": "e2c7fb60-13d2-465c-b184-5d7df37b7b93"
    },
    {
      "cell_type": "code",
      "execution_count": null,
      "metadata": {},
      "outputs": [],
      "source": [
        "iris_long |> \n",
        "  pivot_wider(names_from  = Var,\n",
        "              values_from = value) |> \n",
        "  head()"
      ],
      "id": "5451354c-0ca9-4b1f-83fd-0d2b87e0f852"
    },
    {
      "cell_type": "markdown",
      "metadata": {},
      "source": [
        "## 縦型データを利用した作図\n",
        "\n",
        "縦型データなら複数のグラフも簡単に描画できる."
      ],
      "id": "e1e5c318-d08a-4a07-a91d-90fe5c1c1e75"
    },
    {
      "cell_type": "code",
      "execution_count": null,
      "metadata": {},
      "outputs": [],
      "source": [
        "ggplot(iris_long) +\n",
        "  aes(x    = value,\n",
        "      fill = Species) +\n",
        "  geom_histogram() +\n",
        "  facet_wrap(~Var, \n",
        "             scales = \"free\")"
      ],
      "id": "a3b371bb-aba5-4609-86b9-b13ae27d5858"
    },
    {
      "cell_type": "markdown",
      "metadata": {},
      "source": [
        "同じようなことを通常のwideなデータで行う\n",
        "`patchwork`パッケージを使うと複数のグラフを並べやすい."
      ],
      "id": "524a90ba-0cb4-4f79-800c-3a905a89a64c"
    },
    {
      "cell_type": "code",
      "execution_count": null,
      "metadata": {},
      "outputs": [],
      "source": [
        "p_load(patchwork)\n",
        "p <- ggplot(iris) +\n",
        "  aes(fill = Species)\n",
        "p1 <- p +\n",
        "  geom_histogram(aes(x = Petal.Length))\n",
        "p2 <- p +\n",
        "  geom_histogram(aes(x = Petal.Width))\n",
        "p3 <- p +\n",
        "  geom_histogram(aes(x = Sepal.Length))\n",
        "p4 <- p +\n",
        "  geom_histogram(aes(x = Sepal.Width))\n",
        "(p1 + p2) / (p3 + p4) +\n",
        "  plot_layout(guides = 'collect')"
      ],
      "id": "0cb3300b-31f0-4627-aafb-8fe1f1c7171f"
    },
    {
      "cell_type": "markdown",
      "metadata": {},
      "source": [
        "# データ結合(\\*\\_join)\n",
        "\n",
        "## データを結合する\n",
        "\n",
        "データセットとデータセットを結合するには, `*_join`関数群を使う.\n",
        "`iris`のデータだと使いづらいので, `band_*` のデータを使う.\n",
        "\n",
        "members"
      ],
      "id": "76618e2f-ed7b-4e41-9598-53d91058fd33"
    },
    {
      "cell_type": "code",
      "execution_count": null,
      "metadata": {},
      "outputs": [],
      "source": [
        "dplyr::band_members"
      ],
      "id": "7b1fb097-ba9f-44ee-8779-79ac34e446f5"
    },
    {
      "cell_type": "markdown",
      "metadata": {},
      "source": [
        "instruments"
      ],
      "id": "e1e87c00-c5a2-45ba-8076-4789a4ce9e99"
    },
    {
      "cell_type": "code",
      "execution_count": null,
      "metadata": {},
      "outputs": [],
      "source": [
        "dplyr::band_instruments"
      ],
      "id": "b019784e-071b-405f-a214-04f1be1f54c0"
    },
    {
      "cell_type": "markdown",
      "metadata": {},
      "source": [
        "instruments2"
      ],
      "id": "8cae33e5-a17c-45dc-811e-6b7aa5525240"
    },
    {
      "cell_type": "code",
      "execution_count": null,
      "metadata": {},
      "outputs": [],
      "source": [
        "dplyr::band_instruments2"
      ],
      "id": "be90bb9f-c496-4393-a18d-a18f27969018"
    },
    {
      "cell_type": "markdown",
      "metadata": {},
      "source": [
        "## `full_join()`\n",
        "\n",
        "2つのデータセットの全ての行と列を結合するには`dplyr::full_join()`関数を使う\n",
        "第1引数に結合されるデータ, 第2引数に結合するデータ,\n",
        "第3引数に結合に使用する列を指定す"
      ],
      "id": "7f646cdb-63e9-4830-98ea-e92f6a144d3d"
    },
    {
      "cell_type": "code",
      "execution_count": null,
      "metadata": {},
      "outputs": [],
      "source": [
        "full_join(band_members, \n",
        "          band_instruments,\n",
        "          by = \"name\")"
      ],
      "id": "38e09670-6b80-4c09-ac1c-20fd29a26d93"
    },
    {
      "cell_type": "markdown",
      "metadata": {},
      "source": [
        "## `left_join()`\n",
        "\n",
        "左側のデータセットにある行を基準に右側のデータセットを結合するには`dplyr::left_join()`関数を使う\n",
        "結合に利用するキーとなる列名が異なる場合は, `c(\"A\" = \"B\")`とする"
      ],
      "id": "1545aadc-b939-41a4-b97a-9bef88d6937c"
    },
    {
      "cell_type": "code",
      "execution_count": null,
      "metadata": {},
      "outputs": [],
      "source": [
        "left_join(band_members,\n",
        "          band_instruments2,\n",
        "          by = c(\"name\" = \"artist\"))"
      ],
      "id": "c828910f-803e-4965-85b6-cca89cbfd4db"
    },
    {
      "cell_type": "markdown",
      "metadata": {},
      "source": [
        "## `inner_join()`\n",
        "\n",
        "一致する行だけを残したい場合は`dplyr::inner_join()`関数を使う"
      ],
      "id": "fd3c4b39-c59f-4dbc-8a69-b38d30990866"
    },
    {
      "cell_type": "code",
      "execution_count": null,
      "metadata": {},
      "outputs": [],
      "source": [
        "inner_join(band_members,\n",
        "           band_instruments,\n",
        "           by = \"name\")"
      ],
      "id": "553b918a-fc18-4a9f-944f-ffb22557c617"
    },
    {
      "cell_type": "markdown",
      "metadata": {},
      "source": [
        "## `semi_join()`\n",
        "\n",
        "一致する行だけを残し, なおかつ結合されるデータの列のみを残すには,\n",
        "`dplyr::semi_join()`関数を使う"
      ],
      "id": "32cd734b-1af0-4539-af05-87fd9fad7a80"
    },
    {
      "cell_type": "code",
      "execution_count": null,
      "metadata": {},
      "outputs": [],
      "source": [
        "semi_join(band_members,\n",
        "          band_instruments,\n",
        "          by = \"name\")"
      ],
      "id": "dcc64d65-1160-4edd-aaeb-78c8f3e3ef7d"
    },
    {
      "cell_type": "markdown",
      "metadata": {},
      "source": [
        "## `anti_join()`\n",
        "\n",
        "一致しなかった行だけを選択するには`dplyr::anti_join()`関数を使う"
      ],
      "id": "09cfab10-7788-4fb9-93b5-d934a4b5b726"
    },
    {
      "cell_type": "code",
      "execution_count": null,
      "metadata": {},
      "outputs": [],
      "source": [
        "anti_join(band_members, \n",
        "          band_instruments,\n",
        "          by = \"name\")"
      ],
      "id": "b4cd471b-197f-4fd2-a5e6-5840601a8b26"
    },
    {
      "cell_type": "markdown",
      "metadata": {},
      "source": [
        "## `bind_cols()`\n",
        "\n",
        "データセットとデータセットを横に結合する(列を増やす)には`dplyr::bind_cols()`関数を使う"
      ],
      "id": "e2ed7931-7714-4cae-a2ee-3c5c294fb874"
    },
    {
      "cell_type": "code",
      "execution_count": null,
      "metadata": {},
      "outputs": [],
      "source": [
        "bind_cols(band_instruments,\n",
        "          band_instruments2)"
      ],
      "id": "a2a25ef7-c160-466a-a74d-6b714eab0a6b"
    },
    {
      "cell_type": "markdown",
      "metadata": {},
      "source": [
        "## `bind_rows()`\n",
        "\n",
        "データセットとデータセットを縦に結合する(行を増やす)には`dplyr::bind_rows()`関数を使う"
      ],
      "id": "dc814320-b585-4185-b3c8-4ea1545afafa"
    },
    {
      "cell_type": "code",
      "execution_count": null,
      "metadata": {},
      "outputs": [],
      "source": [
        "bind_rows(band_instruments, \n",
        "          band_instruments)"
      ],
      "id": "9b9d0028-fdd3-4454-ad3b-ca95c5edd32e"
    },
    {
      "cell_type": "markdown",
      "metadata": {},
      "source": [
        "# e-statのデータをRを使って整形\n",
        "\n",
        "e-statなどのオープンデータはそのままではRでは利用できないことが多い\n",
        "ここまでで扱ったことなどを総動員してデータを整形する"
      ],
      "id": "778141b4-6f47-4892-9e44-4ec3ffb8990f"
    },
    {
      "cell_type": "code",
      "execution_count": null,
      "metadata": {},
      "outputs": [],
      "source": [
        "dat <- readxl::read_excel(here::here('data', 'sample.xls'),\n",
        "                          skip = 12) |> \n",
        "  select(!c(1:8, 11)) |> \n",
        "  slice(7:53) |> \n",
        "  rename(pref_code = 1, \n",
        "         pref_name = 2,\n",
        "         pref_en   = 3,\n",
        "         pop       = 4) |> \n",
        "  select(1:4, 18:22) |> \n",
        "  pivot_longer(cols      = !c(1:4),\n",
        "               names_to  = \"age\",\n",
        "               values_to = \"value\") |> \n",
        "  mutate(value = as.numeric(value),\n",
        "         pop   = as.numeric(pop)) |> \n",
        "  group_by(pref_code) |> \n",
        "  summarise(pref_name = first(pref_name),\n",
        "            pop       = first(pop),\n",
        "            over65    = sum(value)) |> \n",
        "  mutate(aged_ratio = over65 / pop)\n",
        "\n",
        "dat |> head()"
      ],
      "id": "6df9435b-1c79-41ee-87a3-b216405e72c5"
    }
  ],
  "nbformat": 4,
  "nbformat_minor": 5,
  "metadata": {
    "kernelspec": {
      "display_name": "Python 3",
      "language": "python",
      "name": "python3"
    }
  }
}