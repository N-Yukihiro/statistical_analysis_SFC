{
  "cells": [
    {
      "cell_type": "markdown",
      "metadata": {},
      "source": [
        "# モデルの比較, 選択\n",
        "\n",
        "### 今日使うデータ\n",
        "\n",
        "Stata pressで公開されているデータを用いる.\n",
        "博士号を取得した生化学者が発表した論文数に関するデータである.\n",
        "性別や既婚未婚, 6歳未満の子供の数などの変数が含まれている."
      ],
      "id": "cddb291e-461b-4677-b809-8bc9cb2b8736"
    },
    {
      "cell_type": "code",
      "execution_count": null,
      "metadata": {},
      "outputs": [],
      "source": [
        "library(pacman)\n",
        "p_load(foreign)\n",
        "npub <- foreign::read.dta(\n",
        "  \"http://www.stata-press.com/data/lf2/couart2.dta\")\n",
        "names(npub)"
      ],
      "id": "84678f60-7ff4-4a75-92e1-8f977979741f"
    },
    {
      "cell_type": "markdown",
      "metadata": {},
      "source": [
        "### データ構造の確認\n",
        "\n",
        "`dplyr`パッケージの`glimpse()`関数を利用してデータの構造を確認する."
      ],
      "id": "4ffe2d1d-de13-4742-ad30-ebba43e97857"
    },
    {
      "cell_type": "code",
      "execution_count": null,
      "metadata": {},
      "outputs": [],
      "source": [
        "p_load(dplyr)\n",
        "glimpse(npub)"
      ],
      "id": "429df78e-7279-4358-b8ef-5a847f79153b"
    },
    {
      "cell_type": "markdown",
      "metadata": {},
      "source": [
        "### データの要約統計量\n",
        "\n",
        "データの要約統計量を確認する."
      ],
      "id": "2cd4fe9c-5397-4743-a766-e1a36691dbcf"
    },
    {
      "cell_type": "code",
      "execution_count": null,
      "metadata": {},
      "outputs": [],
      "source": [
        "summary(npub)"
      ],
      "id": "f0bb9036-e9c5-412f-82a8-9b05ef55a1f6"
    },
    {
      "cell_type": "markdown",
      "metadata": {},
      "source": [
        "### データの平均と分散\n",
        "\n",
        "`summarise()`関数を利用して平均と分散を計算する."
      ],
      "id": "5a80fb0d-d638-435d-9272-fde7881b9c5c"
    },
    {
      "cell_type": "code",
      "execution_count": null,
      "metadata": {},
      "outputs": [],
      "source": [
        "npub |> \n",
        "  summarise(mean  = mean(art), \n",
        "            var   = var(art), \n",
        "            ratio = var(art) / mean(art))"
      ],
      "id": "c1ca6f7d-c039-4706-8b1b-68e827db7fa4"
    },
    {
      "cell_type": "markdown",
      "metadata": {},
      "source": [
        "### ヒストグラム\n",
        "\n",
        "-   データの概要をヒストグラムを描画して確認する"
      ],
      "id": "cde7ce16-dfa6-4683-a8b4-155e1e947f69"
    },
    {
      "cell_type": "code",
      "execution_count": null,
      "metadata": {},
      "outputs": [],
      "source": [
        "p_load(ggplot2)\n",
        "ggplot(npub) +\n",
        "  aes(x = art) +\n",
        "  geom_histogram()"
      ],
      "id": "aa4d5be2-c3c8-4586-9b15-4ae651cb9232"
    },
    {
      "cell_type": "markdown",
      "metadata": {},
      "source": [
        "### 散布図\n",
        "\n",
        "-   変数`ment`と`art`の関係を散布図を描いて確認する"
      ],
      "id": "fcf5931c-2821-4e02-8157-d1be7e21b4d9"
    },
    {
      "cell_type": "code",
      "execution_count": null,
      "metadata": {},
      "outputs": [],
      "source": [
        "ggplot(npub) + \n",
        "  aes(x = ment,\n",
        "      y = art) +\n",
        "  geom_point()"
      ],
      "id": "6f81edcb-4f52-4d1a-9cf8-6dce9840235b"
    },
    {
      "cell_type": "markdown",
      "metadata": {},
      "source": [
        "# モデル推定とモデル選択\n",
        "\n",
        "### ポアソン回帰モデルの推定\n",
        "\n",
        "まず,\n",
        "全変数を投入したモデルnpub_poisson1とphdを除いたnpub_poisson2を推定する."
      ],
      "id": "1877c8ea-6087-4f81-9cd9-adb3fbc0cba6"
    },
    {
      "cell_type": "code",
      "execution_count": null,
      "metadata": {},
      "outputs": [],
      "source": [
        "npub_poisson1 <- glm(art ~ ., \n",
        "                     data   = npub, \n",
        "                     family = poisson(link = \"log\"))\n",
        "npub_poisson2 <- glm(art ~ fem + mar + kid5 + ment, \n",
        "                     data   = npub, \n",
        "                     family = poisson(link = \"log\"))\n",
        "npub_poisson3 <- glm(art ~ ment, \n",
        "                     data   = npub, \n",
        "                     family = poisson(link = \"log\"))"
      ],
      "id": "e3d006ea-ef2f-4b30-a13d-ff38bc6422f8"
    },
    {
      "cell_type": "markdown",
      "metadata": {},
      "source": [
        "### 推定結果の確認\n",
        "\n",
        "`ment`のみを説明変数として推定された結果を散布図上に表示して確認する"
      ],
      "id": "fe3b43dc-0d5c-41be-af90-d42cb2df7834"
    },
    {
      "cell_type": "code",
      "execution_count": null,
      "metadata": {},
      "outputs": [],
      "source": [
        "ggplot(npub) +\n",
        "  aes(x = ment,\n",
        "      y = art) +\n",
        "  geom_point() + \n",
        "  geom_smooth(method      = \"glm\", \n",
        "              method.args = \n",
        "                list(family = \"poisson\"))"
      ],
      "id": "0a5dbcaf-62fc-4d75-aa90-1d7004040435"
    },
    {
      "cell_type": "markdown",
      "metadata": {},
      "source": [
        "### ポアソン回帰モデル(全変数)の結果"
      ],
      "id": "df67e193-fc6c-4d92-bf5e-e39004a109b4"
    },
    {
      "cell_type": "code",
      "execution_count": null,
      "metadata": {},
      "outputs": [],
      "source": [
        "p_load(jtools)\n",
        "summ(npub_poisson1, confint = TRUE)"
      ],
      "id": "54502118-dbd7-45c7-859b-1e77547c5839"
    },
    {
      "cell_type": "markdown",
      "metadata": {},
      "source": [
        "### `stargazer`による表示\n",
        "\n",
        "今回利用する統計量などは`stargazer()`関数では自動で出力されるので便利."
      ],
      "id": "cdff84ae-6fd0-4fdc-aa8c-c519a62776ed"
    },
    {
      "cell_type": "code",
      "execution_count": null,
      "metadata": {},
      "outputs": [],
      "source": [
        "stargazer::stargazer(npub_poisson1,\n",
        "                     type              = \"text\",\n",
        "                     style             = \"all\",\n",
        "                     star.cutoffs      = NA,\n",
        "                     omit.table.layout = 'n',\n",
        "                     ci                = TRUE,\n",
        "                     align             = TRUE)"
      ],
      "id": "4e79f556-43f4-435d-8daa-938439ec7e41"
    },
    {
      "cell_type": "markdown",
      "metadata": {},
      "source": [
        "### 過分散のチェック\n",
        "\n",
        "残差逸脱度(Residual Deviance)と残差自由度(degree of\n",
        "freedom)の関係をチェックする.\n",
        "残差逸脱度と残差自由度の比が1を大きく上回っており,\n",
        "過分散であることが示唆される(1.5程度が目安であるとする意見もある).\n",
        "過分散であると本当は有意でない変数も有意になりやすくなる."
      ],
      "id": "c9b9ae68-b5dd-4442-85e8-c1c32c567fb2"
    },
    {
      "cell_type": "code",
      "execution_count": null,
      "metadata": {},
      "outputs": [],
      "source": [
        "deviance(npub_poisson1)\n",
        "df.residual(npub_poisson1)\n",
        "deviance(npub_poisson1) / df.residual(npub_poisson1)"
      ],
      "id": "44d7db0c-5cbc-4a47-a5e0-bd156875ee05"
    },
    {
      "cell_type": "markdown",
      "metadata": {},
      "source": [
        "### データのばらつき具合を推定する\n",
        "\n",
        "データのばらつき具合の推定値(dispersion parameter)を計算する."
      ],
      "id": "d9682b1f-7ab8-4b25-a1a2-85c2e7cc12a9"
    },
    {
      "cell_type": "code",
      "execution_count": null,
      "metadata": {},
      "outputs": [],
      "source": [
        "p_load(magrittr)\n",
        "residuals(npub_poisson1,\n",
        "          type = \"pearson\") |> \n",
        "  raise_to_power(2) |> \n",
        "  sum() |> \n",
        "  divide_by(df.residual(npub_poisson1))"
      ],
      "id": "ff7a8e09-cf5a-476a-ad4d-8a41328d6291"
    },
    {
      "cell_type": "markdown",
      "metadata": {},
      "source": [
        "### LOOCV\n",
        "\n",
        "`caret`パッケージによってLOOCVで評価を行う."
      ],
      "id": "55fcf787-375b-47f0-b1e5-552d2d767f35"
    },
    {
      "cell_type": "code",
      "execution_count": null,
      "metadata": {},
      "outputs": [],
      "source": [
        "p_load(caret)\n",
        "train(art ~ .,\n",
        "      npub,\n",
        "      method    = \"glm\",\n",
        "      family    = poisson(link = \"log\"),\n",
        "      trControl = trainControl(\"LOOCV\"))"
      ],
      "id": "09858ac0-a3be-4662-9a00-50d97a1c6bf4"
    },
    {
      "cell_type": "markdown",
      "metadata": {},
      "source": [
        "### ポアソン回帰モデル(除phd)の結果\n",
        "\n",
        "変数`phd`を除いたモデルの結果も確認する."
      ],
      "id": "43753f02-ab47-47c8-82b1-a88c05879aca"
    },
    {
      "cell_type": "code",
      "execution_count": null,
      "metadata": {},
      "outputs": [],
      "source": [
        "summ(npub_poisson2)"
      ],
      "id": "0ddd3b6c-4016-41eb-af18-0dbdedd585d0"
    },
    {
      "cell_type": "markdown",
      "metadata": {},
      "source": [
        "### `stargazer`による表示\n",
        "\n",
        "今回利用する統計量などは`stargazer()`関数では自動で出力されるので便利."
      ],
      "id": "1c4a7a0e-13f1-4c66-9a0c-52cc010dcc95"
    },
    {
      "cell_type": "code",
      "execution_count": null,
      "metadata": {},
      "outputs": [],
      "source": [
        "stargazer::stargazer(npub_poisson2,\n",
        "                     type              = \"text\",\n",
        "                     style             = \"all\",\n",
        "                     star.cutoffs      = NA,\n",
        "                     omit.table.layout = 'n',\n",
        "                     ci                = TRUE,\n",
        "                     align             = TRUE)"
      ],
      "id": "bbf055e5-9f45-4911-80be-62e8b60b9532"
    },
    {
      "cell_type": "markdown",
      "metadata": {},
      "source": [
        "### 過分散のチェック\n",
        "\n",
        "残差逸脱度(Residual Deviance)と残差自由度(degree of\n",
        "freedom)の関係をチェックする."
      ],
      "id": "9fc2fb32-bae3-4759-aa8a-0a20afee7a10"
    },
    {
      "cell_type": "code",
      "execution_count": null,
      "metadata": {},
      "outputs": [],
      "source": [
        "deviance(npub_poisson2)\n",
        "df.residual(npub_poisson2)\n",
        "deviance(npub_poisson2) / df.residual(npub_poisson2)"
      ],
      "id": "79917d16-ae14-48db-b4f5-0bff047944e4"
    },
    {
      "cell_type": "markdown",
      "metadata": {},
      "source": [
        "### データのばらつき具合を推定する\n",
        "\n",
        "データのばらつき具合の推定値(dispersion parameter)を計算する."
      ],
      "id": "c9860917-3a25-4dfb-96d8-20f83378bfd5"
    },
    {
      "cell_type": "code",
      "execution_count": null,
      "metadata": {},
      "outputs": [],
      "source": [
        "residuals(npub_poisson2,\n",
        "          type = \"pearson\") |> \n",
        "  raise_to_power(2) |> \n",
        "  sum() |> \n",
        "  divide_by(df.residual(npub_poisson2))"
      ],
      "id": "6f4b4784-13f9-42a4-8d87-8390aa037d7d"
    },
    {
      "cell_type": "markdown",
      "metadata": {},
      "source": [
        "### LOOCV\n",
        "\n",
        "`caret`パッケージによってLOOCVで評価を行う."
      ],
      "id": "e685382d-c03b-4689-9c88-2a909ab19d10"
    },
    {
      "cell_type": "code",
      "execution_count": null,
      "metadata": {},
      "outputs": [],
      "source": [
        "train(art ~ fem + mar + kid5 + ment,\n",
        "      npub,\n",
        "      method    = \"glm\",\n",
        "      family    = poisson(link = \"log\"),\n",
        "      trControl = trainControl(\"LOOCV\"))"
      ],
      "id": "1c7a9ce8-c96a-42e3-b88c-2dd70155a7f5"
    },
    {
      "cell_type": "markdown",
      "metadata": {},
      "source": [
        "### 疑似ポアソン回帰\n",
        "\n",
        "過分散であることが示唆されるため, 疑似ポアソンを利用して,\n",
        "データのばらつきを調整する."
      ],
      "id": "22ff8a4a-9d3b-4949-bf3b-d71dffdb6c5d"
    },
    {
      "cell_type": "code",
      "execution_count": null,
      "metadata": {},
      "outputs": [],
      "source": [
        "npub_qpois1 <- glm(art ~ ., \n",
        "                   data   = npub, \n",
        "                   family = quasipoisson(link = \"log\"))\n",
        "npub_qpois2 <- glm(art ~ fem + mar + kid5 + ment, \n",
        "                   data   = npub, \n",
        "                   family = quasipoisson(link = \"log\"))"
      ],
      "id": "53de24c1-e20b-4f42-813e-f03cba0a5015"
    },
    {
      "cell_type": "markdown",
      "metadata": {},
      "source": [
        "### `stargazer`による表示\n",
        "\n",
        "今回利用する統計量などは`stargazer()`関数では自動で出力されるので便利."
      ],
      "id": "8b473156-1eb2-4746-b5a9-6a73a554b03e"
    },
    {
      "cell_type": "code",
      "execution_count": null,
      "metadata": {},
      "outputs": [],
      "source": [
        "stargazer::stargazer(npub_qpois1,\n",
        "                     npub_qpois2,\n",
        "                     type              = \"text\",\n",
        "                     style             =\"all\",\n",
        "                     star.cutoffs      = NA,\n",
        "                     omit.table.layout = 'n',\n",
        "                     ci                = TRUE,\n",
        "                     align             = TRUE)"
      ],
      "id": "e5e45d80-cd57-4fd6-8083-1b4a4a63d953"
    },
    {
      "cell_type": "markdown",
      "metadata": {},
      "source": [
        "### 標準誤差の比較\n",
        "\n",
        "ポアソン回帰と疑似ポアソン回帰では標準誤差が約35%異なる.\n",
        "それだけ疑似ポアソンでは回帰係数が有意になりづらくなる."
      ],
      "id": "79d512c4-df12-4684-b3e1-74a7b0e7dcab"
    },
    {
      "cell_type": "code",
      "execution_count": null,
      "metadata": {},
      "outputs": [],
      "source": [
        "summary(npub_qpois1)$coefficients[, 2] /\n",
        "  summary(npub_poisson1)$coefficients[, 2]\n",
        "summary(npub_qpois2)$coefficients[, 2] /\n",
        "  summary(npub_poisson2)$coefficients[, 2]  "
      ],
      "id": "255612e2-c438-47df-b4cb-fe07fa0466dc"
    },
    {
      "cell_type": "markdown",
      "metadata": {},
      "source": [
        "### 負の二項回帰\n",
        "\n",
        "過分散であることが示唆されるため, 負の二項回帰を利用して,\n",
        "データのばらつきを調整する."
      ],
      "id": "8cef5bda-f49b-4154-a0e2-56405fffe709"
    },
    {
      "cell_type": "code",
      "execution_count": null,
      "metadata": {},
      "outputs": [],
      "source": [
        "p_load(MASS)\n",
        "npub_nb1 <- glm.nb(art ~ .,\n",
        "                   data = npub)\n",
        "npub_nb2 <- glm.nb(art ~ fem + mar + kid5 + ment, \n",
        "                   data = npub)"
      ],
      "id": "843ce6f2-a8f5-4045-a648-9955e9d33716"
    },
    {
      "cell_type": "markdown",
      "metadata": {},
      "source": [
        "### `stargazer`による表示\n",
        "\n",
        "今回利用する統計量などは`stargazer()`関数では自動で出力されるので便利."
      ],
      "id": "11dafbcf-7a9d-42e6-907d-5de6c5a01a9e"
    },
    {
      "cell_type": "code",
      "execution_count": null,
      "metadata": {},
      "outputs": [],
      "source": [
        "stargazer::stargazer(npub_nb1,\n",
        "                     npub_nb2,\n",
        "                     type              = \"text\",\n",
        "                     style             =\"all\",\n",
        "                     star.cutoffs      = NA,\n",
        "                     omit.table.layout = 'n',\n",
        "                     ci                = TRUE,\n",
        "                     align             = TRUE)"
      ],
      "id": "8b1fe436-9e03-45c8-8006-7393c718e3c6"
    },
    {
      "cell_type": "markdown",
      "metadata": {},
      "source": [
        "### Bootstrap\n",
        "\n",
        "Bootstrapによってモデルを評価する."
      ],
      "id": "ab4bc3e1-2dc8-4b2a-9901-4e8549900f9a"
    },
    {
      "cell_type": "code",
      "execution_count": null,
      "metadata": {},
      "outputs": [],
      "source": [
        "train(art ~ .,\n",
        "      data      = npub,\n",
        "      method    = \"glm.nb\",\n",
        "      trControl = trainControl(method = \"cv\",\n",
        "                               number = 100))"
      ],
      "id": "ee9abf10-0669-46bf-846e-9d6be4c87d7d"
    },
    {
      "cell_type": "code",
      "execution_count": null,
      "metadata": {},
      "outputs": [],
      "source": [
        "train(art ~ fem + mar + kid5 + ment,\n",
        "      data      = npub,\n",
        "      method    = \"glm.nb\",\n",
        "      trControl = trainControl(method = \"cv\",\n",
        "                               number = 100))"
      ],
      "id": "204cb308-329d-49ed-9248-c66eae5e088e"
    },
    {
      "cell_type": "markdown",
      "metadata": {},
      "source": [
        "### 全ての結果を比較\n",
        "\n",
        "`stargazer`を利用すれば全ての結果を容易に比較できる."
      ],
      "id": "d45ad3b2-876d-4874-98e0-33d843b60d5e"
    },
    {
      "cell_type": "code",
      "execution_count": null,
      "metadata": {},
      "outputs": [],
      "source": [
        "stargazer::stargazer(npub_poisson1,\n",
        "                     npub_poisson2,\n",
        "                     npub_qpois1,\n",
        "                     npub_qpois2,\n",
        "                     npub_nb1,\n",
        "                     npub_nb2,\n",
        "                     type              = \"text\",\n",
        "                     style             =\"all\",\n",
        "                     star.cutoffs      = NA,\n",
        "                     omit.table.layout = 'n',\n",
        "                     ci                = TRUE,\n",
        "                     align             = TRUE)"
      ],
      "id": "92157e17-0abb-486d-8e07-66e9c327a5c4"
    },
    {
      "cell_type": "markdown",
      "metadata": {},
      "source": [
        "### 最大対数尤度による比較\n",
        "\n",
        "ポアソン回帰と負の二項回帰の最大対数尤度を比較すると負の二項回帰のほうが望ましいことがわかる.\n",
        "ただし, 対数尤度は説明変数の数が増えれば自動的に増加する."
      ],
      "id": "8ac032d2-6890-461e-b10c-3df6be94065a"
    },
    {
      "cell_type": "code",
      "execution_count": null,
      "metadata": {},
      "outputs": [],
      "source": [
        "logLik(npub_poisson1)\n",
        "logLik(npub_poisson2)\n",
        "logLik(npub_nb1)\n",
        "logLik(npub_nb2)"
      ],
      "id": "8aedcca4-8c9c-4303-a26a-74a2a8833119"
    },
    {
      "cell_type": "markdown",
      "metadata": {},
      "source": [
        "### AICによる比較\n",
        "\n",
        "AICを比較することで説明変数の数に関わらず予測の良いモデルが何かを探すことができる."
      ],
      "id": "da45a93e-6bf6-4983-95f2-aebc3ad47b3e"
    },
    {
      "cell_type": "code",
      "execution_count": null,
      "metadata": {},
      "outputs": [],
      "source": [
        "AIC(npub_poisson1)\n",
        "AIC(npub_poisson2)\n",
        "AIC(npub_nb1)\n",
        "AIC(npub_nb2)"
      ],
      "id": "01701b89-e9e7-4fc4-b74c-83786ed3138a"
    },
    {
      "cell_type": "markdown",
      "metadata": {},
      "source": [
        "### 逸脱度による比較\n",
        "\n",
        "線形回帰分析による残差平方和に相当する逸脱度を比較することもできる."
      ],
      "id": "e7c57e1c-7148-4dab-915a-8d65404597a0"
    },
    {
      "cell_type": "code",
      "execution_count": null,
      "metadata": {},
      "outputs": [],
      "source": [
        "deviance(npub_poisson1)\n",
        "deviance(npub_poisson2)\n",
        "deviance(npub_nb1)\n",
        "deviance(npub_nb2)"
      ],
      "id": "beccaa04-1c29-4b6c-99ef-7307dc6a65fa"
    },
    {
      "cell_type": "markdown",
      "metadata": {},
      "source": [
        "### ANOVA(TYPE I)(逸脱度分析)\n",
        "\n",
        "ANOVAのTYPE Iによってモデルを評価する.\n",
        "変数`mar`に効果がないと検出されている.\n",
        "変数`mar`を取り除いてもモデルの当てはまりにあまり影響がない. ただし,\n",
        "説明変数の投入順序により結果が変わりうることに注意."
      ],
      "id": "de0665a9-fdef-46a0-b0cc-384c74228ad3"
    },
    {
      "cell_type": "code",
      "execution_count": null,
      "metadata": {},
      "outputs": [],
      "source": [
        "anova(npub_poisson1, test = \"Chisq\")"
      ],
      "id": "ef8ec6e1-e2f9-452a-b1f5-34114373862d"
    },
    {
      "cell_type": "markdown",
      "metadata": {},
      "source": [
        "### ANOVA(TYPE II)\n",
        "\n",
        "`car::Anova`を利用してTYPE IIも利用する. TYPE\n",
        "Iと異なり説明変数の順序に影響されない."
      ],
      "id": "781c617f-eed9-4b44-bf17-c7131a950d04"
    },
    {
      "cell_type": "code",
      "execution_count": null,
      "metadata": {},
      "outputs": [],
      "source": [
        "p_load(car)\n",
        "car::Anova(npub_poisson1, type = c(\"II\"))"
      ],
      "id": "bb681df0-b079-4264-848f-0853602b8605"
    },
    {
      "cell_type": "markdown",
      "metadata": {},
      "source": [
        "### ANOVA(TYPE II)\n",
        "\n",
        "`car::Anova`を利用してTYPE IIIも利用する."
      ],
      "id": "3f33a18d-8963-4225-badb-cea6ef40ee67"
    },
    {
      "cell_type": "code",
      "execution_count": null,
      "metadata": {},
      "outputs": [],
      "source": [
        "car::Anova(npub_poisson1, type = c(\"III\"))"
      ],
      "id": "8d469a04-ca66-4e44-9fcb-d53295ac8732"
    },
    {
      "cell_type": "markdown",
      "metadata": {},
      "source": [
        "### モデルの比較\n",
        "\n",
        "ANOVAにより2つのモデルを比較する."
      ],
      "id": "27f54155-f471-4562-9c00-d2f3dfd30047"
    },
    {
      "cell_type": "code",
      "execution_count": null,
      "metadata": {},
      "outputs": [],
      "source": [
        "anova(npub_poisson1, npub_poisson2, test = \"Chisq\")"
      ],
      "id": "fdd9d783-a6e0-4ee2-8f83-fa367050b580"
    },
    {
      "cell_type": "markdown",
      "metadata": {},
      "source": [
        "### モデルの比較\n",
        "\n",
        "ANOVAにより2つのモデルを比較する."
      ],
      "id": "75356c2f-85b2-42b9-9df0-6185778034c6"
    },
    {
      "cell_type": "code",
      "execution_count": null,
      "metadata": {},
      "outputs": [],
      "source": [
        "anova(npub_nb1, npub_nb2, test = \"Chisq\")"
      ],
      "id": "b046dfaa-d978-480a-910c-23eccc8ff2f9"
    },
    {
      "cell_type": "markdown",
      "metadata": {},
      "source": [
        "### 適合度の尤度比検定\n",
        "\n",
        "ポアソン回帰と負の二項回帰を比較する.\n",
        "2つのモデルの逸脱度の差がdispersion\n",
        "parameterが0であるとする帰無仮説の下で$\\chi^2$分布に従うことを利用して尤度比検定を行う."
      ],
      "id": "3b1d89ee-536c-4a21-ad7f-85b13cd27868"
    },
    {
      "cell_type": "code",
      "execution_count": null,
      "metadata": {},
      "outputs": [],
      "source": [
        "pchisq(deviance(npub_poisson2) - deviance(npub_nb2),\n",
        "       df         = 1,\n",
        "       lower.tail = FALSE)"
      ],
      "id": "ffb1a736-0ca7-40cc-a02c-16c96cf53e5c"
    }
  ],
  "nbformat": 4,
  "nbformat_minor": 5,
  "metadata": {
    "kernelspec": {
      "display_name": "Python 3",
      "language": "python",
      "name": "python3"
    }
  }
}