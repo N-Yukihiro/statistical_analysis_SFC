{
  "cells": [
    {
      "cell_type": "markdown",
      "metadata": {},
      "source": [
        "# e-statを利用した統計分析\n",
        "\n",
        "# Today’s Practice\n",
        "\n",
        "### 今日の演習の目標\n",
        "\n",
        "e-stat APIを利用できるようになる. e-stat\n",
        "APIを使って分析ができるようになる.\n",
        "\n",
        "# e-Stat API\n",
        "\n",
        "### e-Stat\n",
        "\n",
        "e-Stat(https://www.e-stat.go.jp/) は,\n",
        "日本の統計が閲覧できる政府統計ポータルサイト. 国勢調査をはじめ,\n",
        "多くの統計調査の結果が掲載されている. しかしながら,\n",
        "公開される統計情報は表示に特化され, 分析しやすい形ではない.\n",
        "\n",
        "### e-Stat API\n",
        "\n",
        "e-Statが提供するAPI(Application Programming Interface). API機能とは,\n",
        "e-Statからの特定データを手作業によることなく,\n",
        "自動で取得することが可能になる機能. XML, JSON,\n",
        "CSVなどによってデータが提供される. 利用には登録が必要.\n",
        "\n",
        "# estatapi\n",
        "\n",
        "### estatapi\n",
        "\n",
        "`estatapi`は, e-Stat APIを利用するためのパッケージ.\n",
        "以下の4つの機能をサポート. - 統計表情報取得:\n",
        "提供されている統計表を検索 - メタ情報取得: 統計データのメタ情報を取得 -\n",
        "統計データ取得: 統計データを取得 - データカタログ情報取得:\n",
        "統計表ファイル(Excel, CSV, PDF)および統計データベースの情報を取得\n",
        "\n",
        "### appIdの利用\n",
        "\n",
        "まず, e-statで先ほど作成したIDを`.env`ファイルに保存し,\n",
        "`dotenv`パッケージを利用して読み込む."
      ],
      "id": "8441a847-ca16-4bc8-b8ba-c1b8cd85a32e"
    },
    {
      "cell_type": "code",
      "execution_count": null,
      "metadata": {},
      "outputs": [],
      "source": [
        "library(pacman)\n",
        "p_load(dotenv)\n",
        "dotenv::load_dot_env()\n",
        "appId <- Sys.getenv(\"appId\")"
      ],
      "id": "7fe0f946-bf4d-45c6-b5eb-b9f129cceb5a"
    },
    {
      "cell_type": "markdown",
      "metadata": {},
      "source": [
        "### 統計表情報取得(`estat_getStatsList`)\n",
        "\n",
        "どのような統計表が提供されているのか検索するには,\n",
        "`estat_getStatsList`を利用する. キーワードを含む統計を検索するには,\n",
        "`searchWord`に指定する. 特に`STATISTICS_NAME`や`TITLE`に注目し,\n",
        "`@id`が何かを確認する. 検索する際には,\n",
        "`View`を用いて視覚的に探しても良いし,\n",
        "`dplyr::filter`などを利用しても良い."
      ],
      "id": "4f2fd65c-b355-4e1e-a252-e6c6809da7bd"
    },
    {
      "cell_type": "code",
      "execution_count": null,
      "metadata": {},
      "outputs": [],
      "source": [
        "p_load(estatapi, dplyr)\n",
        "estat_getStatsList(appId      = appId,\n",
        "                   searchWord = \"人口\") |> \n",
        "  head()"
      ],
      "id": "f3d5b4e9-6c4a-436f-babb-f3f6b620134b"
    },
    {
      "cell_type": "markdown",
      "metadata": {},
      "source": [
        "### メタ情報取得(`estat_getMetaInfo`)\n",
        "\n",
        "統計データのメタ情報取得するには, `estat_getMetaInfo`を利用し, -\n",
        "statsDataIdにIDを指定する.\n",
        "ここでは2021年の都道府県別5歳階級別人口推計データ(0003448237)のメタ情報を取得する.\n",
        "結果はlist形式で返される. listの各要素がdata frameになっている."
      ],
      "id": "ab2bccc1-e677-49a5-9d0c-bb9491146ff6"
    },
    {
      "cell_type": "code",
      "execution_count": null,
      "metadata": {},
      "outputs": [],
      "source": [
        "meta_info <- estat_getMetaInfo(appId       = appId, \n",
        "                               statsDataId = \"0003448237\")\n",
        "meta_info |> names()"
      ],
      "id": "a5acefc5-b84f-47c7-b903-6ea80bd5ed2f"
    },
    {
      "cell_type": "markdown",
      "metadata": {},
      "source": [
        "`cat**`に様々な属性情報が含まれている"
      ],
      "id": "90db779d-9551-49d7-b0c0-5fbfa5de7e98"
    },
    {
      "cell_type": "code",
      "execution_count": null,
      "metadata": {},
      "outputs": [],
      "source": [
        "meta_info$cat01\n",
        "meta_info$cat02\n",
        "meta_info$cat03\n",
        "meta_info$area\n",
        "meta_info$time"
      ],
      "id": "696209ad-4d91-4beb-b9f0-3e4c03bd704b"
    },
    {
      "cell_type": "markdown",
      "metadata": {},
      "source": [
        "### 統計データ取得(`estat_getStatsData`)\n",
        "\n",
        "統計データ取得には, `estat_getStatsData`を利用する.\n",
        "必ず指定しなければならない引数は, `appId`と`statsDataId`. しかし,\n",
        "データが大きくなりすぎる場合がある. `cdCat**`などを利用して,\n",
        "データを絞ることも必要. 男女総数かつ総人口,\n",
        "人口総数もしくは65歳以上の人口に絞って取得する."
      ],
      "id": "ec84deed-a093-4690-ba2d-26eff8a73daa"
    },
    {
      "cell_type": "code",
      "execution_count": null,
      "metadata": {},
      "outputs": [],
      "source": [
        "df <- estat_getStatsData(\n",
        "  appId       = appId, \n",
        "  statsDataId = \"0003448237\", \n",
        "  cdCat01     = \"000\",\n",
        "  cdCat02     = c(\"01000\", \"01014\", \"01015\", \n",
        "                  \"01016\", \"01017\", \"04018\"),\n",
        "  cdCat03     = \"001\")"
      ],
      "id": "14fdafa3-cef1-4996-af9c-c62db2a0ba8b"
    },
    {
      "cell_type": "markdown",
      "metadata": {},
      "source": [
        "# データの整形\n",
        "\n",
        "### 列の選択\n",
        "\n",
        "データの整形には`dplyr`パッケージを利用する. 必要のない列が多いので,\n",
        "必要な列のみを選択する. 列を選択するには, `dplyr::select`を利用する."
      ],
      "id": "7614e752-e686-490a-8a08-4bc5ed9cac36"
    },
    {
      "cell_type": "code",
      "execution_count": null,
      "metadata": {},
      "outputs": [],
      "source": [
        "selected_df <- dplyr::select(\n",
        "  df,\n",
        "  area_code,\n",
        "  pref = `全国・都道府県`,\n",
        "  time_code,\n",
        "  cat02_code, \n",
        "  value\n",
        ")"
      ],
      "id": "eed00da6-51e1-4547-9d2b-d7e313d11bc8"
    },
    {
      "cell_type": "markdown",
      "metadata": {},
      "source": [
        "### 行の選択\n",
        "\n",
        "次に, データから全国のデータを取り除く.\n",
        "データを取り除くには`dplyr::filter`を利用する."
      ],
      "id": "a5f314ba-8b1c-4d5c-9538-f60d4f57c776"
    },
    {
      "cell_type": "code",
      "execution_count": null,
      "metadata": {},
      "outputs": [],
      "source": [
        "filtered_df <- dplyr::filter(selected_df, area_code != \"00000\") |> \n",
        "  dplyr::filter(time_code == \"1301\")"
      ],
      "id": "f5d95dcd-3ddb-4ac8-a0bd-cabce7fcbf72"
    },
    {
      "cell_type": "markdown",
      "metadata": {},
      "source": [
        "人口総数のデータと5歳階級別65歳以上人口のデータに分ける."
      ],
      "id": "d3b98f8c-520d-41b1-918d-2dbb01a1c773"
    },
    {
      "cell_type": "code",
      "execution_count": null,
      "metadata": {},
      "outputs": [],
      "source": [
        "df_all <- dplyr::filter(filtered_df, cat02_code == \"01000\")\n",
        "df_65  <- dplyr::filter(filtered_df, cat02_code != \"01000\")"
      ],
      "id": "294aa684-5096-4e7e-8cb8-29dbe0c40400"
    },
    {
      "cell_type": "markdown",
      "metadata": {},
      "source": [
        "### データの集約\n",
        "\n",
        "5歳階級別65歳以上人口のデータから都道府県別65歳以上人口の合計を求める."
      ],
      "id": "ed6ad5f4-c001-488d-b919-7654717c937c"
    },
    {
      "cell_type": "code",
      "execution_count": null,
      "metadata": {},
      "outputs": [],
      "source": [
        "df_65_aggregated <- df_65 |> \n",
        "  dplyr::group_by(area_code) |> \n",
        "  dplyr::summarise(pop_65 = sum(value))"
      ],
      "id": "138b12c1-5d5a-4ba7-928e-39c743261b40"
    },
    {
      "cell_type": "markdown",
      "metadata": {},
      "source": [
        "### データの結合\n",
        "\n",
        "データフレーム同士を列をキーにして結合するには,\n",
        "`dplyr::left_join`を利用する."
      ],
      "id": "86b16165-16e7-49cc-b60d-800062cfc4b2"
    },
    {
      "cell_type": "code",
      "execution_count": null,
      "metadata": {},
      "outputs": [],
      "source": [
        "df2 <- dplyr::left_join(df_all, df_65_aggregated,\n",
        "                        by = \"area_code\")"
      ],
      "id": "644c4021-58ed-4e1f-8b8d-7a915f2d2c23"
    },
    {
      "cell_type": "markdown",
      "metadata": {},
      "source": [
        "### 新しい列の作成\n",
        "\n",
        "新しい列を作成するには, `dplyr::mutate`を利用する.\n",
        "65歳以上人口と総人口から高齢化率を求める."
      ],
      "id": "77327bfd-6d98-4088-8972-cb4f9b9fc30c"
    },
    {
      "cell_type": "code",
      "execution_count": null,
      "metadata": {},
      "outputs": [],
      "source": [
        "df2 <- dplyr::mutate(df2, \n",
        "                     aged_ratio = pop_65 / value)"
      ],
      "id": "21d29f9c-befc-4ec0-8f15-54dd7e3ea1cb"
    },
    {
      "cell_type": "markdown",
      "metadata": {},
      "source": [
        "# 分析\n",
        "\n",
        "### ヒストグラム\n",
        "\n",
        "都道府県別高齢化率のヒストグラムを描画する."
      ],
      "id": "4f59353d-9e00-4e83-a310-7ffd354659b1"
    },
    {
      "cell_type": "code",
      "execution_count": null,
      "metadata": {},
      "outputs": [],
      "source": [
        "p_load(ggplot2)\n",
        "ggplot(df2) +\n",
        "  aes(x = aged_ratio) +\n",
        "  geom_histogram()"
      ],
      "id": "826d7fec-49d7-4795-bcfc-98868bc0ed91"
    },
    {
      "cell_type": "markdown",
      "metadata": {},
      "source": [
        "### 散布図\n",
        "\n",
        "都道府県別高齢化率と総人口の散布図を描画する."
      ],
      "id": "8a4e7e2e-e73e-4306-b291-6e343f93b8eb"
    },
    {
      "cell_type": "code",
      "execution_count": null,
      "metadata": {},
      "outputs": [],
      "source": [
        "ggplot(df2) +\n",
        "  aes(x = value,\n",
        "      y = aged_ratio) +\n",
        "  geom_point()\n",
        "  # geom_text(aes(label = pref), size = 3)"
      ],
      "id": "0d2b8aed-491e-4ed4-8cc2-f8066084d66a"
    },
    {
      "cell_type": "markdown",
      "metadata": {},
      "source": [
        "### 回帰分析\n",
        "\n",
        "高齢化率を結果変数に, 総人口を説明変数にして回帰分析を行う. なお,\n",
        "この分析は参考のために行っており, 因果関係を求めるものではない."
      ],
      "id": "e7cb2ad3-3683-445e-b81f-57148f05880b"
    },
    {
      "cell_type": "code",
      "execution_count": null,
      "metadata": {},
      "outputs": [],
      "source": [
        "df_lm <- lm(aged_ratio ~ value,\n",
        "            data = df2)"
      ],
      "id": "f7241030-514a-4717-b8d0-c4c976d0ff15"
    },
    {
      "cell_type": "markdown",
      "metadata": {},
      "source": [
        "### 結果の表示\n",
        "\n",
        "分析の結果をきれいに表示するには, `stargazer`を利用する."
      ],
      "id": "2b8868dc-892c-4bf5-b3eb-4f7859fdf237"
    },
    {
      "cell_type": "code",
      "execution_count": null,
      "metadata": {},
      "outputs": [],
      "source": [
        "p_load(stargazer)\n",
        "stargazer(df_lm,\n",
        "          type              = \"text\", \n",
        "          style             = \"all\",\n",
        "          ci                = TRUE,\n",
        "          star.cutoffs      = NA,\n",
        "          omit.table.layout = 'n',\n",
        "          align             = TRUE)"
      ],
      "id": "2217724f-1b8c-4e0d-94f4-5cc5556ce6cd"
    },
    {
      "cell_type": "markdown",
      "metadata": {},
      "source": [
        "### 回帰係数の図示\n",
        "\n",
        "`coefplot`パッケージの`coefplot()`関数を利用して推定された係数を図示する."
      ],
      "id": "2c025944-8f91-4b0f-8edc-3b22e09f0286"
    },
    {
      "cell_type": "code",
      "execution_count": null,
      "metadata": {},
      "outputs": [],
      "source": [
        "p_load(coefplot)\n",
        "coefplot(df_lm)"
      ],
      "id": "3b21be4c-de4d-43a2-8167-ff5d93ffd5b8"
    },
    {
      "cell_type": "markdown",
      "metadata": {},
      "source": [
        "### 散布図に回帰直線を加える\n",
        "\n",
        "散布図に回帰直線と信頼区間を加える."
      ],
      "id": "95e2b019-9abd-4dd8-bfa1-fe853114df63"
    },
    {
      "cell_type": "code",
      "execution_count": null,
      "metadata": {},
      "outputs": [],
      "source": [
        "df2 |> \n",
        "  ggplot() +\n",
        "  aes(x = value, \n",
        "      y = aged_ratio) + \n",
        "  geom_point() +\n",
        "  geom_smooth(method = \"lm\")"
      ],
      "id": "09d2ccbf-03be-48b3-9ada-e5c41ae0a86e"
    },
    {
      "cell_type": "markdown",
      "metadata": {},
      "source": [
        "# Appendix\n",
        "\n",
        "### 統計データを少しだけ取得する\n",
        "\n",
        "統計データを少しだけ取得するためには, 取得数を`limit`で制限する."
      ],
      "id": "94b29575-3e69-4121-bd25-60376429de6e"
    },
    {
      "cell_type": "code",
      "execution_count": null,
      "metadata": {},
      "outputs": [],
      "source": [
        "df_limit <- estat_getStatsData(\n",
        "  appId       = appId, \n",
        "  statsDataId = \"0003448237\", \n",
        "  limit       = 5)"
      ],
      "id": "b2c3cd23-60fb-4964-8068-6656cc507e02"
    },
    {
      "cell_type": "markdown",
      "metadata": {},
      "source": [
        "### ダウンロードしたファイルの読み込み\n",
        "\n",
        "非表示の列や行があるため, 実はこれでもきれいな形にはなりきっていない.\n",
        "問題があれば読み込みで対処する."
      ],
      "id": "bce1d29b-4d69-4aec-9d1f-87d2be472aec"
    },
    {
      "cell_type": "code",
      "execution_count": null,
      "metadata": {},
      "outputs": [],
      "source": [
        "p_load(readxl)\n",
        "df_xl <- readxl::read_excel(\"../data/a01000.xls\",\n",
        "                            skip = 2) |> \n",
        "  dplyr::select(-c(1:6))"
      ],
      "id": "debc3bca-3907-4494-90b1-d3bf8d44ba66"
    },
    {
      "cell_type": "markdown",
      "metadata": {},
      "source": [
        "###"
      ],
      "id": "9dfbc1be-7460-4460-9034-331ca7474bb9"
    },
    {
      "cell_type": "code",
      "execution_count": null,
      "metadata": {},
      "outputs": [],
      "source": [
        "df_xl |> \n",
        "  head()"
      ],
      "id": "712bf316-98ab-4a3d-a697-5e4525f74e58"
    }
  ],
  "nbformat": 4,
  "nbformat_minor": 5,
  "metadata": {
    "kernelspec": {
      "display_name": "Python 3",
      "language": "python",
      "name": "python3"
    }
  }
}