{
  "cells": [
    {
      "cell_type": "markdown",
      "id": "bc802063-3ea1-4ce4-9696-b016cea47424",
      "metadata": {},
      "source": [
        "# ロジスティック回帰他\n",
        "\n",
        "### 今回利用するデータ\n",
        "\n",
        "今回の演習では、Titanicの生存者情報データを用いる.\n",
        "データは`titanic`パッケージに入っている`titanic_train`を用いる.\n",
        "\n",
        "まずは, 変数を確認する"
      ]
    },
    {
      "cell_type": "code",
      "execution_count": null,
      "id": "2c956bf5-8f64-4a65-912f-19c51e06638b",
      "metadata": {},
      "outputs": [],
      "source": [
        "library(pacman)\n",
        "p_load(titanic)"
      ]
    },
    {
      "cell_type": "markdown",
      "id": "9e826c68-f922-4b3e-9886-867869a041ee",
      "metadata": {},
      "source": [
        "# data transformation\n",
        "\n",
        "## 欠測値の処理\n",
        "\n",
        "### 欠測値の定義\n",
        "\n",
        "今回使うデータは空欄と`NA`が混在しているため, NAに統一する.\n",
        "利用するのは`naniar::replace_with_na_all()`関数."
      ]
    },
    {
      "cell_type": "code",
      "execution_count": null,
      "id": "d1e364f1-2700-45ae-ba6b-3af9e12c0d2d",
      "metadata": {},
      "outputs": [],
      "source": [
        "p_load(naniar)"
      ]
    },
    {
      "cell_type": "markdown",
      "id": "0507f3d6-b822-44f2-adcb-ffdb35007d86",
      "metadata": {},
      "source": [
        "### データ構造の確認\n",
        "\n",
        "データ構造を確認するため, `dplyr::glimpse()`関数を利用する."
      ]
    },
    {
      "cell_type": "code",
      "execution_count": null,
      "id": "329c7ab2-d8c7-4d79-8e9c-f0143cc646ea",
      "metadata": {},
      "outputs": [],
      "source": [
        "p_load(dplyr)\n",
        "glimpse(train)"
      ]
    },
    {
      "cell_type": "markdown",
      "id": "ad808a7e-9cc3-484f-bcce-697c5f6936ea",
      "metadata": {},
      "source": [
        "## 先頭から数行を確認\n",
        "\n",
        "先頭から数行を確認するために`head()`関数を利用する.\n",
        "`Cabin`の1行目と3行目は欠測値になっていることがわかる."
      ]
    },
    {
      "cell_type": "code",
      "execution_count": null,
      "id": "ed42e8c8-d98c-4da8-aa11-755b6a80a3f0",
      "metadata": {},
      "outputs": [],
      "source": [
        "head(train)"
      ]
    },
    {
      "cell_type": "markdown",
      "id": "b19b9752-05a0-4907-ab4c-ecaca1fbe73b",
      "metadata": {},
      "source": [
        "### データの概要を確認\n",
        "\n",
        "データの記述統計を確認するために`summary()`関数を利用する.\n",
        "文字列の欠測値は表示されない."
      ]
    },
    {
      "cell_type": "code",
      "execution_count": null,
      "id": "3d9735f8-3bc7-47f5-a965-74e2c7731447",
      "metadata": {},
      "outputs": [],
      "source": [
        "summary(train)"
      ]
    },
    {
      "cell_type": "markdown",
      "id": "2e77b497-c90d-4c78-a18d-7b3f8b26dc72",
      "metadata": {},
      "source": [
        "### 欠測値を確認\n",
        "\n",
        "このデータはいくつかの欠測値を含んでいるため,\n",
        "欠測値がどの変数にいくつ含まれているのか確認する.\n",
        "`dplyr::summarise()`関数を利用し,\n",
        "`is.na`でNAに該当するセルがいくつあるのかを数え上げる."
      ]
    },
    {
      "cell_type": "code",
      "execution_count": null,
      "id": "6d145dbd-f7bc-41b3-82f9-f4788ff60604",
      "metadata": {},
      "outputs": [],
      "source": [
        "summarise(train,\n",
        "          across(everything(),\n",
        "                 \\(x) sum(is.na(x))))"
      ]
    },
    {
      "cell_type": "markdown",
      "id": "187d5c7c-81db-4408-b8fb-7fd4359357aa",
      "metadata": {},
      "source": [
        "### 欠測値の除去\n",
        "\n",
        "欠測値を含む行を削除する. これをリストワイズ除去という. ここでは,\n",
        "`na.omit()`関数と`tidyr::drop_na()`関数の2種類を紹介する."
      ]
    },
    {
      "cell_type": "code",
      "execution_count": null,
      "id": "e8cd4531-d745-4d2c-b4b3-87f37cf3eb39",
      "metadata": {},
      "outputs": [],
      "source": [
        "train2 <- na.omit(train)\n",
        "\n",
        "p_load(tidyr)\n",
        "train2 <- tidyr::drop_na(train)"
      ]
    },
    {
      "cell_type": "markdown",
      "id": "37cda953-e766-4b07-a147-e684c058cdc1",
      "metadata": {},
      "source": [
        "### 欠測値を除去したデータを確認"
      ]
    },
    {
      "cell_type": "code",
      "execution_count": null,
      "id": "ce91c3a8-e3d5-444b-8cbc-34fab97da4d0",
      "metadata": {},
      "outputs": [],
      "source": [
        "head(train2)"
      ]
    },
    {
      "cell_type": "code",
      "execution_count": null,
      "id": "95c15861-b875-4b70-8546-effd1d0d9c7d",
      "metadata": {},
      "outputs": [],
      "source": [
        "summary(train2)"
      ]
    },
    {
      "cell_type": "markdown",
      "id": "1e7c5d52-870a-4c2b-8670-51958c95ebba",
      "metadata": {},
      "source": [
        "## パイプ演算子\n",
        "\n",
        "### コードを書いていて困ること1\n",
        "\n",
        "`()`がいくつも重なるととてもコードが読みにくい.\n",
        "`()`の一番内側から処理を実行し,\n",
        "コードの先頭にある関数は一番最後に実行する関数となる. 例えば,\n",
        "下の例にあるコードを実行する場合, `fun3(x)`を最初に実行し,\n",
        "その結果に対して`fun2()`を実行し,\n",
        "さらにその結果を`fun1()`が受け取って実行する.\n",
        "これは人間の思考と逆である."
      ]
    },
    {
      "cell_type": "code",
      "execution_count": null,
      "id": "ab84121a-e8b2-4d47-88ed-ea7fbf076c7d",
      "metadata": {},
      "outputs": [],
      "source": [
        "# fun1(fun2(fun3(x)))"
      ]
    },
    {
      "cell_type": "markdown",
      "id": "1d922bec-6e92-43d0-84f8-c5da7e7c79ac",
      "metadata": {},
      "source": [
        "### コードを書いていて困ること2\n",
        "\n",
        "関数などをネストして書くことを避けると一時的に作成した中間的なオブジェクトが多くなる.\n",
        "全くだめなわけではないが, 多すぎると見通しが悪い."
      ]
    },
    {
      "cell_type": "code",
      "execution_count": null,
      "id": "049b4ccd-4d16-46f2-9500-a0870753b364",
      "metadata": {},
      "outputs": [],
      "source": [
        "# x1 <- fun3(x)\n",
        "# x2 <- fun2(x1)\n",
        "# fun1(x2)"
      ]
    },
    {
      "cell_type": "markdown",
      "id": "4d6fe696-9ce8-449d-8456-4cadc6364fee",
      "metadata": {},
      "source": [
        "$\\rightarrow$ これらの解決する手段として`|>`(パイプ)演算子がある\n",
        "\n",
        "### `|>`(パイプ)とは\n",
        "\n",
        "`|>`(パイプ)演算子を使うことで、パイプ演算子の前の結果をパイプ演算子の後の関数の第一引数に入れることができる.\n",
        "パイプ演算子はR4.1.0から素のRに導入された.\n",
        "\n",
        "以前のパイプ演算子`%>%`は`magrittr`パッケージの中の関数の1つ.\n",
        "`dplyr`パッケージを読み込むと一緒に読み込んでくれる.\n",
        "\n",
        "`|>`はctrl(cmd) + Shift(opt) + Mで書くことができる.\n",
        "特に`dplyr`パッケージ等を用いたデータの前処理で大活躍する."
      ]
    },
    {
      "cell_type": "code",
      "execution_count": null,
      "id": "2ca416d2-db52-4e92-92bb-069daf6e64dd",
      "metadata": {},
      "outputs": [],
      "source": [
        "# fun3(x) |> \n",
        "#   fun2() |> \n",
        "#   fun1()"
      ]
    },
    {
      "cell_type": "markdown",
      "id": "e29eec05-8783-4d0d-89a4-0cd895008a8d",
      "metadata": {},
      "source": [
        "## データの整形\n",
        "\n",
        "### 変数の変換\n",
        "\n",
        "いくつかの変数のデータ型を`Integer`や`Character`から`factor`に,\n",
        "`Character`から文字の抜き出しなどを行う.\n",
        "列の変換には`dplyr::mutate()`関数を利用する"
      ]
    },
    {
      "cell_type": "code",
      "execution_count": null,
      "id": "2bc5d4f4-e0e0-496b-94c5-421cca513adf",
      "metadata": {},
      "outputs": [],
      "source": [
        "p_load(stringr)\n",
        "train3 <- train2 |> \n",
        "  mutate(across(c(Survived, Pclass, Sex, Embarked),\n",
        "                as.factor)) |> \n",
        "  mutate(CabinLetter = str_sub(Cabin,\n",
        "                               start = 1,\n",
        "                               end   = 1) |> \n",
        "           as.factor()) |> \n",
        "  mutate(Title = str_sub(Name,\n",
        "                         start = str_locate(Name, \",\")[,1] + 2,\n",
        "                         end   = str_locate(Name, \"\\\\.\")[,1] - 1) |> \n",
        "           as.factor())"
      ]
    },
    {
      "cell_type": "markdown",
      "id": "a49de60c-9df9-4282-8e3e-18003031a203",
      "metadata": {},
      "source": [
        "# Logistic Regression Model\n",
        "\n",
        "### ロジスティック回帰モデル\n",
        "\n",
        "ロジスティック回帰モデルを推定するために`glm(family = binomial(link=\"logit\"))`を利用する.\n",
        "モデルを2つ作成し, 推定を行う."
      ]
    },
    {
      "cell_type": "code",
      "execution_count": null,
      "id": "82d63fd4-9272-49ff-938c-a9544c7923f2",
      "metadata": {},
      "outputs": [],
      "source": [
        "model1 <- Survived ~ Pclass + Sex + Age + \n",
        "  SibSp + Parch + Fare + Embarked +\n",
        "  CabinLetter + Title\n",
        "model2 <- Survived ~ Pclass + Sex + Age"
      ]
    },
    {
      "cell_type": "markdown",
      "id": "a67400b0-8009-46b2-a7b3-d97dab4b56fa",
      "metadata": {},
      "source": [
        "### モデル1の結果\n",
        "\n",
        "`jtools::summ()`関数を利用して結果の確認を行う."
      ]
    },
    {
      "cell_type": "code",
      "execution_count": null,
      "id": "7f95b09a-9cfb-4881-9565-8943623c7a9c",
      "metadata": {},
      "outputs": [],
      "source": [
        "glm_logit1 <- glm(model1, \n",
        "                  data   = train3, \n",
        "                  family = binomial(link = 'logit'))\n",
        "p_load(jtools)\n",
        "summ(glm_logit1)"
      ]
    },
    {
      "cell_type": "markdown",
      "id": "db428d74-600c-4eac-9b47-9a0cf7feb5e9",
      "metadata": {},
      "source": [
        "### 多重共線性のチェック\n",
        "\n",
        "`summ()`関数の引数`vifs`を利用してモデル1の多重共線性をチェックする.\n",
        "`Sex`と`Title`の値が大きく, 推定に問題があることが示唆される. `Sex`とMr,\n",
        "Mrsなどを含む`Title`が相関するのは当然."
      ]
    },
    {
      "cell_type": "code",
      "execution_count": null,
      "id": "6a88a070-f590-464b-8cd2-babe6a18d62a",
      "metadata": {},
      "outputs": [],
      "source": [
        "summ(glm_logit1, vifs = TRUE)"
      ]
    },
    {
      "cell_type": "markdown",
      "id": "4cc29cd5-416d-403e-9ed9-28cca637409b",
      "metadata": {},
      "source": [
        "### モデル2の結果\n",
        "\n",
        "モデルを変えて(`CabinLetter`と`Title`を除いて)分析を行う."
      ]
    },
    {
      "cell_type": "code",
      "execution_count": null,
      "id": "27b67821-86ba-401b-a44d-bba270d92863",
      "metadata": {},
      "outputs": [],
      "source": [
        "glm_logit2 <- glm(model2,\n",
        "                  data   = train3, \n",
        "                  family = binomial(link = 'logit'))\n",
        "summ(glm_logit2,\n",
        "     vifs = TRUE)"
      ]
    },
    {
      "cell_type": "markdown",
      "id": "fb6d659e-0ce2-4f74-8267-7c08e9149cfa",
      "metadata": {},
      "source": [
        "### 推定された係数の図示\n",
        "\n",
        "推定された係数を図で確認するために,\n",
        "`coefplot::coefplot()`関数を利用する."
      ]
    },
    {
      "cell_type": "code",
      "execution_count": null,
      "id": "f7726485-eca9-464a-9447-a2104eeacd96",
      "metadata": {},
      "outputs": [],
      "source": [
        "p_load(coefplot)\n",
        "coefplot(glm_logit2, \n",
        "         intercept = FALSE)"
      ]
    },
    {
      "cell_type": "markdown",
      "id": "3b5af200-bd47-4847-ab8b-fdcab6d89690",
      "metadata": {},
      "source": [
        "### オッズ比の算出\n",
        "\n",
        "ロジスティック回帰モデルにより算出された回帰係数はそのままでは解釈できないため,\n",
        "指数変換しオッズ比を計算する."
      ]
    },
    {
      "cell_type": "code",
      "execution_count": null,
      "id": "f124d381-a9c1-41c6-97a3-8d1124d1f637",
      "metadata": {},
      "outputs": [],
      "source": [
        "summ(glm_logit2, exp = TRUE)"
      ]
    },
    {
      "cell_type": "markdown",
      "id": "93080a3a-5816-4d32-a0ec-d481ffcaddd3",
      "metadata": {},
      "source": [
        "# オッズ比の理解\n",
        "\n",
        "指数変換して計算したオッズ比がどのようなものかを理解する."
      ]
    },
    {
      "cell_type": "code",
      "execution_count": null,
      "id": "3cfff08a-bd70-4ae6-a400-3e5320ad233a",
      "metadata": {},
      "outputs": [],
      "source": [
        "p <- predict(glm_logit2,\n",
        "        newdata = tibble(Pclass = factor(1),\n",
        "                         Sex    = \"male\",\n",
        "                         Age    = 35),\n",
        "        type    = \"response\")\n",
        "q <- predict(glm_logit2,\n",
        "        newdata = tibble(Pclass = factor(2),\n",
        "                         Sex    = \"male\",\n",
        "                         Age    = 35),\n",
        "        type    = \"response\")\n",
        "(q / (1 - q)) / (p / (1 - p))"
      ]
    },
    {
      "cell_type": "markdown",
      "id": "78e9a20b-8615-4d53-9fc0-3e805487bba8",
      "metadata": {},
      "source": [
        "### オッズ比の図示\n",
        "\n",
        "`ggplot2`を使ってオッズ比の信頼区間を図示する."
      ]
    },
    {
      "cell_type": "code",
      "execution_count": null,
      "id": "b43df25c-526b-4c74-a6c3-96cca7249dfc",
      "metadata": {},
      "outputs": [],
      "source": [
        "p_load(broom)\n",
        "broom::tidy(glm_logit2, \n",
        "            conf.int     = TRUE, \n",
        "            exponentiate = TRUE) |> \n",
        "  select(term, \n",
        "         estimate,\n",
        "         conf.low, \n",
        "         conf.high) |> \n",
        "  filter(term != \"(Intercept)\") |> \n",
        "  ggplot() +\n",
        "  aes(x    = term,\n",
        "      y    = estimate,\n",
        "      ymin = conf.low,\n",
        "      ymax = conf.high) +\n",
        "  geom_pointrange(size   = .5,\n",
        "                  colour = \"blue\") +\n",
        "  geom_hline(yintercept = 1,\n",
        "             linetype   = 'dotted') +\n",
        "  coord_flip()"
      ]
    },
    {
      "cell_type": "markdown",
      "id": "edfc51c0-0a10-4226-8932-0ba5c8e5ac6d",
      "metadata": {},
      "source": [
        "### ロジスティック回帰モデルの残差チェック\n",
        "\n",
        "残差をチェックするために`autoplot`を行う."
      ]
    },
    {
      "cell_type": "code",
      "execution_count": null,
      "id": "f0c2dd4d-4a8a-4aca-9b0f-5c49355f3c2c",
      "metadata": {},
      "outputs": [],
      "source": [
        "p_load(ggfortify)\n",
        "autoplot(glm_logit2)"
      ]
    },
    {
      "cell_type": "markdown",
      "id": "be534b22-6c22-419c-8338-f6ae7062513c",
      "metadata": {},
      "source": [
        "### 評価用の関数作成"
      ]
    },
    {
      "cell_type": "code",
      "execution_count": null,
      "id": "f4bab8d0-e40a-4442-b84c-40ae5a7aabcf",
      "metadata": {},
      "outputs": [],
      "source": [
        "perform <- function(data, observed, predict){\n",
        "  library(dplyr)\n",
        "  obs  <- enquo(observed)\n",
        "  pred <- enquo(predict)\n",
        "  result <- data |> \n",
        "    select(obs := !!obs, pred := !!pred) |> \n",
        "    mutate(TP = obs == 1 & pred == 1,\n",
        "           FP = obs == 0 & pred == 1,\n",
        "           TN = obs == 0 & pred == 0,\n",
        "           FN = obs == 1 & pred == 0) |> \n",
        "    summarise(across(c(TP, FP, TN, FN), sum)) |> \n",
        "    mutate(Pe = ((TP + FN) * (TP + FP) + (TN + FN) * (TN + FP)) /\n",
        "             sum(TP, FP, TN, FN)^2) |> \n",
        "    transmute(Accuracy  = (TP + TN) / (TP + TN + FP + FN),\n",
        "              Precision = TP / (TP + FP),\n",
        "              Recall    = TP / (TP + FN),\n",
        "              F1        = 2 * Precision * Recall / (Precision + Recall),\n",
        "              kappa     = (Accuracy - Pe) / (1 - Pe))\n",
        "  return(result)\n",
        "}"
      ]
    },
    {
      "cell_type": "markdown",
      "id": "c52ca232-49dc-4b32-9e8c-e6f45747748f",
      "metadata": {},
      "source": [
        "### ロジスティックモデルを用いた予測と的中率\n",
        "\n",
        "`predict`を用いてモデル上の(理論的な)生存確率を予測する.\n",
        "予測された結果が0.5より大きい場合は生存, 0.5以下であれば死亡とする.\n",
        "利用したデータを用いた予測の結果, 76.5%が的中した."
      ]
    },
    {
      "cell_type": "code",
      "execution_count": null,
      "id": "7a4f63f6-3b5c-45df-9e7d-adc3dce740b5",
      "metadata": {},
      "outputs": [],
      "source": [
        "train3 |>\n",
        "  mutate(predict = predict(glm_logit2, \n",
        "                           type = \"response\")) |> \n",
        "  mutate(survive = predict > 0.5) |> \n",
        "  perform(Survived, survive)"
      ]
    },
    {
      "cell_type": "markdown",
      "id": "3ba40c90-59af-49b2-bdc7-4e7f3ded8736",
      "metadata": {},
      "source": [
        "### LOOCVによる評価\n",
        "\n",
        "`caret`パッケージを利用してLOOCVによるモデルの評価を行う. 正解率は75.4%."
      ]
    },
    {
      "cell_type": "code",
      "execution_count": null,
      "id": "723ff1d8-5879-4813-91a7-e00c01de4a29",
      "metadata": {},
      "outputs": [],
      "source": [
        "p_load(caret)\n",
        "train(data      = train3,\n",
        "      model2,\n",
        "      method    = \"glm\",\n",
        "      family    = binomial(link = \"logit\"),\n",
        "      metric    = \"Accuracy\",\n",
        "      trControl = trainControl(method = \"LOOCV\"))"
      ]
    },
    {
      "cell_type": "markdown",
      "id": "210fad05-bc3a-4911-9687-ad0254641af3",
      "metadata": {},
      "source": [
        "# Probit Regression Model\n",
        "\n",
        "### プロビット回帰モデル\n",
        "\n",
        "プロビット回帰モデルを推定するためには,\n",
        "`glm(family=binomial(link='probit'))`を指定する."
      ]
    },
    {
      "cell_type": "code",
      "execution_count": null,
      "id": "ad03100f-41b1-471a-85a1-f9682d77b950",
      "metadata": {},
      "outputs": [],
      "source": [
        "glm_probit <- glm(model2, \n",
        "                  data   = train3,\n",
        "                  family = binomial(link = 'probit'))\n",
        "summ(glm_probit)"
      ]
    },
    {
      "cell_type": "markdown",
      "id": "9a46b1ab-1cce-4cec-9de7-e03dfcfe15cb",
      "metadata": {},
      "source": [
        "### プロビットモデルで推定された係数の図示\n",
        "\n",
        "推定された係数を図で確認するために, `coefplot::coefplot`を利用する."
      ]
    },
    {
      "cell_type": "code",
      "execution_count": null,
      "id": "4198c777-3286-4a4b-9946-8809dcdb2410",
      "metadata": {},
      "outputs": [],
      "source": [
        "coefplot(glm_probit, intercept = FALSE)"
      ]
    },
    {
      "cell_type": "markdown",
      "id": "0791aae0-2faa-486b-b5d4-bb75c08908d8",
      "metadata": {},
      "source": [
        "### プロビットモデルの残差チェック\n",
        "\n",
        "残差をチェックするために`autoplot`を行う."
      ]
    },
    {
      "cell_type": "code",
      "execution_count": null,
      "id": "126d0dfe-c173-4d07-8be3-f53fcdcf2e51",
      "metadata": {},
      "outputs": [],
      "source": [
        "autoplot(glm_probit)"
      ]
    },
    {
      "cell_type": "markdown",
      "id": "9d608830-6e58-4cc3-b569-5aa439a1da31",
      "metadata": {},
      "source": [
        "### プロビットモデルを用いた予測と的中率\n",
        "\n",
        "`predict`を用いてモデル上の(理論的な)生存確率を予測する.\n",
        "予測された結果が0.5より大きい場合は生存, 0.5以下であれば死亡とする.\n",
        "利用したデータを用いた予測の結果, 77.0%が的中した."
      ]
    },
    {
      "cell_type": "code",
      "execution_count": null,
      "id": "3121d92f-e400-4ab7-a98f-6caddac83ff1",
      "metadata": {},
      "outputs": [],
      "source": [
        "train3 |>\n",
        "  mutate(predict = predict(glm_probit, \n",
        "                           type = \"response\")) |> \n",
        "  mutate(survive = predict > 0.5) |> \n",
        "  perform(Survived, survive)"
      ]
    },
    {
      "cell_type": "markdown",
      "id": "d2946a2c-539c-4f09-bcd1-be70c9d311c2",
      "metadata": {},
      "source": [
        "### LOOCVによる評価\n",
        "\n",
        "`caret`パッケージを利用してLOOCVによるモデルの評価を行う. 正解率は75.4%."
      ]
    },
    {
      "cell_type": "code",
      "execution_count": null,
      "id": "c2b0880d-f76e-4a61-94e4-2f5b82e2f0c5",
      "metadata": {},
      "outputs": [],
      "source": [
        "train(data      = train3,\n",
        "      model2,\n",
        "      method    = \"glm\",\n",
        "      family    = binomial(link = \"probit\"),\n",
        "      metric    = \"Accuracy\",\n",
        "      trControl = trainControl(method = \"LOOCV\"))"
      ]
    },
    {
      "cell_type": "markdown",
      "id": "f1a8b4b1-c861-4bb1-be53-38489d409130",
      "metadata": {},
      "source": [
        "# Complementary Log-Log regression model\n",
        "\n",
        "### 補対数対数回帰モデル\n",
        "\n",
        "補対数対数回帰モデルを推定するためには,\n",
        "`glm(family=binomial(link='cloglog'))`を指定する."
      ]
    },
    {
      "cell_type": "code",
      "execution_count": null,
      "id": "6cdf9005-0b31-4769-aac7-eab7aadc58c4",
      "metadata": {},
      "outputs": [],
      "source": [
        "glm_cloglog <- glm(model2, \n",
        "                   data   = train3,\n",
        "                   family = binomial(link = 'cloglog'))\n",
        "summ(glm_cloglog)"
      ]
    },
    {
      "cell_type": "markdown",
      "id": "7c3f8e25-0b57-4037-b30f-c9b377e9951d",
      "metadata": {},
      "source": [
        "### 補対数対数モデルで推定された係数の図示\n",
        "\n",
        "推定された係数を図で確認するために, `coefplot::coefplot`を利用する."
      ]
    },
    {
      "cell_type": "code",
      "execution_count": null,
      "id": "56811ecd-5d9b-4d61-8952-23e579dbc18b",
      "metadata": {},
      "outputs": [],
      "source": [
        "coefplot(glm_cloglog, intercept = FALSE)"
      ]
    },
    {
      "cell_type": "markdown",
      "id": "a8767696-2dc4-40bf-afa1-bad76bdeee5e",
      "metadata": {},
      "source": [
        "### 補対数対数モデルの残差チェック\n",
        "\n",
        "残差をチェックするために`autoplot`を行う."
      ]
    },
    {
      "cell_type": "code",
      "execution_count": null,
      "id": "508be58c-29d8-435d-86b2-5658b7ea3052",
      "metadata": {},
      "outputs": [],
      "source": [
        "autoplot(glm_cloglog)"
      ]
    },
    {
      "cell_type": "markdown",
      "id": "27fc4b97-8621-40d4-84d3-555ff0263806",
      "metadata": {},
      "source": [
        "### 補対数対数モデルを用いた予測と的中率\n",
        "\n",
        "`predict`を用いてモデル上の(理論的な)生存確率を予測する.\n",
        "予測された結果が0.5より大きい場合は生存, 0.5以下であれば死亡とする.\n",
        "利用したデータを用いた予測の結果, 77.6%が的中した."
      ]
    },
    {
      "cell_type": "code",
      "execution_count": null,
      "id": "d38caa1e-c313-450a-a99e-d34f9cf3a1eb",
      "metadata": {},
      "outputs": [],
      "source": [
        "train3 |>\n",
        "  mutate(predict = predict(glm_cloglog, \n",
        "                           type = \"response\")) |> \n",
        "  mutate(survive = predict > 0.5) |> \n",
        "  perform(Survived, survive)"
      ]
    },
    {
      "cell_type": "markdown",
      "id": "7a291c3f-dbd1-4b59-91a3-f677effbe041",
      "metadata": {},
      "source": [
        "### LOOCVによる評価\n",
        "\n",
        "`caret`パッケージを利用してLOOCVによるモデルの評価を行う. 正解率は74.3%."
      ]
    },
    {
      "cell_type": "code",
      "execution_count": null,
      "id": "1ed4cbf2-2ea4-4374-a029-d11a721325b1",
      "metadata": {},
      "outputs": [],
      "source": [
        "train(data      = train3,\n",
        "      model2,\n",
        "      method    = \"glm\",\n",
        "      family    = binomial(link = \"cloglog\"),\n",
        "      metric    = \"Accuracy\",\n",
        "      trControl = trainControl(method = \"LOOCV\"))"
      ]
    },
    {
      "cell_type": "markdown",
      "id": "993d3e4a-70e0-4641-abc6-5c01879d4038",
      "metadata": {},
      "source": [
        "# Appendix\n",
        "\n",
        "### テストデータによる予測\n",
        "\n",
        "トレーニングデータで作成したモデルから, テストデータで予測する."
      ]
    },
    {
      "cell_type": "code",
      "execution_count": null,
      "id": "ca2841a8-6ce6-434f-ae13-1693dba65cf0",
      "metadata": {},
      "outputs": [],
      "source": [
        "test <- titanic_test |> \n",
        "  replace_with_na_all(condition = ~.x %in% c(\"NA\", \"\")) |> \n",
        "  tidyr::drop_na() |> \n",
        "  mutate_at(vars(Pclass, Sex, Embarked), as.factor) |> \n",
        "  broom::augment(x            = glm_logit2,\n",
        "                 newdata      = _,\n",
        "                 type.predict = \"response\") |> \n",
        "  mutate(survive = .fitted > 0.5)"
      ]
    },
    {
      "cell_type": "markdown",
      "id": "62c58c61-df5e-4b4f-ac22-f7557f6f47b8",
      "metadata": {},
      "source": [
        "### 多重代入法による欠測値の処理\n",
        "\n",
        "欠測値をバイアスをより少なく扱うためには, 多重代入法などを利用する.\n",
        "`mice`, `norm2`, `miceadds`パッケージを利用する."
      ]
    },
    {
      "cell_type": "code",
      "execution_count": null,
      "id": "0bdd44aa-f557-458d-939b-ebac35f54c94",
      "metadata": {},
      "outputs": [],
      "source": [
        "p_load(mice, norm2, miceadds)"
      ]
    },
    {
      "cell_type": "markdown",
      "id": "69aebd0c-4f11-4ce6-baf0-d7253a5b3cfd",
      "metadata": {},
      "source": [
        "### 多重代入法による結果の確認\n",
        "\n",
        "多重代入法の結果をpoolした上で確認する."
      ]
    },
    {
      "cell_type": "code",
      "execution_count": null,
      "id": "ca56144c-7097-4834-8603-25076932e071",
      "metadata": {},
      "outputs": [],
      "source": [
        "glm_logit_imp |> \n",
        "  pool() |> \n",
        "  summary()"
      ]
    },
    {
      "cell_type": "markdown",
      "id": "22f232e7-37c0-45c2-89a8-8acf0bb29a95",
      "metadata": {},
      "source": [
        "### 多重代入法(ロジスティック回帰モデル)を用いた予測と的中率\n",
        "\n",
        "利用したデータを用いた予測の結果, 79.3%が的中した."
      ]
    },
    {
      "cell_type": "code",
      "execution_count": null,
      "id": "28c77f2d-7993-43dc-92e0-50f043e8de62",
      "metadata": {},
      "outputs": [],
      "source": [
        "pooled_lm <-  glm_logit_imp$analyses[[1]]\n",
        "pooled_lm$coefficients <-  summary(pool(glm_logit_imp))$estimate\n",
        "train |> \n",
        "  mutate(predict = predict(pooled_lm, type = \"response\")) |> \n",
        "  mutate(survive = predict > 0.5) |> \n",
        "  perform(Survived, survive)"
      ]
    },
    {
      "cell_type": "markdown",
      "id": "d06f7790-375b-4e8c-8671-28e0a3346655",
      "metadata": {},
      "source": [
        "### テストデータを用いた多重代入法による予測\n",
        "\n",
        "正答率はkaggleにsubimitして確かめて見てください."
      ]
    },
    {
      "cell_type": "code",
      "execution_count": null,
      "id": "de229c87-4d6d-4a32-894a-9bc9b00a51f2",
      "metadata": {},
      "outputs": [],
      "source": [
        "test2 <- titanic_test |> \n",
        "  replace_with_na_all(condition = ~.x %in% c(\"NA\", \"\")) |> \n",
        "  mutate(across(c(Pclass, Sex, Embarked),\n",
        "                as.factor)) |> \n",
        "  select(Pclass, Sex, Age, SibSp, Parch, Fare, Embarked) |> \n",
        "  mice(m    = 100,\n",
        "       seed = 31415926,\n",
        "       meth = c(\"\", \"\", \"norm\", \"\", \"\", \"norm\", \"\")) |> \n",
        "  complete() %>%\n",
        "  mutate(predict = predict(pooled_lm,\n",
        "                           type    = \"response\", \n",
        "                           newdata = .)) |> \n",
        "  mutate(survive = predict > 0.5)"
      ]
    }
  ],
  "metadata": {
    "kernelspec": {
      "display_name": "Python 3",
      "language": "python",
      "name": "python3"
    }
  },
  "nbformat": 4,
  "nbformat_minor": 5
}
