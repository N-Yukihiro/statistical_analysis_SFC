{
  "cells": [
    {
      "cell_type": "markdown",
      "metadata": {},
      "source": [
        "# Hurdleモデル ゼロ過剰モデル\n",
        "\n",
        "### 今日使うデータ\n",
        "\n",
        "`AER`パッケージに含まれている`NMES1988`データを用いる.\n",
        "1987年から1988年に実施された米国全国医療費調査（NMES）. 対象は66歳以上."
      ],
      "id": "21bdd0f4-4469-420e-b688-746721fb240b"
    },
    {
      "cell_type": "code",
      "execution_count": null,
      "metadata": {},
      "outputs": [],
      "source": [
        "library(pacman)\n",
        "p_load(AER)\n",
        "data(\"NMES1988\")"
      ],
      "id": "8084182c-61d2-4a51-8641-2e7440f98332"
    },
    {
      "cell_type": "markdown",
      "metadata": {},
      "source": [
        "### 変数の説明\n",
        "\n",
        "`NMES1988`データの中には診療所(physician\n",
        "office)への訪問回数(`visits`)や入院日数(`hospital`),\n",
        "健康状態に対する自己認識(`health`)などが含まれている."
      ],
      "id": "2ea4a557-bcab-41aa-915c-f2a92fb6dc19"
    },
    {
      "cell_type": "code",
      "execution_count": null,
      "metadata": {},
      "outputs": [],
      "source": [
        "names(NMES1988)"
      ],
      "id": "b3e3d467-5665-46c9-9fb1-b1a6acdcfb78"
    },
    {
      "cell_type": "markdown",
      "metadata": {},
      "source": [
        "### データ構造の確認\n",
        "\n",
        "サンプルサイズは4406と比較的大きなデータとなっている.\n",
        "基本は整数値(integer)だが,\n",
        "値に文字が表示されるものは因子(factor)になっている."
      ],
      "id": "a12a0177-2047-4c67-b5a2-9c655efc4031"
    },
    {
      "cell_type": "code",
      "execution_count": null,
      "metadata": {},
      "outputs": [],
      "source": [
        "p_load(dplyr)\n",
        "glimpse(NMES1988)"
      ],
      "id": "32b8d3f0-a232-4077-b1b5-117db511cd50"
    },
    {
      "cell_type": "markdown",
      "metadata": {},
      "source": [
        "### データの要約統計量\n",
        "\n",
        "データの要約統計量を確認する."
      ],
      "id": "b753f2c2-6400-4052-b305-784eaf3427b4"
    },
    {
      "cell_type": "code",
      "execution_count": null,
      "metadata": {},
      "outputs": [],
      "source": [
        "summary(NMES1988)"
      ],
      "id": "4b47dcb5-9de3-4d0a-a1c1-8eddd77a599f"
    },
    {
      "cell_type": "markdown",
      "metadata": {},
      "source": [
        "### データの平均と分散\n",
        "\n",
        "`summarise()`関数を利用して平均と分散を計算する."
      ],
      "id": "9ee50958-8197-40f3-bffe-9bd93cdee64c"
    },
    {
      "cell_type": "code",
      "execution_count": null,
      "metadata": {},
      "outputs": [],
      "source": [
        "NMES1988 |> \n",
        "  summarise(mean  = mean(visits),\n",
        "            var   = var(visits),\n",
        "            ratio = var(visits) / mean(visits))"
      ],
      "id": "dd161880-e5d6-436b-ba56-29626a958c35"
    },
    {
      "cell_type": "markdown",
      "metadata": {},
      "source": [
        "### ヒストグラム\n",
        "\n",
        "データの概要をヒストグラムを描画して確認する."
      ],
      "id": "20bcaf8c-a709-4b7c-bea6-770c61a58f48"
    },
    {
      "cell_type": "code",
      "execution_count": null,
      "metadata": {},
      "outputs": [],
      "source": [
        "p_load(ggplot2)\n",
        "ggplot(NMES1988) +\n",
        "  aes(visits) +\n",
        "  geom_histogram()"
      ],
      "id": "05858c61-84d1-4c1d-bb7e-31bbfc283659"
    },
    {
      "cell_type": "markdown",
      "metadata": {},
      "source": [
        "### ペアプロット\n",
        "\n",
        "変数間の関係をペアプロットで確認する.\n",
        "`dplyr::select()`関数を利用してペアプロットをしたい変数に絞ってから行う."
      ],
      "id": "e89b895f-31cd-4a74-9c4d-975269400865"
    },
    {
      "cell_type": "code",
      "execution_count": null,
      "metadata": {},
      "outputs": [],
      "source": [
        "p_load(GGally)\n",
        "NMES1988 |> \n",
        "  dplyr::select(visits,\n",
        "                hospital,\n",
        "                health,\n",
        "                age, \n",
        "                income) |> \n",
        "  ggpairs()"
      ],
      "id": "f78189e4-4cb2-402c-b73f-5e5b14955316"
    },
    {
      "cell_type": "markdown",
      "metadata": {},
      "source": [
        "# モデル推定\n",
        "\n",
        "### ポアソン回帰モデルの推定\n",
        "\n",
        "まず, ポアソン回帰モデルを推定する."
      ],
      "id": "944d11ad-04ab-4725-b3c3-ed1ef673f641"
    },
    {
      "cell_type": "code",
      "execution_count": null,
      "metadata": {},
      "outputs": [],
      "source": [
        "formula <- formula(visits ~ hospital + health + chronic +\n",
        "                            adl + region + age + afam + \n",
        "                            gender + married + \n",
        "                            school + income + insurance)\n",
        "nmes_poi <- glm(formula, \n",
        "                data   = NMES1988, \n",
        "                family = poisson(link = \"log\"))"
      ],
      "id": "c995a61b-df85-4526-be81-b949a95569db"
    },
    {
      "cell_type": "markdown",
      "metadata": {},
      "source": [
        "### ポアソン回帰モデルの結果\n",
        "\n",
        "`jtools`パッケージの`summ()`関数を利用して結果を確認する."
      ],
      "id": "c98c6ba8-912c-4e23-8d58-b8ba4d7986d6"
    },
    {
      "cell_type": "code",
      "execution_count": null,
      "metadata": {},
      "outputs": [],
      "source": [
        "p_load(jtools)\n",
        "summ(nmes_poi)"
      ],
      "id": "4c5b3ec9-7ecb-4c85-86a6-0bd8b3a46dc8"
    },
    {
      "cell_type": "markdown",
      "metadata": {},
      "source": [
        "### 推定結果の確認(グラフ)\n",
        "\n",
        "推定された結果を散布図上に表示して確認する."
      ],
      "id": "7af23cb2-4fb4-4bf2-996a-145aaa87d302"
    },
    {
      "cell_type": "code",
      "execution_count": null,
      "metadata": {},
      "outputs": [],
      "source": [
        "NMES1988 |> \n",
        "  mutate(\n",
        "    predict = predict(nmes_poi,\n",
        "                      type = \"response\")) |> \n",
        "  ggplot() +\n",
        "  aes(x = visits,\n",
        "      y = predict) +\n",
        "  geom_point() +\n",
        "  geom_abline(slope     = 1, \n",
        "              intercept = 0, \n",
        "              linetype  = \"dashed\")"
      ],
      "id": "850e5a00-aae8-48c5-92f5-d7dae01af060"
    },
    {
      "cell_type": "markdown",
      "metadata": {},
      "source": [
        "### 負の二項分布モデルの推定\n",
        "\n",
        "まず, 負の二項分布モデルを推定する."
      ],
      "id": "d8952d95-088b-4f67-896f-cdfddf006f36"
    },
    {
      "cell_type": "code",
      "execution_count": null,
      "metadata": {},
      "outputs": [],
      "source": [
        "p_load(MASS)\n",
        "nmes_nb <- glm.nb(formula, \n",
        "                  data = NMES1988)"
      ],
      "id": "187f4d0b-fe60-445d-892b-a580d529d36d"
    },
    {
      "cell_type": "markdown",
      "metadata": {},
      "source": [
        "###"
      ],
      "id": "ffc7b053-acbc-4cdf-bcfa-7e852266c1ab"
    },
    {
      "cell_type": "code",
      "execution_count": null,
      "metadata": {},
      "outputs": [],
      "source": [
        "summ(nmes_nb)"
      ],
      "id": "5da6f0a7-77e7-43af-b74a-acdc95d91f1a"
    },
    {
      "cell_type": "markdown",
      "metadata": {},
      "source": [
        "### 推定結果の確認\n",
        "\n",
        "推定された結果を散布図上に表示して確認する."
      ],
      "id": "e28a5e37-a8bf-4ff2-a2b6-326ed300a93c"
    },
    {
      "cell_type": "code",
      "execution_count": null,
      "metadata": {},
      "outputs": [],
      "source": [
        "NMES1988 |> \n",
        "  mutate(\n",
        "    predict = predict(nmes_nb, \n",
        "                      type = \"response\")) |> \n",
        "  ggplot() +\n",
        "  aes(x = visits,\n",
        "      y = predict) +\n",
        "  geom_point() +\n",
        "  geom_abline(slope     = 1,\n",
        "              intercept = 0,\n",
        "              linetype  = \"dashed\")"
      ],
      "id": "fecfdfb5-65ea-4f76-b221-cec3a9b018a9"
    },
    {
      "cell_type": "markdown",
      "metadata": {},
      "source": [
        "### ハードルポアソン回帰モデルの推定\n",
        "\n",
        "まず, ハードルポアソン回帰モデルを推定する.\n",
        "ハードルポアソン回帰を行うには`pscl`パッケージの`hurdle()`関数を利用する."
      ],
      "id": "bd67f264-66d3-44e7-8f42-c00f69e0f485"
    },
    {
      "cell_type": "code",
      "execution_count": null,
      "metadata": {},
      "outputs": [],
      "source": [
        "p_load(pscl)\n",
        "nmes_hpoi <- hurdle(formula, \n",
        "                    data      = NMES1988,\n",
        "                    dist      = \"poisson\", \n",
        "                    zero.dist = \"binomial\")"
      ],
      "id": "dcd85082-0aeb-4b0b-aaad-093e584ea629"
    },
    {
      "cell_type": "markdown",
      "metadata": {},
      "source": [
        "### ハードルポアソン回帰モデルの結果\n",
        "\n",
        "`summary()`関数を利用して結果を確認する."
      ],
      "id": "40b96738-d8e6-4b0a-9654-1413eaa5970f"
    },
    {
      "cell_type": "code",
      "execution_count": null,
      "metadata": {},
      "outputs": [],
      "source": [
        "summary(nmes_hpoi)"
      ],
      "id": "d0c7915b-06c1-4e4d-9b0f-d8bdcec5cc64"
    },
    {
      "cell_type": "markdown",
      "metadata": {},
      "source": [
        "### ハードルポアソン回帰モデルの結果\n",
        "\n",
        "`jtools`パッケージではハードルモデルを扱えないため,\n",
        "`stargazer`パッケージを利用する."
      ],
      "id": "ed3ba9d4-0e99-4e6c-ae8f-ea18cd042b8f"
    },
    {
      "cell_type": "code",
      "execution_count": null,
      "metadata": {},
      "outputs": [],
      "source": [
        "p_load(stargazer)\n",
        "stargazer(nmes_hpoi, \n",
        "          type              = \"text\", \n",
        "          style             = \"all2\",\n",
        "          ci                = TRUE,\n",
        "          star.cutoffs      = NA,\n",
        "          omit.table.layout = 'n',\n",
        "          align             = TRUE)"
      ],
      "id": "b85bd636-913d-4f59-9d28-ec0f127082cb"
    },
    {
      "cell_type": "markdown",
      "metadata": {},
      "source": [
        "### 推定結果の確認\n",
        "\n",
        "推定された結果を散布図上に表示して確認する."
      ],
      "id": "1a1498a7-ccbd-4799-be90-927a19b98077"
    },
    {
      "cell_type": "code",
      "execution_count": null,
      "metadata": {},
      "outputs": [],
      "source": [
        "NMES1988 |> \n",
        "  mutate(\n",
        "    predict = predict(nmes_hpoi, \n",
        "                      type = \"response\")) |> \n",
        "  ggplot() +\n",
        "  aes(x = visits,\n",
        "      y = predict) +\n",
        "  geom_point() +\n",
        "  geom_abline(slope     = 1,\n",
        "              intercept = 0, \n",
        "              linetype  = \"dashed\")"
      ],
      "id": "b61b3b84-f7a7-4c7b-8461-718e9e25b8d7"
    },
    {
      "cell_type": "markdown",
      "metadata": {},
      "source": [
        "### ハードル負の二項分布モデルの推定\n",
        "\n",
        "まず, ハードル負の二項分布モデルを推定する. 引数で`dist = \"negbin\"`,\n",
        "`zero.dist = \"binomial\"`と指定する."
      ],
      "id": "5379683b-2a1c-4f04-8aaa-f66e9e6bfcb1"
    },
    {
      "cell_type": "code",
      "execution_count": null,
      "metadata": {},
      "outputs": [],
      "source": [
        "nmes_hnb <- hurdle(formula, \n",
        "                   data      = NMES1988,\n",
        "                   dist      = \"negbin\", \n",
        "                   zero.dist = \"binomial\")"
      ],
      "id": "63358180-a8f1-4ace-8282-61afb8977579"
    },
    {
      "cell_type": "markdown",
      "metadata": {},
      "source": [
        "### ハードル負の二項分布モデルの結果\n",
        "\n",
        "`summary()`関数を利用して結果を確認する."
      ],
      "id": "4f9106a3-766c-4b34-a42d-c7fceff7380b"
    },
    {
      "cell_type": "code",
      "execution_count": null,
      "metadata": {},
      "outputs": [],
      "source": [
        "summary(nmes_hnb)"
      ],
      "id": "1c50209f-20e6-44a0-a444-6213c12ce0c5"
    },
    {
      "cell_type": "markdown",
      "metadata": {},
      "source": [
        "### ハードル負の二項分布モデルの結果"
      ],
      "id": "67a6e24d-6f99-4543-836c-5c8dddcf1e92"
    },
    {
      "cell_type": "code",
      "execution_count": null,
      "metadata": {},
      "outputs": [],
      "source": [
        "stargazer(nmes_hnb, \n",
        "          type              = \"text\", \n",
        "          style             = \"all2\",\n",
        "          ci                = TRUE,\n",
        "          star.cutoffs      = NA,\n",
        "          omit.table.layout = 'n',\n",
        "          align             = TRUE)"
      ],
      "id": "cf02ff10-5a81-4418-9908-d955ed04b4c0"
    },
    {
      "cell_type": "markdown",
      "metadata": {},
      "source": [
        "### 推定結果の確認\n",
        "\n",
        "推定された結果を散布図上に表示して確認する."
      ],
      "id": "005a87af-1f22-4afa-89a1-f8536e66e166"
    },
    {
      "cell_type": "code",
      "execution_count": null,
      "metadata": {},
      "outputs": [],
      "source": [
        "NMES1988 |> \n",
        "  mutate(\n",
        "    predict = predict(nmes_hnb,\n",
        "                      type = \"response\")) |> \n",
        "  ggplot() +\n",
        "  aes(x = visits,\n",
        "      y = predict) +\n",
        "  geom_point() +\n",
        "  geom_abline(slope     = 1,\n",
        "              intercept = 0,\n",
        "              linetype  = \"dashed\")"
      ],
      "id": "57a5cf3f-b788-4448-88fd-72cee23f726c"
    },
    {
      "cell_type": "markdown",
      "metadata": {},
      "source": [
        "### ゼロ過剰ポアソン回帰モデルの推定\n",
        "\n",
        "まず, ゼロ過剰ポアソン回帰モデルを推定する.\n",
        "同じく`pscl`パッケージの`zeroinfl()`関数を利用する.\n",
        "引数で`dist = \"poisson\"`と指定すればゼロ過剰ポアソンとなる."
      ],
      "id": "f5d15342-63d6-49c5-92f7-22c5745fe64b"
    },
    {
      "cell_type": "code",
      "execution_count": null,
      "metadata": {},
      "outputs": [],
      "source": [
        "nmes_zip <- zeroinfl(formula, \n",
        "                     data = NMES1988,\n",
        "                     dist = \"poisson\")"
      ],
      "id": "9be169a7-2fc6-47f6-b81b-83a7a14f78bb"
    },
    {
      "cell_type": "markdown",
      "metadata": {},
      "source": [
        "### ゼロ過剰ポアソン回帰モデルの結果\n",
        "\n",
        "`summary()`関数を利用して結果を確認する."
      ],
      "id": "e360178a-b28c-4e45-a016-c1b09774143a"
    },
    {
      "cell_type": "code",
      "execution_count": null,
      "metadata": {},
      "outputs": [],
      "source": [
        "summary(nmes_zip)"
      ],
      "id": "5c381ddb-c6b9-4001-b90d-4531a58e8b7e"
    },
    {
      "cell_type": "markdown",
      "metadata": {},
      "source": [
        "### ゼロ過剰ポアソン回帰モデルの結果"
      ],
      "id": "1a3c9e9d-b18f-4671-b8f3-50781972fd70"
    },
    {
      "cell_type": "code",
      "execution_count": null,
      "metadata": {},
      "outputs": [],
      "source": [
        "stargazer(nmes_zip,\n",
        "          type              = \"text\", \n",
        "          style             = \"all2\",\n",
        "          ci                = TRUE,\n",
        "          star.cutoffs      = NA,\n",
        "          omit.table.layout = 'n',\n",
        "          align             = TRUE)"
      ],
      "id": "0fd20962-0d58-4e20-a214-e1a24c7f6e13"
    },
    {
      "cell_type": "markdown",
      "metadata": {},
      "source": [
        "### 推定結果の確認\n",
        "\n",
        "推定された結果を散布図上に表示して確認する."
      ],
      "id": "500cb74f-e64b-4709-b9be-24d05970e30a"
    },
    {
      "cell_type": "code",
      "execution_count": null,
      "metadata": {},
      "outputs": [],
      "source": [
        "NMES1988 |> \n",
        "  mutate(\n",
        "    predict = predict(nmes_zip,\n",
        "                      type = \"response\")) |> \n",
        "  ggplot() +\n",
        "  aes(x = visits,\n",
        "      y = predict) +\n",
        "  geom_point() +\n",
        "  geom_abline(slope     = 1, \n",
        "              intercept = 0, \n",
        "              linetype  = \"dashed\")"
      ],
      "id": "2372f0df-db9a-47b8-81f2-ffa7d7e3fd9f"
    },
    {
      "cell_type": "markdown",
      "metadata": {},
      "source": [
        "### ゼロ過剰負の二項分布モデルの推定\n",
        "\n",
        "まず, ゼロ過剰負の二項分布モデルを推定する."
      ],
      "id": "67522700-332f-4d4b-a4cd-fcb106faa585"
    },
    {
      "cell_type": "code",
      "execution_count": null,
      "metadata": {},
      "outputs": [],
      "source": [
        "nmes_zinb <- zeroinfl(formula, \n",
        "                      data = NMES1988,\n",
        "                      dist = \"negbin\")"
      ],
      "id": "6b35c5c1-0068-47a2-b5c3-5b2fc3f4c9c5"
    },
    {
      "cell_type": "markdown",
      "metadata": {},
      "source": [
        "### ゼロ過剰負の二項分布モデルの結果\n",
        "\n",
        "`summary()`関数を利用して結果を確認する."
      ],
      "id": "146028c2-5771-4894-98bc-a0dfe5c92f19"
    },
    {
      "cell_type": "code",
      "execution_count": null,
      "metadata": {},
      "outputs": [],
      "source": [
        "summary(nmes_zinb)"
      ],
      "id": "8fa053ce-7bb3-4b6b-9d5c-ae035874e529"
    },
    {
      "cell_type": "markdown",
      "metadata": {},
      "source": [
        "### ゼロ過剰負の二項分布モデルの結果"
      ],
      "id": "e187af92-1f67-460f-b665-5c9419191d80"
    },
    {
      "cell_type": "code",
      "execution_count": null,
      "metadata": {},
      "outputs": [],
      "source": [
        "stargazer(nmes_zinb, \n",
        "          type              = \"text\", \n",
        "          style             = \"all2\",\n",
        "          ci                = TRUE,\n",
        "          star.cutoffs      = NA,\n",
        "          omit.table.layout = 'n',\n",
        "          align             = TRUE)"
      ],
      "id": "fd6fdcad-1cc3-453e-a509-3fb8a4c44773"
    },
    {
      "cell_type": "markdown",
      "metadata": {},
      "source": [
        "### 推定結果の確認\n",
        "\n",
        "推定された結果を散布図上に表示して確認する."
      ],
      "id": "8361e6d4-1493-408e-b783-9123b002dd20"
    },
    {
      "cell_type": "code",
      "execution_count": null,
      "metadata": {},
      "outputs": [],
      "source": [
        "NMES1988 |> \n",
        "  mutate(\n",
        "    predict = predict(nmes_zinb, \n",
        "                      type = \"response\")) |> \n",
        "  ggplot() +\n",
        "  aes(x = visits,\n",
        "      y = predict) +\n",
        "  geom_point() +\n",
        "  geom_abline(slope     = 1, \n",
        "              intercept = 0, \n",
        "              linetype  = \"dashed\")"
      ],
      "id": "638ab813-076b-4d75-b3f1-de3d8dd3e680"
    },
    {
      "cell_type": "markdown",
      "metadata": {},
      "source": [
        "# モデル比較\n",
        "\n",
        "### 表による比較"
      ],
      "id": "3ff6a5f7-ebf7-4224-b0bf-a30a5cb24dec"
    },
    {
      "cell_type": "code",
      "execution_count": null,
      "metadata": {},
      "outputs": [],
      "source": [
        "stargazer(nmes_poi,  nmes_nb, \n",
        "          nmes_hpoi, nmes_hnb,\n",
        "          nmes_zip,  nmes_zinb, \n",
        "          type              = \"text\", \n",
        "          style             = \"all2\",\n",
        "          ci                = TRUE,\n",
        "          star.cutoffs      = NA,\n",
        "          omit.table.layout = 'n',\n",
        "          align             = TRUE)"
      ],
      "id": "38fbb6dc-9840-4de5-b58f-a8d7c940da44"
    }
  ],
  "nbformat": 4,
  "nbformat_minor": 5,
  "metadata": {
    "kernelspec": {
      "display_name": "Python 3",
      "language": "python",
      "name": "python3"
    }
  }
}