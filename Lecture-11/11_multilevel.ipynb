{
  "cells": [
    {
      "cell_type": "markdown",
      "metadata": {},
      "source": [
        "# マルチレベルモデル\n",
        "\n",
        "### 今日使うデータ\n",
        "\n",
        "首都圏の市町村別住宅地地価のデータを用いる.\n",
        "[ここ](http://web.sfc.keio.ac.jp/~maunz/BS19/data/lph.csv)\n",
        "からダウンロードする. LPH(住宅地地価(万円 / $m^2$),\n",
        "POPD(常住人口密度(千人 / $km^2$)), EMP3D(第三次産業従業人口(千人 /\n",
        "$km^2$)), AREA(都県名)などから成る."
      ],
      "id": "52659937-d271-4afb-9855-40158ff55c7f"
    },
    {
      "cell_type": "code",
      "execution_count": null,
      "metadata": {},
      "outputs": [],
      "source": [
        "library(pacman)\n",
        "p_load(here, readr)\n",
        "lph <- readr::read_csv(\"../data/lph.csv\")"
      ],
      "id": "7cdb8ce2-cee6-4d41-ad48-ed4eb99d2a83"
    },
    {
      "cell_type": "markdown",
      "metadata": {},
      "source": [
        "### データ構造\n",
        "\n",
        "データ構造を確認する."
      ],
      "id": "74ffa004-9745-4cc2-8869-0e185f2653f0"
    },
    {
      "cell_type": "code",
      "execution_count": null,
      "metadata": {},
      "outputs": [],
      "source": [
        "p_load(dplyr)\n",
        "glimpse(lph)"
      ],
      "id": "e0107311-b456-41ae-add1-3278b3b48c06"
    },
    {
      "cell_type": "markdown",
      "metadata": {},
      "source": [
        "### 記述統計\n",
        "\n",
        "記述統計を確認する."
      ],
      "id": "1cd89882-408c-4db4-8d19-0d32a7c01ac9"
    },
    {
      "cell_type": "code",
      "execution_count": null,
      "metadata": {},
      "outputs": [],
      "source": [
        "summary(lph)"
      ],
      "id": "4545aea9-02ff-4746-b954-82f826d5ffff"
    },
    {
      "cell_type": "markdown",
      "metadata": {},
      "source": [
        "### ヒストグラム\n",
        "\n",
        "データの概要をヒストグラムを描画して確認する."
      ],
      "id": "0aee15c2-218d-4ccc-87ac-9e8e0d7a9f79"
    },
    {
      "cell_type": "code",
      "execution_count": null,
      "metadata": {},
      "outputs": [],
      "source": [
        "p_load(ggplot2)\n",
        "ggplot(lph) +\n",
        "  aes(x = LPH) +\n",
        "  geom_histogram()"
      ],
      "id": "ae44bb33-2e3b-4816-a9d7-6025d717f9a0"
    },
    {
      "cell_type": "markdown",
      "metadata": {},
      "source": [
        "### 散布図\n",
        "\n",
        "変数間の関係をペアプロットで確認する."
      ],
      "id": "fdacea09-0193-4614-9a10-6ad456decf6e"
    },
    {
      "cell_type": "code",
      "execution_count": null,
      "metadata": {},
      "outputs": [],
      "source": [
        "p_load(GGally)\n",
        "lph |> \n",
        "  select(LPH, POPD, EMP3D) |> \n",
        "  ggpairs()"
      ],
      "id": "2d911a18-0573-4f3f-af40-ffcbe7c5b3c9"
    },
    {
      "cell_type": "markdown",
      "metadata": {},
      "source": [
        "### 地域ごとの散布図\n",
        "\n",
        "地域ごとに散布図と回帰直線を描く."
      ],
      "id": "c46c8c5e-5a90-464a-bf41-692722043395"
    },
    {
      "cell_type": "code",
      "execution_count": null,
      "metadata": {},
      "outputs": [],
      "source": [
        "lph |> \n",
        "  ggplot() +\n",
        "  aes(x      = EMP3D,\n",
        "      y      = LPH,\n",
        "      colour = AREA) +\n",
        "  geom_point() +\n",
        "  geom_smooth(method = \"lm\", \n",
        "              se     = FALSE)"
      ],
      "id": "fb3d0c8b-2c1e-4c5f-97cd-1e40729665a3"
    },
    {
      "cell_type": "markdown",
      "metadata": {},
      "source": [
        "###"
      ],
      "id": "25337cc9-c871-449f-a77d-68bcead2c7e3"
    },
    {
      "cell_type": "code",
      "execution_count": null,
      "metadata": {},
      "outputs": [],
      "source": [
        "lph |> \n",
        "  ggplot() +\n",
        "  aes(x = EMP3D,\n",
        "      y = LPH) +\n",
        "  geom_point() +\n",
        "  geom_smooth(method = \"lm\") +\n",
        "  facet_wrap(~AREA, \n",
        "             scales = \"free\")"
      ],
      "id": "2709ab00-036c-430f-b8a6-8bc4365507d9"
    },
    {
      "cell_type": "markdown",
      "metadata": {},
      "source": [
        "# Linear Model\n",
        "\n",
        "### 線形回帰による推計\n",
        "\n",
        "まずは, 最小二乗法によって線形回帰を行う."
      ],
      "id": "b5249adc-24fa-4617-9a94-9aade2f8d171"
    },
    {
      "cell_type": "code",
      "execution_count": null,
      "metadata": {},
      "outputs": [],
      "source": [
        "lph_lm1 <- lm(LPH ~ POPD + EMP3D, \n",
        "              data = lph)\n",
        "lph_lm2 <- lm(LPH ~ POPD, \n",
        "              data = lph)\n",
        "lph_lm3 <- lm(LPH ~ EMP3D,\n",
        "              data = lph)"
      ],
      "id": "c97769a6-0148-4d18-9952-359c30efb1bc"
    },
    {
      "cell_type": "markdown",
      "metadata": {},
      "source": [
        "### 結果の確認\n",
        "\n",
        "`stargazer::stargazer()`関数を利用して3つのモデルを比較する."
      ],
      "id": "d5a34c30-32d4-4418-9a67-78fc2b3c2792"
    },
    {
      "cell_type": "code",
      "execution_count": null,
      "metadata": {},
      "outputs": [],
      "source": [
        "p_load(stargazer)\n",
        "stargazer(lph_lm1, lph_lm2, lph_lm3,\n",
        "          type              = \"text\",\n",
        "          style             = \"all\",\n",
        "          star.cutoffs      = NA,\n",
        "          omit.table.layout = 'n',\n",
        "          ci                = TRUE,\n",
        "          align             = TRUE)"
      ],
      "id": "27fc2b19-4a2e-4f39-a989-928bc37814ef"
    },
    {
      "cell_type": "markdown",
      "metadata": {},
      "source": [
        "### 回帰係数の図示\n",
        "\n",
        "`coefplot::coefplot()`関数を利用して回帰係数を図示する."
      ],
      "id": "fbd91e18-ee9a-475d-b4be-632e58f62f73"
    },
    {
      "cell_type": "code",
      "execution_count": null,
      "metadata": {},
      "outputs": [],
      "source": [
        "p_load(coefplot)\n",
        "coefplot::coefplot(lph_lm1,\n",
        "                   lph_lm2,\n",
        "                   lph_lm3)"
      ],
      "id": "46f44d7a-c28a-4e7b-a19e-e1288dc73924"
    },
    {
      "cell_type": "markdown",
      "metadata": {},
      "source": [
        "### ANOVAによるモデル比較\n",
        "\n",
        "ANOVAによってモデルを比較する."
      ],
      "id": "305f494c-5344-4aee-abe7-f401b78baaaa"
    },
    {
      "cell_type": "code",
      "execution_count": null,
      "metadata": {},
      "outputs": [],
      "source": [
        "anova(lph_lm1, lph_lm2, lph_lm3)"
      ],
      "id": "96e75841-6450-432a-872d-3f9be7f9b27f"
    },
    {
      "cell_type": "markdown",
      "metadata": {},
      "source": [
        "### AICによるモデル比較\n",
        "\n",
        "AICによってモデルを比較する."
      ],
      "id": "e302e519-b3b3-429b-a090-c9b10e17fb2e"
    },
    {
      "cell_type": "code",
      "execution_count": null,
      "metadata": {},
      "outputs": [],
      "source": [
        "AIC(lph_lm1, lph_lm2, lph_lm3)"
      ],
      "id": "95620299-e17b-41c2-be74-ba3805157767"
    },
    {
      "cell_type": "markdown",
      "metadata": {},
      "source": [
        "### BICによるモデル比較\n",
        "\n",
        "BICによってモデルを比較する."
      ],
      "id": "a8137487-5751-4877-9ebd-d41428b81414"
    },
    {
      "cell_type": "code",
      "execution_count": null,
      "metadata": {},
      "outputs": [],
      "source": [
        "BIC(lph_lm1, lph_lm2, lph_lm3)"
      ],
      "id": "5c40d2b6-10e0-4690-8669-660975743691"
    },
    {
      "cell_type": "markdown",
      "metadata": {},
      "source": [
        "### モデル1の予測精度を図示\n",
        "\n",
        "推定された結果を散布図上に表示して確認する."
      ],
      "id": "8b766a29-c2b6-4d6d-94a3-a95ef83fdb8f"
    },
    {
      "cell_type": "code",
      "execution_count": null,
      "metadata": {},
      "outputs": [],
      "source": [
        "lph |> \n",
        "  mutate(\n",
        "    predict = predict(lph_lm1,\n",
        "                      type = \"response\")) |> \n",
        "  ggplot() +\n",
        "  aes(x = LPH,\n",
        "      y = predict) +\n",
        "  geom_point() +\n",
        "  geom_abline(slope     = 1, \n",
        "              intercept = 0, \n",
        "              linetype  = \"dashed\")"
      ],
      "id": "456f59c8-3f2a-4760-b13b-f38d5519c7e8"
    },
    {
      "cell_type": "markdown",
      "metadata": {},
      "source": [
        "### マルチレベルモデルにより近づけた線形回帰モデル\n",
        "\n",
        "地域ごとに異なる切片,\n",
        "異なる回帰係数を求めるには交互作用項を利用しても良い.\n",
        "交互作用項を利用するには, 変数を`+`ではなく`*`でつなぐ.\n",
        "一般的に連続変数は平均が0になるように中心化する.\n",
        "地域ごとの係数は算出できるが, その平均や分散はわからない.\n",
        "等分散性の仮定は外れない."
      ],
      "id": "c4fc1d24-c1a2-484a-8062-247a951ce6ec"
    },
    {
      "cell_type": "code",
      "execution_count": null,
      "metadata": {},
      "outputs": [],
      "source": [
        "lph_c <- lph |> \n",
        "  mutate(POPD_c  = POPD  - mean(POPD),\n",
        "         EMP3D_c = EMP3D - mean(EMP3D))\n",
        "lph_inter <- lm(LPH ~ AREA * POPD_c + AREA * EMP3D_c,\n",
        "                data = lph_c)\n",
        "p_load(jtools)\n",
        "summ(lph_inter)"
      ],
      "id": "5c517ccd-812d-4766-b800-74fc16c0adb5"
    },
    {
      "cell_type": "markdown",
      "metadata": {},
      "source": [
        "### 交互作用項を利用したモデルの予測精度を図示\n",
        "\n",
        "推定された結果を散布図上に表示して確認する."
      ],
      "id": "cefd203e-0d1b-492e-86ac-031db66f0fe5"
    },
    {
      "cell_type": "code",
      "execution_count": null,
      "metadata": {},
      "outputs": [],
      "source": [
        "lph |> \n",
        "  mutate(\n",
        "    predict = predict(lph_inter,\n",
        "                      type = \"response\")) |> \n",
        "  ggplot() +\n",
        "  aes(x = LPH,\n",
        "      y = predict) +\n",
        "  geom_point() +\n",
        "  geom_abline(slope     = 1, \n",
        "              intercept = 0, \n",
        "              linetype  = \"dashed\")"
      ],
      "id": "fea065a3-3ec4-4be4-886c-5e448cdbc3d0"
    },
    {
      "cell_type": "markdown",
      "metadata": {},
      "source": [
        "# Multi-Level Model\n",
        "\n",
        "### マルチレベルモデル\n",
        "\n",
        "マルチレベルモデルを実行するには`lmer()`関数を利用する.\n",
        "`lme4`パッケージにも含まれるが、　`lmerTest`パッケージの`lmer`を利用すると検定まで行ってくれる.\n",
        "\n",
        "通常の説明変数に追加すると固定効果を,\n",
        "`(variables | Groups)`に追加するとランダム効果を推定する.\n",
        "`1`は切片を表す.\n",
        "ここでは、都県(及び政令市)毎にランダムなモデルを推定する.\n",
        "マルチレベルの種類は主に以下3つ.\n",
        "\n",
        "1.  傾きが固定で切片がランダムなモデル\n",
        "2.  傾きがランダムで切片が固定されたモデル\n",
        "3.  傾きと切片がランダムなモデル\n",
        "\n",
        "### 傾きが固定で切片がランダムなモデル\n",
        "\n",
        "傾きが固定で切片がランダムなモデルを推定するには,\n",
        "説明変数に`(1 | Group)`を追加する. 説明変数に`-1`を追加しないと,\n",
        "切片の平均が0となる."
      ],
      "id": "355dafa8-3120-41f8-8329-5b93e6886ed6"
    },
    {
      "cell_type": "code",
      "execution_count": null,
      "metadata": {},
      "outputs": [],
      "source": [
        "p_load(lmerTest)\n",
        "lph_lme1_1 <- lmer(LPH ~ POPD + EMP3D \n",
        "                         + (1 | AREA),\n",
        "                   data = lph)\n",
        "lph_lme1_2 <- lmer(LPH ~ -1 + POPD + EMP3D \n",
        "                         + (1 | AREA),\n",
        "                   data = lph)"
      ],
      "id": "883353b4-d82d-405d-a0e2-a6b4a189d24d"
    },
    {
      "cell_type": "markdown",
      "metadata": {},
      "source": [
        "###"
      ],
      "id": "8ae87525-2fba-4af9-b517-0b7d8edc6a1e"
    },
    {
      "cell_type": "code",
      "execution_count": null,
      "metadata": {},
      "outputs": [],
      "source": [
        "p_load(jtools)\n",
        "summ(lph_lme1_1)"
      ],
      "id": "cd062583-2a71-4463-83df-cadf4500c428"
    },
    {
      "cell_type": "markdown",
      "metadata": {},
      "source": [
        "###"
      ],
      "id": "faaa3268-9598-451b-97cb-ed0b67acb58d"
    },
    {
      "cell_type": "code",
      "execution_count": null,
      "metadata": {},
      "outputs": [],
      "source": [
        "ranef(lph_lme1_1)"
      ],
      "id": "37b1c5e5-9323-4427-88e9-0687ddf2b57e"
    },
    {
      "cell_type": "code",
      "execution_count": null,
      "metadata": {},
      "outputs": [],
      "source": [
        "p_load(magrittr)\n",
        "ranef(lph_lme1_1)$AREA |>\n",
        "  summary()"
      ],
      "id": "d79553d2-80a7-4f8a-a404-e84a0971a5f6"
    },
    {
      "cell_type": "markdown",
      "metadata": {},
      "source": [
        "###"
      ],
      "id": "9a98b459-5018-460e-b80b-7db52fd54292"
    },
    {
      "cell_type": "code",
      "execution_count": null,
      "metadata": {},
      "outputs": [],
      "source": [
        "jtools::summ(lph_lme1_2)"
      ],
      "id": "ca64d021-4e2a-4895-b86e-bc226d7903c6"
    },
    {
      "cell_type": "markdown",
      "metadata": {},
      "source": [
        "###"
      ],
      "id": "93ad9f1e-1a30-42ca-811e-c888d974cd7b"
    },
    {
      "cell_type": "code",
      "execution_count": null,
      "metadata": {},
      "outputs": [],
      "source": [
        "ranef(lph_lme1_2)"
      ],
      "id": "c93c843f-3168-46ba-81b4-a5c5a32c6f3d"
    },
    {
      "cell_type": "markdown",
      "metadata": {},
      "source": [
        "### 傾きがランダムで切片が固定されたモデル\n",
        "\n",
        "傾きがランダムで切片が固定されたモデルを推定するには,\n",
        "説明変数に`(-1 + variables | Group)`を追加する.\n",
        "固定効果とランダム効果の双方を推定するとランダム効果は平均が0となる."
      ],
      "id": "a649c619-45a2-4df9-aef3-672d474d8bee"
    },
    {
      "cell_type": "code",
      "execution_count": null,
      "metadata": {},
      "outputs": [],
      "source": [
        "lph_lme2_1 <- lmer(LPH ~ (-1 + POPD + EMP3D | AREA),\n",
        "                   data = lph)\n",
        "lph_lme2_2 <- lmer(LPH ~ POPD + EMP3D \n",
        "                         + (-1 + POPD + EMP3D | AREA),\n",
        "                   data = lph)"
      ],
      "id": "61b156a8-1e54-42ae-8266-493d4ffae268"
    },
    {
      "cell_type": "markdown",
      "metadata": {},
      "source": [
        "###"
      ],
      "id": "0083bea4-bee4-447b-87a0-5af74ddb0553"
    },
    {
      "cell_type": "code",
      "execution_count": null,
      "metadata": {},
      "outputs": [],
      "source": [
        "jtools::summ(lph_lme2_1)"
      ],
      "id": "88c3aa2e-fa30-4612-82e5-30bc83ee76f5"
    },
    {
      "cell_type": "markdown",
      "metadata": {},
      "source": [
        "###"
      ],
      "id": "6d208b4e-4d8a-4097-a91b-b05ad22fd9c2"
    },
    {
      "cell_type": "code",
      "execution_count": null,
      "metadata": {},
      "outputs": [],
      "source": [
        "ranef(lph_lme2_1)"
      ],
      "id": "c4fa9f81-934b-461c-844c-19733d32a6ae"
    },
    {
      "cell_type": "markdown",
      "metadata": {},
      "source": [
        "###"
      ],
      "id": "c1d0be21-5bfc-475c-8677-9614d9fe05ee"
    },
    {
      "cell_type": "code",
      "execution_count": null,
      "metadata": {},
      "outputs": [],
      "source": [
        "ranef(lph_lme2_1)$AREA |>\n",
        "  summary()"
      ],
      "id": "ec1b7ccc-348e-4367-8f8a-6e20b1740716"
    },
    {
      "cell_type": "markdown",
      "metadata": {},
      "source": [
        "###"
      ],
      "id": "8b74b18c-1891-42c1-ab2e-c0db1e803cb5"
    },
    {
      "cell_type": "code",
      "execution_count": null,
      "metadata": {},
      "outputs": [],
      "source": [
        "jtools::summ(lph_lme2_2)"
      ],
      "id": "e3964cc0-827a-465d-ba7e-c3f84cafee5a"
    },
    {
      "cell_type": "markdown",
      "metadata": {},
      "source": [
        "###"
      ],
      "id": "846b3c2a-9c24-4a05-9bf4-50f354204f83"
    },
    {
      "cell_type": "code",
      "execution_count": null,
      "metadata": {},
      "outputs": [],
      "source": [
        "ranef(lph_lme2_2)"
      ],
      "id": "bc9f3f6c-77dd-4d38-a9f7-7f84b5afd1ef"
    },
    {
      "cell_type": "markdown",
      "metadata": {},
      "source": [
        "### 傾きと切片がランダムなモデル\n",
        "\n",
        "傾きと切片がランダムなモデルを推定するには,\n",
        "説明変数に`(variables | Group)`を追加する.\n",
        "固定効果とランダム効果の双方を推定するとランダム効果は平均が0となる."
      ],
      "id": "57991585-5884-4ae5-beb8-a4323a41ed8b"
    },
    {
      "cell_type": "code",
      "execution_count": null,
      "metadata": {},
      "outputs": [],
      "source": [
        "lph_lme3_1 <- lmer(LPH ~ (POPD + EMP3D | AREA),\n",
        "                   data = lph)\n",
        "lph_lme3_2 <- lmer(LPH ~ POPD + EMP3D \n",
        "                   + (POPD + EMP3D | AREA),\n",
        "                   data = lph)"
      ],
      "id": "4b3f47d8-3b3b-4761-83e3-62853877ff73"
    },
    {
      "cell_type": "markdown",
      "metadata": {},
      "source": [
        "###"
      ],
      "id": "bc61905e-319c-4666-ba76-3d0ab910cbcf"
    },
    {
      "cell_type": "code",
      "execution_count": null,
      "metadata": {},
      "outputs": [],
      "source": [
        "jtools::summ(lph_lme3_1)"
      ],
      "id": "d9ee7d22-47d5-4cdb-9b33-e293aa20c443"
    },
    {
      "cell_type": "markdown",
      "metadata": {},
      "source": [
        "###"
      ],
      "id": "c28e0d91-81f0-444d-ac65-e200516d5c84"
    },
    {
      "cell_type": "code",
      "execution_count": null,
      "metadata": {},
      "outputs": [],
      "source": [
        "ranef(lph_lme3_1)$AREA |> \n",
        "  summary()"
      ],
      "id": "148dfd57-5af5-4cf9-a49f-954cb98677ff"
    },
    {
      "cell_type": "markdown",
      "metadata": {},
      "source": [
        "###"
      ],
      "id": "56397bb1-a424-4e7b-9c2c-93c1bed6702e"
    },
    {
      "cell_type": "code",
      "execution_count": null,
      "metadata": {},
      "outputs": [],
      "source": [
        "jtools::summ(lph_lme3_2)"
      ],
      "id": "556c5668-2d37-4376-ba3f-5c140e7dfa9e"
    },
    {
      "cell_type": "markdown",
      "metadata": {},
      "source": [
        "###"
      ],
      "id": "14340965-52bf-4702-8917-8e5c9dfdcb32"
    },
    {
      "cell_type": "code",
      "execution_count": null,
      "metadata": {},
      "outputs": [],
      "source": [
        "ranef(lph_lme3_2)"
      ],
      "id": "d5e4f395-5524-40b8-9ba6-79e6a7020d62"
    },
    {
      "cell_type": "markdown",
      "metadata": {},
      "source": [
        "### モデル比較\n",
        "\n",
        "anovaによってモデルを比較する."
      ],
      "id": "ef987c9d-ba59-4dbb-b28e-ddb53ae4d499"
    },
    {
      "cell_type": "code",
      "execution_count": null,
      "metadata": {},
      "outputs": [],
      "source": [
        "anova(lph_lme1_1, lph_lme1_2, \n",
        "      lph_lme2_1, lph_lme2_2,\n",
        "      lph_lme3_1, lph_lme3_2)"
      ],
      "id": "e7c1f8cf-f207-4f61-9c92-5e829f19ab0f"
    },
    {
      "cell_type": "markdown",
      "metadata": {},
      "source": [
        "### AIC\n",
        "\n",
        "AICによってモデルを比較する."
      ],
      "id": "74b60da2-00bd-4c85-93e9-d42ef7b37716"
    },
    {
      "cell_type": "code",
      "execution_count": null,
      "metadata": {},
      "outputs": [],
      "source": [
        "AIC(lph_lme1_1, lph_lme1_2, \n",
        "    lph_lme2_1, lph_lme2_2,\n",
        "    lph_lme3_1, lph_lme3_2)"
      ],
      "id": "8336ab22-9e08-43f8-b4ef-5bd546e3b47b"
    },
    {
      "cell_type": "markdown",
      "metadata": {},
      "source": [
        "### BIC\n",
        "\n",
        "BICによってモデルを比較する."
      ],
      "id": "b2408c94-5755-4cc6-910b-f82383c4d794"
    },
    {
      "cell_type": "code",
      "execution_count": null,
      "metadata": {},
      "outputs": [],
      "source": [
        "BIC(lph_lme1_1, lph_lme1_2, \n",
        "    lph_lme2_1, lph_lme2_2,\n",
        "    lph_lme3_1, lph_lme3_2)"
      ],
      "id": "6512189a-978b-4d8b-9eaa-4594fccac2ce"
    },
    {
      "cell_type": "markdown",
      "metadata": {},
      "source": [
        "### 交互作用項を利用したモデルの予測精度を図示\n",
        "\n",
        "推定された結果を散布図上に表示して確認する."
      ],
      "id": "942c7651-18bf-4e89-ae7f-d328cbb5a4ed"
    },
    {
      "cell_type": "code",
      "execution_count": null,
      "metadata": {},
      "outputs": [],
      "source": [
        "lph |> \n",
        "  mutate(\n",
        "    predict = predict(lph_lme3_2,\n",
        "                      type = \"response\")) |> \n",
        "  ggplot() +\n",
        "  aes(x = LPH,\n",
        "      y = predict) +\n",
        "  geom_point() +\n",
        "  geom_abline(slope     = 1, \n",
        "              intercept = 0, \n",
        "              linetype  = \"dashed\")"
      ],
      "id": "c6ba86f2-0faa-4820-bc4e-789c8567bfa3"
    },
    {
      "cell_type": "markdown",
      "metadata": {},
      "source": [
        "### ベイズ推定\n",
        "\n",
        "ベイズ推定をするためには, `brms`パッケージを利用するのが便利. Posit\n",
        "Cloudでは利用が少しむずかしいので, 自身のPC等で試したい方はどうぞ."
      ],
      "id": "9021d909-f3ee-4b23-a3ff-2374d149d55d"
    },
    {
      "cell_type": "code",
      "execution_count": null,
      "metadata": {},
      "outputs": [],
      "source": [
        "# p_load(brms)\n",
        "# lph_brm <- brm(LPH ~ POPD + EMP3D \n",
        "#                      + (POPD + EMP3D|AREA),\n",
        "#                data = lph)"
      ],
      "id": "5102c67b-1b9a-42cc-8f12-ef198a21cdcc"
    }
  ],
  "nbformat": 4,
  "nbformat_minor": 5,
  "metadata": {
    "kernelspec": {
      "display_name": "Python 3",
      "language": "python",
      "name": "python3"
    }
  }
}