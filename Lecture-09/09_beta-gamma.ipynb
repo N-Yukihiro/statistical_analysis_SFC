{
  "cells": [
    {
      "cell_type": "markdown",
      "metadata": {},
      "source": [
        "# ベータ回帰, ガンマ回帰, 指数-ガウス回帰\n",
        "\n",
        "# Beta Regression\n",
        "\n",
        "### ベータ回帰モデルで利用するデータ\n",
        "\n",
        "`betareg`パッケージの`GasolineYield`データを用いる.\n",
        "原油からガソリンが得られる割合(`yield`), 原油が全て気化した温度(華氏,\n",
        "`temp`), 重力や圧力,\n",
        "原油の10%が気化した温度から因子(`batch`)などが含まれる."
      ],
      "id": "da3a7cf0-de0c-4a49-ac14-7e78b888155b"
    },
    {
      "cell_type": "code",
      "execution_count": null,
      "metadata": {},
      "outputs": [],
      "source": [
        "library(pacman)\n",
        "p_load(betareg)\n",
        "data(\"GasolineYield\", package = \"betareg\")\n",
        "names(GasolineYield)"
      ],
      "id": "247eae6b-5669-4297-b2e3-43d3d4bbcc29"
    },
    {
      "cell_type": "markdown",
      "metadata": {},
      "source": [
        "### ベータ回帰モデルで利用するデータの要約統計量\n",
        "\n",
        "データの要約統計量を確認する."
      ],
      "id": "5d28e89b-88a6-43db-adff-f2b0dd7da9f2"
    },
    {
      "cell_type": "code",
      "execution_count": null,
      "metadata": {},
      "outputs": [],
      "source": [
        "summary(GasolineYield)"
      ],
      "id": "c54946b4-eae4-4f6c-acd9-d337dd20b297"
    },
    {
      "cell_type": "markdown",
      "metadata": {},
      "source": [
        "### ベータ回帰モデルで利用するデータのヒストグラム\n",
        "\n",
        "`yield`の概要をヒストグラムを描画して確認する."
      ],
      "id": "43100158-4f4e-49e0-b4a8-3f52ef2ff6a7"
    },
    {
      "cell_type": "code",
      "execution_count": null,
      "metadata": {},
      "outputs": [],
      "source": [
        "p_load(ggplot2)\n",
        "ggplot(GasolineYield) +\n",
        "  aes(x = yield) +\n",
        "  geom_histogram()"
      ],
      "id": "4c800119-8c2a-4ddc-bb9c-4d4d8842517d"
    },
    {
      "cell_type": "markdown",
      "metadata": {},
      "source": [
        "`temp`の概要をヒストグラムを描画して確認する."
      ],
      "id": "d79ad2cf-68c8-4e93-9c9b-b560c477393d"
    },
    {
      "cell_type": "code",
      "execution_count": null,
      "metadata": {},
      "outputs": [],
      "source": [
        "ggplot(GasolineYield) +\n",
        "  aes(x = temp) +\n",
        "  geom_histogram()"
      ],
      "id": "9d1965e9-c068-4dbf-984e-5572d4ef5191"
    },
    {
      "cell_type": "markdown",
      "metadata": {},
      "source": [
        "### ベータ回帰モデルで利用するデータの散布図\n",
        "\n",
        "変数間の関係をペアプロットで確認する."
      ],
      "id": "2be28a4b-3d0f-4067-94d0-99e6d36b392e"
    },
    {
      "cell_type": "code",
      "execution_count": null,
      "metadata": {},
      "outputs": [],
      "source": [
        "p_load(GGally, dplyr)\n",
        "GasolineYield |> \n",
        "  dplyr::select(yield, \n",
        "                temp,\n",
        "                batch) |> \n",
        "  ggpairs()"
      ],
      "id": "4a202796-0d56-4475-a72d-604c2c603c0d"
    },
    {
      "cell_type": "markdown",
      "metadata": {},
      "source": [
        "### ベータ回帰モデルの推定\n",
        "\n",
        "ベータ回帰モデルを推定する.\n",
        "`betareg`パッケージの`betareg()`関数を用いる."
      ],
      "id": "c67a0151-d66b-406c-9d1e-4188f15eee08"
    },
    {
      "cell_type": "code",
      "execution_count": null,
      "metadata": {},
      "outputs": [],
      "source": [
        "gs_beta <- betareg(yield ~ batch + temp,\n",
        "                   data = GasolineYield)"
      ],
      "id": "fa5124bd-481c-418c-a148-b999ab915dd8"
    },
    {
      "cell_type": "markdown",
      "metadata": {},
      "source": [
        "### ベータ回帰モデルの結果"
      ],
      "id": "18511560-d058-4601-b664-f579a9023a97"
    },
    {
      "cell_type": "code",
      "execution_count": null,
      "metadata": {},
      "outputs": [],
      "source": [
        "summary(gs_beta)"
      ],
      "id": "a45a583e-e945-440a-9112-2df2a347de56"
    },
    {
      "cell_type": "markdown",
      "metadata": {},
      "source": [
        "### 推定結果の確認\n",
        "\n",
        "推定された結果を散布図上に表示して確認する."
      ],
      "id": "dade6dcb-22bc-40f2-99d5-af8884f67ddd"
    },
    {
      "cell_type": "code",
      "execution_count": null,
      "metadata": {},
      "outputs": [],
      "source": [
        "GasolineYield |> \n",
        "  mutate(\n",
        "    predict = predict(gs_beta,\n",
        "                      type = \"response\")) |>\n",
        "  ggplot() +\n",
        "  aes(x = yield,\n",
        "      y = predict) +\n",
        "  geom_point() +\n",
        "  geom_abline(slope     = 1,\n",
        "              intercept = 0, \n",
        "              linetype  = \"dashed\")"
      ],
      "id": "54c4748b-5c05-43e2-a53a-7e2ceda4f2ce"
    },
    {
      "cell_type": "markdown",
      "metadata": {},
      "source": [
        "### LOOCV\n",
        "\n",
        "ベータ回帰のLOOCVが`caret`パッケージに実装されていないので、自分で計算する."
      ],
      "id": "05794fe0-fee4-47ee-8ccf-d1a714079fcd"
    },
    {
      "cell_type": "code",
      "execution_count": null,
      "metadata": {},
      "outputs": [],
      "source": [
        "p_load(tibble, dplyr)\n",
        "n <- nrow(GasolineYield); result <- tibble()\n",
        "for (i in 1:n){\n",
        "  data  <- GasolineYield[-i,]\n",
        "  reg   <- betareg(yield ~ temp + batch, data = data)\n",
        "  pred  <- predict(reg,  newdata = GasolineYield[i, ])\n",
        "  result[i, 1] <- GasolineYield[i, 1]\n",
        "  result[i, 2] <- pred\n",
        "}\n",
        "result |>\n",
        "  rename(obs = 1, pred = 2) |> \n",
        "  mutate(diff = obs - pred) |> \n",
        "  summarise(RMSE = diff^2 |> mean() |> sqrt(),\n",
        "            R2   = cor(obs, pred)^2,\n",
        "            MAE  = diff |> abs() |> mean())"
      ],
      "id": "dc7df4e0-8a4f-4f99-b08d-9b38c03e6eb4"
    },
    {
      "cell_type": "markdown",
      "metadata": {},
      "source": [
        "# Gamma Regression\n",
        "\n",
        "### ガンマ回帰モデルで利用するデータ\n",
        "\n",
        "`brglm2`パッケージの`coalition`データを利用する.\n",
        "ヨーロッパ(+カナダ)15カ国における連立政権の生存期間(`duration`)に関するデータ.\n",
        "議会における政党数の指標(`fract`)や内閣が議会で多数派を占めるのかを示すダミー変数(`numst2`)などが含まれる."
      ],
      "id": "7c19d34c-5b7e-4777-afd6-20ab5b8d652a"
    },
    {
      "cell_type": "code",
      "execution_count": null,
      "metadata": {},
      "outputs": [],
      "source": [
        "pacman::p_load(\"brglm2\")\n",
        "data(coalition, package = \"brglm2\")\n",
        "names(coalition)"
      ],
      "id": "fb352784-78e1-49ed-ba47-bcc7feb0ece6"
    },
    {
      "cell_type": "markdown",
      "metadata": {},
      "source": [
        "### ガンマ回帰モデルで利用するデータの要約統計量\n",
        "\n",
        "データの要約統計量を確認する."
      ],
      "id": "aa37495e-04df-4946-b9be-70ccc9414631"
    },
    {
      "cell_type": "code",
      "execution_count": null,
      "metadata": {},
      "outputs": [],
      "source": [
        "summary(coalition)"
      ],
      "id": "f16b03e5-80f6-4f24-a376-309239c7eff5"
    },
    {
      "cell_type": "markdown",
      "metadata": {},
      "source": [
        "### ガンマ回帰モデルで利用するデータのヒストグラム\n",
        "\n",
        "`duration`の概要をヒストグラムを描画して確認する."
      ],
      "id": "f2796263-1ca0-4a39-9c04-f6965f333834"
    },
    {
      "cell_type": "code",
      "execution_count": null,
      "metadata": {},
      "outputs": [],
      "source": [
        "ggplot(coalition) +\n",
        "  aes(x = duration,\n",
        "      y = after_stat(density)) +\n",
        "  geom_histogram() +\n",
        "  geom_density(fill  = \"lightblue\", \n",
        "               alpha = 0.5)"
      ],
      "id": "21d9d570-cf70-49a9-b90e-67008d33e126"
    },
    {
      "cell_type": "markdown",
      "metadata": {},
      "source": [
        "`fract`の概要をヒストグラムを描画して確認する."
      ],
      "id": "276830e0-ef04-49f8-ac54-6f5730f9ab67"
    },
    {
      "cell_type": "code",
      "execution_count": null,
      "metadata": {},
      "outputs": [],
      "source": [
        "ggplot(coalition) +\n",
        "  aes(x = fract,\n",
        "      y = after_stat(density)) +\n",
        "  geom_histogram() +\n",
        "  geom_density(fill  = \"lightblue\", \n",
        "               alpha = 0.5)"
      ],
      "id": "bd028dce-41b9-472d-b1ba-b2029de7ac04"
    },
    {
      "cell_type": "markdown",
      "metadata": {},
      "source": [
        "### ガンマ回帰モデルで利用するデータの散布図\n",
        "\n",
        "変数間の関係をペアプロットで確認する."
      ],
      "id": "05aec747-6084-4f20-b4ea-c660b481a0df"
    },
    {
      "cell_type": "code",
      "execution_count": null,
      "metadata": {},
      "outputs": [],
      "source": [
        "coalition |> \n",
        "  dplyr::select(duration,\n",
        "                fract, \n",
        "                numst2) |> \n",
        "  mutate(across(numst2,\n",
        "                as.factor)) |> \n",
        "  ggpairs()"
      ],
      "id": "9ee88121-c727-4876-b70b-06247c3145ae"
    },
    {
      "cell_type": "markdown",
      "metadata": {},
      "source": [
        "### ガンマ回帰モデルの推定\n",
        "\n",
        "ガンマ回帰モデルを推定する."
      ],
      "id": "be8ec725-efd3-4276-9448-ac9053b8cbd4"
    },
    {
      "cell_type": "code",
      "execution_count": null,
      "metadata": {},
      "outputs": [],
      "source": [
        "coa_gam <- glm(duration ~ fract + numst2,\n",
        "               data   = coalition,\n",
        "               family = Gamma)"
      ],
      "id": "596ea287-6948-41a6-b799-beb6db7852be"
    },
    {
      "cell_type": "markdown",
      "metadata": {},
      "source": [
        "### ガンマ回帰モデルの結果"
      ],
      "id": "9f797feb-bb6d-4426-a3af-097f7aaa3aa5"
    },
    {
      "cell_type": "code",
      "execution_count": null,
      "metadata": {},
      "outputs": [],
      "source": [
        "summary(coa_gam)"
      ],
      "id": "748d6b58-d1dc-4cf4-84a7-bb66bdd59d2f"
    },
    {
      "cell_type": "markdown",
      "metadata": {},
      "source": [
        "### 推定結果の確認\n",
        "\n",
        "推定された結果を散布図上に表示して確認する."
      ],
      "id": "6064ccaf-25ae-421e-b199-103718fe69b2"
    },
    {
      "cell_type": "code",
      "execution_count": null,
      "metadata": {},
      "outputs": [],
      "source": [
        "coalition |> \n",
        "  mutate(predict =predict(coa_gam,\n",
        "                          type = \"response\")) |> \n",
        "  ggplot() +\n",
        "  aes(x = duration,\n",
        "      y = predict) +\n",
        "  geom_point() +\n",
        "  geom_abline(slope     = 1, \n",
        "              intercept = 0, \n",
        "              linetype  = \"dashed\")"
      ],
      "id": "6c5f6363-31e9-4421-b899-d89a91a4f279"
    },
    {
      "cell_type": "markdown",
      "metadata": {},
      "source": [
        "### 予測\n",
        "\n",
        "変数の影響がわかりづらいので予測値を計算する."
      ],
      "id": "3d34a0f5-6e56-4c18-ac0f-e9a43aec7f66"
    },
    {
      "cell_type": "code",
      "execution_count": null,
      "metadata": {},
      "outputs": [],
      "source": [
        "p_load(tidyr)\n",
        "new_data <- expand_grid(fract = 350:870,\n",
        "                        numst2 = 0:1) %>%\n",
        "  mutate(pred = predict(coa_gam, \n",
        "                        newdata = .)) |> \n",
        "  mutate(across(numst2,\n",
        "                as.factor)) "
      ],
      "id": "f7519d28-c3b3-4ad3-9678-aab90e531113"
    },
    {
      "cell_type": "markdown",
      "metadata": {},
      "source": [
        "### 予測値のプロット"
      ],
      "id": "84867cf9-8360-4ff6-8160-9ec03a9f7c9e"
    },
    {
      "cell_type": "code",
      "execution_count": null,
      "metadata": {},
      "outputs": [],
      "source": [
        "ggplot(data = new_data) +\n",
        "  aes(x      = fract, \n",
        "      y      = pred,\n",
        "      colour = numst2) +\n",
        "  geom_line()"
      ],
      "id": "208df202-d80d-4214-bfa7-997b113376c4"
    },
    {
      "cell_type": "markdown",
      "metadata": {},
      "source": [
        "# Ex-Gaussian Regression\n",
        "\n",
        "### 指数-ガウス分布\n",
        "\n",
        "指数-ガウス分布は指数分布とガウス(正規)分布の重なったような分布である.\n",
        "シミュレーションデータによって確認する."
      ],
      "id": "f8074415-aa07-47b6-bd17-8735765456fe"
    },
    {
      "cell_type": "code",
      "execution_count": null,
      "metadata": {},
      "outputs": [],
      "source": [
        "p_load(gamlss, tidyr)\n",
        "df <- data.frame(\n",
        "  norm    = rnorm(1000, mean = 10, sd = 1),\n",
        "  exp     = rexp(1000,  rate = 0.5),\n",
        "  exGauss = rexGAUS(2000,\n",
        "                    mu    = 10,\n",
        "                    sigma = 1,\n",
        "                    nu    = 1 / 0.5)) |> \n",
        "  mutate(norm_exp = norm + exp) |>\n",
        "  tidyr::pivot_longer(cols      = everything(),\n",
        "                      names_to  = \"key\",\n",
        "                      values_to = \"value\") |>\n",
        "  transform(key = factor(key,\n",
        "                         levels = c(\"norm\", \"exp\",\n",
        "                                    \"norm_exp\",\"exGauss\")))"
      ],
      "id": "2cbc5d33-2478-49f0-b65e-87517bc9e823"
    },
    {
      "cell_type": "markdown",
      "metadata": {},
      "source": [
        "### 指数-ガウス分布のプロット"
      ],
      "id": "7b3fc68f-9a1b-4320-83b5-43b8a0db87d5"
    },
    {
      "cell_type": "code",
      "execution_count": null,
      "metadata": {},
      "outputs": [],
      "source": [
        "ggplot(df) +\n",
        "  aes(value, fill = key) +\n",
        "  geom_histogram() +\n",
        "  facet_wrap(~key)"
      ],
      "id": "c33ff7c1-8cce-492b-9ca4-624901715eb1"
    },
    {
      "cell_type": "markdown",
      "metadata": {},
      "source": [
        "### 指数-ガウス回帰モデルで利用するデータ\n",
        "\n",
        "`lme4`パッケージの`sleepstudy`データを利用する.\n",
        "睡眠時間を制限された被験者の反応速度(`Reaction`)."
      ],
      "id": "b0236db6-2b2e-40bd-b5a5-0775a09c7601"
    },
    {
      "cell_type": "code",
      "execution_count": null,
      "metadata": {},
      "outputs": [],
      "source": [
        "data(sleepstudy, package = \"lme4\")\n",
        "names(sleepstudy)"
      ],
      "id": "99b737b1-4fb2-4342-ad17-20cab888bda7"
    },
    {
      "cell_type": "markdown",
      "metadata": {},
      "source": [
        "### 指数-ガウス回帰モデルで利用するデータの要約統計量\n",
        "\n",
        "データの要約統計量を確認する."
      ],
      "id": "08f40ef4-eaf4-48b0-8111-ffa19e38c266"
    },
    {
      "cell_type": "code",
      "execution_count": null,
      "metadata": {},
      "outputs": [],
      "source": [
        "summary(sleepstudy)"
      ],
      "id": "56fa0cac-8622-4190-8415-6fbf66ece10d"
    },
    {
      "cell_type": "markdown",
      "metadata": {},
      "source": [
        "### 指数-ガウス回帰モデルで利用するデータのヒストグラム\n",
        "\n",
        "`Reaction`の概要をヒストグラムを描画して確認する."
      ],
      "id": "96c21d8d-cbb4-4132-b7c4-d1fcf1349336"
    },
    {
      "cell_type": "code",
      "execution_count": null,
      "metadata": {},
      "outputs": [],
      "source": [
        "ggplot(sleepstudy) + \n",
        "  aes(x = Reaction,\n",
        "      y = after_stat(density)) +\n",
        "  geom_histogram() +\n",
        "  geom_density(fill  = \"lightblue\", \n",
        "               alpha = 0.5)"
      ],
      "id": "d8d635b7-8d3d-4d2f-8937-15983be79760"
    },
    {
      "cell_type": "markdown",
      "metadata": {},
      "source": [
        "### 指数- ガウス回帰モデルで利用するデータの散布図\n",
        "\n",
        "変数間の関係を散布図で確認する."
      ],
      "id": "32ed0b09-3c48-4675-9583-126df9032362"
    },
    {
      "cell_type": "code",
      "execution_count": null,
      "metadata": {},
      "outputs": [],
      "source": [
        "ggplot(sleepstudy) +\n",
        "  aes(x = Days,\n",
        "      y = Reaction) +\n",
        "  geom_point()"
      ],
      "id": "5f3680fe-796d-4355-9cc6-dd72e21ef735"
    },
    {
      "cell_type": "markdown",
      "metadata": {},
      "source": [
        "### 指数-ガウス回帰モデルの推定\n",
        "\n",
        "指数-ガウス回帰モデルを推定する.\n",
        "`gamlss`パッケージの`gamlss()`関数を用いる."
      ],
      "id": "adc96e9f-f6ef-4e24-a381-c1ea7e938568"
    },
    {
      "cell_type": "code",
      "execution_count": null,
      "metadata": {},
      "outputs": [],
      "source": [
        "sleep_model <- gamlss(Reaction ~ Days,\n",
        "                      data      = sleepstudy,\n",
        "                      family    = exGAUS, \n",
        "                      mu.fix    = FALSE,\n",
        "                      sigma.fix = FALSE,\n",
        "                      nu.fix    = FALSE)"
      ],
      "id": "89ee5675-62a8-4adc-8eba-dadd1705bef7"
    },
    {
      "cell_type": "markdown",
      "metadata": {},
      "source": [
        "### 指数-ガウス回帰モデルの結果"
      ],
      "id": "59ee4331-8079-4ab0-ba1b-7e163eae4b70"
    },
    {
      "cell_type": "code",
      "execution_count": null,
      "metadata": {},
      "outputs": [],
      "source": [
        "summary(sleep_model)"
      ],
      "id": "25082945-132a-49c7-b10d-c4ed861796bf"
    },
    {
      "cell_type": "markdown",
      "metadata": {},
      "source": [
        "### 推定結果の確認\n",
        "\n",
        "推定された結果を散布図上に表示して確認する."
      ],
      "id": "5893d42f-b0ee-4890-bf81-bd6c481fa826"
    },
    {
      "cell_type": "code",
      "execution_count": null,
      "metadata": {},
      "outputs": [],
      "source": [
        "sleepstudy |> \n",
        "  mutate(\n",
        "    predict = predict(sleep_model,\n",
        "                      type = \"response\")) |> \n",
        "  ggplot(aes(Reaction, predict)) +\n",
        "  geom_point() +\n",
        "  geom_abline(slope     = 1,\n",
        "              intercept = 0, \n",
        "              linetype  = \"dashed\")"
      ],
      "id": "fbb86a95-f502-4c52-88ce-e80bdb7b1719"
    }
  ],
  "nbformat": 4,
  "nbformat_minor": 5,
  "metadata": {
    "kernelspec": {
      "display_name": "Python 3",
      "language": "python",
      "name": "python3"
    }
  }
}