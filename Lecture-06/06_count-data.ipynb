{
  "cells": [
    {
      "cell_type": "markdown",
      "id": "7cc5391b-82bf-4dd0-a78f-a64656b0fa23",
      "metadata": {},
      "source": [
        "# ポアソン回帰モデル・負の二項回帰モデル\n",
        "\n",
        "### 今日使うデータ\n",
        "\n",
        "今日は`datasets`パッケージの`warpbreaks`を利用する.\n",
        "`datasets`パッケージは基本的にデフォルトでインストールされている.\n",
        "1台の織機あたりの反り破損の数のデータ."
      ]
    },
    {
      "cell_type": "code",
      "execution_count": null,
      "id": "8094de80-8bdb-444f-8e3a-7e7380920de7",
      "metadata": {},
      "outputs": [],
      "source": [
        "library(pacman)\n",
        "p_load(datasets)\n",
        "names(warpbreaks)"
      ]
    },
    {
      "cell_type": "markdown",
      "id": "293941bc-27a5-4051-8d07-501992cc97f2",
      "metadata": {},
      "source": [
        "### データ構造の確認\n",
        "\n",
        "データ構造を確認するため, `dplyr::glimpse()`関数を利用する."
      ]
    },
    {
      "cell_type": "code",
      "execution_count": null,
      "id": "f3b1fbb2-0e3a-4f7e-97c9-18e2d54170e8",
      "metadata": {},
      "outputs": [],
      "source": [
        "p_load(dplyr)\n",
        "glimpse(warpbreaks)"
      ]
    },
    {
      "cell_type": "markdown",
      "id": "fed3773d-6ff4-4a84-93f9-dc3c5c099db7",
      "metadata": {},
      "source": [
        "### 要約統計量\n",
        "\n",
        "データの記述統計を確認するために`summary()`関数を利用する."
      ]
    },
    {
      "cell_type": "code",
      "execution_count": null,
      "id": "588840ee-ff3f-4238-a121-3be069fd56ab",
      "metadata": {},
      "outputs": [],
      "source": [
        "summary(warpbreaks)"
      ]
    },
    {
      "cell_type": "markdown",
      "id": "4f89bfd5-06dc-414b-b230-847f441c8c7e",
      "metadata": {},
      "source": [
        "### その他の要約統計量\n",
        "\n",
        "分散などの要約統計量を計算するために`summarise()`関数を利用する."
      ]
    },
    {
      "cell_type": "code",
      "execution_count": null,
      "id": "b16e2b5d-aeb8-4ffa-a39c-a43f670b4349",
      "metadata": {},
      "outputs": [],
      "source": [
        "warpbreaks |> \n",
        "  summarise(mean  = mean(breaks),\n",
        "            var   = var(breaks),\n",
        "            ratio = var / mean)"
      ]
    },
    {
      "cell_type": "markdown",
      "id": "2d2e06e8-3aa2-46cd-8dde-4996a5d2b622",
      "metadata": {},
      "source": [
        "### ヒストグラムの描画\n",
        "\n",
        "ggplot2を使ってヒストグラムを描画する."
      ]
    },
    {
      "cell_type": "code",
      "execution_count": null,
      "id": "862a855e-a42e-4b8d-b781-680c2ae0e45d",
      "metadata": {},
      "outputs": [],
      "source": [
        "p_load(ggplot2)\n",
        "ggplot(warpbreaks) +\n",
        "  aes(x = breaks) +\n",
        "  geom_histogram()"
      ]
    },
    {
      "cell_type": "markdown",
      "id": "97d696b4-f293-4b2c-ace3-e85696976d60",
      "metadata": {},
      "source": [
        "### 種類ごとの描画\n",
        "\n",
        "ウールの種類ごとにヒストグラムを描画する."
      ]
    },
    {
      "cell_type": "code",
      "execution_count": null,
      "id": "3ac840d0-6816-4f07-98be-954e70f26a14",
      "metadata": {},
      "outputs": [],
      "source": [
        "ggplot(warpbreaks) +\n",
        "  aes(x    = breaks,\n",
        "      fill = wool) +\n",
        "  geom_histogram(\n",
        "    position = \"identity\", \n",
        "    alpha    = 0.5)"
      ]
    },
    {
      "cell_type": "markdown",
      "id": "c4c717e6-4c02-411b-80ed-958f680ff210",
      "metadata": {},
      "source": [
        "同様に糸の張力ごとに描画する."
      ]
    },
    {
      "cell_type": "code",
      "execution_count": null,
      "id": "721b00df-a991-4d05-8e72-872cecd5bb3b",
      "metadata": {},
      "outputs": [],
      "source": [
        "ggplot(warpbreaks) +\n",
        "  aes(x    = breaks,\n",
        "      fill = tension) +\n",
        "  geom_histogram(\n",
        "    position = \"identity\",\n",
        "    alpha    = 0.5)"
      ]
    },
    {
      "cell_type": "markdown",
      "id": "0b13fff5-6bd1-4b98-ac21-589703075018",
      "metadata": {},
      "source": [
        "# Poisson Regression Model\n",
        "\n",
        "### ポアソン回帰モデル\n",
        "\n",
        "ポアソン回帰を行うには, `glm(family = poisson(link = \"log\"))`とする."
      ]
    },
    {
      "cell_type": "code",
      "execution_count": null,
      "id": "ad02897b-a7d4-4663-a98a-cd57924f5917",
      "metadata": {},
      "outputs": [],
      "source": [
        "wb_poisson <- glm(breaks ~ wool + tension,\n",
        "                  data   = warpbreaks, \n",
        "                  family = poisson(link = \"log\"))"
      ]
    },
    {
      "cell_type": "markdown",
      "id": "375f585f-38d2-49bb-9a36-52e4e1d45a2d",
      "metadata": {},
      "source": [
        "### ポアソン回帰モデルの結果\n",
        "\n",
        "`jtools`パッケージの`summ()`関数を利用して結果を表示する."
      ]
    },
    {
      "cell_type": "code",
      "execution_count": null,
      "id": "21beb8d7-ff5a-4da6-ad50-d0af6dde88e3",
      "metadata": {},
      "outputs": [],
      "source": [
        "p_load(jtools)\n",
        "summ(wb_poisson)"
      ]
    },
    {
      "cell_type": "markdown",
      "id": "df511cd2-1b5c-41da-9001-a162afc2a950",
      "metadata": {},
      "source": [
        "### ポアソン回帰モデルによる予測\n",
        "\n",
        "分析結果から予測を行うには`predict()`関数を利用する.\n",
        "ここでは`wool`がタイプ`A`で糸の張力が`L`の場合で計算する."
      ]
    },
    {
      "cell_type": "code",
      "execution_count": null,
      "id": "c5f35fa6-a32f-489a-ae71-bb02aafff351",
      "metadata": {},
      "outputs": [],
      "source": [
        "predict(wb_poisson, \n",
        "        newdata = data.frame(wool    = \"A\", \n",
        "                             tension = \"L\"), \n",
        "        type    = \"response\")"
      ]
    },
    {
      "cell_type": "markdown",
      "id": "7ec77a6b-569d-4f46-acaa-77fb5693213d",
      "metadata": {},
      "source": [
        "### ポアソン回帰モデルによって推定された結果の図示\n",
        "\n",
        "推定された結果を図示する."
      ]
    },
    {
      "cell_type": "code",
      "execution_count": null,
      "id": "2f3796ee-fa58-4c4d-b2aa-e99e6b232449",
      "metadata": {},
      "outputs": [],
      "source": [
        "warpbreaks |> \n",
        "  mutate(predict = \n",
        "           predict(wb_poisson,\n",
        "                   type = \"response\")) |> \n",
        "  ggplot() +\n",
        "  aes(x      = breaks,\n",
        "      y      = predict,\n",
        "      colour = tension) +\n",
        "  geom_point() +\n",
        "  geom_abline(slope     = 1,\n",
        "              intercept = 0, \n",
        "              linetype  = \"dashed\")"
      ]
    },
    {
      "cell_type": "markdown",
      "id": "4bd269fd-7820-4eca-a7d9-f41e79143e1c",
      "metadata": {},
      "source": [
        "### \n",
        "\n",
        "LOOCVによって評価する."
      ]
    },
    {
      "cell_type": "code",
      "execution_count": null,
      "id": "acf73bf5-a129-45d9-9f21-7c84c082f228",
      "metadata": {},
      "outputs": [],
      "source": [
        "p_load(caret)\n",
        "train(breaks ~ wool + tension,\n",
        "      warpbreaks,\n",
        "      method    = \"glm\",\n",
        "      family    = poisson(link = \"log\"),\n",
        "      trControl = trainControl(\"LOOCV\"))"
      ]
    },
    {
      "cell_type": "markdown",
      "id": "4061d728-4e13-48d8-ab6d-d0f3e4507839",
      "metadata": {},
      "source": [
        "# Quasi-Poisson Model\n",
        "\n",
        "### 擬似的ポアソン回帰モデル\n",
        "\n",
        "擬似的ポアソン回帰を行うには,\n",
        "`glm(family = quasipoisson(link = \"log\"))`とする."
      ]
    },
    {
      "cell_type": "code",
      "execution_count": null,
      "id": "0d302e12-4760-4b09-8fef-e763904d4922",
      "metadata": {},
      "outputs": [],
      "source": [
        "wb_qpoisson <- glm(breaks ~ wool + tension,\n",
        "                   data   = warpbreaks, \n",
        "                   family = quasipoisson(link = \"log\"))"
      ]
    },
    {
      "cell_type": "markdown",
      "id": "8d20e89b-6139-45aa-9d08-0f128356e49f",
      "metadata": {},
      "source": [
        "### 擬似的ポアソン回帰モデルの結果"
      ]
    },
    {
      "cell_type": "code",
      "execution_count": null,
      "id": "abf55c5d-1ee6-40f7-a453-b9f759792420",
      "metadata": {},
      "outputs": [],
      "source": [
        "summ(wb_qpoisson)"
      ]
    },
    {
      "cell_type": "markdown",
      "id": "8364af35-e9d2-48ba-9a15-c63532736e1f",
      "metadata": {},
      "source": [
        "### 擬似的ポアソン回帰モデルによる予測\n",
        "\n",
        "分析結果から予測を行うには`predict()`関数を利用する.\n",
        "ここでは`wool`がタイプ`A`で糸の張力が`L`の場合で計算する."
      ]
    },
    {
      "cell_type": "code",
      "execution_count": null,
      "id": "6fd470a0-6aed-4fa6-b07f-a2e582b099ef",
      "metadata": {},
      "outputs": [],
      "source": [
        "predict(wb_qpoisson, \n",
        "        newdata = data.frame(wool    = \"A\", \n",
        "                             tension = \"L\"), \n",
        "        type    = \"response\")"
      ]
    },
    {
      "cell_type": "markdown",
      "id": "b625d9ce-ffae-4c8b-b39e-6baff25ecf1f",
      "metadata": {},
      "source": [
        "### 擬似的ポアソン回帰モデルによって推定された結果の図示\n",
        "\n",
        "推定された結果を図示する."
      ]
    },
    {
      "cell_type": "code",
      "execution_count": null,
      "id": "bd7c6544-06d1-4c62-82cc-25aec7d5a9a8",
      "metadata": {},
      "outputs": [],
      "source": [
        "warpbreaks |> \n",
        "  mutate(predict = \n",
        "           predict(wb_qpoisson,\n",
        "                   type = \"response\")) |> \n",
        "  ggplot() +\n",
        "  aes(x      = breaks, \n",
        "      y      = predict, \n",
        "      colour = tension) +\n",
        "  geom_point() +\n",
        "  geom_abline(slope     = 1, \n",
        "              intercept = 0, \n",
        "              linetype  = \"dashed\")"
      ]
    },
    {
      "cell_type": "markdown",
      "id": "56e23e60-ac9e-4786-b9d7-90000dc781ca",
      "metadata": {},
      "source": [
        "### \n",
        "\n",
        "LOOCVによって評価する."
      ]
    },
    {
      "cell_type": "code",
      "execution_count": null,
      "id": "06859f35-3fe2-4135-bb11-a797a1dcd7c3",
      "metadata": {},
      "outputs": [],
      "source": [
        "train(breaks ~ wool + tension,\n",
        "      warpbreaks,\n",
        "      method    = \"glm\",\n",
        "      family    = quasipoisson(link = \"log\"),\n",
        "      trControl = trainControl(\"LOOCV\"))"
      ]
    },
    {
      "cell_type": "markdown",
      "id": "15af7d0c-ab9f-4f66-8fd8-2f6732e9e11d",
      "metadata": {},
      "source": [
        "# Negative Binomial Regression Model\n",
        "\n",
        "### 負の二項回帰モデル\n",
        "\n",
        "負の二項回帰を行うには, `MASS::glm.nb()`関数を利用する.\n",
        "`glm()`関数でもリンク関数に負の二項分布を指定できるが,\n",
        "`glm.nb`はパラメーター$\\theta$を自動で最尤推定する."
      ]
    },
    {
      "cell_type": "code",
      "execution_count": null,
      "id": "51ad224b-2e54-4e68-90eb-d46be92d135a",
      "metadata": {},
      "outputs": [],
      "source": [
        "p_load(MASS)\n",
        "wb_nb <- glm.nb(breaks ~ wool + tension,\n",
        "                data = warpbreaks)"
      ]
    },
    {
      "cell_type": "markdown",
      "id": "9df012e0-48a2-4ee2-87c6-59916bd3d1cf",
      "metadata": {},
      "source": [
        "### 負の二項回帰モデルの結果"
      ]
    },
    {
      "cell_type": "code",
      "execution_count": null,
      "id": "39755670-c150-4727-99ee-f81745a31ee4",
      "metadata": {},
      "outputs": [],
      "source": [
        "summ(wb_nb)"
      ]
    },
    {
      "cell_type": "markdown",
      "id": "4ef1f36b-0d79-4a71-82b4-c4837e0f2850",
      "metadata": {},
      "source": [
        "### 負の二項回帰モデルによる予測\n",
        "\n",
        "分析結果から予測を行うには`predict()`関数を利用する.\n",
        "ここでは`wool`がタイプ`A`で糸の張力が`L`の場合で計算する."
      ]
    },
    {
      "cell_type": "code",
      "execution_count": null,
      "id": "48af6870-62cb-46c4-bfe1-70d1c4462dbd",
      "metadata": {},
      "outputs": [],
      "source": [
        "predict(wb_nb, \n",
        "        newdata = data.frame(wool    = \"A\",\n",
        "                             tension = \"L\"), \n",
        "        type    = \"response\")"
      ]
    },
    {
      "cell_type": "markdown",
      "id": "9495bfc4-a0e6-4e67-9aa1-eb0e5456650f",
      "metadata": {},
      "source": [
        "### 負の二項回帰モデルによって推定された結果の図示\n",
        "\n",
        "推定された結果を図示する."
      ]
    },
    {
      "cell_type": "code",
      "execution_count": null,
      "id": "ae711a34-0f7e-47da-87c7-2df7de9af3f0",
      "metadata": {},
      "outputs": [],
      "source": [
        "warpbreaks |> \n",
        "  mutate(predict = \n",
        "           predict(wb_nb, \n",
        "                   type = \"response\")) |> \n",
        "  ggplot() +\n",
        "  aes(x      = breaks,\n",
        "      y      = predict,\n",
        "      colour = tension) +\n",
        "  geom_point() +\n",
        "  geom_abline(slope     = 1, \n",
        "              intercept = 0, \n",
        "              linetype  = \"dashed\")"
      ]
    },
    {
      "cell_type": "markdown",
      "id": "7389fa92-3417-4ae2-87ed-cdc03de4b050",
      "metadata": {},
      "source": [
        "### \n",
        "\n",
        "LOOCVによって評価する."
      ]
    },
    {
      "cell_type": "code",
      "execution_count": null,
      "id": "b1709573-74cf-48bc-b98b-70eb9e89ca13",
      "metadata": {},
      "outputs": [],
      "source": [
        "train(breaks ~ wool + tension,\n",
        "      warpbreaks,\n",
        "      method    = \"glm.nb\",\n",
        "      trControl = trainControl(\"LOOCV\"))"
      ]
    },
    {
      "cell_type": "markdown",
      "id": "fa095b95-f24f-48fb-a235-0b9a0b8541dd",
      "metadata": {},
      "source": [
        "# Comparing Regression Models\n",
        "\n",
        "### 各モデルを表で比較\n",
        "\n",
        "`stargazer`で表を並べる."
      ]
    },
    {
      "cell_type": "code",
      "execution_count": null,
      "id": "66159125-1e46-4274-ae01-7003c0e75bc8",
      "metadata": {},
      "outputs": [],
      "source": [
        "stargazer::stargazer(wb_poisson, \n",
        "                     wb_qpoisson, \n",
        "                     wb_nb,\n",
        "                     type              = \"text\",\n",
        "                     style             = \"all\",\n",
        "                     star.cutoffs      = NA,\n",
        "                     omit.table.layout = 'n',\n",
        "                     ci                = TRUE,\n",
        "                     align             = TRUE)"
      ]
    },
    {
      "cell_type": "markdown",
      "id": "af2aa23c-0c57-4b47-a1c5-337265ae08a6",
      "metadata": {},
      "source": [
        "### 図による比較\n",
        "\n",
        "複数のモデルにより推定された回帰係数を図示するには`jtools::plot_summs()`を利用するのも便利.\n",
        "特に指数変換したい場合は`coefplot`パッケージより便利.\n",
        "`ggstance`パッケージを裏で使っているのでインストール必須."
      ]
    },
    {
      "cell_type": "code",
      "execution_count": null,
      "id": "76c43442-1106-41cb-ba9d-7d78909ebfbb",
      "metadata": {},
      "outputs": [],
      "source": [
        "p_load(jtools, ggstance, broom.mixed)"
      ]
    },
    {
      "cell_type": "markdown",
      "id": "47cb0354-e215-4fc9-87cc-6d133c7efe32",
      "metadata": {},
      "source": [
        "# Appendix\n",
        "\n",
        "### 交互作用項\n",
        "\n",
        "woolとtensionは独立なため, この2つの項の交互作用項を分析に導入する.\n",
        "交互作用項を導入するには, `+`ではなく`*`で変数間を繋ぐ."
      ]
    },
    {
      "cell_type": "code",
      "execution_count": null,
      "id": "7e81b052-f156-408b-a7e1-c86c2b103d13",
      "metadata": {},
      "outputs": [],
      "source": [
        "wb_nb2 <- glm.nb(breaks ~ wool * tension,\n",
        "                 data = warpbreaks)"
      ]
    },
    {
      "cell_type": "markdown",
      "id": "9b54bb6e-6017-4d47-99c8-534f33e8dc9c",
      "metadata": {},
      "source": [
        "### 交互作用項を含めたモデルの結果"
      ]
    },
    {
      "cell_type": "code",
      "execution_count": null,
      "id": "df71d512-e322-4e08-9e9f-35c8aab0395d",
      "metadata": {},
      "outputs": [],
      "source": [
        "summ(wb_nb2)"
      ]
    },
    {
      "cell_type": "markdown",
      "id": "339286c6-09a6-4549-bf80-01f94a8d8634",
      "metadata": {},
      "source": [
        "### 交互作用項を含めたモデルによる予測\n",
        "\n",
        "分析結果から予測を行うには`predict()`関数を利用する.\n",
        "ここでは`wool`がタイプ`A`で糸の張力が`L`の場合で計算する."
      ]
    },
    {
      "cell_type": "code",
      "execution_count": null,
      "id": "b08b8e8c-afe1-435c-b9ee-0ef0154806d4",
      "metadata": {},
      "outputs": [],
      "source": [
        "predict(wb_nb2, \n",
        "        newdata = data.frame(wool    = \"A\",\n",
        "                             tension = \"L\"), \n",
        "        type    = \"response\")"
      ]
    },
    {
      "cell_type": "markdown",
      "id": "36f32460-afa0-4cb5-b5e1-df505a1632f2",
      "metadata": {},
      "source": [
        "### 交互作用項を含めたモデルによって推定された結果の図示\n",
        "\n",
        "推定された結果を図示する."
      ]
    },
    {
      "cell_type": "code",
      "execution_count": null,
      "id": "4d6eb24d-675a-4713-bb6c-3aff84fd32fb",
      "metadata": {},
      "outputs": [],
      "source": [
        "warpbreaks |> \n",
        "  mutate(predict = \n",
        "           predict(wb_nb2, \n",
        "                   type = \"response\")) |> \n",
        "  ggplot() +\n",
        "  aes(x      = breaks,\n",
        "      y      = predict,\n",
        "      colour = tension) +\n",
        "  geom_point() +\n",
        "  geom_abline(slope     = 1,\n",
        "              intercept = 0, \n",
        "              linetype  = \"dashed\")"
      ]
    },
    {
      "cell_type": "markdown",
      "id": "a0a17dad-cea4-4b8f-95d8-cddd76dcade4",
      "metadata": {},
      "source": [
        "### \n",
        "\n",
        "woolをAで固定した時に, 予測値がどのように変化するのかを図示する.\n",
        "合わせて実測値をポイントでプロットする."
      ]
    },
    {
      "cell_type": "code",
      "execution_count": null,
      "id": "76bdf403-fdfb-4ad7-948f-c5c4c479c511",
      "metadata": {},
      "outputs": [],
      "source": [
        "warpbreaks |> \n",
        "  mutate(predict = \n",
        "           predict(wb_nb2, \n",
        "                   type = \"response\")) |> \n",
        "  filter(wool == \"A\") |> \n",
        "  distinct(tension,\n",
        "           .keep_all = TRUE) |> \n",
        "  ggplot() +\n",
        "  aes(x    = tension,\n",
        "      y    = predict,\n",
        "      fill = tension) +\n",
        "  geom_bar(stat = \"identity\") +\n",
        "  geom_point(data = warpbreaks |> \n",
        "               filter(wool == \"A\"),\n",
        "             aes(y = breaks))"
      ]
    },
    {
      "cell_type": "markdown",
      "id": "55cdaef1-f0e5-4b96-9bdc-d59fb026e9c2",
      "metadata": {},
      "source": [
        "### \n",
        "\n",
        "モデルの比較"
      ]
    },
    {
      "cell_type": "code",
      "execution_count": null,
      "id": "df9f7308-ff45-4c0c-ad75-590eb502dda3",
      "metadata": {},
      "outputs": [],
      "source": [
        "stargazer::stargazer(wb_poisson, \n",
        "                     wb_qpoisson, \n",
        "                     wb_nb, \n",
        "                     wb_nb2,\n",
        "                     type              = \"text\",\n",
        "                     style             = \"all\",\n",
        "                     star.cutoffs      = NA,\n",
        "                     omit.table.layout = 'n',\n",
        "                     ci                = TRUE,\n",
        "                     align             = TRUE)"
      ]
    }
  ],
  "metadata": {
    "kernelspec": {
      "display_name": "Python 3",
      "language": "python",
      "name": "python3"
    }
  },
  "nbformat": 4,
  "nbformat_minor": 5
}
