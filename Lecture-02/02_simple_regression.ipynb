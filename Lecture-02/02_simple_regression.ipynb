{
  "cells": [
    {
      "cell_type": "markdown",
      "id": "e918ddd6-7f86-40c7-bd78-623670b9f384",
      "metadata": {},
      "source": [
        "# Rの導入と単回帰分析\n",
        "\n",
        "### Quarto\n",
        "\n",
        "`#`を使ったコメントよりも長い文章とともにコードを書きたい場合はQuartoファイルがおすすめ.\n",
        "皆さんが開いているこのファイルがQuartoファイルである.\n",
        "少し設定するだけで簡単にhtmlファイルやpdfファイルが作成できる.\n",
        "\n",
        "以下の範囲に書かれたコードがRのコードとして認識される.\n",
        "`{}`内を変更すればR以外の言語も実行できる."
      ]
    },
    {
      "cell_type": "code",
      "execution_count": null,
      "id": "f800d23a-29b9-4569-b283-a80788f76e85",
      "metadata": {},
      "outputs": [],
      "source": [
        "# code"
      ]
    },
    {
      "cell_type": "markdown",
      "id": "9c94d3f7-8b60-41ea-895f-8cb5663f7135",
      "metadata": {},
      "source": [
        "右上の実行ボタンもしくは`ctrl + Enter`や`command + Enter`で実行できる.\n",
        "\n",
        "### 作業ディレクトリの指定\n",
        "\n",
        "現在の作業ディレクトリ(フォルダ)を確認するためには`getwd()`関数を利用する.\n",
        "プロジェクトからではなく, 直接R(Studio)を開いた場合,\n",
        "作業ディレクトリ(フォルダ)の指定が必要となる.\n",
        "作業ディレクトリを指定しない場合,\n",
        "Documentなどがデフォルトで指定されている場合が多い."
      ]
    },
    {
      "cell_type": "code",
      "execution_count": null,
      "id": "c6668573-f3bb-496e-8d58-aa77684adc45",
      "metadata": {},
      "outputs": [],
      "source": [
        "getwd()"
      ]
    },
    {
      "cell_type": "markdown",
      "id": "0cd239b5-2962-467b-ad61-72b74f46e659",
      "metadata": {},
      "source": [
        "任意のディレクトリを指定するためには, `setwd()`関数を利用する.\n",
        "ここでは移動するディレクトリがないので,\n",
        "#をつけてRを実行しないようにしている.\n",
        "パスの指定は相対パスでも絶対パスでもよい."
      ]
    },
    {
      "cell_type": "code",
      "execution_count": null,
      "id": "a2c6d262-1e9a-4ad1-ab62-6b9ba63b095c",
      "metadata": {},
      "outputs": [],
      "source": [
        "#setwd(\"ここにパスを打ち込む\")"
      ]
    },
    {
      "cell_type": "markdown",
      "id": "55a775c3-b60a-49d3-a4cb-b04c2e8c4606",
      "metadata": {},
      "source": [
        "### ディレクトリの内容を確認\n",
        "\n",
        "現在のディレクトリにきちんと新しいフォルダが作成できたか確認する.\n",
        "作業ディレクトリ内のファイルやフォルダを確認するには,\n",
        "`list.files()`関数を利用する."
      ]
    },
    {
      "cell_type": "code",
      "execution_count": null,
      "id": "86b132b4-a6a6-482e-849a-8240011c405e",
      "metadata": {},
      "outputs": [],
      "source": [
        "list.files()"
      ]
    },
    {
      "cell_type": "markdown",
      "id": "bdaf8f0f-1f7c-4b46-9ecf-4233528d92d5",
      "metadata": {},
      "source": [
        "### パッケージのインストール\n",
        "\n",
        "パッケージのインストールをしてみる.\n",
        "CRANに登録されたパッケージをインストールするには,\n",
        "`install.packages()`関数を利用する."
      ]
    },
    {
      "cell_type": "code",
      "execution_count": null,
      "id": "3c0f62b6-9f19-4e14-b9e7-f639529bd75a",
      "metadata": {},
      "outputs": [],
      "source": [
        "install.packages(\"dplyr\")"
      ]
    },
    {
      "cell_type": "markdown",
      "id": "56eae058-82b0-4bb9-92c7-f9969bf12d3b",
      "metadata": {},
      "source": [
        "### パッケージの利用\n",
        "\n",
        "インストールされたファイルなどは適当な場所に保存されるのでユーザーが操作する必要はない.\n",
        "インストールしたパッケージを利用するには,\n",
        "`library()関数`で利用するパッケージ名を指定し, パッケージを読み込む.\n",
        "この作業はセッションを再開する度に必要となる."
      ]
    },
    {
      "cell_type": "code",
      "execution_count": null,
      "id": "fa8bc153-a7d4-4656-839b-3cf05e733d44",
      "metadata": {},
      "outputs": [],
      "source": [
        "library(dplyr)"
      ]
    },
    {
      "cell_type": "markdown",
      "id": "50aec203-77c0-4eba-84b2-3c62aa03a851",
      "metadata": {},
      "source": [
        "### `pacman`パッケージ\n",
        "\n",
        "パッケージ管理については`pacman`が便利.\n",
        "CRANに登録されているパッケージは`p_load()`関数を利用する.\n",
        "\n",
        "インストールされていなければパッケージをインストールの上読み込み,\n",
        "パッケージに更新があればアップデートの上で読み込み,\n",
        "特に何もなければ読み込みを行ってくれる.\n",
        "\n",
        "github上のパッケージは`p_load_gh()`関数を利用する."
      ]
    },
    {
      "cell_type": "code",
      "execution_count": null,
      "id": "23ac31a6-1d76-471f-8b69-d9a4c6632719",
      "metadata": {},
      "outputs": [],
      "source": [
        "install.packages(\"pacman\")"
      ]
    },
    {
      "cell_type": "markdown",
      "id": "4a26f379-1414-47dc-b4d9-4f1a6d6c0eb2",
      "metadata": {},
      "source": [
        "### HELPの利用\n",
        "\n",
        "パッケージや関数の利用についてわからないことがあればHELPを利用してみる.\n",
        "HELPの出し方は`?`を知りたい関数やパッケージ名の前につけるだけでよい.\n",
        "`?`を2個つける(`??`)と単語検索のように利用できる."
      ]
    },
    {
      "cell_type": "code",
      "execution_count": null,
      "id": "927084ba-72de-4873-b510-51fe57e6197a",
      "metadata": {},
      "outputs": [],
      "source": [
        "?library\n",
        "?ggplot2\n",
        "??dplyr"
      ]
    },
    {
      "cell_type": "markdown",
      "id": "e193fa95-0844-4172-a340-238dc7837cd6",
      "metadata": {},
      "source": [
        "### データの読み込み\n",
        "\n",
        "『家計調査』2017年11月、第2−6表「年間収入階級別1世帯当たり1か月間の収入と支出」から作成した所得階級と支出のデータ`kakei201709_l18.csv`を用いる.\n",
        "月間消費支出(円)(`CONS`), 月間消費支出(1万円)(`CONS1`),\n",
        "年間収入(1万円)(INC), 有業人員(人)(`WORK`). いずれも調査世帯の平均値."
      ]
    },
    {
      "cell_type": "code",
      "execution_count": null,
      "id": "f63eff3c-3347-4c82-a686-6c02de6aa2af",
      "metadata": {},
      "outputs": [],
      "source": [
        "kakei <- readr::read_csv(\"../data/kakei201709_l18.csv\")"
      ]
    },
    {
      "cell_type": "markdown",
      "id": "10845e38-2a12-498f-a83e-8830b705b75f",
      "metadata": {},
      "source": [
        "### データ構造の把握\n",
        "\n",
        "データを読み込んだらどのようなデータで構成されているのか確認を行う.\n",
        "`dplyr`パッケージの`glimpse`関数を利用する.\n",
        "`dplyr::glimpse`は`dplyr`パッケージの`glimpse`関数を利用することを明示的に示す記法であり,\n",
        "`library`すれば基本的には必要はない."
      ]
    },
    {
      "cell_type": "code",
      "execution_count": null,
      "id": "d415ea97-aedb-4ed0-893d-c139e8e56461",
      "metadata": {},
      "outputs": [],
      "source": [
        "dplyr::glimpse(kakei)"
      ]
    },
    {
      "cell_type": "markdown",
      "id": "e7a82727-fd56-4ce0-bedc-976379aa66c7",
      "metadata": {},
      "source": [
        "### 記述統計の確認\n",
        "\n",
        "データ構造を確認したら, 次に記述統計を確認する. 記述統計を把握するには,\n",
        "`summary`を利用する."
      ]
    },
    {
      "cell_type": "code",
      "execution_count": null,
      "id": "987f5c13-fd2b-4940-9472-f56f7a199332",
      "metadata": {},
      "outputs": [],
      "source": [
        "summary(kakei)"
      ]
    },
    {
      "cell_type": "markdown",
      "id": "d6e2c630-2144-4417-b3b5-585162e58c68",
      "metadata": {},
      "source": [
        "### ヒストグラムの描画\n",
        "\n",
        "記述統計を把握したら, ヒストグラムを描いてデータをグラフで確認する.\n",
        "`ggplot2`パッケージをの`geom_histogram()`関数を使ってヒストグラムを描く."
      ]
    },
    {
      "cell_type": "code",
      "execution_count": null,
      "id": "a26288d9-1d07-4332-b66f-a0b8f586ca2f",
      "metadata": {},
      "outputs": [],
      "source": [
        "ggplot(data = kakei) +\n",
        "  aes(x = CONS1) +\n",
        "  geom_histogram() +\n",
        "  xlab(\"Consumption (10,000 yen)\") +\n",
        "  ggtitle(\"Histogram\")"
      ]
    },
    {
      "cell_type": "markdown",
      "id": "3c0959a8-6079-4a41-8c97-e32c658aecf7",
      "metadata": {},
      "source": [
        "### 散布図の描画\n",
        "\n",
        "2変数間の関係を把握するために散布図を描くには,\n",
        "`geom_point()`関数を利用する."
      ]
    },
    {
      "cell_type": "code",
      "execution_count": null,
      "id": "65a2a50e-05fc-4974-b1b8-8f5dbb6ee502",
      "metadata": {},
      "outputs": [],
      "source": [
        "ggplot(data = kakei) +\n",
        "  aes(x = INC, \n",
        "      y = CONS1) +\n",
        "  geom_point() + \n",
        "  xlab(\"Income (10,000 yen)\") + \n",
        "  ylab(\"Consumption (10,000 yen)\") +\n",
        "  ggtitle(\"Scatter plot\")"
      ]
    },
    {
      "cell_type": "markdown",
      "id": "0faf996f-e56b-4bd8-b2c5-3922359e2d7f",
      "metadata": {},
      "source": [
        "### 単回帰分析\n",
        "\n",
        "最小二乗法を用いて単回帰分析を行うためには, `lm()`関数を利用する.\n",
        "第1引数に分析のモデルを指定する. `~`の前に応答変数を,\n",
        "`~`の後に説明変数を指定する."
      ]
    },
    {
      "cell_type": "code",
      "execution_count": null,
      "id": "ff0807df-833d-4dc6-923f-02ed77fa9a69",
      "metadata": {},
      "outputs": [],
      "source": [
        "ols1 <- lm(CONS1 ~ INC, data = kakei)"
      ]
    },
    {
      "cell_type": "markdown",
      "id": "7d875eaf-2acd-4ecb-9115-647394faf8b8",
      "metadata": {},
      "source": [
        "### 結果の示し方\n",
        "\n",
        "`summary()`関数で結果を見るのが一般的だが,\n",
        "`jtools`パッケージの`summ()`関数や`stargazer`パッケージの`stargazer()`関数などを使うほうが良い.\n",
        "`jtools`パッケージは自分が結果を見るときに使うのがおすすめ.\n",
        "`stargazer`パッケージは結果をそのまま論文などに転載したいときにおすすめ."
      ]
    },
    {
      "cell_type": "code",
      "execution_count": null,
      "id": "91a57e82-80cf-4a68-b0ca-748cc6dd1d1a",
      "metadata": {},
      "outputs": [],
      "source": [
        "p_load(jtools)"
      ]
    },
    {
      "cell_type": "markdown",
      "id": "322b3469-236e-42ad-a247-fbc2a905a90a",
      "metadata": {},
      "source": [
        "### 回帰係数の95%信頼区間を表示\n",
        "\n",
        "回帰係数の95%信頼区間を表示するには, `summ(confint = TRUE)`を指定する."
      ]
    },
    {
      "cell_type": "code",
      "execution_count": null,
      "id": "8830c94f-e149-4709-99a6-14c610462558",
      "metadata": {},
      "outputs": [],
      "source": [
        "summ(ols1, confint = TRUE)"
      ]
    },
    {
      "cell_type": "markdown",
      "id": "f794309e-0a5e-4c2e-ae1a-d9b29cd7b2f7",
      "metadata": {},
      "source": [
        "### 結果を論文に掲載する\n",
        "\n",
        "結果を論文に掲載できるようにきれいに整形するには`stargazer`パッケージを利用するのが便利.\n",
        "様々な引数があるので, 使いこなすにはHELPを参照.\n",
        "`star.cutoffs = NA, omit.table.layout = \"n\"`は忘れない.\n",
        "分析がしたいのであって, 天体観測がしたいわけではないことに注意."
      ]
    },
    {
      "cell_type": "code",
      "execution_count": null,
      "id": "7d0ce2b2-eb9a-4d95-8be6-7c8d2f49e8ed",
      "metadata": {},
      "outputs": [],
      "source": [
        "p_load(stargazer)"
      ]
    },
    {
      "cell_type": "markdown",
      "id": "f870efed-7b49-4ef9-8989-d1b344615eb5",
      "metadata": {},
      "source": [
        "### 散布図と回帰直線\n",
        "\n",
        "散布図に回帰直線を引きたい場合には, `geom_smooth()`関数を利用する."
      ]
    },
    {
      "cell_type": "code",
      "execution_count": null,
      "id": "eb3b0d1f-2d5d-44d9-8d90-2e48586502b5",
      "metadata": {},
      "outputs": [],
      "source": [
        "ggplot(data = kakei) +\n",
        "  aes(x = INC,\n",
        "      y = CONS1) +\n",
        "  geom_point() +\n",
        "  geom_smooth(method = \"lm\", \n",
        "              se     = FALSE)"
      ]
    },
    {
      "cell_type": "markdown",
      "id": "9cd95785-2c78-4a16-b327-e565018e731d",
      "metadata": {},
      "source": [
        "### 予測(新しい説明変数のデータセットを作成)\n",
        "\n",
        "データを予測するため, まずは新しい説明変数のデータセットを作成する.\n",
        "データの列名は分析に利用したものと同じ名前, 同じ列数である必要性がある.\n",
        "簡単のため, 単回帰で行うが重回帰でも問題なく予測できる."
      ]
    },
    {
      "cell_type": "code",
      "execution_count": null,
      "id": "ec4e1c15-1414-495c-ac93-4b05ff2eb0c8",
      "metadata": {},
      "outputs": [],
      "source": [
        "new_dat <- data.frame(\n",
        "  INC = seq(from       = 50,\n",
        "            to         = 2050,\n",
        "            length.out = 20)\n",
        ")"
      ]
    },
    {
      "cell_type": "markdown",
      "id": "69da5b4a-0ac6-4f56-8221-4520cb98e713",
      "metadata": {},
      "source": [
        "### 予測\n",
        "\n",
        "データを予測するためには, `predict()`関数を利用する.\n",
        "第1引数に回帰分析の結果のオブジェクト,\n",
        "`newdata`に新しい説明変数のデータフレーム, `interval`に求めたい区間,\n",
        "`level`に$100(1 - \\alpha)\\%$区間の値を指定する.\n",
        "`interval = \"confidence\"`で信頼区間が,\n",
        "`interval = \"prediction\"`で予測区間が求められる."
      ]
    },
    {
      "cell_type": "code",
      "execution_count": null,
      "id": "5af06998-14ed-444c-8fc9-1acc67cfb441",
      "metadata": {},
      "outputs": [],
      "source": [
        "ci <- predict(ols1, \n",
        "              newdata  = new_dat, \n",
        "              interval = \"confidence\",\n",
        "              level    = 0.95)\n",
        "ci <- bind_cols(new_dat, ci)\n",
        "pred <- predict(ols1, \n",
        "                newdata  = new_dat, \n",
        "                interval = \"prediction\",\n",
        "                level    = 0.95)\n",
        "pred <- bind_cols(new_dat, pred)"
      ]
    },
    {
      "cell_type": "markdown",
      "id": "dc9fd9f8-32b1-4b0e-a8e1-db1a655fc301",
      "metadata": {},
      "source": [
        "### 予測区間の図示\n",
        "\n",
        "データの散布図に予測区間を図示する."
      ]
    },
    {
      "cell_type": "code",
      "execution_count": null,
      "id": "51047753-c29b-4f6a-81b3-fd4c12d5c651",
      "metadata": {},
      "outputs": [],
      "source": [
        "ggplot() +\n",
        "  aes(x = INC) +\n",
        "  geom_point(\n",
        "    data = kakei,\n",
        "    aes(y = CONS1)) +\n",
        "  geom_smooth(\n",
        "    data   = kakei,\n",
        "    aes(y = CONS1),\n",
        "    method = \"lm\",\n",
        "    se     = FALSE) +\n",
        "  geom_ribbon(\n",
        "    data     = pred,\n",
        "    aes(ymin = lwr,\n",
        "        ymax = upr),\n",
        "    fill     = \"lightblue\",\n",
        "    alpha    = 0.5)"
      ]
    },
    {
      "cell_type": "markdown",
      "id": "ac5ab54b-625d-4c18-a61f-570e7e29cd65",
      "metadata": {},
      "source": [
        "### `geom_smooth()`と区間\n",
        "\n",
        "`geom_smooth()`関数を利用するとデフォルトでは回帰直線とともに,\n",
        "区間が表示されている. これは回帰直線の信頼区間."
      ]
    },
    {
      "cell_type": "code",
      "execution_count": null,
      "id": "de460952-c3ce-4828-9919-b2169a71871d",
      "metadata": {},
      "outputs": [],
      "source": [
        "ggplot(data = kakei) +\n",
        "  aes(x = INC,\n",
        "      y = CONS1) +\n",
        "  geom_point() +\n",
        "  geom_smooth(\n",
        "    method = \"lm\"\n",
        "  )"
      ]
    },
    {
      "cell_type": "markdown",
      "id": "fdca936b-1416-4c2b-9c95-2959d28c81f4",
      "metadata": {},
      "source": [
        "### 回帰直線の信頼区間\n",
        "\n",
        "`add_ci()`関数で推定した値と`geom_smooth(se = TRUE)`は一致する."
      ]
    },
    {
      "cell_type": "code",
      "execution_count": null,
      "id": "63f146de-832c-4157-8038-f0f4eac12ed5",
      "metadata": {},
      "outputs": [],
      "source": [
        "ggplot() +\n",
        "  aes(x = INC) +\n",
        "  geom_point(\n",
        "    data = kakei,\n",
        "    aes(y = CONS1)) +\n",
        "  geom_smooth(\n",
        "    data   = kakei,\n",
        "    aes(y = CONS1),\n",
        "    method = \"lm\",\n",
        "    se     = FALSE) +\n",
        "  geom_ribbon(\n",
        "    data     = ci,\n",
        "    aes(ymin = lwr,\n",
        "        ymax = upr),\n",
        "    fill     = \"lightblue\",\n",
        "    alpha    = 0.5)"
      ]
    }
  ],
  "metadata": {
    "kernelspec": {
      "display_name": "Python 3",
      "language": "python",
      "name": "python3"
    }
  },
  "nbformat": 4,
  "nbformat_minor": 5
}
