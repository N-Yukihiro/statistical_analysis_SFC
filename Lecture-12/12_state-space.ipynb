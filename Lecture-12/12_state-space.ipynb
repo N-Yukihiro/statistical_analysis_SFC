{
  "cells": [
    {
      "cell_type": "markdown",
      "metadata": {},
      "source": [
        "# 状態空間モデル\n",
        "\n",
        "### 今日使うデータ\n",
        "\n",
        "`datasets`パッケージに含まれる`Nile`データを用いる.\n",
        "1871-1970年の100年間のナイル川での年間河川流量($10^8 m^3$)\n",
        "に関する時系列データ. 1898年のアスワンダム建設により,\n",
        "流量が変化している. 流量データのみが格納されているため,\n",
        "年情報を追加したデータセットに変換する."
      ],
      "id": "700f5f77-d058-479c-a349-81c427d43e6a"
    },
    {
      "cell_type": "code",
      "execution_count": null,
      "metadata": {},
      "outputs": [],
      "source": [
        "library(pacman)\n",
        "p_load(tibble, dplyr)\n",
        "data(Nile, package = \"datasets\")\n",
        "Nile_df <- tibble(\"flow\" = Nile,\n",
        "                  \"year\" = 1871:1970) |> \n",
        "  mutate(flow = as.numeric(flow))"
      ],
      "id": "b09594b7-98e4-438f-befa-de3269039c2a"
    },
    {
      "cell_type": "markdown",
      "metadata": {},
      "source": [
        "### データ構造\n",
        "\n",
        "データ構造を確認する."
      ],
      "id": "9f3bdd57-98ee-4ed5-bbb4-3755580e34af"
    },
    {
      "cell_type": "code",
      "execution_count": null,
      "metadata": {},
      "outputs": [],
      "source": [
        "glimpse(Nile_df)"
      ],
      "id": "38755e2e-22d6-415e-b7a2-f31550be99ae"
    },
    {
      "cell_type": "markdown",
      "metadata": {},
      "source": [
        "### 記述統計\n",
        "\n",
        "記述統計を確認する."
      ],
      "id": "7eb80fbc-44b4-4902-8d5a-375b690bde42"
    },
    {
      "cell_type": "code",
      "execution_count": null,
      "metadata": {},
      "outputs": [],
      "source": [
        "summary(Nile_df)"
      ],
      "id": "7a76a33f-fecf-4981-90e0-0b4bac9797da"
    },
    {
      "cell_type": "markdown",
      "metadata": {},
      "source": [
        "### データの可視化1\n",
        "\n",
        "ナイル川の流量を可視化して概要を把握する."
      ],
      "id": "483d0b02-8873-4d49-b048-40fc4d5d620b"
    },
    {
      "cell_type": "code",
      "execution_count": null,
      "metadata": {},
      "outputs": [],
      "source": [
        "p_load(ggplot2)\n",
        "ggplot(Nile_df) +\n",
        "  aes(x = year,\n",
        "      y = flow) +\n",
        "  geom_line(colour = \"blue\") +\n",
        "  labs(y = \"Annual Flow\", \n",
        "       x = \"Year\") "
      ],
      "id": "bb1d1823-7f8f-4744-af81-b9b908889961"
    },
    {
      "cell_type": "markdown",
      "metadata": {},
      "source": [
        "### データの可視化2\n",
        "\n",
        "ナイル川の流量を可視化して概要を把握する.\n",
        "最初の年の流量を1となるように基準化する."
      ],
      "id": "93e272ef-b045-443f-bab4-4834fb46ef6c"
    },
    {
      "cell_type": "code",
      "execution_count": null,
      "metadata": {},
      "outputs": [],
      "source": [
        "Nile_df |> \n",
        "  mutate(flow_ratio = flow / first(flow)) |> \n",
        "  ggplot() +\n",
        "  aes(x = year,\n",
        "      y = flow_ratio) +\n",
        "  geom_line(colour = \"blue\") +\n",
        "  labs(y = \"Annual Flow\", \n",
        "       x = \"Year\") "
      ],
      "id": "d76f8f95-d9cb-41a4-b07f-8c29e9e17b40"
    },
    {
      "cell_type": "markdown",
      "metadata": {},
      "source": [
        "### データの可視化3\n",
        "\n",
        "ナイル川の流量を可視化して概要を把握する. 前年からの変化を計算する."
      ],
      "id": "85afaa90-c621-4e47-9f9a-a82bda1dfe66"
    },
    {
      "cell_type": "code",
      "execution_count": null,
      "metadata": {},
      "outputs": [],
      "source": [
        "p_load(magrittr)\n",
        "Nile_df |> \n",
        "  mutate(flow_diff = subtract(flow |> log(),\n",
        "                              flow |> lag() |> log()) |> \n",
        "           multiply_by(100)) |> \n",
        "  ggplot() +\n",
        "  aes(x = year,\n",
        "      y = flow_diff) +\n",
        "  geom_line(colour = \"blue\") +\n",
        "  labs(y = \"Annual Flow\", \n",
        "       x = \"Year\")"
      ],
      "id": "39f8c191-5f26-4b82-9fac-9f1026b16558"
    },
    {
      "cell_type": "markdown",
      "metadata": {},
      "source": [
        "### 前年の流量との散布図\n",
        "\n",
        "前年のナイル川の流量と比較するために散布図を描く."
      ],
      "id": "3dd9c21f-cf56-4530-b2c1-b634b2ad7f49"
    },
    {
      "cell_type": "code",
      "execution_count": null,
      "metadata": {},
      "outputs": [],
      "source": [
        "Nile_df |> \n",
        "  ggplot() +\n",
        "  aes(x = flow,\n",
        "      y = lag(flow)) +\n",
        "  geom_point()"
      ],
      "id": "6ea93188-d1d6-4650-8efa-57f920f0ec1e"
    },
    {
      "cell_type": "markdown",
      "metadata": {},
      "source": [
        "# 時系列モデルの推定\n",
        "\n",
        "### 単位根の有無の検定\n",
        "\n",
        "単位根の有無を検定するには`tseries::adf.test()`関数を利用する.\n",
        "帰無仮説は単位根を持つ($\\phi = 1$).\n",
        "p値が大きいときの解釈は単位根を持つことを否定できない."
      ],
      "id": "25543c0b-6106-4b55-a3c4-b9ad5b011123"
    },
    {
      "cell_type": "code",
      "execution_count": null,
      "metadata": {},
      "outputs": [],
      "source": [
        "p_load(tseries)\n",
        "adf.test(Nile_df$flow)"
      ],
      "id": "52878260-1216-41db-8982-7a22a2b10f5d"
    },
    {
      "cell_type": "markdown",
      "metadata": {},
      "source": [
        "### 自己相関係数の算出\n",
        "\n",
        "過去の自身の値との相関(自己相関係数)を計算する."
      ],
      "id": "abc080b1-2eff-48b7-9331-0e2d1445dd19"
    },
    {
      "cell_type": "code",
      "execution_count": null,
      "metadata": {},
      "outputs": [],
      "source": [
        "acf(Nile_df$flow,\n",
        "    plot = FALSE)"
      ],
      "id": "3b3a61c6-4c5c-4556-b69d-ee31fffd6175"
    },
    {
      "cell_type": "markdown",
      "metadata": {},
      "source": [
        "### 偏自己相関係数の算出\n",
        "\n",
        "偏自己相関係数を算出する. ラグ2の場合$t-2$期の値は,\n",
        "$t-1$期も通して$t$期へ影響を与えるため, $t-1$期の影響をコントロールする."
      ],
      "id": "a98bc76b-6d2a-4303-a808-6f1de0b6df2f"
    },
    {
      "cell_type": "code",
      "execution_count": null,
      "metadata": {},
      "outputs": [],
      "source": [
        "acf(Nile_df$flow,\n",
        "    plot = FALSE,\n",
        "    type = \"partial\")"
      ],
      "id": "25226cf2-a924-411e-a032-09f16f1eb46e"
    },
    {
      "cell_type": "markdown",
      "metadata": {},
      "source": [
        "### モデル選択\n",
        "\n",
        "`forecast::auto.arima()`関数を用いてAICを基準に最適な時系列モデルを選択を行う.\n",
        "`ARIMA(1,1,1)`が選択される."
      ],
      "id": "1b7726e7-6275-4cc3-b16e-aa7595debb0b"
    },
    {
      "cell_type": "code",
      "execution_count": null,
      "metadata": {},
      "outputs": [],
      "source": [
        "p_load(forecast)\n",
        "model_Nile <- auto.arima(\n",
        "  Nile_df$flow,\n",
        "  ic            = \"aic\",\n",
        "  trace         = T,\n",
        "  stepwise      = F,\n",
        "  approximation = F\n",
        ")"
      ],
      "id": "1b01ca26-bfd4-4339-9d30-955c398bf182"
    },
    {
      "cell_type": "markdown",
      "metadata": {},
      "source": [
        "### 結果の確認\n",
        "\n",
        "`stargazer`も`jtools`も対応していないため, `summary`で結果を確認する."
      ],
      "id": "9a116a96-476a-4b78-bdc6-6d949fcb9569"
    },
    {
      "cell_type": "code",
      "execution_count": null,
      "metadata": {},
      "outputs": [],
      "source": [
        "summary(model_Nile)"
      ],
      "id": "ba6693f7-f22a-4e7a-9c97-f2e9443f870c"
    },
    {
      "cell_type": "markdown",
      "metadata": {},
      "source": [
        "### 残差の確認1\n",
        "\n",
        "残差に時系列的な影響が残っていないかをチェックする."
      ],
      "id": "694409ed-2fa6-40fb-b91e-86d36b02c963"
    },
    {
      "cell_type": "code",
      "execution_count": null,
      "metadata": {},
      "outputs": [],
      "source": [
        "auto.arima(\n",
        "  model_Nile$residuals,\n",
        "  ic            = \"aic\",\n",
        "  trace         = F,\n",
        "  stepwise      = F,\n",
        "  approximation = F\n",
        ")"
      ],
      "id": "c1342a25-e51e-4a52-81be-a8e90424ec7d"
    },
    {
      "cell_type": "markdown",
      "metadata": {},
      "source": [
        "### 残差の確認2\n",
        "\n",
        "残差に時系列的な影響が残っていないかをチェックする."
      ],
      "id": "9003b7d8-ad6d-4d12-b7ee-8eb2b7b438a4"
    },
    {
      "cell_type": "code",
      "execution_count": null,
      "metadata": {},
      "outputs": [],
      "source": [
        "auto.arima(\n",
        "  model_Nile$residuals^2,\n",
        "  ic            = \"aic\",\n",
        "  trace         = F,\n",
        "  stepwise      = F,\n",
        "  approximation = F\n",
        ")"
      ],
      "id": "1fe11c3b-7cac-4609-a696-78def3782ba4"
    },
    {
      "cell_type": "markdown",
      "metadata": {},
      "source": [
        "### ARIMAモデルによる予測の図示\n",
        "\n",
        "`forecast()`関数を利用して予測を行う.\n",
        "基本的に先のことはあまりわからない."
      ],
      "id": "7fa77c37-bd7e-4668-ae16-bb7bc52fdfbb"
    },
    {
      "cell_type": "code",
      "execution_count": null,
      "metadata": {},
      "outputs": [],
      "source": [
        "forecast(model_Nile, \n",
        "         level = c(95),\n",
        "         h     = 10) |> \n",
        "  plot()"
      ],
      "id": "20d569d3-9223-4265-a9f3-6bee18b41de6"
    },
    {
      "cell_type": "markdown",
      "metadata": {},
      "source": [
        "# State Space Model\n",
        "\n",
        "### モデルの型の指定\n",
        "\n",
        "まずは, ローカルレベルモデル(ランダムウォーク+ノイズモデル)を推定する.\n",
        "はじめに, 状態空間モデルの型を指定する.\n",
        "`order`はでローカルレベルモデル(1)か,\n",
        "ローカルトレンドモデル(2)かを指定する. `dv`で観測方程式のモデルを指定し,\n",
        "`dW`で状態の分散行列の対角成分を指定, `m0`で初期値を指定する.\n",
        "指数変換するとパラメーターは非負になる."
      ],
      "id": "14724c08-bcdd-4526-8d70-7d30396c6c0f"
    },
    {
      "cell_type": "code",
      "execution_count": null,
      "metadata": {},
      "outputs": [],
      "source": [
        "p_load(dlm)\n",
        "buildModPoly1 <- function(theta){\n",
        "  dlmModPoly(order = 1,\n",
        "             dV    = exp(theta[1]),\n",
        "             dW    = exp(theta[2]),\n",
        "             m0    = theta[3])     \n",
        "}"
      ],
      "id": "d4ad6fed-46da-44d3-b6a0-acc32bdd7669"
    },
    {
      "cell_type": "markdown",
      "metadata": {},
      "source": [
        "### モデルの推定\n",
        "\n",
        "`dlm::dlmMLE()`関数を利用して型に入れるパラメーターを推定する."
      ],
      "id": "e2f1e171-cc62-40b6-92ee-33d2c6c79b98"
    },
    {
      "cell_type": "code",
      "execution_count": null,
      "metadata": {},
      "outputs": [],
      "source": [
        "p_load(magrittr)\n",
        "Nile_local <- Nile_df %$% \n",
        "  dlmMLE(flow, \n",
        "         parm = c(0, 0, flow[1]), \n",
        "         buildModPoly1)\n",
        "Nile_local"
      ],
      "id": "438c5112-2811-4089-a360-648acef7b3ad"
    },
    {
      "cell_type": "markdown",
      "metadata": {},
      "source": [
        "### モデルの再編\n",
        "\n",
        "推定したパラメータを使ってモデルを組み直す. Vは観測誤差の大きさ(分散)を,\n",
        "Wは状態の変動の大きさ(プロセスエラーの分散)を表す."
      ],
      "id": "d2a6c18e-ac0b-4339-a0b3-54bfc58d9c24"
    },
    {
      "cell_type": "code",
      "execution_count": null,
      "metadata": {},
      "outputs": [],
      "source": [
        "mod_Nile <- buildModPoly1(Nile_local$par)\n",
        "mod_Nile"
      ],
      "id": "589e99bd-5a3c-4d09-8235-52e22e4560ec"
    },
    {
      "cell_type": "markdown",
      "metadata": {},
      "source": [
        "### フィルタリング\n",
        "\n",
        "次に,\n",
        "パラメーターを型に入れてカルマンフィルターによるフィルタリングを行う."
      ],
      "id": "739d114e-15e0-4d3f-b2eb-b63cba4cc5ec"
    },
    {
      "cell_type": "code",
      "execution_count": null,
      "metadata": {},
      "outputs": [],
      "source": [
        "Nile_filt <- dlmFilter(Nile_df$flow, mod_Nile)\n",
        "Nile_filt$m"
      ],
      "id": "ce2604bc-fdd9-47f1-a56c-d8c6a5f4a903"
    },
    {
      "cell_type": "markdown",
      "metadata": {},
      "source": [
        "### フィルタリング結果の図示\n",
        "\n",
        "フィルタリングの結果を可視化します(オレンジ色)."
      ],
      "id": "969e0688-43e9-4efa-9b4a-45f3c5909a01"
    },
    {
      "cell_type": "code",
      "execution_count": null,
      "metadata": {},
      "outputs": [],
      "source": [
        "ggplot(Nile_df) +\n",
        "  aes(x = year,\n",
        "      y = flow) +\n",
        "  geom_line(colour = \"blue\") +\n",
        "  geom_line(aes(y = Nile_filt$m[2:101]), \n",
        "            colour = \"orange\") +\n",
        "  labs(y = \"Annual Flow\",\n",
        "       x = \"Year\") "
      ],
      "id": "83037f32-fa2e-4b32-b3ff-f04bf37ccf98"
    },
    {
      "cell_type": "markdown",
      "metadata": {},
      "source": [
        "### スムージング\n",
        "\n",
        "最後にカルマンフィルターの結果を使ってスムージングを適用する."
      ],
      "id": "5ae8db78-fc69-4211-86e5-f1bce57129fb"
    },
    {
      "cell_type": "code",
      "execution_count": null,
      "metadata": {},
      "outputs": [],
      "source": [
        "Nile_smooth <- dlmSmooth(Nile_filt)\n",
        "Nile_smooth$s"
      ],
      "id": "0494cf58-4e5b-452e-8b6c-727077e75284"
    },
    {
      "cell_type": "markdown",
      "metadata": {},
      "source": [
        "### スムージング結果の図示\n",
        "\n",
        "スムージングの結果を可視化します(赤色)."
      ],
      "id": "2b93bb37-5c0e-403f-81e4-3fd34dd2270c"
    },
    {
      "cell_type": "code",
      "execution_count": null,
      "metadata": {},
      "outputs": [],
      "source": [
        "ggplot(Nile_df) +\n",
        "  aes(x = year,\n",
        "      y = flow) +\n",
        "  geom_line(colour = \"blue\") +\n",
        "  geom_line(aes(y = Nile_filt$m[1:100]),\n",
        "            colour = \"orange\") +\n",
        "  geom_line(aes(y = Nile_smooth$s[1:100]),\n",
        "            colour = \"red\") +\n",
        "  labs(y = \"Annual Flow\",\n",
        "       x = \"Year\") "
      ],
      "id": "b7eae8d2-2bf7-445f-9242-1068c50b81d5"
    }
  ],
  "nbformat": 4,
  "nbformat_minor": 5,
  "metadata": {
    "kernelspec": {
      "display_name": "Python 3",
      "language": "python",
      "name": "python3"
    }
  }
}