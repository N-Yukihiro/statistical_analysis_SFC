{
  "cells": [
    {
      "cell_type": "markdown",
      "metadata": {},
      "source": [
        "# スパース推定\n",
        "\n",
        "### 今日使うデータ\n",
        "\n",
        "`lars`パッケージの`diabetes`データを利用する.\n",
        "糖尿病患者の1年後の疾患進行度合いを応答変数に,\n",
        "デモグラフィック属性や血液状態などを説明変数としている.\n",
        "データは少し複雑な構造をしている."
      ],
      "id": "f287e6ce-ee07-44b1-9b0e-9e439e0404f8"
    },
    {
      "cell_type": "code",
      "execution_count": null,
      "metadata": {},
      "outputs": [],
      "source": [
        "library(pacman)\n",
        "p_load(lars)\n",
        "data(\"diabetes\", package = \"lars\")"
      ],
      "id": "0593f471-4c5f-43f0-83b9-68a340753ce5"
    },
    {
      "cell_type": "markdown",
      "metadata": {},
      "source": [
        "### データ構造\n",
        "\n",
        "データ構造を確認する."
      ],
      "id": "e6d669e2-c391-4e65-b738-595d66cbff1d"
    },
    {
      "cell_type": "code",
      "execution_count": null,
      "metadata": {},
      "outputs": [],
      "source": [
        "p_load(dplyr)\n",
        "glimpse(diabetes)"
      ],
      "id": "4203efe5-cd3b-4e9d-97b0-0308d62866b8"
    },
    {
      "cell_type": "markdown",
      "metadata": {},
      "source": [
        "### データの変換\n",
        "\n",
        "データを扱いやすいように必要な変数だけデータフレームに変換する.\n",
        "`magrittr`パッケージの`%$%`演算子を利用するとオブジェクトの中に直接アクセスできる."
      ],
      "id": "54bd952e-0a50-45b2-be5b-1f43a67ba33d"
    },
    {
      "cell_type": "code",
      "execution_count": null,
      "metadata": {},
      "outputs": [],
      "source": [
        "p_load(magrittr)\n",
        "diabetes <- diabetes %$% \n",
        "  cbind(y, x) |> \n",
        "  as.data.frame()"
      ],
      "id": "fa7004f4-81dc-4306-a15f-39eeece76f38"
    },
    {
      "cell_type": "markdown",
      "metadata": {},
      "source": [
        "### 記述統計\n",
        "\n",
        "説明変数はすべて標準化されている."
      ],
      "id": "51576e50-64c9-410e-ade9-7d10d174287a"
    },
    {
      "cell_type": "code",
      "execution_count": null,
      "metadata": {},
      "outputs": [],
      "source": [
        "diabetes |> \n",
        "  summary()"
      ],
      "id": "8e9d7167-5d1c-4d95-9dfe-303a0e3e0181"
    },
    {
      "cell_type": "markdown",
      "metadata": {},
      "source": [
        "### ヒストグラム\n",
        "\n",
        "データの概要をヒストグラムを描画して確認する."
      ],
      "id": "dbcb7beb-54c8-482c-9f31-a778025f7491"
    },
    {
      "cell_type": "code",
      "execution_count": null,
      "metadata": {},
      "outputs": [],
      "source": [
        "p_load(ggplot2)\n",
        "ggplot(diabetes) +\n",
        "  aes(x = y) +\n",
        "  geom_histogram()"
      ],
      "id": "d5c59ccf-99ef-4b9e-9221-e611e86d3f15"
    },
    {
      "cell_type": "markdown",
      "metadata": {},
      "source": [
        "### 散布図\n",
        "\n",
        "変数間の関係をペアプロットで確認する."
      ],
      "id": "b9bc1134-0467-4810-a41f-84ba19f3328b"
    },
    {
      "cell_type": "code",
      "execution_count": null,
      "metadata": {},
      "outputs": [],
      "source": [
        "diabetes |> \n",
        "  dplyr::select(1:5) |> \n",
        "  GGally::ggpairs()"
      ],
      "id": "88dbb16b-b75b-46b3-b341-db2cab22f6ce"
    },
    {
      "cell_type": "markdown",
      "metadata": {},
      "source": [
        "# Linear Regression Model\n",
        "\n",
        "### 線形回帰モデルの推定\n",
        "\n",
        "まずは線形回帰分析を行う.\n",
        "`y ~ .`は応答変数を除いたすべての変数を説明変数とするという指示."
      ],
      "id": "050ab3ab-80e3-4cfc-b5ee-9ca1312eb988"
    },
    {
      "cell_type": "code",
      "execution_count": null,
      "metadata": {},
      "outputs": [],
      "source": [
        "dia_lm <- lm(y ~ ., \n",
        "             data = diabetes)"
      ],
      "id": "1bbebf6d-2e6c-4e22-b97a-5d12a2c8168c"
    },
    {
      "cell_type": "markdown",
      "metadata": {},
      "source": [
        "### 線形回帰モデルの結果"
      ],
      "id": "d2a2af7e-553e-46c9-b566-6503b03b11b1"
    },
    {
      "cell_type": "code",
      "execution_count": null,
      "metadata": {},
      "outputs": [],
      "source": [
        "p_load(jtools)\n",
        "summ(dia_lm)"
      ],
      "id": "e27b4dbc-ae99-4926-b8cc-4e823e8db436"
    },
    {
      "cell_type": "markdown",
      "metadata": {},
      "source": [
        "### 推定結果の確認\n",
        "\n",
        "推定された結果を散布図上に表示して確認する."
      ],
      "id": "c7097302-9b01-430e-91a5-68f50f67d759"
    },
    {
      "cell_type": "code",
      "execution_count": null,
      "metadata": {},
      "outputs": [],
      "source": [
        "diabetes |> \n",
        "  mutate(predict =\n",
        "           predict(dia_lm, \n",
        "                   type = \"response\")) |>\n",
        "  ggplot() +\n",
        "  aes(x = y,\n",
        "      y = predict) +\n",
        "  geom_point() +\n",
        "  geom_abline(slope     = 1, \n",
        "              intercept = 0, \n",
        "              linetype  = \"dashed\")"
      ],
      "id": "01adbf4e-e98b-46fd-a929-4651d13f165b"
    },
    {
      "cell_type": "markdown",
      "metadata": {},
      "source": [
        "# Ridge Regression Model\n",
        "\n",
        "### Ridge回帰モデルの推定\n",
        "\n",
        "Ridge回帰モデルを推定する. Ridge回帰を行うには,\n",
        "`glmnet`パッケージと`glmnetUtils`パッケージを利用する.\n",
        "`glmnet(alpha = 0)`と指定するとRidge回帰を行うことができる."
      ],
      "id": "bc9571d6-1212-4fcc-8c04-f130b0a4848d"
    },
    {
      "cell_type": "code",
      "execution_count": null,
      "metadata": {},
      "outputs": [],
      "source": [
        "p_load(glmnet, glmnetUtils)\n",
        "dia_ridge <- glmnet(y ~ .,\n",
        "                    data  = diabetes, \n",
        "                    alpha = 0)"
      ],
      "id": "77271176-22b4-4d95-96c8-60ed4c5ba3fe"
    },
    {
      "cell_type": "markdown",
      "metadata": {},
      "source": [
        "### \n",
        "\n",
        "回帰係数と$log(\\lambda)$との関係を可視化する."
      ],
      "id": "2e187e22-476a-4b3a-92e8-1fa9ebf35f0c"
    },
    {
      "cell_type": "code",
      "execution_count": null,
      "metadata": {},
      "outputs": [],
      "source": [
        "p_load(ggfortify)\n",
        "autoplot(dia_ridge)"
      ],
      "id": "a2ce51b8-2d6a-4d9a-b428-75e9f2d12b6f"
    },
    {
      "cell_type": "markdown",
      "metadata": {},
      "source": [
        "回帰係数と$\\lambda$との関係を可視化する."
      ],
      "id": "a429786e-095e-4931-956c-37959c93ddb2"
    },
    {
      "cell_type": "code",
      "execution_count": null,
      "metadata": {},
      "outputs": [],
      "source": [
        "autoplot(dia_ridge, xvar = \"lambda\")"
      ],
      "id": "b5a41c4c-2aeb-40d1-b59f-ba16d38aba4c"
    },
    {
      "cell_type": "markdown",
      "metadata": {},
      "source": [
        "### 最適なラムダの決定(Ridge)\n",
        "\n",
        "クロスバリデーションによって, 最適な$\\lambda$を決定する. そのために,\n",
        "`cv.glmnet()`関数を利用する."
      ],
      "id": "50e3267c-36af-47ec-815e-00e041da2c89"
    },
    {
      "cell_type": "code",
      "execution_count": null,
      "metadata": {},
      "outputs": [],
      "source": [
        "dia_ridge_cv <- cv.glmnet(y ~ ., \n",
        "                          data  = diabetes, \n",
        "                          alpha = 0)"
      ],
      "id": "9e1f5761-0f65-4b02-a29d-0edb411d2e61"
    },
    {
      "cell_type": "markdown",
      "metadata": {},
      "source": [
        "左側の縦点線が, MSEが最小となる$log(\\lambda)$となる."
      ],
      "id": "cdd4bcfe-23a0-436d-b2aa-41f40876077d"
    },
    {
      "cell_type": "code",
      "execution_count": null,
      "metadata": {},
      "outputs": [],
      "source": [
        "autoplot(dia_ridge_cv)"
      ],
      "id": "1542d1e5-d493-4c17-b1fb-006da8f4140a"
    },
    {
      "cell_type": "markdown",
      "metadata": {},
      "source": [
        "Cross-varidated errorの最小値, $\\lambda$の最小値,\n",
        "及びその対数値は以下の通り."
      ],
      "id": "0116fbc9-f57a-4b2d-8e49-9650a8d7a9ad"
    },
    {
      "cell_type": "code",
      "execution_count": null,
      "metadata": {},
      "outputs": [],
      "source": [
        "min(dia_ridge_cv$cvm)\n",
        "dia_ridge_cv$lambda.min\n",
        "log(dia_ridge_cv$lambda.min)"
      ],
      "id": "4e5bcb19-2b46-4026-bf4a-cf919f9f82d7"
    },
    {
      "cell_type": "code",
      "execution_count": null,
      "metadata": {},
      "outputs": [],
      "source": [
        "autoplot(dia_ridge, \n",
        "         xvar = \"lambda\") +\n",
        "  geom_vline(xintercept = log(dia_ridge_cv$lambda.min),\n",
        "             linetype   = \"dashed\")"
      ],
      "id": "0db9addd-73f6-42e5-8c65-6b2e228491be"
    },
    {
      "cell_type": "markdown",
      "metadata": {},
      "source": [
        "### Ridge回帰によって推定されたパラメータ\n",
        "\n",
        "MSEが最小となる時の$\\lambda$に対応するパラメータ."
      ],
      "id": "6bfcec60-5d96-416e-bfa5-da9560e02f00"
    },
    {
      "cell_type": "code",
      "execution_count": null,
      "metadata": {},
      "outputs": [],
      "source": [
        "coef(dia_ridge_cv, s = \"lambda.min\")"
      ],
      "id": "253633e6-bad8-4eb0-a233-e3759ea03e13"
    },
    {
      "cell_type": "markdown",
      "metadata": {},
      "source": [
        "MSEが最小となるときのMSEの上側1seとなるときの$\\lambda$に対応するパラメータ."
      ],
      "id": "5c945575-84aa-4ee6-a191-331c05f63883"
    },
    {
      "cell_type": "code",
      "execution_count": null,
      "metadata": {},
      "outputs": [],
      "source": [
        "coef(dia_ridge_cv, s = \"lambda.1se\")"
      ],
      "id": "3c38d699-ab48-442f-b8a7-940eebf64471"
    },
    {
      "cell_type": "markdown",
      "metadata": {},
      "source": [
        "### 推定結果の確認\n",
        "\n",
        "推定された結果を散布図上に表示して確認する."
      ],
      "id": "6f65623a-3d2d-464a-aa10-458c1fa91c97"
    },
    {
      "cell_type": "code",
      "execution_count": null,
      "metadata": {},
      "outputs": [],
      "source": [
        "diabetes %>%\n",
        "  mutate(predict = \n",
        "           predict(dia_ridge_cv,\n",
        "                   s = \"lambda.min\",\n",
        "                   newdata = .)) |>\n",
        "  ggplot() +\n",
        "  aes(x = y,\n",
        "      y = predict) +\n",
        "  geom_point() +\n",
        "  geom_abline(slope     = 1, \n",
        "              intercept = 0, \n",
        "              linetype  = \"dashed\")"
      ],
      "id": "e85549e4-e7c0-47be-ac34-7e0bd2accd53"
    },
    {
      "cell_type": "markdown",
      "metadata": {},
      "source": [
        "# Lasso Regression Model\n",
        "\n",
        "### Lasso回帰モデルの推定\n",
        "\n",
        "Lasso回帰モデルを推定する. Lasso回帰を行うには,\n",
        "`glmnet(alpha = 1)`を利用する."
      ],
      "id": "a7ebf967-01f4-424a-ac20-7792bba13265"
    },
    {
      "cell_type": "code",
      "execution_count": null,
      "metadata": {},
      "outputs": [],
      "source": [
        "dia_lasso <- glmnet(y ~ ., \n",
        "                    data  = diabetes, \n",
        "                    alpha = 1)"
      ],
      "id": "236881f9-5023-4b2a-811d-934899ff160e"
    },
    {
      "cell_type": "markdown",
      "metadata": {},
      "source": [
        "回帰係数と$log(\\lambda)$との関係を可視化する."
      ],
      "id": "6fee2740-3c7f-44bb-8b0a-6cce8b851065"
    },
    {
      "cell_type": "code",
      "execution_count": null,
      "metadata": {},
      "outputs": [],
      "source": [
        "autoplot(dia_lasso)"
      ],
      "id": "ffb01508-7928-4e75-8a83-9f387b1b6c65"
    },
    {
      "cell_type": "markdown",
      "metadata": {},
      "source": [
        "回帰係数と$\\lambda$との関係を可視化する."
      ],
      "id": "148d715a-018a-4bd0-8c0a-bef9184ab0da"
    },
    {
      "cell_type": "code",
      "execution_count": null,
      "metadata": {},
      "outputs": [],
      "source": [
        "autoplot(dia_lasso, xvar = \"lambda\")"
      ],
      "id": "4b8c9ec5-f892-4552-8842-27fc85de6e89"
    },
    {
      "cell_type": "markdown",
      "metadata": {},
      "source": [
        "### 最適なラムダの決定(Lasso)\n",
        "\n",
        "クロスバリデーションによって, 最適な$\\lambda$を決定する."
      ],
      "id": "be1e326c-c28d-41d7-9b80-d4927d18686d"
    },
    {
      "cell_type": "code",
      "execution_count": null,
      "metadata": {},
      "outputs": [],
      "source": [
        "dia_lasso_cv <- cv.glmnet(y ~ ., \n",
        "                          data  = diabetes, \n",
        "                          alpha = 1)"
      ],
      "id": "960e8449-faef-46a0-b5df-245faae98401"
    },
    {
      "cell_type": "markdown",
      "metadata": {},
      "source": [
        "左側の縦点線が, MSEが最小となる$log(\\lambda)$となる."
      ],
      "id": "d2922d76-ca05-4526-966d-25c1f506a8f5"
    },
    {
      "cell_type": "code",
      "execution_count": null,
      "metadata": {},
      "outputs": [],
      "source": [
        "autoplot(dia_lasso_cv)"
      ],
      "id": "93549edc-be39-4f91-b717-a32d0a8a497d"
    },
    {
      "cell_type": "markdown",
      "metadata": {},
      "source": [
        "Cross-varidated errorの最小値, $\\lambda$の最小値,\n",
        "及びその対数値は以下の通り."
      ],
      "id": "95732f22-1f69-4c83-957d-365e6f6696a6"
    },
    {
      "cell_type": "code",
      "execution_count": null,
      "metadata": {},
      "outputs": [],
      "source": [
        "min(dia_lasso_cv$cvm)\n",
        "dia_lasso_cv$lambda.min\n",
        "log(dia_lasso_cv$lambda.min)"
      ],
      "id": "e3852b79-4731-48ec-b5c3-607d8811ab1e"
    },
    {
      "cell_type": "code",
      "execution_count": null,
      "metadata": {},
      "outputs": [],
      "source": [
        "autoplot(dia_lasso,\n",
        "         xvar = \"lambda\") +\n",
        "  geom_vline(xintercept = log(dia_lasso_cv$lambda.min),\n",
        "             linetype   = \"dashed\")"
      ],
      "id": "c3a08fee-dd5b-445c-ba3a-09e93269572d"
    },
    {
      "cell_type": "markdown",
      "metadata": {},
      "source": [
        "### Lasso回帰によって推定されたパラメータ\n",
        "\n",
        "MSEが最小となる時の$\\lambda$に対応するパラメータ."
      ],
      "id": "1bffe75b-79c4-47b6-9e2d-6dccf5ce0241"
    },
    {
      "cell_type": "code",
      "execution_count": null,
      "metadata": {},
      "outputs": [],
      "source": [
        "coef(dia_lasso_cv, s = \"lambda.min\")"
      ],
      "id": "2926b360-52c2-48eb-9aaf-574200133719"
    },
    {
      "cell_type": "markdown",
      "metadata": {},
      "source": [
        "MSEが最小となるときのMSEの上側1seとなるときのλに対応するパラメータ."
      ],
      "id": "10f0428c-dfb7-45f5-90d9-378d060a94dc"
    },
    {
      "cell_type": "code",
      "execution_count": null,
      "metadata": {},
      "outputs": [],
      "source": [
        "coef(dia_lasso_cv, s = \"lambda.1se\")"
      ],
      "id": "6633f033-c442-468d-93e7-ea6bc1ff55a7"
    },
    {
      "cell_type": "markdown",
      "metadata": {},
      "source": [
        "### 推定結果の確認\n",
        "\n",
        "推定された結果を散布図上に表示して確認する."
      ],
      "id": "122f8544-1b8e-41b5-8d63-94f7e4320b11"
    },
    {
      "cell_type": "code",
      "execution_count": null,
      "metadata": {},
      "outputs": [],
      "source": [
        "diabetes %>%\n",
        "  mutate(predict = \n",
        "           predict(dia_lasso_cv,\n",
        "                   s = \"lambda.min\",\n",
        "                   newdata = .)) |>\n",
        "  ggplot() +\n",
        "  aes(x = y, \n",
        "      y = predict) +\n",
        "  geom_point() +\n",
        "  geom_abline(slope     = 1, \n",
        "              intercept = 0,\n",
        "              linetype  = \"dashed\")"
      ],
      "id": "4e26f746-cea3-4936-84d5-1968608888fe"
    },
    {
      "cell_type": "markdown",
      "metadata": {},
      "source": [
        "# EN Regression Model\n",
        "\n",
        "### EN回帰モデルの推定\n",
        "\n",
        "EN回帰モデルを推定する. EN回帰を行うには,\n",
        "`glmnet`の引数`alpha`を$0 \\sim 1$で指定する. ここでは,\n",
        "`alpha = 0.5`で実習を行う."
      ],
      "id": "592af395-42fb-4be8-8358-a975070bdca6"
    },
    {
      "cell_type": "code",
      "execution_count": null,
      "metadata": {},
      "outputs": [],
      "source": [
        "dia_EN <- glmnet(y ~ ., \n",
        "                 data  = diabetes, \n",
        "                 alpha = 0.5)"
      ],
      "id": "42dbec28-f970-42a0-ad47-38e39b697740"
    },
    {
      "cell_type": "markdown",
      "metadata": {},
      "source": [
        "回帰係数と$log(\\lambda)$との関係を可視化する."
      ],
      "id": "5d891c66-8e4a-4fbf-968a-f53da93c75eb"
    },
    {
      "cell_type": "code",
      "execution_count": null,
      "metadata": {},
      "outputs": [],
      "source": [
        "autoplot(dia_EN)"
      ],
      "id": "fb1513b9-50d2-408c-a2b4-9c3b5d5274e2"
    },
    {
      "cell_type": "markdown",
      "metadata": {},
      "source": [
        "回帰係数と$\\lambda$との関係を可視化する."
      ],
      "id": "4a4b4cf5-a59c-42f0-b145-e4f58777ad70"
    },
    {
      "cell_type": "code",
      "execution_count": null,
      "metadata": {},
      "outputs": [],
      "source": [
        "autoplot(dia_EN, xvar = \"lambda\")"
      ],
      "id": "ea4702df-739f-4df1-a97c-33c89a69363a"
    },
    {
      "cell_type": "markdown",
      "metadata": {},
      "source": [
        "### 最適なラムダの決定(EN)\n",
        "\n",
        "クロスバリデーションによって, 最適な$\\lambda$を決定する."
      ],
      "id": "0b6bf73f-ddc0-48f5-966a-8b9712eba209"
    },
    {
      "cell_type": "code",
      "execution_count": null,
      "metadata": {},
      "outputs": [],
      "source": [
        "dia_EN_cv <- cv.glmnet(y ~ ., \n",
        "                       data  = diabetes, \n",
        "                       alpha = 0.5)"
      ],
      "id": "1f1a5f66-9de1-442b-850f-b21bc07e948a"
    },
    {
      "cell_type": "markdown",
      "metadata": {},
      "source": [
        "左側の縦点線が, MSEが最小となる$log(\\lambda)$となる."
      ],
      "id": "319ff23d-2e11-4547-b6bc-21517eae4931"
    },
    {
      "cell_type": "code",
      "execution_count": null,
      "metadata": {},
      "outputs": [],
      "source": [
        "autoplot(dia_EN_cv)"
      ],
      "id": "542ebbe9-f629-48b4-a9d5-aabb4bb930e5"
    },
    {
      "cell_type": "markdown",
      "metadata": {},
      "source": [
        "Cross-varidated errorの最小値, $\\lambda$の最小値,\n",
        "及びその対数値は以下の通り."
      ],
      "id": "df998d8a-2c17-40ef-9e70-fd7d184aa806"
    },
    {
      "cell_type": "code",
      "execution_count": null,
      "metadata": {},
      "outputs": [],
      "source": [
        "min(dia_EN_cv$cvm)\n",
        "dia_EN_cv$lambda.min\n",
        "log(dia_EN_cv$lambda.min)"
      ],
      "id": "4eabd183-a276-4bb3-acee-3999f08b3cee"
    },
    {
      "cell_type": "code",
      "execution_count": null,
      "metadata": {},
      "outputs": [],
      "source": [
        "autoplot(dia_EN, xvar = \"lambda\") +\n",
        "  geom_vline(xintercept = log(dia_EN_cv$lambda.min),\n",
        "             linetype   = \"dashed\")"
      ],
      "id": "c99bd82c-f5a4-402a-a3f7-daad226a20e7"
    },
    {
      "cell_type": "markdown",
      "metadata": {},
      "source": [
        "### EN回帰によって推定されたパラメータ\n",
        "\n",
        "MSEが最小となる時の$\\lambda$に対応するパラメータ."
      ],
      "id": "4d79e6b4-a15b-4fe8-af3a-2a91b70d653a"
    },
    {
      "cell_type": "code",
      "execution_count": null,
      "metadata": {},
      "outputs": [],
      "source": [
        "coef(dia_EN_cv, s = \"lambda.min\")"
      ],
      "id": "f4e90e06-10e7-4a10-88fa-95a63c30043d"
    },
    {
      "cell_type": "markdown",
      "metadata": {},
      "source": [
        "MSEが最小となるときのMSEの上側1seとなるときのλに対応するパラメータ."
      ],
      "id": "33194076-e188-411a-9db5-ce06ebb2135d"
    },
    {
      "cell_type": "code",
      "execution_count": null,
      "metadata": {},
      "outputs": [],
      "source": [
        "coef(dia_EN_cv, s = \"lambda.1se\")"
      ],
      "id": "b2eafd8e-50d1-4e41-aea0-e96cde1d5245"
    },
    {
      "cell_type": "markdown",
      "metadata": {},
      "source": [
        "### 推定結果の確認\n",
        "\n",
        "推定された結果を散布図上に表示して確認する."
      ],
      "id": "42c0224a-f0a2-411f-97c6-4853dff721e6"
    },
    {
      "cell_type": "code",
      "execution_count": null,
      "metadata": {},
      "outputs": [],
      "source": [
        "diabetes %>%\n",
        "  mutate(predict =\n",
        "           predict(dia_EN_cv, \n",
        "                   s = \"lambda.min\",\n",
        "                   newdata = .)) |>\n",
        "  ggplot() +\n",
        "  aes(x = y,\n",
        "      y = predict) +\n",
        "  geom_point() +\n",
        "  geom_abline(slope     = 1, \n",
        "              intercept = 0,\n",
        "              linetype  = \"dashed\")"
      ],
      "id": "61023b18-9388-4cf1-ac6b-8bde1650485b"
    }
  ],
  "nbformat": 4,
  "nbformat_minor": 5,
  "metadata": {
    "kernelspec": {
      "display_name": "Python 3",
      "language": "python",
      "name": "python3"
    }
  }
}