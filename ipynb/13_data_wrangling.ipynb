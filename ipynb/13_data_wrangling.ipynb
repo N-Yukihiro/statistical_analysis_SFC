{
  "cells": [
    {
      "cell_type": "markdown",
      "metadata": {},
      "source": [
        "# Rによるデータ整形\n",
        "\n",
        "# Why Do We Do Data Transformation?\n",
        "\n",
        "## 前処理の必要性\n",
        "\n",
        "これまで様々な統計手法を学んだ. その際には分析に適したデータを利用した.\n",
        "\n",
        "現実のデータを扱う際には,\n",
        "分析手法を実行できるようにする”前処理”が必要となる.\n",
        "現実のデータは多くの場合, 分析がしづらい状態で存在している.\n",
        "\n",
        "## なぜデータ整形をRで行うのか\n",
        "\n",
        "GUI\n",
        "\n",
        "-   ExcelなどのGUIでは操作の過程が残しづい\n",
        "-   似たようなデータで同じ作業をする場合,\n",
        "    1から同じ作業を繰り返す必要がある\n",
        "\n",
        "CUI\n",
        "\n",
        "-   全ての作業をコマンドとして入力する必要があり, 作業の過程は全て残せる\n",
        "-   作業過程を他人と共有でき, 手法の改善や再現性の確保が可能\n",
        "-   似たようなデータも入力するデータを変更すれば簡単に結果を得られる\n",
        "\n",
        "## パッケージの読み込み\n",
        "\n",
        "`tidyverse`パッケージ(`dplyr`パッケージなどを含むパッケージ)がデータの前処理にはとても便利.\n",
        "`tidylog`パッケージを利用すると具体的にどのような操作が行われたか示されるのではじめは読み込んでおくと良い."
      ],
      "id": "d18f8ec7-cc0a-41ca-8179-4a85d610596c"
    },
    {
      "cell_type": "code",
      "execution_count": null,
      "metadata": {},
      "outputs": [],
      "source": [
        "library(pacman)\n",
        "p_load(tidyverse, tidylog)"
      ],
      "id": "c824adea-f930-470f-976f-8fc7f9008a7a"
    },
    {
      "cell_type": "markdown",
      "metadata": {},
      "source": [
        "## 利用するデータ\n",
        "\n",
        "まず, R内にデフォルトで格納されている `iris`(アヤメの花のデータ) を使う."
      ],
      "id": "f71fe2bd-2949-4eb8-8830-65efcdb7b362"
    },
    {
      "cell_type": "code",
      "execution_count": null,
      "metadata": {},
      "outputs": [],
      "source": [
        "head(iris)"
      ],
      "id": "c4ccebe8-33f7-494f-9ea1-12a2a757336a"
    },
    {
      "cell_type": "markdown",
      "metadata": {},
      "source": [
        "## データ構造の確認\n",
        "\n",
        "`dplyr::glimpse()`関数を利用して, データ構造を確認する"
      ],
      "id": "ee70753c-8b71-4363-92e5-08a4ffc40e5d"
    },
    {
      "cell_type": "code",
      "execution_count": null,
      "metadata": {},
      "outputs": [],
      "source": [
        "dplyr::glimpse(iris)"
      ],
      "id": "68fb0667-e101-4e43-8c00-1dd71b08be70"
    },
    {
      "cell_type": "markdown",
      "metadata": {},
      "source": [
        "# 列選択(select)\n",
        "\n",
        "## 列を選択する\n",
        "\n",
        "列を選択するには `dplyr::select()`関数を利用する.\n",
        "第1引数に利用するデータ, それ以降にどの列を選択するのかなどを指定する.\n",
        "\n",
        "## 列名指定による選択\n",
        "\n",
        "`iris`のデータからがく片の長さの列を取り出す\n",
        "それぞれ取り出したい列名を指定する. ここでは,\n",
        "第1引数で指定すべきデータは, パイプ関数で繋げているため指定しない."
      ],
      "id": "2213a61d-17f3-4013-9b7b-0cff11a4b6e8"
    },
    {
      "cell_type": "code",
      "execution_count": null,
      "metadata": {},
      "outputs": [],
      "source": [
        "iris |> \n",
        "  select(Sepal.Length) |> \n",
        "  head()"
      ],
      "id": "bdf6a53d-1148-4373-8f34-b38073b5f681"
    },
    {
      "cell_type": "markdown",
      "metadata": {},
      "source": [
        "## 列番号指定による選択\n",
        "\n",
        "列選択は, 列の番号（最も左にあるものが1）で指定することもできる.\n",
        "1列目と3列目を取り出す."
      ],
      "id": "d5ded840-f75e-40a7-a248-8252a539f46d"
    },
    {
      "cell_type": "code",
      "execution_count": null,
      "metadata": {},
      "outputs": [],
      "source": [
        "iris |> \n",
        "  select(1, 3) |> \n",
        "  head()"
      ],
      "id": "370c10e6-8f4f-4800-af3c-385b4d0a0ff9"
    },
    {
      "cell_type": "markdown",
      "metadata": {},
      "source": [
        "## 連続する列の指定\n",
        "\n",
        "連続する列番号で指定することもできる. 1列目から3列目を取り出す."
      ],
      "id": "a75d0865-d107-4c43-9e69-033ad1bdec9d"
    },
    {
      "cell_type": "code",
      "execution_count": null,
      "metadata": {},
      "outputs": [],
      "source": [
        "iris |> \n",
        "  select(1:3) |> \n",
        "  head()"
      ],
      "id": "c8cb364f-0622-4567-a701-b86448dbd8f3"
    },
    {
      "cell_type": "markdown",
      "metadata": {},
      "source": [
        "連続する列はを列名でも指定できる.\n",
        "`Sepal.Length`の列から`Petal.Length`列までを取り出す."
      ],
      "id": "63806a8f-1c15-4f56-bead-0dfce8fa793e"
    },
    {
      "cell_type": "code",
      "execution_count": null,
      "metadata": {},
      "outputs": [],
      "source": [
        "iris |> \n",
        "  select(Sepal.Length:Petal.Length) |> \n",
        "  head()"
      ],
      "id": "eb853917-fcc5-4d9c-b765-5a8f5ee37d6a"
    },
    {
      "cell_type": "markdown",
      "metadata": {},
      "source": [
        "## 列の除外\n",
        "\n",
        "除きたい列がある場合には`!`もしくは`-`で除くことができる.\n",
        "`Species`を除く."
      ],
      "id": "e7f4152f-7d4b-4ebe-a874-28857551a338"
    },
    {
      "cell_type": "code",
      "execution_count": null,
      "metadata": {},
      "outputs": [],
      "source": [
        "iris |> \n",
        "  select(!Species) |> \n",
        "  head()"
      ],
      "id": "6004550e-55c9-4776-9cd0-2f29efd44853"
    },
    {
      "cell_type": "markdown",
      "metadata": {},
      "source": [
        "除きたい列は`c()`で複数選択することもできる."
      ],
      "id": "5b4e43c3-e17a-4c1c-9f26-d3da530d3378"
    },
    {
      "cell_type": "code",
      "execution_count": null,
      "metadata": {},
      "outputs": [],
      "source": [
        "iris |> \n",
        "  select(!c(Sepal.Length, \n",
        "            Petal.Length)) |> \n",
        "  head()"
      ],
      "id": "904c66b2-84ec-4779-998a-e624ac77e5ac"
    },
    {
      "cell_type": "markdown",
      "metadata": {},
      "source": [
        "## 文字列の一致による列選択(前方一致)\n",
        "\n",
        "指定した文字列と一致する列を選択することもできる.\n",
        "列名の前方一致で列を選択するには, 第2引数以降に`starts_with(\" \")`と書く\n",
        "デフォルトでは`\" \"`の中の文字の大文字と小文字は区別されない."
      ],
      "id": "68ce7d59-9e15-4486-9b45-05e5fda783f0"
    },
    {
      "cell_type": "code",
      "execution_count": null,
      "metadata": {},
      "outputs": [],
      "source": [
        "iris |> \n",
        "  select(starts_with(\"petal\")) |> \n",
        "  head()"
      ],
      "id": "25a35565-6b7f-4ef1-b798-f83b5ed30ccd"
    },
    {
      "cell_type": "markdown",
      "metadata": {},
      "source": [
        "## 文字列の一致による列選択(後方一致)\n",
        "\n",
        "列名の後方一致で列を選択するには, 第2引数以降に`ends_with(\" \")`と書く.\n",
        "大文字と小文字を区別するためには, `ignore.case = FALSE`を追記する."
      ],
      "id": "88d98c79-3a4c-4f3e-9ce5-08d50755a295"
    },
    {
      "cell_type": "code",
      "execution_count": null,
      "metadata": {},
      "outputs": [],
      "source": [
        "iris |> \n",
        "  select(ends_with(\"Length\", \n",
        "                   ignore.case = FALSE)) |> \n",
        "  head()"
      ],
      "id": "812c2f5f-76bc-47e7-ac31-daa48bbbc2aa"
    },
    {
      "cell_type": "markdown",
      "metadata": {},
      "source": [
        "## 文字列の一致による列選択(部分一致)\n",
        "\n",
        "列名の部分一致で列を選択するには, 第2引数以降に`contains(\" \")`と書く."
      ],
      "id": "8de22946-10fb-4185-ae2c-c4106c817064"
    },
    {
      "cell_type": "code",
      "execution_count": null,
      "metadata": {},
      "outputs": [],
      "source": [
        "iris |> \n",
        "  select(contains(\"al\")) |> \n",
        "  head()"
      ],
      "id": "d092d6dc-4e44-4920-bcc1-03ad956e6f38"
    },
    {
      "cell_type": "markdown",
      "metadata": {},
      "source": [
        "## 文字列の一致による列選択(正規表現)\n",
        "\n",
        "正規表現で列を選択することもできる. 第2引数以降に`matches(\".*.\")`と書く."
      ],
      "id": "a80ff2d9-6a89-4dfe-82cf-4e1fe631d252"
    },
    {
      "cell_type": "code",
      "execution_count": null,
      "metadata": {},
      "outputs": [],
      "source": [
        "iris |> \n",
        "  select(matches(\".i.\")) |> \n",
        "  head()"
      ],
      "id": "859def1f-36a6-49ef-8667-ba164053df4d"
    },
    {
      "cell_type": "markdown",
      "metadata": {},
      "source": [
        "## 文字列の一致による列選択(事前指定)\n",
        "\n",
        "指定したい列名をあらかじめ指定し, その列を選択することもできる.\n",
        "あらかじめ指定した列名を選択するには`one_of()`と書き, 指定する."
      ],
      "id": "3636b992-247c-4384-b3ee-b8f74ba0a8f6"
    },
    {
      "cell_type": "code",
      "execution_count": null,
      "metadata": {},
      "outputs": [],
      "source": [
        "var_list <- c(\"Sepal.Length\", \"Petal.Width\")\n",
        "iris |> \n",
        "  select(one_of(var_list)) |> \n",
        "  head()"
      ],
      "id": "a3ae5759-8e12-4751-bf8d-1082fb484470"
    },
    {
      "cell_type": "markdown",
      "metadata": {},
      "source": [
        "## 列名の変更\n",
        "\n",
        "列名を別の名前に置き換えて選択することもできる. そのためには,\n",
        "`新しい列名 = 選択したい列名`と書く."
      ],
      "id": "2d6eafdf-ec7d-4d6c-bc1b-2652bbf5cc98"
    },
    {
      "cell_type": "code",
      "execution_count": null,
      "metadata": {},
      "outputs": [],
      "source": [
        "iris |> \n",
        "  select(var = Species) |> \n",
        "  head()"
      ],
      "id": "afcd2cdd-4e0d-46f1-969d-5046123bc526"
    },
    {
      "cell_type": "markdown",
      "metadata": {},
      "source": [
        "置き換えたい列が複数ある場合は連番を振ってくれる."
      ],
      "id": "02885b47-cb68-4f1f-a83f-176c152eb318"
    },
    {
      "cell_type": "code",
      "execution_count": null,
      "metadata": {},
      "outputs": [],
      "source": [
        "iris |> \n",
        "  select(var = contains(\"al\")) |> \n",
        "  head()"
      ],
      "id": "75ed5251-daee-467c-a121-672ef450f62f"
    },
    {
      "cell_type": "markdown",
      "metadata": {},
      "source": [
        "列名を変更するだけであれば`rename()`関数が利用できる."
      ],
      "id": "a079787c-2539-4634-b108-a5cf17ec0e4e"
    },
    {
      "cell_type": "code",
      "execution_count": null,
      "metadata": {},
      "outputs": [],
      "source": [
        "iris |> \n",
        "  rename(var = Species) |> \n",
        "  head()"
      ],
      "id": "6cbc7bd6-e534-475f-b370-7de30713c699"
    },
    {
      "cell_type": "markdown",
      "metadata": {},
      "source": [
        "連番で並んでいる列を利用して選択することもできる.\n",
        "その際には`num_range()`を利用し, `prefix`に共通する列名,\n",
        "`range`に連番の範囲, `width`に連番の桁数を指定する."
      ],
      "id": "6926f8b0-0089-464c-bc90-062a8348c8de"
    },
    {
      "cell_type": "code",
      "execution_count": null,
      "metadata": {},
      "outputs": [],
      "source": [
        "dat <- iris |> \n",
        "  select(var = contains(\"al\"))\n",
        "dat |> \n",
        "  select(num_range(prefix = \"var\", \n",
        "                   range  = 1:3, \n",
        "                   width  = 1)) |> \n",
        "  head()"
      ],
      "id": "41ad0521-a1e1-4cf9-a13f-8b732bc46ec8"
    },
    {
      "cell_type": "markdown",
      "metadata": {},
      "source": [
        "# 行選択(filter)\n",
        "\n",
        "## 行を選択する\n",
        "\n",
        "行を選択するには`dplyr::filter()`関数を利用する.\n",
        "第一引数に利用するデータ, それ以降に行を選択する条件などを指定する.\n",
        "`iris`のデータからがく片の長さが平均(5.84)より大きい行を取り出す."
      ],
      "id": "cc510f0b-46ea-4ca4-a1da-605a0e5e4ae5"
    },
    {
      "cell_type": "code",
      "execution_count": null,
      "metadata": {},
      "outputs": [],
      "source": [
        "iris |> \n",
        "  dplyr::filter(Sepal.Length > 5.84) |> \n",
        "  head()"
      ],
      "id": "0386832b-0cd4-4664-8169-02a3beadb217"
    },
    {
      "cell_type": "markdown",
      "metadata": {},
      "source": [
        "## 条件に一致しない行の選択\n",
        "\n",
        "単一の値と等しくない行を選択するには`!=`で指定する."
      ],
      "id": "d77ce9a4-3a48-479c-a6d2-ff90c22909ce"
    },
    {
      "cell_type": "code",
      "execution_count": null,
      "metadata": {},
      "outputs": [],
      "source": [
        "iris |> \n",
        "  filter(Species != \"versicolor\") |> \n",
        "  head()"
      ],
      "id": "368b3114-3d84-4dd9-a753-375fe90f0227"
    },
    {
      "cell_type": "markdown",
      "metadata": {},
      "source": [
        "## 条件の範囲に該当する行の選択\n",
        "\n",
        "条件に当てはまる範囲で行を選択することもできる.\n",
        "その際には`between()`で指定する."
      ],
      "id": "82ab8217-e067-47d9-b93a-2ecd4e255b5c"
    },
    {
      "cell_type": "code",
      "execution_count": null,
      "metadata": {},
      "outputs": [],
      "source": [
        "iris |> \n",
        "  filter(between(Sepal.Length, 5, 6)) |> \n",
        "  head()"
      ],
      "id": "0728b445-522b-47fa-88eb-3c3e4b5e18c9"
    },
    {
      "cell_type": "markdown",
      "metadata": {},
      "source": [
        "## 複数条件による行の選択(論理和)\n",
        "\n",
        "複数条件で行を選択する際に「または(論理和)」で指定することもできる.\n",
        "論理和を利用する際には条件を`|`でつなぐ."
      ],
      "id": "4d19a375-1ccb-4737-a9c9-7c921f2dbf4e"
    },
    {
      "cell_type": "code",
      "execution_count": null,
      "metadata": {},
      "outputs": [],
      "source": [
        "iris |> \n",
        "  filter(Species != \"setosa\" | Sepal.Length > 5.5) |> \n",
        "  head()"
      ],
      "id": "f9085e6d-6fee-4f06-9176-1833265480ff"
    },
    {
      "cell_type": "markdown",
      "metadata": {},
      "source": [
        "## 複数条件による行の選択(論理積)\n",
        "\n",
        "複数条件で行を選択する際に「かつ(論理積)」で指定することもできる.\n",
        "論理積を利用する際には条件を`&`または`,`でつなぐ."
      ],
      "id": "af48645f-477e-40f6-97a1-d324c69b4531"
    },
    {
      "cell_type": "code",
      "execution_count": null,
      "metadata": {},
      "outputs": [],
      "source": [
        "iris |> \n",
        "  filter(Species != \"setosa\" & Sepal.Length > 5.5) |> \n",
        "  head()"
      ],
      "id": "428dd2f9-a590-4428-b921-08186a0d1557"
    },
    {
      "cell_type": "markdown",
      "metadata": {},
      "source": [
        "## 複数条件による行の選択(排他的論理和)\n",
        "\n",
        "同様に排他的論理和を選択することもできる."
      ],
      "id": "3c8d0273-bbf8-4e96-ad8a-c2e6ede85d21"
    },
    {
      "cell_type": "code",
      "execution_count": null,
      "metadata": {},
      "outputs": [],
      "source": [
        "iris |> \n",
        "  filter(xor(Sepal.Length > 5.84, \n",
        "             Petal.Length >= 3.76)) |> \n",
        "  head()"
      ],
      "id": "40f6ca6b-1ed2-4b90-9b17-212a857c75c1"
    },
    {
      "cell_type": "markdown",
      "metadata": {},
      "source": [
        "## 部分集合を利用した行の選択\n",
        "\n",
        "部分集合に一致する行を選択するには`%in%`演算子を利用する."
      ],
      "id": "4ac45a05-eb05-478e-b1ca-3e85374f3ea8"
    },
    {
      "cell_type": "code",
      "execution_count": null,
      "metadata": {},
      "outputs": [],
      "source": [
        "iris |> \n",
        "  filter(Species %in% c(\"setosa\", \"virginica\")) |> \n",
        "  head()"
      ],
      "id": "d2b5f47b-fe3f-42bc-8248-666fc5d2104b"
    },
    {
      "cell_type": "markdown",
      "metadata": {},
      "source": [
        "# その他の行操作\n",
        "\n",
        "## 重複の削除(distinct)\n",
        "\n",
        "重複を削除するには`dplyr::distinct()`関数を利用する."
      ],
      "id": "164a376c-2785-4876-accf-1ebe12630c84"
    },
    {
      "cell_type": "code",
      "execution_count": null,
      "metadata": {},
      "outputs": [],
      "source": [
        "iris |> \n",
        "  distinct(Species) |> \n",
        "  head()"
      ],
      "id": "21648702-b128-453e-a604-fa271094f39d"
    },
    {
      "cell_type": "markdown",
      "metadata": {},
      "source": [
        "指定した列以外も残す場合には`.keep_all = TRUE`と記載する.\n",
        "結果を見ると`setosa`, `versicolor`,\n",
        "`virginica`のそれぞれ最初に登場した行が選択されている."
      ],
      "id": "b0e92f1b-1114-4761-a922-bc3909213ce7"
    },
    {
      "cell_type": "code",
      "execution_count": null,
      "metadata": {},
      "outputs": [],
      "source": [
        "iris |> \n",
        "  distinct(Species, .keep_all = TRUE) |> \n",
        "  head()"
      ],
      "id": "ce43c15b-1749-47dc-a5a7-fac48200b99f"
    },
    {
      "cell_type": "markdown",
      "metadata": {},
      "source": [
        "## 行番号による抽出\n",
        "\n",
        "行番号を指定して行を選択するには`dplyr::slice()`を利用する."
      ],
      "id": "e6ddb774-29b6-44ff-b13f-366cf528c8cc"
    },
    {
      "cell_type": "code",
      "execution_count": null,
      "metadata": {},
      "outputs": [],
      "source": [
        "iris |> \n",
        "  slice(10:15) |> \n",
        "  head()"
      ],
      "id": "2bf3d714-2f54-4019-b5c0-06b23154ee5a"
    },
    {
      "cell_type": "markdown",
      "metadata": {},
      "source": [
        "# 列変換(mutate)\n",
        "\n",
        "## 列を変換する\n",
        "\n",
        "列を変換するには`dplyr::mutate()`関数を利用する.\n",
        "第一引数に利用するデータ,\n",
        "それ以降に追加する列名とどのように変換するのかなどを指定する.\n",
        "`iris`のデータからがく片の長さを2倍したものと2乗したものをそれぞれ`twice`と`square`に格納する."
      ],
      "id": "2238cdfa-ce6a-45be-bc0f-fa4a509477dc"
    },
    {
      "cell_type": "code",
      "execution_count": null,
      "metadata": {},
      "outputs": [],
      "source": [
        "iris |> \n",
        "  dplyr::mutate(twice  = Sepal.Length * 2,\n",
        "                square = Sepal.Length^2) |> \n",
        "  head()"
      ],
      "id": "940618e7-2cc5-40fe-8a6d-cca24c8a2fd9"
    },
    {
      "cell_type": "markdown",
      "metadata": {},
      "source": [
        "## 列の上書き\n",
        "\n",
        "追加する列名の場所に既存の列名を指定すると値が上書きされる."
      ],
      "id": "9e0ee945-50da-4029-99cd-89b8420ec400"
    },
    {
      "cell_type": "code",
      "execution_count": null,
      "metadata": {},
      "outputs": [],
      "source": [
        "iris |> \n",
        "  dplyr::mutate(Sepal.Length = Sepal.Length * 2) |> \n",
        "  head()"
      ],
      "id": "9ebe2661-02f3-441f-aff0-921429a9b5fe"
    },
    {
      "cell_type": "markdown",
      "metadata": {},
      "source": [
        "## if文を利用した列変換\n",
        "\n",
        "if文を利用して条件に従って値を指定することができる."
      ],
      "id": "2251fc4c-412f-4356-99bf-e94eb1334f83"
    },
    {
      "cell_type": "code",
      "execution_count": null,
      "metadata": {},
      "outputs": [],
      "source": [
        "iris |> \n",
        "  mutate(TF = if_else(condition = \n",
        "                        Sepal.Length > mean(iris$Sepal.Length),\n",
        "                      true      = TRUE, \n",
        "                      false     = FALSE)) |> \n",
        "  head()"
      ],
      "id": "400da8fb-8f97-4c5b-824f-d3595cdceff6"
    },
    {
      "cell_type": "markdown",
      "metadata": {},
      "source": [
        "## 複数条件を利用した列変換\n",
        "\n",
        "複数の条件を利用するには`case_when()`を利用する."
      ],
      "id": "16424eb8-dbcf-4360-9600-3682489c6f0b"
    },
    {
      "cell_type": "code",
      "execution_count": null,
      "metadata": {},
      "outputs": [],
      "source": [
        "iris |> \n",
        "  mutate(SpeciesNo = case_when(\n",
        "    Species == \"setosa\"     ~ \"A\",\n",
        "    Species == \"versicolor\" ~ \"B\",\n",
        "    TRUE                    ~ \"C\"\n",
        "  )) |> \n",
        "  head()"
      ],
      "id": "ae78ca54-0174-4efd-a411-5d6d1c5faf61"
    },
    {
      "cell_type": "markdown",
      "metadata": {},
      "source": [
        "# 縦横変換(pivot_longer, pivot_wider)\n",
        "\n",
        "## 縦横変換する\n",
        "\n",
        "横型データを縦型データにしたり, その逆にしたりするには,\n",
        "`tidyr::pivot_longer()`, `tidyr::pivot_wider()`を利用する.\n",
        "\n",
        "コンピューター言語は基本的に縦型データのほうが扱いやすい.\n",
        "R界隈では特にtidy dataという.\n",
        "\n",
        "## 縦型データへの変換\n",
        "\n",
        "`pivot_longer()`関数の場合は, 第1引数に利用するデータ,\n",
        "第2引数に残す列名, 第3引数に元の変数名を格納する列名,\n",
        "第4引数に元の変数の値を格納する列名を指定する.\n",
        "ここでは先に各個体にidを振っている.\n",
        "\n",
        "`iris`のデータを使って, 種別以外の変数を縦型に変換する."
      ],
      "id": "e4ba893e-7912-42da-abac-bc9c0d5a465d"
    },
    {
      "cell_type": "code",
      "execution_count": null,
      "metadata": {},
      "outputs": [],
      "source": [
        "iris_long <- iris |> \n",
        " rowid_to_column(\"id\") |> \n",
        "  pivot_longer(cols      = !c(id, Species),\n",
        "               names_to  = \"Var\",\n",
        "               values_to = \"value\") \n",
        "iris_long |> head()"
      ],
      "id": "bdc9f032-92e7-474e-88ff-17d7301a1655"
    },
    {
      "cell_type": "markdown",
      "metadata": {},
      "source": [
        "## 横型データへの変換\n",
        "\n",
        "`pivot_wider()`関数の場合は, 第1引数に利用するデータ,\n",
        "第2引数に変数名が格納してある列名,\n",
        "第3引数に変数の値が格納してある列名を指定する."
      ],
      "id": "fd828302-a239-48a8-b60d-717a1da1dcb9"
    },
    {
      "cell_type": "code",
      "execution_count": null,
      "metadata": {},
      "outputs": [],
      "source": [
        "iris_long |> \n",
        "  pivot_wider(names_from  = Var,\n",
        "              values_from = value) |> \n",
        "  head()"
      ],
      "id": "5f69444f-c9e6-49f5-8b50-fb02201ce6a9"
    },
    {
      "cell_type": "markdown",
      "metadata": {},
      "source": [
        "## 縦型データを利用した作図\n",
        "\n",
        "縦型データなら複数のグラフも簡単に描画できる."
      ],
      "id": "16c8fafe-47de-4691-bdf5-ead550476507"
    },
    {
      "cell_type": "code",
      "execution_count": null,
      "metadata": {},
      "outputs": [],
      "source": [
        "ggplot(iris_long) +\n",
        "  aes(x    = value,\n",
        "      fill = Species) +\n",
        "  geom_histogram() +\n",
        "  facet_wrap(~Var, \n",
        "             scales = \"free\")"
      ],
      "id": "29bc4dad-cff1-4d26-a4e0-555d94cb4e09"
    },
    {
      "cell_type": "markdown",
      "metadata": {},
      "source": [
        "同じようなことを通常のwideなデータで行う\n",
        "`patchwork`パッケージを使うと複数のグラフを並べやすい."
      ],
      "id": "bbe796f1-cabe-461c-867d-754e830797f8"
    },
    {
      "cell_type": "code",
      "execution_count": null,
      "metadata": {},
      "outputs": [],
      "source": [
        "p_load(patchwork)\n",
        "p <- ggplot(iris) +\n",
        "  aes(fill = Species)\n",
        "p1 <- p +\n",
        "  geom_histogram(aes(x = Petal.Length))\n",
        "p2 <- p +\n",
        "  geom_histogram(aes(x = Petal.Width))\n",
        "p3 <- p +\n",
        "  geom_histogram(aes(x = Sepal.Length))\n",
        "p4 <- p +\n",
        "  geom_histogram(aes(x = Sepal.Width))\n",
        "(p1 + p2) / (p3 + p4) +\n",
        "  plot_layout(guides = 'collect')"
      ],
      "id": "b4621bee-f8ae-42b4-9a16-b9c86dd09936"
    },
    {
      "cell_type": "markdown",
      "metadata": {},
      "source": [
        "# データ結合(\\*\\_join)\n",
        "\n",
        "## データを結合する\n",
        "\n",
        "データセットとデータセットを結合するには, `*_join`関数群を使う.\n",
        "`iris`のデータだと使いづらいので, `band_*` のデータを使う.\n",
        "\n",
        "members"
      ],
      "id": "293b483d-3ffd-407f-a64e-5753661a9ea9"
    },
    {
      "cell_type": "code",
      "execution_count": null,
      "metadata": {},
      "outputs": [],
      "source": [
        "dplyr::band_members"
      ],
      "id": "997ffe6a-6b62-4b2d-ae6b-838c2b919c5e"
    },
    {
      "cell_type": "markdown",
      "metadata": {},
      "source": [
        "instruments"
      ],
      "id": "266fa3ea-804b-4f41-871b-9d674894f966"
    },
    {
      "cell_type": "code",
      "execution_count": null,
      "metadata": {},
      "outputs": [],
      "source": [
        "dplyr::band_instruments"
      ],
      "id": "02ee2a0a-febc-4eee-b4bb-17b69515671d"
    },
    {
      "cell_type": "markdown",
      "metadata": {},
      "source": [
        "instruments2"
      ],
      "id": "194837c6-920c-4c99-a967-1ad950c6bd61"
    },
    {
      "cell_type": "code",
      "execution_count": null,
      "metadata": {},
      "outputs": [],
      "source": [
        "dplyr::band_instruments2"
      ],
      "id": "d88ea47a-a811-4b89-a9a2-b0d64d015abc"
    },
    {
      "cell_type": "markdown",
      "metadata": {},
      "source": [
        "## `full_join()`\n",
        "\n",
        "2つのデータセットの全ての行と列を結合するには`dplyr::full_join()`関数を使う\n",
        "第1引数に結合されるデータ, 第2引数に結合するデータ,\n",
        "第3引数に結合に使用する列を指定す"
      ],
      "id": "42d1d7e3-6216-4177-8f50-478195a3f58f"
    },
    {
      "cell_type": "code",
      "execution_count": null,
      "metadata": {},
      "outputs": [],
      "source": [
        "full_join(band_members, \n",
        "          band_instruments,\n",
        "          by = \"name\")"
      ],
      "id": "2712d19c-dc70-49c7-b5c7-0da0abe2b573"
    },
    {
      "cell_type": "markdown",
      "metadata": {},
      "source": [
        "## `left_join()`\n",
        "\n",
        "左側のデータセットにある行を基準に右側のデータセットを結合するには`dplyr::left_join()`関数を使う\n",
        "結合に利用するキーとなる列名が異なる場合は, `c(\"A\" = \"B\")`とする"
      ],
      "id": "276a7974-b209-442b-b8f6-ae3713cec20e"
    },
    {
      "cell_type": "code",
      "execution_count": null,
      "metadata": {},
      "outputs": [],
      "source": [
        "left_join(band_members,\n",
        "          band_instruments2,\n",
        "          by = c(\"name\" = \"artist\"))"
      ],
      "id": "8353af9a-adf4-4a06-9e59-78e804a0b2fd"
    },
    {
      "cell_type": "markdown",
      "metadata": {},
      "source": [
        "## `inner_join()`\n",
        "\n",
        "一致する行だけを残したい場合は`dplyr::inner_join()`関数を使う"
      ],
      "id": "cc74f1db-7ff3-4c6e-916a-b8478c21c946"
    },
    {
      "cell_type": "code",
      "execution_count": null,
      "metadata": {},
      "outputs": [],
      "source": [
        "inner_join(band_members,\n",
        "           band_instruments,\n",
        "           by = \"name\")"
      ],
      "id": "e8c8186d-4c79-47e5-96cb-7e148ae4abfc"
    },
    {
      "cell_type": "markdown",
      "metadata": {},
      "source": [
        "## `semi_join()`\n",
        "\n",
        "一致する行だけを残し, なおかつ結合されるデータの列のみを残すには,\n",
        "`dplyr::semi_join()`関数を使う"
      ],
      "id": "6d71c01e-6a22-4831-8907-8ac9294c654c"
    },
    {
      "cell_type": "code",
      "execution_count": null,
      "metadata": {},
      "outputs": [],
      "source": [
        "semi_join(band_members,\n",
        "          band_instruments,\n",
        "          by = \"name\")"
      ],
      "id": "4f2f848b-b752-4ec0-b6cf-8f5b63d69465"
    },
    {
      "cell_type": "markdown",
      "metadata": {},
      "source": [
        "## `anti_join()`\n",
        "\n",
        "一致しなかった行だけを選択するには`dplyr::anti_join()`関数を使う"
      ],
      "id": "ea2959b5-57cb-473a-b92d-9bddd9030776"
    },
    {
      "cell_type": "code",
      "execution_count": null,
      "metadata": {},
      "outputs": [],
      "source": [
        "anti_join(band_members, \n",
        "          band_instruments,\n",
        "          by = \"name\")"
      ],
      "id": "a6d94bb9-5711-490f-9930-701879569633"
    },
    {
      "cell_type": "markdown",
      "metadata": {},
      "source": [
        "## `bind_cols()`\n",
        "\n",
        "データセットとデータセットを横に結合する(列を増やす)には`dplyr::bind_cols()`関数を使う"
      ],
      "id": "ba2c55b6-1ef0-42a8-bc9e-79099a64f863"
    },
    {
      "cell_type": "code",
      "execution_count": null,
      "metadata": {},
      "outputs": [],
      "source": [
        "bind_cols(band_instruments,\n",
        "          band_instruments2)"
      ],
      "id": "6388b77e-7fa1-4d74-ab65-b0412a7f555d"
    },
    {
      "cell_type": "markdown",
      "metadata": {},
      "source": [
        "## `bind_rows()`\n",
        "\n",
        "データセットとデータセットを縦に結合する(行を増やす)には`dplyr::bind_rows()`関数を使う"
      ],
      "id": "d880f3d5-acdc-4f59-9f58-3ec80914b0ea"
    },
    {
      "cell_type": "code",
      "execution_count": null,
      "metadata": {},
      "outputs": [],
      "source": [
        "bind_rows(band_instruments, \n",
        "          band_instruments)"
      ],
      "id": "bab18591-7975-4ed2-b382-8c5d6e5b362e"
    },
    {
      "cell_type": "markdown",
      "metadata": {},
      "source": [
        "# e-statのデータをRを使って整形\n",
        "\n",
        "e-statなどのオープンデータはそのままではRでは利用できないことが多い\n",
        "ここまでで扱ったことなどを総動員してデータを整形する"
      ],
      "id": "de25377c-1a42-4335-bdcc-2b94be4c7fe6"
    },
    {
      "cell_type": "code",
      "execution_count": null,
      "metadata": {},
      "outputs": [],
      "source": [
        "dat <- readxl::read_excel(here::here('data', 'sample.xls'),\n",
        "                          skip = 12) |> \n",
        "  select(!c(1:8, 11)) |> \n",
        "  slice(7:53) |> \n",
        "  rename(pref_code = 1, \n",
        "         pref_name = 2,\n",
        "         pref_en   = 3,\n",
        "         pop       = 4) |> \n",
        "  select(1:4, 18:22) |> \n",
        "  pivot_longer(cols      = !c(1:4),\n",
        "               names_to  = \"age\",\n",
        "               values_to = \"value\") |> \n",
        "  mutate(value = as.numeric(value),\n",
        "         pop   = as.numeric(pop)) |> \n",
        "  group_by(pref_code) |> \n",
        "  summarise(pref_name = first(pref_name),\n",
        "            pop       = first(pop),\n",
        "            over65    = sum(value)) |> \n",
        "  mutate(aged_ratio = over65 / pop)\n",
        "\n",
        "dat |> head()"
      ],
      "id": "3f1cb08d-2b8e-4d0d-acd2-ecd12b7ccf61"
    }
  ],
  "nbformat": 4,
  "nbformat_minor": 5,
  "metadata": {
    "kernelspec": {
      "display_name": "Python 3",
      "language": "python",
      "name": "python3"
    }
  }
}