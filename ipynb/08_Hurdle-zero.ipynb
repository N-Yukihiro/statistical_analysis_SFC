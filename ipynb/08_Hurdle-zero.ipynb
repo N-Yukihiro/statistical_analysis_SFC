{
  "cells": [
    {
      "cell_type": "markdown",
      "metadata": {},
      "source": [
        "# Hurdleモデル ゼロ過剰モデル\n",
        "\n",
        "### 今日使うデータ\n",
        "\n",
        "`AER`パッケージに含まれている`NMES1988`データを用いる.\n",
        "1987年から1988年に実施された米国全国医療費調査（NMES）. 対象は66歳以上."
      ],
      "id": "53bb283a-848e-4b5c-9548-74512b213fcc"
    },
    {
      "cell_type": "code",
      "execution_count": null,
      "metadata": {},
      "outputs": [],
      "source": [
        "library(pacman)\n",
        "p_load(AER)\n",
        "data(\"NMES1988\")"
      ],
      "id": "e582d5c9-8aa5-4a58-b517-fe0715db4ca4"
    },
    {
      "cell_type": "markdown",
      "metadata": {},
      "source": [
        "### 変数の説明\n",
        "\n",
        "`NMES1988`データの中には診療所(physician\n",
        "office)への訪問回数(`visits`)や入院日数(`hospital`),\n",
        "健康状態に対する自己認識(`health`)などが含まれている."
      ],
      "id": "42a7e97e-e1a7-4b46-b406-249ceca34b44"
    },
    {
      "cell_type": "code",
      "execution_count": null,
      "metadata": {},
      "outputs": [],
      "source": [
        "names(NMES1988)"
      ],
      "id": "36923bbc-b3af-450c-9fa9-de0786c0d3fe"
    },
    {
      "cell_type": "markdown",
      "metadata": {},
      "source": [
        "### データ構造の確認\n",
        "\n",
        "サンプルサイズは4406と比較的大きなデータとなっている.\n",
        "基本は整数値(integer)だが,\n",
        "値に文字が表示されるものは因子(factor)になっている."
      ],
      "id": "07f1dce0-a5a0-44c6-8c4f-062cdf1c91ad"
    },
    {
      "cell_type": "code",
      "execution_count": null,
      "metadata": {},
      "outputs": [],
      "source": [
        "p_load(dplyr)\n",
        "glimpse(NMES1988)"
      ],
      "id": "43934f99-7ed8-43ec-bf4d-5aa85bf0e9f5"
    },
    {
      "cell_type": "markdown",
      "metadata": {},
      "source": [
        "### データの要約統計量\n",
        "\n",
        "データの要約統計量を確認する."
      ],
      "id": "0b98a81a-d1fb-4b68-8bc1-3145fc2c2beb"
    },
    {
      "cell_type": "code",
      "execution_count": null,
      "metadata": {},
      "outputs": [],
      "source": [
        "summary(NMES1988)"
      ],
      "id": "43e4d3bf-a269-4639-9d8b-0535b88d5747"
    },
    {
      "cell_type": "markdown",
      "metadata": {},
      "source": [
        "### データの平均と分散\n",
        "\n",
        "`summarise()`関数を利用して平均と分散を計算する."
      ],
      "id": "c0956fef-55de-4cbb-a8c2-3f4d0f348c0d"
    },
    {
      "cell_type": "code",
      "execution_count": null,
      "metadata": {},
      "outputs": [],
      "source": [
        "NMES1988 |> \n",
        "  summarise(mean  = mean(visits),\n",
        "            var   = var(visits),\n",
        "            ratio = var(visits) / mean(visits))"
      ],
      "id": "1c8cd47b-2386-4011-baa2-68ac6b72e01d"
    },
    {
      "cell_type": "markdown",
      "metadata": {},
      "source": [
        "### ヒストグラム\n",
        "\n",
        "データの概要をヒストグラムを描画して確認する."
      ],
      "id": "93e887dc-2147-47bd-9220-cbb98ef6764e"
    },
    {
      "cell_type": "code",
      "execution_count": null,
      "metadata": {},
      "outputs": [],
      "source": [
        "p_load(ggplot2)\n",
        "ggplot(NMES1988) +\n",
        "  aes(visits) +\n",
        "  geom_histogram()"
      ],
      "id": "310e8eb5-e5bc-433d-a016-8e4ed0f309b6"
    },
    {
      "cell_type": "markdown",
      "metadata": {},
      "source": [
        "### ペアプロット\n",
        "\n",
        "変数間の関係をペアプロットで確認する.\n",
        "`dplyr::select()`関数を利用してペアプロットをしたい変数に絞ってから行う."
      ],
      "id": "1c49c10f-0949-4e70-8eff-3fb691a2fb02"
    },
    {
      "cell_type": "code",
      "execution_count": null,
      "metadata": {},
      "outputs": [],
      "source": [
        "p_load(GGally)\n",
        "NMES1988 |> \n",
        "  dplyr::select(visits,\n",
        "                hospital,\n",
        "                health,\n",
        "                age, \n",
        "                income) |> \n",
        "  ggpairs()"
      ],
      "id": "310da09b-a8a2-44a0-a466-ca60d5e0e77e"
    },
    {
      "cell_type": "markdown",
      "metadata": {},
      "source": [
        "# モデル推定\n",
        "\n",
        "### ポアソン回帰モデルの推定\n",
        "\n",
        "まず, ポアソン回帰モデルを推定する."
      ],
      "id": "da46fc09-1570-4350-b603-2f13c33f2b73"
    },
    {
      "cell_type": "code",
      "execution_count": null,
      "metadata": {},
      "outputs": [],
      "source": [
        "formula <- formula(visits ~ hospital + health + chronic +\n",
        "                            adl + region + age + afam + \n",
        "                            gender + married + \n",
        "                            school + income + insurance)\n",
        "nmes_poi <- glm(formula, \n",
        "                data   = NMES1988, \n",
        "                family = poisson(link = \"log\"))"
      ],
      "id": "313df429-612c-4d56-8c5e-90e86638f96e"
    },
    {
      "cell_type": "markdown",
      "metadata": {},
      "source": [
        "### ポアソン回帰モデルの結果\n",
        "\n",
        "`jtools`パッケージの`summ()`関数を利用して結果を確認する."
      ],
      "id": "80f994cc-2dc3-48ab-a572-a19a66fbad93"
    },
    {
      "cell_type": "code",
      "execution_count": null,
      "metadata": {},
      "outputs": [],
      "source": [
        "p_load(jtools)\n",
        "summ(nmes_poi)"
      ],
      "id": "19f8a1f5-0018-47d6-9676-5ff4ca346af3"
    },
    {
      "cell_type": "markdown",
      "metadata": {},
      "source": [
        "### 推定結果の確認(グラフ)\n",
        "\n",
        "推定された結果を散布図上に表示して確認する."
      ],
      "id": "e10e851c-7c38-47ff-893d-2f2cb34b7653"
    },
    {
      "cell_type": "code",
      "execution_count": null,
      "metadata": {},
      "outputs": [],
      "source": [
        "NMES1988 |> \n",
        "  mutate(\n",
        "    predict = predict(nmes_poi,\n",
        "                      type = \"response\")) |> \n",
        "  ggplot() +\n",
        "  aes(x = visits,\n",
        "      y = predict) +\n",
        "  geom_point() +\n",
        "  geom_abline(slope     = 1, \n",
        "              intercept = 0, \n",
        "              linetype  = \"dashed\")"
      ],
      "id": "37f2fc01-c522-4369-b61b-9c7206b41868"
    },
    {
      "cell_type": "markdown",
      "metadata": {},
      "source": [
        "### 負の二項分布モデルの推定\n",
        "\n",
        "まず, 負の二項分布モデルを推定する."
      ],
      "id": "a9da4b8f-8e92-4cfb-b9e2-fe6a0c8bdc1a"
    },
    {
      "cell_type": "code",
      "execution_count": null,
      "metadata": {},
      "outputs": [],
      "source": [
        "p_load(MASS)\n",
        "nmes_nb <- glm.nb(formula, \n",
        "                  data = NMES1988)"
      ],
      "id": "5af7fae1-b8cb-4cec-bd34-285ef539f600"
    },
    {
      "cell_type": "markdown",
      "metadata": {},
      "source": [
        "###"
      ],
      "id": "4e8cd62e-45d2-4d00-92e8-994129de43e1"
    },
    {
      "cell_type": "code",
      "execution_count": null,
      "metadata": {},
      "outputs": [],
      "source": [
        "summ(nmes_nb)"
      ],
      "id": "8155a49e-2563-4a4f-8e8c-8cf8128287d8"
    },
    {
      "cell_type": "markdown",
      "metadata": {},
      "source": [
        "### 推定結果の確認\n",
        "\n",
        "推定された結果を散布図上に表示して確認する."
      ],
      "id": "8647b735-46b6-4072-aeef-80de460a38d7"
    },
    {
      "cell_type": "code",
      "execution_count": null,
      "metadata": {},
      "outputs": [],
      "source": [
        "NMES1988 |> \n",
        "  mutate(\n",
        "    predict = predict(nmes_nb, \n",
        "                      type = \"response\")) |> \n",
        "  ggplot() +\n",
        "  aes(x = visits,\n",
        "      y = predict) +\n",
        "  geom_point() +\n",
        "  geom_abline(slope     = 1,\n",
        "              intercept = 0,\n",
        "              linetype  = \"dashed\")"
      ],
      "id": "9c8974a2-5482-4415-bdd2-e440a790c13b"
    },
    {
      "cell_type": "markdown",
      "metadata": {},
      "source": [
        "### ハードルポアソン回帰モデルの推定\n",
        "\n",
        "まず, ハードルポアソン回帰モデルを推定する.\n",
        "ハードルポアソン回帰を行うには`pscl`パッケージの`hurdle()`関数を利用する."
      ],
      "id": "24f4404d-2e70-4fbf-8b32-1d18627de402"
    },
    {
      "cell_type": "code",
      "execution_count": null,
      "metadata": {},
      "outputs": [],
      "source": [
        "p_load(pscl)\n",
        "nmes_hpoi <- hurdle(formula, \n",
        "                    data      = NMES1988,\n",
        "                    dist      = \"poisson\", \n",
        "                    zero.dist = \"binomial\")"
      ],
      "id": "30d4fe1a-c45e-4646-bdad-f423fe6f3b47"
    },
    {
      "cell_type": "markdown",
      "metadata": {},
      "source": [
        "### ハードルポアソン回帰モデルの結果\n",
        "\n",
        "`summary()`関数を利用して結果を確認する."
      ],
      "id": "fef7e805-961b-4d36-ba35-b554a25c54e6"
    },
    {
      "cell_type": "code",
      "execution_count": null,
      "metadata": {},
      "outputs": [],
      "source": [
        "summary(nmes_hpoi)"
      ],
      "id": "7f231797-6c75-472d-a5cb-5b23ff5e31e8"
    },
    {
      "cell_type": "markdown",
      "metadata": {},
      "source": [
        "### ハードルポアソン回帰モデルの結果\n",
        "\n",
        "`jtools`パッケージではハードルモデルを扱えないため,\n",
        "`stargazer`パッケージを利用する."
      ],
      "id": "d207bcf1-a960-45ff-af66-6c2970b58dc2"
    },
    {
      "cell_type": "code",
      "execution_count": null,
      "metadata": {},
      "outputs": [],
      "source": [
        "p_load(stargazer)\n",
        "stargazer(nmes_hpoi, \n",
        "          type              = \"text\", \n",
        "          style             = \"all2\",\n",
        "          ci                = TRUE,\n",
        "          star.cutoffs      = NA,\n",
        "          omit.table.layout = 'n',\n",
        "          align             = TRUE)"
      ],
      "id": "5398ad1f-f146-4e16-9b68-59d49f606875"
    },
    {
      "cell_type": "markdown",
      "metadata": {},
      "source": [
        "### 推定結果の確認\n",
        "\n",
        "推定された結果を散布図上に表示して確認する."
      ],
      "id": "5a3c8722-aff0-472c-8be0-59dbe81b90d8"
    },
    {
      "cell_type": "code",
      "execution_count": null,
      "metadata": {},
      "outputs": [],
      "source": [
        "NMES1988 |> \n",
        "  mutate(\n",
        "    predict = predict(nmes_hpoi, \n",
        "                      type = \"response\")) |> \n",
        "  ggplot() +\n",
        "  aes(x = visits,\n",
        "      y = predict) +\n",
        "  geom_point() +\n",
        "  geom_abline(slope     = 1,\n",
        "              intercept = 0, \n",
        "              linetype  = \"dashed\")"
      ],
      "id": "2a3b51f1-c85d-44ff-9b8a-2d1dda47e542"
    },
    {
      "cell_type": "markdown",
      "metadata": {},
      "source": [
        "### ハードル負の二項分布モデルの推定\n",
        "\n",
        "まず, ハードル負の二項分布モデルを推定する. 引数で`dist = \"negbin\"`,\n",
        "`zero.dist = \"binomial\"`と指定する."
      ],
      "id": "a450095e-4c91-47ea-a431-58fc918f4687"
    },
    {
      "cell_type": "code",
      "execution_count": null,
      "metadata": {},
      "outputs": [],
      "source": [
        "nmes_hnb <- hurdle(formula, \n",
        "                   data      = NMES1988,\n",
        "                   dist      = \"negbin\", \n",
        "                   zero.dist = \"binomial\")"
      ],
      "id": "8b6891ed-57a9-473b-92c6-68f17d7343c8"
    },
    {
      "cell_type": "markdown",
      "metadata": {},
      "source": [
        "### ハードル負の二項分布モデルの結果\n",
        "\n",
        "`summary()`関数を利用して結果を確認する."
      ],
      "id": "7e9c3d38-43c3-4735-a6f2-3355e12920e6"
    },
    {
      "cell_type": "code",
      "execution_count": null,
      "metadata": {},
      "outputs": [],
      "source": [
        "summary(nmes_hnb)"
      ],
      "id": "e451ed58-cb3f-4597-96dc-af689ab223a9"
    },
    {
      "cell_type": "markdown",
      "metadata": {},
      "source": [
        "### ハードル負の二項分布モデルの結果"
      ],
      "id": "370430da-7880-4f37-b978-ad7f6d7d3c04"
    },
    {
      "cell_type": "code",
      "execution_count": null,
      "metadata": {},
      "outputs": [],
      "source": [
        "stargazer(nmes_hnb, \n",
        "          type              = \"text\", \n",
        "          style             = \"all2\",\n",
        "          ci                = TRUE,\n",
        "          star.cutoffs      = NA,\n",
        "          omit.table.layout = 'n',\n",
        "          align             = TRUE)"
      ],
      "id": "2c891d05-ae96-45e6-9436-c1647bde7997"
    },
    {
      "cell_type": "markdown",
      "metadata": {},
      "source": [
        "### 推定結果の確認\n",
        "\n",
        "推定された結果を散布図上に表示して確認する."
      ],
      "id": "a30eeb70-d896-4023-99a5-b7cc98265dbd"
    },
    {
      "cell_type": "code",
      "execution_count": null,
      "metadata": {},
      "outputs": [],
      "source": [
        "NMES1988 |> \n",
        "  mutate(\n",
        "    predict = predict(nmes_hnb,\n",
        "                      type = \"response\")) |> \n",
        "  ggplot() +\n",
        "  aes(x = visits,\n",
        "      y = predict) +\n",
        "  geom_point() +\n",
        "  geom_abline(slope     = 1,\n",
        "              intercept = 0,\n",
        "              linetype  = \"dashed\")"
      ],
      "id": "ebdad01c-3ec8-4e3a-bd42-1dbb2f2d19e5"
    },
    {
      "cell_type": "markdown",
      "metadata": {},
      "source": [
        "### ゼロ過剰ポアソン回帰モデルの推定\n",
        "\n",
        "まず, ゼロ過剰ポアソン回帰モデルを推定する.\n",
        "同じく`pscl`パッケージの`zeroinfl()`関数を利用する.\n",
        "引数で`dist = \"poisson\"`と指定すればゼロ過剰ポアソンとなる."
      ],
      "id": "71e0a154-61f0-4c3f-9cde-1907de44b327"
    },
    {
      "cell_type": "code",
      "execution_count": null,
      "metadata": {},
      "outputs": [],
      "source": [
        "nmes_zip <- zeroinfl(formula, \n",
        "                     data = NMES1988,\n",
        "                     dist = \"poisson\")"
      ],
      "id": "8cf57509-d300-4a46-98e2-89ca70e1846f"
    },
    {
      "cell_type": "markdown",
      "metadata": {},
      "source": [
        "### ゼロ過剰ポアソン回帰モデルの結果\n",
        "\n",
        "`summary()`関数を利用して結果を確認する."
      ],
      "id": "e6e3af5e-2dfd-45c5-8ca0-ba8d6766f053"
    },
    {
      "cell_type": "code",
      "execution_count": null,
      "metadata": {},
      "outputs": [],
      "source": [
        "summary(nmes_zip)"
      ],
      "id": "b83d0f7a-44f0-467a-839e-9c4bb88f690a"
    },
    {
      "cell_type": "markdown",
      "metadata": {},
      "source": [
        "### ゼロ過剰ポアソン回帰モデルの結果"
      ],
      "id": "f15e075d-3272-4a29-a3df-dfa7e49d0aaa"
    },
    {
      "cell_type": "code",
      "execution_count": null,
      "metadata": {},
      "outputs": [],
      "source": [
        "stargazer(nmes_zip,\n",
        "          type              = \"text\", \n",
        "          style             = \"all2\",\n",
        "          ci                = TRUE,\n",
        "          star.cutoffs      = NA,\n",
        "          omit.table.layout = 'n',\n",
        "          align             = TRUE)"
      ],
      "id": "02715780-e23c-4b48-b2c3-7c5238d84182"
    },
    {
      "cell_type": "markdown",
      "metadata": {},
      "source": [
        "### 推定結果の確認\n",
        "\n",
        "推定された結果を散布図上に表示して確認する."
      ],
      "id": "8d9ebcb7-2806-438d-bfb4-15f0f0ca8726"
    },
    {
      "cell_type": "code",
      "execution_count": null,
      "metadata": {},
      "outputs": [],
      "source": [
        "NMES1988 |> \n",
        "  mutate(\n",
        "    predict = predict(nmes_zip,\n",
        "                      type = \"response\")) |> \n",
        "  ggplot() +\n",
        "  aes(x = visits,\n",
        "      y = predict) +\n",
        "  geom_point() +\n",
        "  geom_abline(slope     = 1, \n",
        "              intercept = 0, \n",
        "              linetype  = \"dashed\")"
      ],
      "id": "dc622713-a76b-4d07-88f4-4753a25c9adb"
    },
    {
      "cell_type": "markdown",
      "metadata": {},
      "source": [
        "### ゼロ過剰負の二項分布モデルの推定\n",
        "\n",
        "まず, ゼロ過剰負の二項分布モデルを推定する."
      ],
      "id": "33a4903f-2da2-48ca-8f03-d30eb6e71a54"
    },
    {
      "cell_type": "code",
      "execution_count": null,
      "metadata": {},
      "outputs": [],
      "source": [
        "nmes_zinb <- zeroinfl(formula, \n",
        "                      data = NMES1988,\n",
        "                      dist = \"negbin\")"
      ],
      "id": "f634000f-575c-4720-a4cd-3c1281dbf216"
    },
    {
      "cell_type": "markdown",
      "metadata": {},
      "source": [
        "### ゼロ過剰負の二項分布モデルの結果\n",
        "\n",
        "`summary()`関数を利用して結果を確認する."
      ],
      "id": "70c5946a-724f-49c2-a73e-d12cfa7ab766"
    },
    {
      "cell_type": "code",
      "execution_count": null,
      "metadata": {},
      "outputs": [],
      "source": [
        "summary(nmes_zinb)"
      ],
      "id": "f7c55653-e040-49df-bbf3-c598a0e6a7f0"
    },
    {
      "cell_type": "markdown",
      "metadata": {},
      "source": [
        "### ゼロ過剰負の二項分布モデルの結果"
      ],
      "id": "1d019803-e218-4558-9ea0-e9be6b7c2df9"
    },
    {
      "cell_type": "code",
      "execution_count": null,
      "metadata": {},
      "outputs": [],
      "source": [
        "stargazer(nmes_zinb, \n",
        "          type              = \"text\", \n",
        "          style             = \"all2\",\n",
        "          ci                = TRUE,\n",
        "          star.cutoffs      = NA,\n",
        "          omit.table.layout = 'n',\n",
        "          align             = TRUE)"
      ],
      "id": "48694c1c-0fa3-4da2-9fee-1beb65e243eb"
    },
    {
      "cell_type": "markdown",
      "metadata": {},
      "source": [
        "### 推定結果の確認\n",
        "\n",
        "推定された結果を散布図上に表示して確認する."
      ],
      "id": "496c5e87-16e1-4432-995c-a29c870ab28a"
    },
    {
      "cell_type": "code",
      "execution_count": null,
      "metadata": {},
      "outputs": [],
      "source": [
        "NMES1988 |> \n",
        "  mutate(\n",
        "    predict = predict(nmes_zinb, \n",
        "                      type = \"response\")) |> \n",
        "  ggplot() +\n",
        "  aes(x = visits,\n",
        "      y = predict) +\n",
        "  geom_point() +\n",
        "  geom_abline(slope     = 1, \n",
        "              intercept = 0, \n",
        "              linetype  = \"dashed\")"
      ],
      "id": "318e97d3-924a-4b09-858d-021bb787c387"
    },
    {
      "cell_type": "markdown",
      "metadata": {},
      "source": [
        "# モデル比較\n",
        "\n",
        "### 表による比較"
      ],
      "id": "2c5e6895-81f9-40f7-9872-187db67b3ab0"
    },
    {
      "cell_type": "code",
      "execution_count": null,
      "metadata": {},
      "outputs": [],
      "source": [
        "stargazer(nmes_poi,  nmes_nb, \n",
        "          nmes_hpoi, nmes_hnb,\n",
        "          nmes_zip,  nmes_zinb, \n",
        "          type              = \"text\", \n",
        "          style             = \"all2\",\n",
        "          ci                = TRUE,\n",
        "          star.cutoffs      = NA,\n",
        "          omit.table.layout = 'n',\n",
        "          align             = TRUE)"
      ],
      "id": "29228393-e6ad-47f6-a5cc-f90f15c4cbe3"
    }
  ],
  "nbformat": 4,
  "nbformat_minor": 5,
  "metadata": {
    "kernelspec": {
      "display_name": "Python 3",
      "language": "python",
      "name": "python3"
    }
  }
}