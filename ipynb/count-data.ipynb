{
  "cells": [
    {
      "cell_type": "markdown",
      "metadata": {},
      "source": [
        "# ポアソン回帰モデル・負の二項回帰モデル\n",
        "\n",
        "### 今日使うデータ\n",
        "\n",
        "今日は`datasets`パッケージの`warpbreaks`を利用する.\n",
        "`datasets`パッケージは基本的にデフォルトでインストールされている.\n",
        "1台の織機あたりの反り破損の数のデータ."
      ],
      "id": "063e1c74-d701-4279-b795-59671f25d5ec"
    },
    {
      "cell_type": "code",
      "execution_count": null,
      "metadata": {},
      "outputs": [],
      "source": [
        "library(pacman)\n",
        "p_load(datasets)\n",
        "names(warpbreaks)"
      ],
      "id": "255bed66-c1e6-410f-9b1c-fc0dda4ea6a6"
    },
    {
      "cell_type": "markdown",
      "metadata": {},
      "source": [
        "### データ構造の確認\n",
        "\n",
        "データ構造を確認するため, `dplyr::glimpse()`関数を利用する."
      ],
      "id": "16b3b4a2-e617-421d-bc1a-1d45913184e2"
    },
    {
      "cell_type": "code",
      "execution_count": null,
      "metadata": {},
      "outputs": [],
      "source": [
        "p_load(dplyr)\n",
        "glimpse(warpbreaks)"
      ],
      "id": "730481e5-2308-4904-b4b5-57ee05335010"
    },
    {
      "cell_type": "markdown",
      "metadata": {},
      "source": [
        "### 要約統計量\n",
        "\n",
        "データの記述統計を確認するために`summary()`関数を利用する."
      ],
      "id": "ee3635e8-b7d6-4446-8609-4f8945e384ee"
    },
    {
      "cell_type": "code",
      "execution_count": null,
      "metadata": {},
      "outputs": [],
      "source": [
        "summary(warpbreaks)"
      ],
      "id": "7b814df8-dbe0-455c-afb9-afd2a9f07348"
    },
    {
      "cell_type": "markdown",
      "metadata": {},
      "source": [
        "### その他の要約統計量\n",
        "\n",
        "分散などの要約統計量を計算するために`summarise()`関数を利用する."
      ],
      "id": "46978ec5-3efa-46a8-82c6-3cf58a1c19f6"
    },
    {
      "cell_type": "code",
      "execution_count": null,
      "metadata": {},
      "outputs": [],
      "source": [
        "warpbreaks |> \n",
        "  summarise(mean  = mean(breaks),\n",
        "            var   = var(breaks),\n",
        "            ratio = var / mean)"
      ],
      "id": "ded613c2-0216-4215-ae0d-78a308dd174e"
    },
    {
      "cell_type": "markdown",
      "metadata": {},
      "source": [
        "### ヒストグラムの描画\n",
        "\n",
        "ggplot2を使ってヒストグラムを描画する."
      ],
      "id": "d44b908a-9102-463d-acf8-87c03a171931"
    },
    {
      "cell_type": "code",
      "execution_count": null,
      "metadata": {},
      "outputs": [],
      "source": [
        "p_load(ggplot2)\n",
        "ggplot(warpbreaks) +\n",
        "  aes(x = breaks) +\n",
        "  geom_histogram()"
      ],
      "id": "c21c6434-ac81-47b4-a3d5-b071373d073b"
    },
    {
      "cell_type": "markdown",
      "metadata": {},
      "source": [
        "### 種類ごとの描画\n",
        "\n",
        "ウールの種類ごとにヒストグラムを描画する."
      ],
      "id": "1ea940fa-a15f-42d7-b3ff-256a16959be9"
    },
    {
      "cell_type": "code",
      "execution_count": null,
      "metadata": {},
      "outputs": [],
      "source": [
        "ggplot(warpbreaks) +\n",
        "  aes(x    = breaks,\n",
        "      fill = wool) +\n",
        "  geom_histogram(\n",
        "    position = \"identity\", \n",
        "    alpha    = 0.5)"
      ],
      "id": "aba9821b-6618-4bea-b244-4b7185c7c077"
    },
    {
      "cell_type": "markdown",
      "metadata": {},
      "source": [
        "同様に糸の張力ごとに描画する."
      ],
      "id": "6373d81d-b01b-4a21-bf51-cd00a72f08c7"
    },
    {
      "cell_type": "code",
      "execution_count": null,
      "metadata": {},
      "outputs": [],
      "source": [
        "ggplot(warpbreaks) +\n",
        "  aes(x    = breaks,\n",
        "      fill = tension) +\n",
        "  geom_histogram(\n",
        "    position = \"identity\",\n",
        "    alpha    = 0.5)"
      ],
      "id": "b32b5fbc-8f58-4d07-a693-1c6bb91f3887"
    },
    {
      "cell_type": "markdown",
      "metadata": {},
      "source": [
        "# Poisson Regression Model\n",
        "\n",
        "### ポアソン回帰モデル\n",
        "\n",
        "ポアソン回帰を行うには, `glm(family = poisson(link = \"log\"))`とする."
      ],
      "id": "60c15148-b943-4114-98ec-a95d6da05aa6"
    },
    {
      "cell_type": "code",
      "execution_count": null,
      "metadata": {},
      "outputs": [],
      "source": [
        "wb_poisson <- glm(breaks ~ wool + tension,\n",
        "                  data   = warpbreaks, \n",
        "                  family = poisson(link = \"log\"))"
      ],
      "id": "03a585b6-77e8-4a95-8a53-c1a57987bf1b"
    },
    {
      "cell_type": "markdown",
      "metadata": {},
      "source": [
        "### ポアソン回帰モデルの結果\n",
        "\n",
        "`jtools`パッケージの`summ()`関数を利用して結果を表示する."
      ],
      "id": "b5e918e6-9c2f-49ae-9ec0-34ae975e080e"
    },
    {
      "cell_type": "code",
      "execution_count": null,
      "metadata": {},
      "outputs": [],
      "source": [
        "p_load(jtools)\n",
        "summ(wb_poisson)"
      ],
      "id": "d3666a54-6e4d-4a04-b7f3-ac1968f05b18"
    },
    {
      "cell_type": "markdown",
      "metadata": {},
      "source": [
        "### ポアソン回帰モデルによる予測\n",
        "\n",
        "分析結果から予測を行うには`predict()`関数を利用する.\n",
        "ここでは`wool`がタイプ`A`で糸の張力が`L`の場合で計算する."
      ],
      "id": "0b65507f-4c8c-4d3b-b763-7a6e071c8bb3"
    },
    {
      "cell_type": "code",
      "execution_count": null,
      "metadata": {},
      "outputs": [],
      "source": [
        "predict(wb_poisson, \n",
        "        newdata = data.frame(wool    = \"A\", \n",
        "                             tension = \"L\"), \n",
        "        type    = \"response\")"
      ],
      "id": "48187f3b-45b6-4845-b5d5-55bed796dc7d"
    },
    {
      "cell_type": "markdown",
      "metadata": {},
      "source": [
        "### ポアソン回帰モデルによって推定された結果の図示\n",
        "\n",
        "推定された結果を図示する."
      ],
      "id": "97cbb60b-8eb8-4d4d-9e15-1a1cc94b99ae"
    },
    {
      "cell_type": "code",
      "execution_count": null,
      "metadata": {},
      "outputs": [],
      "source": [
        "warpbreaks |> \n",
        "  mutate(predict = \n",
        "           predict(wb_poisson,\n",
        "                   type = \"response\")) |> \n",
        "  ggplot() +\n",
        "  aes(x      = breaks,\n",
        "      y      = predict,\n",
        "      colour = tension) +\n",
        "  geom_point() +\n",
        "  geom_abline(slope     = 1,\n",
        "              intercept = 0, \n",
        "              linetype  = \"dashed\")"
      ],
      "id": "0864e7a7-291a-476c-9f1e-a2001b7544a5"
    },
    {
      "cell_type": "markdown",
      "metadata": {},
      "source": [
        "### \n",
        "\n",
        "LOOCVによって評価する."
      ],
      "id": "a4c8c746-5306-479b-9a23-f802192d5cc2"
    },
    {
      "cell_type": "code",
      "execution_count": null,
      "metadata": {},
      "outputs": [],
      "source": [
        "p_load(caret)\n",
        "train(breaks ~ wool + tension,\n",
        "      warpbreaks,\n",
        "      method    = \"glm\",\n",
        "      family    = poisson(link = \"log\"),\n",
        "      trControl = trainControl(\"LOOCV\"))"
      ],
      "id": "d49eca45-2f2a-4dda-aeb3-9aa1f0e4fdda"
    },
    {
      "cell_type": "markdown",
      "metadata": {},
      "source": [
        "# Quasi-Poisson Model\n",
        "\n",
        "### 擬似的ポアソン回帰モデル\n",
        "\n",
        "擬似的ポアソン回帰を行うには,\n",
        "`glm(family = quasipoisson(link = \"log\"))`とする."
      ],
      "id": "88f5c6ad-6ab6-4406-9b73-466065223fe3"
    },
    {
      "cell_type": "code",
      "execution_count": null,
      "metadata": {},
      "outputs": [],
      "source": [
        "wb_qpoisson <- glm(breaks ~ wool + tension,\n",
        "                   data   = warpbreaks, \n",
        "                   family = quasipoisson(link = \"log\"))"
      ],
      "id": "d1050fd0-96c5-4450-8a76-96377ae6a34d"
    },
    {
      "cell_type": "markdown",
      "metadata": {},
      "source": [
        "### 擬似的ポアソン回帰モデルの結果"
      ],
      "id": "91fb66b0-04ff-4ee8-801b-5faf4a025259"
    },
    {
      "cell_type": "code",
      "execution_count": null,
      "metadata": {},
      "outputs": [],
      "source": [
        "summ(wb_qpoisson)"
      ],
      "id": "6e3290a1-55af-42f2-9a12-939175960f82"
    },
    {
      "cell_type": "markdown",
      "metadata": {},
      "source": [
        "### 擬似的ポアソン回帰モデルによる予測\n",
        "\n",
        "分析結果から予測を行うには`predict()`関数を利用する.\n",
        "ここでは`wool`がタイプ`A`で糸の張力が`L`の場合で計算する."
      ],
      "id": "64e22df7-57f3-437f-a89a-6216a84c5da8"
    },
    {
      "cell_type": "code",
      "execution_count": null,
      "metadata": {},
      "outputs": [],
      "source": [
        "predict(wb_qpoisson, \n",
        "        newdata = data.frame(wool    = \"A\", \n",
        "                             tension = \"L\"), \n",
        "        type    = \"response\")"
      ],
      "id": "393b5772-7d8d-4c53-ad8d-9e2aef754ae1"
    },
    {
      "cell_type": "markdown",
      "metadata": {},
      "source": [
        "### 擬似的ポアソン回帰モデルによって推定された結果の図示\n",
        "\n",
        "推定された結果を図示する."
      ],
      "id": "2580f2c8-18e6-4b78-9fbe-7671e73e1d41"
    },
    {
      "cell_type": "code",
      "execution_count": null,
      "metadata": {},
      "outputs": [],
      "source": [
        "warpbreaks |> \n",
        "  mutate(predict = \n",
        "           predict(wb_qpoisson,\n",
        "                   type = \"response\")) |> \n",
        "  ggplot() +\n",
        "  aes(x      = breaks, \n",
        "      y      = predict, \n",
        "      colour = tension) +\n",
        "  geom_point() +\n",
        "  geom_abline(slope     = 1, \n",
        "              intercept = 0, \n",
        "              linetype  = \"dashed\")"
      ],
      "id": "f003fe7b-460d-4d4b-9908-27c548405b77"
    },
    {
      "cell_type": "markdown",
      "metadata": {},
      "source": [
        "### \n",
        "\n",
        "LOOCVによって評価する."
      ],
      "id": "8e730560-8f7e-48d1-8f10-bfe25c60c3c8"
    },
    {
      "cell_type": "code",
      "execution_count": null,
      "metadata": {},
      "outputs": [],
      "source": [
        "train(breaks ~ wool + tension,\n",
        "      warpbreaks,\n",
        "      method    = \"glm\",\n",
        "      family    = quasipoisson(link = \"log\"),\n",
        "      trControl = trainControl(\"LOOCV\"))"
      ],
      "id": "666020e1-22f1-4b1a-b6ff-40a05e60a3fd"
    },
    {
      "cell_type": "markdown",
      "metadata": {},
      "source": [
        "# Negative Binomial Regression Model\n",
        "\n",
        "### 負の二項回帰モデル\n",
        "\n",
        "負の二項回帰を行うには, `MASS::glm.nb()`関数を利用する.\n",
        "`glm()`関数でもリンク関数に負の二項分布を指定できるが,\n",
        "`glm.nb`はパラメーター$\\theta$を自動で最尤推定する."
      ],
      "id": "0bcb603c-8c15-4b9c-8c50-5f68b1f167fd"
    },
    {
      "cell_type": "code",
      "execution_count": null,
      "metadata": {},
      "outputs": [],
      "source": [
        "p_load(MASS)\n",
        "wb_nb <- glm.nb(breaks ~ wool + tension,\n",
        "                data = warpbreaks)"
      ],
      "id": "a49136d5-af7e-4fc2-b425-9e7fd9fa23de"
    },
    {
      "cell_type": "markdown",
      "metadata": {},
      "source": [
        "### 負の二項回帰モデルの結果"
      ],
      "id": "486f7182-5384-4c3c-8952-5a4c3f82abec"
    },
    {
      "cell_type": "code",
      "execution_count": null,
      "metadata": {},
      "outputs": [],
      "source": [
        "summ(wb_nb)"
      ],
      "id": "a4ef2146-911d-47c2-ad46-a0f3d22c02da"
    },
    {
      "cell_type": "markdown",
      "metadata": {},
      "source": [
        "### 負の二項回帰モデルによる予測\n",
        "\n",
        "分析結果から予測を行うには`predict()`関数を利用する.\n",
        "ここでは`wool`がタイプ`A`で糸の張力が`L`の場合で計算する."
      ],
      "id": "9b49b998-5a4d-4ba6-a51b-18be32e7c1c8"
    },
    {
      "cell_type": "code",
      "execution_count": null,
      "metadata": {},
      "outputs": [],
      "source": [
        "predict(wb_nb, \n",
        "        newdata = data.frame(wool    = \"A\",\n",
        "                             tension = \"L\"), \n",
        "        type    = \"response\")"
      ],
      "id": "9cde40ee-14db-4fbe-b83e-efd8a2a197ed"
    },
    {
      "cell_type": "markdown",
      "metadata": {},
      "source": [
        "### 負の二項回帰モデルによって推定された結果の図示\n",
        "\n",
        "推定された結果を図示する."
      ],
      "id": "38c77b1c-3a8d-4c16-bf36-58c580a3cb2d"
    },
    {
      "cell_type": "code",
      "execution_count": null,
      "metadata": {},
      "outputs": [],
      "source": [
        "warpbreaks |> \n",
        "  mutate(predict = \n",
        "           predict(wb_nb, \n",
        "                   type = \"response\")) |> \n",
        "  ggplot() +\n",
        "  aes(x      = breaks,\n",
        "      y      = predict,\n",
        "      colour = tension) +\n",
        "  geom_point() +\n",
        "  geom_abline(slope     = 1, \n",
        "              intercept = 0, \n",
        "              linetype  = \"dashed\")"
      ],
      "id": "70641c45-2bb7-46b2-ae45-7202891f2c8d"
    },
    {
      "cell_type": "markdown",
      "metadata": {},
      "source": [
        "### \n",
        "\n",
        "LOOCVによって評価する."
      ],
      "id": "d3cf916c-9661-4f46-8bb9-e346b7535809"
    },
    {
      "cell_type": "code",
      "execution_count": null,
      "metadata": {},
      "outputs": [],
      "source": [
        "train(breaks ~ wool + tension,\n",
        "      warpbreaks,\n",
        "      method    = \"glm.nb\",\n",
        "      trControl = trainControl(\"LOOCV\"))"
      ],
      "id": "0fe4964c-5314-479b-80d6-f833604c3584"
    },
    {
      "cell_type": "markdown",
      "metadata": {},
      "source": [
        "# Comparing Regression Models\n",
        "\n",
        "### 各モデルを表で比較\n",
        "\n",
        "`stargazer`で表を並べる."
      ],
      "id": "9d6f071b-154b-4285-a0f0-1be8ac0a8327"
    },
    {
      "cell_type": "code",
      "execution_count": null,
      "metadata": {},
      "outputs": [],
      "source": [
        "stargazer::stargazer(wb_poisson, \n",
        "                     wb_qpoisson, \n",
        "                     wb_nb,\n",
        "                     type              = \"text\",\n",
        "                     style             = \"all\",\n",
        "                     star.cutoffs      = NA,\n",
        "                     omit.table.layout = 'n',\n",
        "                     ci                = TRUE,\n",
        "                     align             = TRUE)"
      ],
      "id": "3ebd82ef-30da-44dc-80d0-24e57e4dc7a5"
    },
    {
      "cell_type": "markdown",
      "metadata": {},
      "source": [
        "### 図による比較\n",
        "\n",
        "複数のモデルにより推定された回帰係数を図示するには`jtools::plot_summs()`を利用するのも便利.\n",
        "特に指数変換したい場合は`coefplot`パッケージより便利.\n",
        "`ggstance`パッケージを裏で使っているのでインストール必須."
      ],
      "id": "f4ac3c58-26f5-4929-805a-9d8f250e93dc"
    },
    {
      "cell_type": "code",
      "execution_count": null,
      "metadata": {},
      "outputs": [],
      "source": [
        "p_load(jtools, ggstance, broom.mixed)\n",
        "plot_summs(wb_poisson, \n",
        "           wb_qpoisson, \n",
        "           wb_nb, \n",
        "           exp = TRUE)"
      ],
      "id": "9437b79e-33d5-4b94-b60b-daf8d81f1072"
    },
    {
      "cell_type": "markdown",
      "metadata": {},
      "source": [
        "# Appendix\n",
        "\n",
        "### 交互作用項\n",
        "\n",
        "woolとtensionは独立なため, この2つの項の交互作用項を分析に導入する.\n",
        "交互作用項を導入するには, `+`ではなく`*`で変数間を繋ぐ."
      ],
      "id": "95266ee8-d456-4004-983c-c51b16d9e612"
    },
    {
      "cell_type": "code",
      "execution_count": null,
      "metadata": {},
      "outputs": [],
      "source": [
        "wb_nb2 <- glm.nb(breaks ~ wool * tension,\n",
        "                 data = warpbreaks)"
      ],
      "id": "9a2afd17-45ff-41c8-906c-2939fcb7cebf"
    },
    {
      "cell_type": "markdown",
      "metadata": {},
      "source": [
        "### 交互作用項を含めたモデルの結果"
      ],
      "id": "e675fe39-ef03-42cd-94cb-7b6b56100788"
    },
    {
      "cell_type": "code",
      "execution_count": null,
      "metadata": {},
      "outputs": [],
      "source": [
        "summ(wb_nb2)"
      ],
      "id": "b598a2e3-7880-4f1f-b7b5-303dda7253d8"
    },
    {
      "cell_type": "markdown",
      "metadata": {},
      "source": [
        "### 交互作用項を含めたモデルによる予測\n",
        "\n",
        "分析結果から予測を行うには`predict()`関数を利用する.\n",
        "ここでは`wool`がタイプ`A`で糸の張力が`L`の場合で計算する."
      ],
      "id": "625333fa-3a4f-4df9-bf4a-924245567ee1"
    },
    {
      "cell_type": "code",
      "execution_count": null,
      "metadata": {},
      "outputs": [],
      "source": [
        "predict(wb_nb2, \n",
        "        newdata = data.frame(wool    = \"A\",\n",
        "                             tension = \"L\"), \n",
        "        type    = \"response\")"
      ],
      "id": "5b96ca75-fb5a-426d-9425-bfc38ce5ae54"
    },
    {
      "cell_type": "markdown",
      "metadata": {},
      "source": [
        "### 交互作用項を含めたモデルによって推定された結果の図示\n",
        "\n",
        "推定された結果を図示する."
      ],
      "id": "1437df77-d8e6-4354-b953-3d09bfd5a445"
    },
    {
      "cell_type": "code",
      "execution_count": null,
      "metadata": {},
      "outputs": [],
      "source": [
        "warpbreaks |> \n",
        "  mutate(predict = \n",
        "           predict(wb_nb2, \n",
        "                   type = \"response\")) |> \n",
        "  ggplot() +\n",
        "  aes(x      = breaks,\n",
        "      y      = predict,\n",
        "      colour = tension) +\n",
        "  geom_point() +\n",
        "  geom_abline(slope     = 1,\n",
        "              intercept = 0, \n",
        "              linetype  = \"dashed\")"
      ],
      "id": "d49893f9-e979-4548-8a63-e1255b627b75"
    },
    {
      "cell_type": "markdown",
      "metadata": {},
      "source": [
        "### \n",
        "\n",
        "woolをAで固定した時に, 予測値がどのように変化するのかを図示する.\n",
        "合わせて実測値をポイントでプロットする."
      ],
      "id": "7235b71b-f1f5-49af-bae5-480a6ceb64f1"
    },
    {
      "cell_type": "code",
      "execution_count": null,
      "metadata": {},
      "outputs": [],
      "source": [
        "warpbreaks |> \n",
        "  mutate(predict = \n",
        "           predict(wb_nb2, \n",
        "                   type = \"response\")) |> \n",
        "  filter(wool == \"A\") |> \n",
        "  distinct(tension,\n",
        "           .keep_all = TRUE) |> \n",
        "  ggplot() +\n",
        "  aes(x    = tension,\n",
        "      y    = predict,\n",
        "      fill = tension) +\n",
        "  geom_bar(stat = \"identity\") +\n",
        "  geom_point(data = warpbreaks |> \n",
        "               filter(wool == \"A\"),\n",
        "             aes(y = breaks))"
      ],
      "id": "d1ef4298-a244-48a8-b9cd-5d97c98f0ae5"
    },
    {
      "cell_type": "markdown",
      "metadata": {},
      "source": [
        "### \n",
        "\n",
        "モデルの比較"
      ],
      "id": "3f54e279-78a9-4011-8572-756c56afe5e5"
    },
    {
      "cell_type": "code",
      "execution_count": null,
      "metadata": {},
      "outputs": [],
      "source": [
        "stargazer::stargazer(wb_poisson, \n",
        "                     wb_qpoisson, \n",
        "                     wb_nb, \n",
        "                     wb_nb2,\n",
        "                     type              = \"text\",\n",
        "                     style             = \"all\",\n",
        "                     star.cutoffs      = NA,\n",
        "                     omit.table.layout = 'n',\n",
        "                     ci                = TRUE,\n",
        "                     align             = TRUE)"
      ],
      "id": "0a846e21-1e35-478d-ade6-9dba01d38ff2"
    }
  ],
  "nbformat": 4,
  "nbformat_minor": 5,
  "metadata": {
    "kernelspec": {
      "display_name": "Python 3",
      "language": "python",
      "name": "python3"
    }
  }
}