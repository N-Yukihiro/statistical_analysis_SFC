{
  "cells": [
    {
      "cell_type": "markdown",
      "metadata": {},
      "source": [
        "# ロジスティック回帰他\n",
        "\n",
        "### 今回利用するデータ\n",
        "\n",
        "今回の演習では、Titanicの生存者情報データを用いる.\n",
        "データは`titanic`パッケージに入っている`titanic_train`を用いる.\n",
        "\n",
        "まずは, 変数を確認する"
      ],
      "id": "6f7ec49d-85b2-441a-a554-98140ebb9a38"
    },
    {
      "cell_type": "code",
      "execution_count": null,
      "metadata": {},
      "outputs": [
        {
          "output_type": "stream",
          "name": "stdout",
          "text": [
            " [1] \"PassengerId\" \"Survived\"    \"Pclass\"      \"Name\"        \"Sex\"        \n",
            " [6] \"Age\"         \"SibSp\"       \"Parch\"       \"Ticket\"      \"Fare\"       \n",
            "[11] \"Cabin\"       \"Embarked\"   "
          ]
        }
      ],
      "source": [
        "library(pacman)\n",
        "p_load(titanic)\n",
        "names(titanic_train)"
      ],
      "id": "19b4c098-dfbf-4505-b632-c9b12d8887ae"
    },
    {
      "cell_type": "markdown",
      "metadata": {},
      "source": [
        "# data transformation\n",
        "\n",
        "## 欠測値の処理\n",
        "\n",
        "### 欠測値の定義\n",
        "\n",
        "今回使うデータは空欄と`NA`が混在しているため, NAに統一する.\n",
        "利用するのは`naniar::replace_with_na_all()`関数."
      ],
      "id": "c5713bf1-aa60-46b9-a0b4-24a7507b2ef6"
    },
    {
      "cell_type": "code",
      "execution_count": null,
      "metadata": {},
      "outputs": [],
      "source": [
        "p_load(naniar)\n",
        "train <- replace_with_na_all(titanic_train,\n",
        "                             condition = ~.x %in% c(\"NA\", \"\"))"
      ],
      "id": "d268b411-4e6b-401b-83e3-285f89892b86"
    },
    {
      "cell_type": "markdown",
      "metadata": {},
      "source": [
        "### データ構造の確認\n",
        "\n",
        "データ構造を確認するため, `dplyr::glimpse()`関数を利用する."
      ],
      "id": "88cf2a41-2582-46e1-bd33-1d07120cade9"
    },
    {
      "cell_type": "code",
      "execution_count": null,
      "metadata": {},
      "outputs": [
        {
          "output_type": "stream",
          "name": "stdout",
          "text": [
            "Rows: 891\n",
            "Columns: 12\n",
            "$ PassengerId <int> 1, 2, 3, 4, 5, 6, 7, 8, 9, 10, 11, 12, 13, 14, 15, 16, 17,…\n",
            "$ Survived    <int> 0, 1, 1, 1, 0, 0, 0, 0, 1, 1, 1, 1, 0, 0, 0, 1, 0, 1, 0, 1…\n",
            "$ Pclass      <int> 3, 1, 3, 1, 3, 3, 1, 3, 3, 2, 3, 1, 3, 3, 3, 2, 3, 2, 3, 3…\n",
            "$ Name        <chr> \"Braund, Mr. Owen Harris\", \"Cumings, Mrs. John Bradley (Fl…\n",
            "$ Sex         <chr> \"male\", \"female\", \"female\", \"female\", \"male\", \"male\", \"mal…\n",
            "$ Age         <dbl> 22, 38, 26, 35, 35, NA, 54, 2, 27, 14, 4, 58, 20, 39, 14, …\n",
            "$ SibSp       <int> 1, 1, 0, 1, 0, 0, 0, 3, 0, 1, 1, 0, 0, 1, 0, 0, 4, 0, 1, 0…\n",
            "$ Parch       <int> 0, 0, 0, 0, 0, 0, 0, 1, 2, 0, 1, 0, 0, 5, 0, 0, 1, 0, 0, 0…\n",
            "$ Ticket      <chr> \"A/5 21171\", \"PC 17599\", \"STON/O2. 3101282\", \"113803\", \"37…\n",
            "$ Fare        <dbl> 7.2500, 71.2833, 7.9250, 53.1000, 8.0500, 8.4583, 51.8625,…\n",
            "$ Cabin       <chr> NA, \"C85\", NA, \"C123\", NA, NA, \"E46\", NA, NA, NA, \"G6\", \"C…\n",
            "$ Embarked    <chr> \"S\", \"C\", \"S\", \"S\", \"S\", \"Q\", \"S\", \"S\", \"S\", \"C\", \"S\", \"S\"…"
          ]
        }
      ],
      "source": [
        "p_load(dplyr)\n",
        "glimpse(train)"
      ],
      "id": "a3b976a7-ffc2-40ea-928d-fb2969e61195"
    },
    {
      "cell_type": "markdown",
      "metadata": {},
      "source": [
        "## 先頭から数行を確認\n",
        "\n",
        "先頭から数行を確認するために`head()`関数を利用する.\n",
        "`Cabin`の1行目と3行目は欠測値になっていることがわかる."
      ],
      "id": "a674ada7-aa08-466f-910b-5b4e8abfccb6"
    },
    {
      "cell_type": "code",
      "execution_count": null,
      "metadata": {},
      "outputs": [
        {
          "output_type": "stream",
          "name": "stdout",
          "text": [
            "# A tibble: 6 × 12\n",
            "  PassengerId Survived Pclass Name    Sex     Age SibSp Parch Ticket  Fare Cabin\n",
            "        <int>    <int>  <int> <chr>   <chr> <dbl> <int> <int> <chr>  <dbl> <chr>\n",
            "1           1        0      3 Braund… male     22     1     0 A/5 2…  7.25 <NA> \n",
            "2           2        1      1 Cuming… fema…    38     1     0 PC 17… 71.3  C85  \n",
            "3           3        1      3 Heikki… fema…    26     0     0 STON/…  7.92 <NA> \n",
            "4           4        1      1 Futrel… fema…    35     1     0 113803 53.1  C123 \n",
            "5           5        0      3 Allen,… male     35     0     0 373450  8.05 <NA> \n",
            "6           6        0      3 Moran,… male     NA     0     0 330877  8.46 <NA> \n",
            "# ℹ 1 more variable: Embarked <chr>"
          ]
        }
      ],
      "source": [
        "head(train)"
      ],
      "id": "8e3117e1-9c7a-4350-88f8-186696f4982e"
    },
    {
      "cell_type": "markdown",
      "metadata": {},
      "source": [
        "### データの概要を確認\n",
        "\n",
        "データの記述統計を確認するために`summary()`関数を利用する.\n",
        "文字列の欠測値は表示されない."
      ],
      "id": "79a30fe9-7eab-4736-bbc8-5d9b47a74a22"
    },
    {
      "cell_type": "code",
      "execution_count": null,
      "metadata": {},
      "outputs": [
        {
          "output_type": "stream",
          "name": "stdout",
          "text": [
            "  PassengerId       Survived          Pclass          Name          \n",
            " Min.   :  1.0   Min.   :0.0000   Min.   :1.000   Length:891        \n",
            " 1st Qu.:223.5   1st Qu.:0.0000   1st Qu.:2.000   Class :character  \n",
            " Median :446.0   Median :0.0000   Median :3.000   Mode  :character  \n",
            " Mean   :446.0   Mean   :0.3838   Mean   :2.309                     \n",
            " 3rd Qu.:668.5   3rd Qu.:1.0000   3rd Qu.:3.000                     \n",
            " Max.   :891.0   Max.   :1.0000   Max.   :3.000                     \n",
            "                                                                    \n",
            "     Sex                 Age            SibSp           Parch       \n",
            " Length:891         Min.   : 0.42   Min.   :0.000   Min.   :0.0000  \n",
            " Class :character   1st Qu.:20.12   1st Qu.:0.000   1st Qu.:0.0000  \n",
            " Mode  :character   Median :28.00   Median :0.000   Median :0.0000  \n",
            "                    Mean   :29.70   Mean   :0.523   Mean   :0.3816  \n",
            "                    3rd Qu.:38.00   3rd Qu.:1.000   3rd Qu.:0.0000  \n",
            "                    Max.   :80.00   Max.   :8.000   Max.   :6.0000  \n",
            "                    NA's   :177                                     \n",
            "    Ticket               Fare           Cabin             Embarked        \n",
            " Length:891         Min.   :  0.00   Length:891         Length:891        \n",
            " Class :character   1st Qu.:  7.91   Class :character   Class :character  \n",
            " Mode  :character   Median : 14.45   Mode  :character   Mode  :character  \n",
            "                    Mean   : 32.20                                        \n",
            "                    3rd Qu.: 31.00                                        \n",
            "                    Max.   :512.33                                        \n",
            "                                                                          "
          ]
        }
      ],
      "source": [
        "summary(train)"
      ],
      "id": "04ad7706-f9de-450f-90b1-8578522d27dd"
    },
    {
      "cell_type": "markdown",
      "metadata": {},
      "source": [
        "### 欠測値を確認\n",
        "\n",
        "このデータはいくつかの欠測値を含んでいるため,\n",
        "欠測値がどの変数にいくつ含まれているのか確認する.\n",
        "`dplyr::summarise()`関数を利用し,\n",
        "`is.na`でNAに該当するセルがいくつあるのかを数え上げる."
      ],
      "id": "222662c4-e6fa-4094-bbde-f84324f65ee1"
    },
    {
      "cell_type": "code",
      "execution_count": null,
      "metadata": {},
      "outputs": [
        {
          "output_type": "stream",
          "name": "stdout",
          "text": [
            "# A tibble: 1 × 12\n",
            "  PassengerId Survived Pclass  Name   Sex   Age SibSp Parch Ticket  Fare Cabin\n",
            "        <int>    <int>  <int> <int> <int> <int> <int> <int>  <int> <int> <int>\n",
            "1           0        0      0     0     0   177     0     0      0     0   687\n",
            "# ℹ 1 more variable: Embarked <int>"
          ]
        }
      ],
      "source": [
        "summarise(train,\n",
        "          across(everything(),\n",
        "                 \\(x) sum(is.na(x))))"
      ],
      "id": "26ac67f8-ff9c-4cbe-abbb-d1336d3ed078"
    },
    {
      "cell_type": "markdown",
      "metadata": {},
      "source": [
        "### 欠測値の除去\n",
        "\n",
        "欠測値を含む行を削除する. これをリストワイズ除去という. ここでは,\n",
        "`na.omit()`関数と`tidyr::drop_na()`関数の2種類を紹介する."
      ],
      "id": "c297ee13-6a73-450b-8397-17b7b358fd0d"
    },
    {
      "cell_type": "code",
      "execution_count": null,
      "metadata": {},
      "outputs": [],
      "source": [
        "train2 <- na.omit(train)\n",
        "\n",
        "p_load(tidyr)\n",
        "train2 <- tidyr::drop_na(train)"
      ],
      "id": "ec0a398c-abba-4473-87dc-65a1b1cbc18d"
    },
    {
      "cell_type": "markdown",
      "metadata": {},
      "source": [
        "### 欠測値を除去したデータを確認"
      ],
      "id": "12124738-9275-48d8-aece-a39fb51503d1"
    },
    {
      "cell_type": "code",
      "execution_count": null,
      "metadata": {},
      "outputs": [
        {
          "output_type": "stream",
          "name": "stdout",
          "text": [
            "# A tibble: 6 × 12\n",
            "  PassengerId Survived Pclass Name    Sex     Age SibSp Parch Ticket  Fare Cabin\n",
            "        <int>    <int>  <int> <chr>   <chr> <dbl> <int> <int> <chr>  <dbl> <chr>\n",
            "1           2        1      1 Cuming… fema…    38     1     0 PC 17…  71.3 C85  \n",
            "2           4        1      1 Futrel… fema…    35     1     0 113803  53.1 C123 \n",
            "3           7        0      1 McCart… male     54     0     0 17463   51.9 E46  \n",
            "4          11        1      3 Sandst… fema…     4     1     1 PP 95…  16.7 G6   \n",
            "5          12        1      1 Bonnel… fema…    58     0     0 113783  26.6 C103 \n",
            "6          22        1      2 Beesle… male     34     0     0 248698  13   D56  \n",
            "# ℹ 1 more variable: Embarked <chr>"
          ]
        }
      ],
      "source": [
        "head(train2)"
      ],
      "id": "eb0e078d-caf8-4bd4-b953-685341b7a5c6"
    },
    {
      "cell_type": "code",
      "execution_count": null,
      "metadata": {},
      "outputs": [
        {
          "output_type": "stream",
          "name": "stdout",
          "text": [
            "  PassengerId       Survived          Pclass          Name          \n",
            " Min.   :  2.0   Min.   :0.0000   Min.   :1.000   Length:183        \n",
            " 1st Qu.:263.5   1st Qu.:0.0000   1st Qu.:1.000   Class :character  \n",
            " Median :457.0   Median :1.0000   Median :1.000   Mode  :character  \n",
            " Mean   :455.4   Mean   :0.6721   Mean   :1.191                     \n",
            " 3rd Qu.:676.0   3rd Qu.:1.0000   3rd Qu.:1.000                     \n",
            " Max.   :890.0   Max.   :1.0000   Max.   :3.000                     \n",
            "     Sex                 Age            SibSp            Parch       \n",
            " Length:183         Min.   : 0.92   Min.   :0.0000   Min.   :0.0000  \n",
            " Class :character   1st Qu.:24.00   1st Qu.:0.0000   1st Qu.:0.0000  \n",
            " Mode  :character   Median :36.00   Median :0.0000   Median :0.0000  \n",
            "                    Mean   :35.67   Mean   :0.4645   Mean   :0.4754  \n",
            "                    3rd Qu.:47.50   3rd Qu.:1.0000   3rd Qu.:1.0000  \n",
            "                    Max.   :80.00   Max.   :3.0000   Max.   :4.0000  \n",
            "    Ticket               Fare           Cabin             Embarked        \n",
            " Length:183         Min.   :  0.00   Length:183         Length:183        \n",
            " Class :character   1st Qu.: 29.70   Class :character   Class :character  \n",
            " Mode  :character   Median : 57.00   Mode  :character   Mode  :character  \n",
            "                    Mean   : 78.68                                        \n",
            "                    3rd Qu.: 90.00                                        \n",
            "                    Max.   :512.33                                        "
          ]
        }
      ],
      "source": [
        "summary(train2)"
      ],
      "id": "557bc184-3e76-4f90-aab7-4080a2b541c3"
    },
    {
      "cell_type": "markdown",
      "metadata": {},
      "source": [
        "## パイプ演算子\n",
        "\n",
        "### コードを書いていて困ること1\n",
        "\n",
        "`()`がいくつも重なるととてもコードが読みにくい.\n",
        "`()`の一番内側から処理を実行し,\n",
        "コードの先頭にある関数は一番最後に実行する関数となる. 例えば,\n",
        "下の例にあるコードを実行する場合, `fun3(x)`を最初に実行し,\n",
        "その結果に対して`fun2()`を実行し,\n",
        "さらにその結果を`fun1()`が受け取って実行する.\n",
        "これは人間の思考と逆である."
      ],
      "id": "23c1429b-721f-40ae-ad90-043d944c4e27"
    },
    {
      "cell_type": "code",
      "execution_count": null,
      "metadata": {},
      "outputs": [],
      "source": [
        "# fun1(fun2(fun3(x)))"
      ],
      "id": "b08245df-b99a-4fa7-a778-775b841639be"
    },
    {
      "cell_type": "markdown",
      "metadata": {},
      "source": [
        "### コードを書いていて困ること2\n",
        "\n",
        "関数などをネストして書くことを避けると一時的に作成した中間的なオブジェクトが多くなる.\n",
        "全くだめなわけではないが, 多すぎると見通しが悪い."
      ],
      "id": "223f1705-0e89-41f8-a4aa-850162f4e700"
    },
    {
      "cell_type": "code",
      "execution_count": null,
      "metadata": {},
      "outputs": [],
      "source": [
        "# x1 <- fun3(x)\n",
        "# x2 <- fun2(x1)\n",
        "# fun1(x2)"
      ],
      "id": "e79ad51c-ea1d-45ee-8972-7deb143f887d"
    },
    {
      "cell_type": "markdown",
      "metadata": {},
      "source": [
        "$\\rightarrow$ これらの解決する手段として`|>`(パイプ)演算子がある\n",
        "\n",
        "### `|>`(パイプ)とは\n",
        "\n",
        "`|>`(パイプ)演算子を使うことで、パイプ演算子の前の結果をパイプ演算子の後の関数の第一引数に入れることができる.\n",
        "パイプ演算子はR4.1.0から素のRに導入された.\n",
        "\n",
        "以前のパイプ演算子`%>%`は`magrittr`パッケージの中の関数の1つ.\n",
        "`dplyr`パッケージを読み込むと一緒に読み込んでくれる.\n",
        "\n",
        "`|>`はctrl(cmd) + Shift(opt) + Mで書くことができる.\n",
        "特に`dplyr`パッケージ等を用いたデータの前処理で大活躍する."
      ],
      "id": "ab4cc528-12b7-4c62-bc46-38d905b7459d"
    },
    {
      "cell_type": "code",
      "execution_count": null,
      "metadata": {},
      "outputs": [],
      "source": [
        "# fun3(x) |> \n",
        "#   fun2() |> \n",
        "#   fun1()"
      ],
      "id": "28e13fd1-f9a5-4d61-9a1a-2800e20ee6aa"
    },
    {
      "cell_type": "markdown",
      "metadata": {},
      "source": [
        "## データの整形\n",
        "\n",
        "### 変数の変換\n",
        "\n",
        "いくつかの変数のデータ型を`Integer`や`Character`から`factor`に,\n",
        "`Character`から文字の抜き出しなどを行う.\n",
        "列の変換には`dplyr::mutate()`関数を利用する"
      ],
      "id": "971e477d-daf0-4572-b052-8996c548122d"
    },
    {
      "cell_type": "code",
      "execution_count": null,
      "metadata": {},
      "outputs": [],
      "source": [
        "p_load(stringr)\n",
        "train3 <- train2 |> \n",
        "  mutate(across(c(Survived, Pclass, Sex, Embarked),\n",
        "                as.factor)) |> \n",
        "  mutate(CabinLetter = str_sub(Cabin,\n",
        "                               start = 1,\n",
        "                               end   = 1) |> \n",
        "           as.factor()) |> \n",
        "  mutate(Title = str_sub(Name,\n",
        "                         start = str_locate(Name, \",\")[,1] + 2,\n",
        "                         end   = str_locate(Name, \"\\\\.\")[,1] - 1) |> \n",
        "           as.factor())"
      ],
      "id": "e1454796-f14c-4800-be6d-322e18c0f218"
    },
    {
      "cell_type": "markdown",
      "metadata": {},
      "source": [
        "# Logistic Regression Model\n",
        "\n",
        "### ロジスティック回帰モデル\n",
        "\n",
        "ロジスティック回帰モデルを推定するために`glm(family = binomial(link=\"logit\"))`を利用する.\n",
        "モデルを2つ作成し, 推定を行う."
      ],
      "id": "8d74240f-a9be-4d74-8771-d5be7f67a576"
    },
    {
      "cell_type": "code",
      "execution_count": null,
      "metadata": {},
      "outputs": [],
      "source": [
        "model1 <- Survived ~ Pclass + Sex + Age + \n",
        "  SibSp + Parch + Fare + Embarked +\n",
        "  CabinLetter + Title\n",
        "model2 <- Survived ~ Pclass + Sex + Age"
      ],
      "id": "e984acdb-1987-41a3-8d9b-699189e4be53"
    },
    {
      "cell_type": "markdown",
      "metadata": {},
      "source": [
        "### モデル1の結果\n",
        "\n",
        "`jtools::summ()`関数を利用して結果の確認を行う."
      ],
      "id": "975b06b6-3242-49ed-a64a-1a361c02d571"
    },
    {
      "cell_type": "code",
      "execution_count": null,
      "metadata": {},
      "outputs": [
        {
          "output_type": "stream",
          "name": "stdout",
          "text": [
            "MODEL INFO:\n",
            "Observations: 183\n",
            "Dependent Variable: Survived\n",
            "Type: Generalized linear model\n",
            "  Family: binomial \n",
            "  Link function: logit \n",
            "\n",
            "MODEL FIT:\n",
            "χ²(28) = 98.56, p = 0.00\n",
            "Pseudo-R² (Cragg-Uhler) = 0.58\n",
            "Pseudo-R² (McFadden) = 0.43\n",
            "AIC = 190.99, BIC = 284.07 \n",
            "\n",
            "Standard errors:MLE\n",
            "-----------------------------------------------------------\n",
            "                            Est.       S.E.   z val.      p\n",
            "----------------------- -------- ---------- -------- ------\n",
            "(Intercept)                 2.04    9224.40     0.00   1.00\n",
            "Pclass2                    -0.67       1.26    -0.53   0.59\n",
            "Pclass3                    -0.18       1.58    -0.11   0.91\n",
            "Sexmale                   -17.81    6522.64    -0.00   1.00\n",
            "Age                        -0.03       0.02    -1.57   0.12\n",
            "SibSp                       0.30       0.42     0.71   0.48\n",
            "Parch                      -0.57       0.41    -1.40   0.16\n",
            "Fare                        0.00       0.00     1.00   0.32\n",
            "EmbarkedQ                  -2.06       2.11    -0.98   0.33\n",
            "EmbarkedS                  -0.53       0.54    -0.98   0.33\n",
            "CabinLetterB               -0.24       0.96    -0.25   0.80\n",
            "CabinLetterC               -1.03       0.94    -1.09   0.28\n",
            "CabinLetterD                0.35       0.96     0.36   0.72\n",
            "CabinLetterE                0.69       0.95     0.72   0.47\n",
            "CabinLetterF               -1.05       1.77    -0.59   0.55\n",
            "CabinLetterG               -3.07       2.25    -1.37   0.17\n",
            "CabinLetterT              -17.83    6522.64    -0.00   1.00\n",
            "TitleCol                   35.81    9224.40     0.00   1.00\n",
            "TitleDr                    18.01    6522.64     0.00   1.00\n",
            "TitleLady                  17.46   11297.54     0.00   1.00\n",
            "TitleMajor                 18.22    6522.64     0.00   1.00\n",
            "TitleMaster                36.27    6954.88     0.01   1.00\n",
            "TitleMiss                   2.57    9224.40     0.00   1.00\n",
            "TitleMlle                  17.69   10279.24     0.00   1.00\n",
            "TitleMme                   17.20   11297.54     0.00   1.00\n",
            "TitleMr                    16.73    6522.64     0.00   1.00\n",
            "TitleMrs                    2.76    9224.40     0.00   1.00\n",
            "TitleSir                   35.24    9224.40     0.00   1.00\n",
            "Titlethe Countess          17.93   11297.54     0.00   1.00\n",
            "-----------------------------------------------------------"
          ]
        }
      ],
      "source": [
        "glm_logit1 <- glm(model1, \n",
        "                  data   = train3, \n",
        "                  family = binomial(link = 'logit'))\n",
        "p_load(jtools)\n",
        "summ(glm_logit1)"
      ],
      "id": "e8a38e34-f34a-4c0e-b1f1-50fa472f94db"
    },
    {
      "cell_type": "markdown",
      "metadata": {},
      "source": [
        "### 多重共線性のチェック\n",
        "\n",
        "`summ()`関数の引数`vifs`を利用してモデル1の多重共線性をチェックする.\n",
        "`Sex`と`Title`の値が大きく, 推定に問題があることが示唆される. `Sex`とMr,\n",
        "Mrsなどを含む`Title`が相関するのは当然."
      ],
      "id": "9aea82fd-d272-40e8-876d-6804a298ff99"
    },
    {
      "cell_type": "code",
      "execution_count": null,
      "metadata": {},
      "outputs": [
        {
          "output_type": "stream",
          "name": "stdout",
          "text": [
            "MODEL INFO:\n",
            "Observations: 183\n",
            "Dependent Variable: Survived\n",
            "Type: Generalized linear model\n",
            "  Family: binomial \n",
            "  Link function: logit \n",
            "\n",
            "MODEL FIT:\n",
            "χ²(28) = 98.56, p = 0.00\n",
            "Pseudo-R² (Cragg-Uhler) = 0.58\n",
            "Pseudo-R² (McFadden) = 0.43\n",
            "AIC = 190.99, BIC = 284.07 \n",
            "\n",
            "Standard errors:MLE\n",
            "--------------------------------------------------------------------------\n",
            "                            Est.       S.E.   z val.      p            VIF\n",
            "----------------------- -------- ---------- -------- ------ --------------\n",
            "(Intercept)                 2.04    9224.40     0.00   1.00               \n",
            "Pclass2                    -0.67       1.26    -0.53   0.59           5.67\n",
            "Pclass3                    -0.18       1.58    -0.11   0.91           5.67\n",
            "Sexmale                   -17.81    6522.64    -0.00   1.00   153309194.86\n",
            "Age                        -0.03       0.02    -1.57   0.12           1.43\n",
            "SibSp                       0.30       0.42     0.71   0.48           1.35\n",
            "Parch                      -0.57       0.41    -1.40   0.16           1.52\n",
            "Fare                        0.00       0.00     1.00   0.32           1.65\n",
            "EmbarkedQ                  -2.06       2.11    -0.98   0.33           2.09\n",
            "EmbarkedS                  -0.53       0.54    -0.98   0.33           2.09\n",
            "CabinLetterB               -0.24       0.96    -0.25   0.80          10.97\n",
            "CabinLetterC               -1.03       0.94    -1.09   0.28          10.97\n",
            "CabinLetterD                0.35       0.96     0.36   0.72          10.97\n",
            "CabinLetterE                0.69       0.95     0.72   0.47          10.97\n",
            "CabinLetterF               -1.05       1.77    -0.59   0.55          10.97\n",
            "CabinLetterG               -3.07       2.25    -1.37   0.17          10.97\n",
            "CabinLetterT              -17.83    6522.64    -0.00   1.00          10.97\n",
            "TitleCol                   35.81    9224.40     0.00   1.00   266647811.72\n",
            "TitleDr                    18.01    6522.64     0.00   1.00   266647811.72\n",
            "TitleLady                  17.46   11297.54     0.00   1.00   266647811.72\n",
            "TitleMajor                 18.22    6522.64     0.00   1.00   266647811.72\n",
            "TitleMaster                36.27    6954.88     0.01   1.00   266647811.72\n",
            "TitleMiss                   2.57    9224.40     0.00   1.00   266647811.72\n",
            "TitleMlle                  17.69   10279.24     0.00   1.00   266647811.72\n",
            "TitleMme                   17.20   11297.54     0.00   1.00   266647811.72\n",
            "TitleMr                    16.73    6522.64     0.00   1.00   266647811.72\n",
            "TitleMrs                    2.76    9224.40     0.00   1.00   266647811.72\n",
            "TitleSir                   35.24    9224.40     0.00   1.00   266647811.72\n",
            "Titlethe Countess          17.93   11297.54     0.00   1.00   266647811.72\n",
            "--------------------------------------------------------------------------"
          ]
        }
      ],
      "source": [
        "summ(glm_logit1, vifs = TRUE)"
      ],
      "id": "d27ab5ce-04ef-442d-a8db-25ae3ce0eb87"
    },
    {
      "cell_type": "markdown",
      "metadata": {},
      "source": [
        "### モデル2の結果\n",
        "\n",
        "モデルを変えて(`CabinLetter`と`Title`を除いて)分析を行う."
      ],
      "id": "b70975d5-5359-4fa9-905a-1a0fcb9d6c7d"
    },
    {
      "cell_type": "code",
      "execution_count": null,
      "metadata": {},
      "outputs": [
        {
          "output_type": "stream",
          "name": "stdout",
          "text": [
            "MODEL INFO:\n",
            "Observations: 183\n",
            "Dependent Variable: Survived\n",
            "Type: Generalized linear model\n",
            "  Family: binomial \n",
            "  Link function: logit \n",
            "\n",
            "MODEL FIT:\n",
            "χ²(4) = 68.35, p = 0.00\n",
            "Pseudo-R² (Cragg-Uhler) = 0.43\n",
            "Pseudo-R² (McFadden) = 0.30\n",
            "AIC = 173.21, BIC = 189.25 \n",
            "\n",
            "Standard errors:MLE\n",
            "-------------------------------------------------------\n",
            "                     Est.   S.E.   z val.      p    VIF\n",
            "----------------- ------- ------ -------- ------ ------\n",
            "(Intercept)          4.08   0.72     5.68   0.00       \n",
            "Pclass2             -0.13   0.80    -0.16   0.87   1.20\n",
            "Pclass3             -1.88   0.91    -2.06   0.04   1.20\n",
            "Sexmale             -2.87   0.49    -5.86   0.00   1.04\n",
            "Age                 -0.04   0.01    -2.68   0.01   1.15\n",
            "-------------------------------------------------------"
          ]
        }
      ],
      "source": [
        "glm_logit2 <- glm(model2,\n",
        "                  data   = train3, \n",
        "                  family = binomial(link = 'logit'))\n",
        "summ(glm_logit2,\n",
        "     vifs = TRUE)"
      ],
      "id": "c2647433-d563-49b0-a698-66ec1960ea0f"
    },
    {
      "cell_type": "markdown",
      "metadata": {},
      "source": [
        "### 推定された係数の図示\n",
        "\n",
        "推定された係数を図で確認するために,\n",
        "`coefplot::coefplot()`関数を利用する."
      ],
      "id": "d303cb35-9777-4b04-b80b-d66f78b24d0f"
    },
    {
      "cell_type": "code",
      "execution_count": null,
      "metadata": {},
      "outputs": [
        {
          "output_type": "display_data",
          "metadata": {},
          "data": {
            "image/png": "[encoded data removed]"
          }
        }
      ],
      "source": [
        "p_load(coefplot)\n",
        "coefplot(glm_logit2, \n",
        "         intercept = FALSE)"
      ],
      "id": "dc75aac3-97bc-4f0e-bd4e-0e219c6599a8"
    },
    {
      "cell_type": "markdown",
      "metadata": {},
      "source": [
        "### オッズ比の算出\n",
        "\n",
        "ロジスティック回帰モデルにより算出された回帰係数はそのままでは解釈できないため,\n",
        "指数変換しオッズ比を計算する."
      ],
      "id": "0c238e71-7a00-4594-acfa-c32048da4118"
    },
    {
      "cell_type": "code",
      "execution_count": null,
      "metadata": {},
      "outputs": [
        {
          "output_type": "stream",
          "name": "stdout",
          "text": [
            "MODEL INFO:\n",
            "Observations: 183\n",
            "Dependent Variable: Survived\n",
            "Type: Generalized linear model\n",
            "  Family: binomial \n",
            "  Link function: logit \n",
            "\n",
            "MODEL FIT:\n",
            "χ²(4) = 68.35, p = 0.00\n",
            "Pseudo-R² (Cragg-Uhler) = 0.43\n",
            "Pseudo-R² (McFadden) = 0.30\n",
            "AIC = 173.21, BIC = 189.25 \n",
            "\n",
            "Standard errors:MLE\n",
            "--------------------------------------------------------------\n",
            "                    exp(Est.)    2.5%    97.5%   z val.      p\n",
            "----------------- ----------- ------- -------- -------- ------\n",
            "(Intercept)             59.22   14.48   242.24     5.68   0.00\n",
            "Pclass2                  0.88    0.18     4.20    -0.16   0.87\n",
            "Pclass3                  0.15    0.03     0.91    -2.06   0.04\n",
            "Sexmale                  0.06    0.02     0.15    -5.86   0.00\n",
            "Age                      0.96    0.94     0.99    -2.68   0.01\n",
            "--------------------------------------------------------------"
          ]
        }
      ],
      "source": [
        "summ(glm_logit2, exp = TRUE)"
      ],
      "id": "4dbda23c-f447-46cb-890c-92d2172c8f31"
    },
    {
      "cell_type": "markdown",
      "metadata": {},
      "source": [
        "# オッズ比の理解\n",
        "\n",
        "指数変換して計算したオッズ比がどのようなものかを理解する."
      ],
      "id": "e3667d54-b85f-447f-a617-9d0c0169c66a"
    },
    {
      "cell_type": "code",
      "execution_count": null,
      "metadata": {},
      "outputs": [
        {
          "output_type": "stream",
          "name": "stdout",
          "text": [
            "        1 \n",
            "0.8781548 "
          ]
        }
      ],
      "source": [
        "p <- predict(glm_logit2,\n",
        "        newdata = tibble(Pclass = factor(1),\n",
        "                         Sex    = \"male\",\n",
        "                         Age    = 35),\n",
        "        type    = \"response\")\n",
        "q <- predict(glm_logit2,\n",
        "        newdata = tibble(Pclass = factor(2),\n",
        "                         Sex    = \"male\",\n",
        "                         Age    = 35),\n",
        "        type    = \"response\")\n",
        "(q / (1 - q)) / (p / (1 - p))"
      ],
      "id": "5627a190-086e-42c3-ba16-7b4ffaa1eb73"
    },
    {
      "cell_type": "markdown",
      "metadata": {},
      "source": [
        "### オッズ比の図示\n",
        "\n",
        "`ggplot2`を使ってオッズ比の信頼区間を図示する."
      ],
      "id": "23b1edad-5d2f-43c7-9dbe-d64daaf9c9ef"
    },
    {
      "cell_type": "code",
      "execution_count": null,
      "metadata": {},
      "outputs": [
        {
          "output_type": "display_data",
          "metadata": {},
          "data": {
            "image/png": "[encoded data removed]"
          }
        }
      ],
      "source": [
        "p_load(broom)\n",
        "broom::tidy(glm_logit2, \n",
        "            conf.int     = TRUE, \n",
        "            exponentiate = TRUE) |> \n",
        "  select(term, \n",
        "         estimate,\n",
        "         conf.low, \n",
        "         conf.high) |> \n",
        "  filter(term != \"(Intercept)\") |> \n",
        "  ggplot() +\n",
        "  aes(x    = term,\n",
        "      y    = estimate,\n",
        "      ymin = conf.low,\n",
        "      ymax = conf.high) +\n",
        "  geom_pointrange(size   = .5,\n",
        "                  colour = \"blue\") +\n",
        "  geom_hline(yintercept = 1,\n",
        "             linetype   = 'dotted') +\n",
        "  coord_flip()"
      ],
      "id": "1ad66e93-e7b5-48e3-8b1a-b5e2ab133105"
    },
    {
      "cell_type": "markdown",
      "metadata": {},
      "source": [
        "### ロジスティック回帰モデルの残差チェック\n",
        "\n",
        "残差をチェックするために`autoplot`を行う."
      ],
      "id": "208f990d-9890-4ea4-bb15-7c04522e74ce"
    },
    {
      "cell_type": "code",
      "execution_count": null,
      "metadata": {},
      "outputs": [
        {
          "output_type": "display_data",
          "metadata": {},
          "data": {
            "image/png": "[encoded data removed]"
          }
        }
      ],
      "source": [
        "p_load(ggfortify)\n",
        "autoplot(glm_logit2)"
      ],
      "id": "ba0dcb82-c14f-4d16-a4ff-bd1122d50277"
    },
    {
      "cell_type": "markdown",
      "metadata": {},
      "source": [
        "### 評価用の関数作成"
      ],
      "id": "20994b2c-57c3-4768-8c21-f31a910165a2"
    },
    {
      "cell_type": "code",
      "execution_count": null,
      "metadata": {},
      "outputs": [],
      "source": [
        "perform <- function(data, observed, predict){\n",
        "  library(dplyr)\n",
        "  obs  <- enquo(observed)\n",
        "  pred <- enquo(predict)\n",
        "  result <- data |> \n",
        "    select(obs := !!obs, pred := !!pred) |> \n",
        "    mutate(TP = obs == 1 & pred == 1,\n",
        "           FP = obs == 0 & pred == 1,\n",
        "           TN = obs == 0 & pred == 0,\n",
        "           FN = obs == 1 & pred == 0) |> \n",
        "    summarise(across(c(TP, FP, TN, FN), sum)) |> \n",
        "    mutate(Pe = ((TP + FN) * (TP + FP) + (TN + FN) * (TN + FP)) /\n",
        "             sum(TP, FP, TN, FN)^2) |> \n",
        "    transmute(Accuracy  = (TP + TN) / (TP + TN + FP + FN),\n",
        "              Precision = TP / (TP + FP),\n",
        "              Recall    = TP / (TP + FN),\n",
        "              F1        = 2 * Precision * Recall / (Precision + Recall),\n",
        "              kappa     = (Accuracy - Pe) / (1 - Pe))\n",
        "  return(result)\n",
        "}"
      ],
      "id": "7302eca6-eca3-49a4-babf-320e095599cb"
    },
    {
      "cell_type": "markdown",
      "metadata": {},
      "source": [
        "### ロジスティックモデルを用いた予測と的中率\n",
        "\n",
        "`predict`を用いてモデル上の(理論的な)生存確率を予測する.\n",
        "予測された結果が0.5より大きい場合は生存, 0.5以下であれば死亡とする.\n",
        "利用したデータを用いた予測の結果, 76.5%が的中した."
      ],
      "id": "20097fb3-b5ca-4ae1-8925-a9bb4a5036db"
    },
    {
      "cell_type": "code",
      "execution_count": null,
      "metadata": {},
      "outputs": [
        {
          "output_type": "stream",
          "name": "stdout",
          "text": [
            "# A tibble: 1 × 5\n",
            "  Accuracy Precision Recall    F1 kappa\n",
            "     <dbl>     <dbl>  <dbl> <dbl> <dbl>\n",
            "1    0.765     0.839  0.805 0.822 0.478"
          ]
        }
      ],
      "source": [
        "train3 |>\n",
        "  mutate(predict = predict(glm_logit2, \n",
        "                           type = \"response\")) |> \n",
        "  mutate(survive = predict > 0.5) |> \n",
        "  perform(Survived, survive)"
      ],
      "id": "dd190b38-4dea-45bf-b594-06f724032cc2"
    },
    {
      "cell_type": "markdown",
      "metadata": {},
      "source": [
        "### LOOCVによる評価\n",
        "\n",
        "`caret`パッケージを利用してLOOCVによるモデルの評価を行う. 正解率は75.4%."
      ],
      "id": "e49820d0-8d91-471d-b154-f996161b189c"
    },
    {
      "cell_type": "code",
      "execution_count": null,
      "metadata": {},
      "outputs": [
        {
          "output_type": "stream",
          "name": "stdout",
          "text": [
            "Generalized Linear Model \n",
            "\n",
            "183 samples\n",
            "  3 predictor\n",
            "  2 classes: '0', '1' \n",
            "\n",
            "No pre-processing\n",
            "Resampling: Leave-One-Out Cross-Validation \n",
            "Summary of sample sizes: 182, 182, 182, 182, 182, 182, ... \n",
            "Resampling results:\n",
            "\n",
            "  Accuracy   Kappa   \n",
            "  0.7540984  0.449127"
          ]
        }
      ],
      "source": [
        "p_load(caret)\n",
        "train(data      = train3,\n",
        "      model2,\n",
        "      method    = \"glm\",\n",
        "      family    = binomial(link = \"logit\"),\n",
        "      metric    = \"Accuracy\",\n",
        "      trControl = trainControl(method = \"LOOCV\"))"
      ],
      "id": "c6aafe05-3e14-43d7-95ee-b71a55c5ec87"
    },
    {
      "cell_type": "markdown",
      "metadata": {},
      "source": [
        "# Probit Regression Model\n",
        "\n",
        "### プロビット回帰モデル\n",
        "\n",
        "プロビット回帰モデルを推定するためには,\n",
        "`glm(family=binomial(link='probit'))`を指定する."
      ],
      "id": "329f5ac4-db48-4a1e-8dc3-f0bc49bfe90a"
    },
    {
      "cell_type": "code",
      "execution_count": null,
      "metadata": {},
      "outputs": [
        {
          "output_type": "stream",
          "name": "stdout",
          "text": [
            "MODEL INFO:\n",
            "Observations: 183\n",
            "Dependent Variable: Survived\n",
            "Type: Generalized linear model\n",
            "  Family: binomial \n",
            "  Link function: probit \n",
            "\n",
            "MODEL FIT:\n",
            "χ²(4) = 67.64, p = 0.00\n",
            "Pseudo-R² (Cragg-Uhler) = 0.43\n",
            "Pseudo-R² (McFadden) = 0.29\n",
            "AIC = 173.91, BIC = 189.96 \n",
            "\n",
            "Standard errors:MLE\n",
            "------------------------------------------------\n",
            "                     Est.   S.E.   z val.      p\n",
            "----------------- ------- ------ -------- ------\n",
            "(Intercept)          2.25   0.38     5.99   0.00\n",
            "Pclass2             -0.03   0.45    -0.06   0.95\n",
            "Pclass3             -1.05   0.50    -2.09   0.04\n",
            "Sexmale             -1.63   0.25    -6.50   0.00\n",
            "Age                 -0.02   0.01    -2.50   0.01\n",
            "------------------------------------------------"
          ]
        }
      ],
      "source": [
        "glm_probit <- glm(model2, \n",
        "                  data   = train3,\n",
        "                  family = binomial(link = 'probit'))\n",
        "summ(glm_probit)"
      ],
      "id": "a8ca4ac6-03b6-4a62-8f25-252047b09142"
    },
    {
      "cell_type": "markdown",
      "metadata": {},
      "source": [
        "### プロビットモデルで推定された係数の図示\n",
        "\n",
        "推定された係数を図で確認するために, `coefplot::coefplot`を利用する."
      ],
      "id": "d37b8a5d-dd87-4a11-b50b-0961cc490258"
    },
    {
      "cell_type": "code",
      "execution_count": null,
      "metadata": {},
      "outputs": [
        {
          "output_type": "display_data",
          "metadata": {},
          "data": {
            "image/png": "[encoded data removed]"
          }
        }
      ],
      "source": [
        "coefplot(glm_probit, intercept = FALSE)"
      ],
      "id": "b89e8c0b-5a80-4313-880b-bb427bdd95b0"
    },
    {
      "cell_type": "markdown",
      "metadata": {},
      "source": [
        "### プロビットモデルの残差チェック\n",
        "\n",
        "残差をチェックするために`autoplot`を行う."
      ],
      "id": "e875fa4e-5cbe-42cc-8bd7-2af31887792a"
    },
    {
      "cell_type": "code",
      "execution_count": null,
      "metadata": {},
      "outputs": [
        {
          "output_type": "display_data",
          "metadata": {},
          "data": {
            "image/png": "[encoded data removed]"
          }
        }
      ],
      "source": [
        "autoplot(glm_probit)"
      ],
      "id": "5638fd3f-3cb3-4bf2-9127-12ab63e817ee"
    },
    {
      "cell_type": "markdown",
      "metadata": {},
      "source": [
        "### プロビットモデルを用いた予測と的中率\n",
        "\n",
        "`predict`を用いてモデル上の(理論的な)生存確率を予測する.\n",
        "予測された結果が0.5より大きい場合は生存, 0.5以下であれば死亡とする.\n",
        "利用したデータを用いた予測の結果, 77.0%が的中した."
      ],
      "id": "0ad39fb7-b32d-418b-91e7-f6e50912de84"
    },
    {
      "cell_type": "code",
      "execution_count": null,
      "metadata": {},
      "outputs": [
        {
          "output_type": "stream",
          "name": "stdout",
          "text": [
            "# A tibble: 1 × 5\n",
            "  Accuracy Precision Recall    F1 kappa\n",
            "     <dbl>     <dbl>  <dbl> <dbl> <dbl>\n",
            "1    0.770     0.846  0.805 0.825 0.492"
          ]
        }
      ],
      "source": [
        "train3 |>\n",
        "  mutate(predict = predict(glm_probit, \n",
        "                           type = \"response\")) |> \n",
        "  mutate(survive = predict > 0.5) |> \n",
        "  perform(Survived, survive)"
      ],
      "id": "286dea46-d64e-4f58-92ab-da1e011e6e1d"
    },
    {
      "cell_type": "markdown",
      "metadata": {},
      "source": [
        "### LOOCVによる評価\n",
        "\n",
        "`caret`パッケージを利用してLOOCVによるモデルの評価を行う. 正解率は75.4%."
      ],
      "id": "58ac5374-28fa-47d8-b239-2f1b962e53ec"
    },
    {
      "cell_type": "code",
      "execution_count": null,
      "metadata": {},
      "outputs": [
        {
          "output_type": "stream",
          "name": "stdout",
          "text": [
            "Generalized Linear Model \n",
            "\n",
            "183 samples\n",
            "  3 predictor\n",
            "  2 classes: '0', '1' \n",
            "\n",
            "No pre-processing\n",
            "Resampling: Leave-One-Out Cross-Validation \n",
            "Summary of sample sizes: 182, 182, 182, 182, 182, 182, ... \n",
            "Resampling results:\n",
            "\n",
            "  Accuracy   Kappa    \n",
            "  0.7540984  0.4537313"
          ]
        }
      ],
      "source": [
        "train(data      = train3,\n",
        "      model2,\n",
        "      method    = \"glm\",\n",
        "      family    = binomial(link = \"probit\"),\n",
        "      metric    = \"Accuracy\",\n",
        "      trControl = trainControl(method = \"LOOCV\"))"
      ],
      "id": "04bf208a-f6d5-4d20-8c99-97ef7fd93fe0"
    },
    {
      "cell_type": "markdown",
      "metadata": {},
      "source": [
        "# Complementary Log-Log regression model\n",
        "\n",
        "### 補対数対数回帰モデル\n",
        "\n",
        "補対数対数回帰モデルを推定するためには,\n",
        "`glm(family=binomial(link='cloglog'))`を指定する."
      ],
      "id": "355b354f-9a0e-4dfc-bda1-a2947d66d7bd"
    },
    {
      "cell_type": "code",
      "execution_count": null,
      "metadata": {},
      "outputs": [
        {
          "output_type": "stream",
          "name": "stdout",
          "text": [
            "MODEL INFO:\n",
            "Observations: 183\n",
            "Dependent Variable: Survived\n",
            "Type: Generalized linear model\n",
            "  Family: binomial \n",
            "  Link function: cloglog \n",
            "\n",
            "MODEL FIT:\n",
            "χ²(4) = 66.30, p = 0.00\n",
            "Pseudo-R² (Cragg-Uhler) = 0.42\n",
            "Pseudo-R² (McFadden) = 0.29\n",
            "AIC = 175.25, BIC = 191.30 \n",
            "\n",
            "Standard errors:MLE\n",
            "------------------------------------------------\n",
            "                     Est.   S.E.   z val.      p\n",
            "----------------- ------- ------ -------- ------\n",
            "(Intercept)          1.57   0.33     4.75   0.00\n",
            "Pclass2              0.03   0.41     0.08   0.94\n",
            "Pclass3             -1.10   0.53    -2.09   0.04\n",
            "Sexmale             -1.52   0.22    -6.86   0.00\n",
            "Age                 -0.01   0.01    -1.94   0.05\n",
            "------------------------------------------------"
          ]
        }
      ],
      "source": [
        "glm_cloglog <- glm(model2, \n",
        "                   data   = train3,\n",
        "                   family = binomial(link = 'cloglog'))\n",
        "summ(glm_cloglog)"
      ],
      "id": "0749800f-1064-4594-a7dd-be13aca6ad3d"
    },
    {
      "cell_type": "markdown",
      "metadata": {},
      "source": [
        "### 補対数対数モデルで推定された係数の図示\n",
        "\n",
        "推定された係数を図で確認するために, `coefplot::coefplot`を利用する."
      ],
      "id": "a3eabb81-ce21-448d-9737-86aa3582dabd"
    },
    {
      "cell_type": "code",
      "execution_count": null,
      "metadata": {},
      "outputs": [
        {
          "output_type": "display_data",
          "metadata": {},
          "data": {
            "image/png": "[encoded data removed]"
          }
        }
      ],
      "source": [
        "coefplot(glm_cloglog, intercept = FALSE)"
      ],
      "id": "15dd3ff6-09f3-441d-b5b8-2cfe082a5ed9"
    },
    {
      "cell_type": "markdown",
      "metadata": {},
      "source": [
        "### 補対数対数モデルの残差チェック\n",
        "\n",
        "残差をチェックするために`autoplot`を行う."
      ],
      "id": "25836ef4-62cf-4107-986b-29eff0296292"
    },
    {
      "cell_type": "code",
      "execution_count": null,
      "metadata": {},
      "outputs": [
        {
          "output_type": "display_data",
          "metadata": {},
          "data": {
            "image/png": "[encoded data removed]"
          }
        }
      ],
      "source": [
        "autoplot(glm_cloglog)"
      ],
      "id": "0d85033d-2a81-4c93-8f47-fc31fdd23b5a"
    },
    {
      "cell_type": "markdown",
      "metadata": {},
      "source": [
        "### 補対数対数モデルを用いた予測と的中率\n",
        "\n",
        "`predict`を用いてモデル上の(理論的な)生存確率を予測する.\n",
        "予測された結果が0.5より大きい場合は生存, 0.5以下であれば死亡とする.\n",
        "利用したデータを用いた予測の結果, 77.6%が的中した."
      ],
      "id": "2a6575f9-bce6-48b5-8bc6-437744a10a7a"
    },
    {
      "cell_type": "code",
      "execution_count": null,
      "metadata": {},
      "outputs": [
        {
          "output_type": "stream",
          "name": "stdout",
          "text": [
            "# A tibble: 1 × 5\n",
            "  Accuracy Precision Recall    F1 kappa\n",
            "     <dbl>     <dbl>  <dbl> <dbl> <dbl>\n",
            "1    0.776     0.880  0.772 0.823 0.522"
          ]
        }
      ],
      "source": [
        "train3 |>\n",
        "  mutate(predict = predict(glm_cloglog, \n",
        "                           type = \"response\")) |> \n",
        "  mutate(survive = predict > 0.5) |> \n",
        "  perform(Survived, survive)"
      ],
      "id": "11cd4593-c348-4c0e-834b-c4526957b470"
    },
    {
      "cell_type": "markdown",
      "metadata": {},
      "source": [
        "### LOOCVによる評価\n",
        "\n",
        "`caret`パッケージを利用してLOOCVによるモデルの評価を行う. 正解率は74.3%."
      ],
      "id": "1c4e5e01-41ba-4719-b0d2-d30027d2625b"
    },
    {
      "cell_type": "code",
      "execution_count": null,
      "metadata": {},
      "outputs": [
        {
          "output_type": "stream",
          "name": "stdout",
          "text": [
            "Generalized Linear Model \n",
            "\n",
            "183 samples\n",
            "  3 predictor\n",
            "  2 classes: '0', '1' \n",
            "\n",
            "No pre-processing\n",
            "Resampling: Leave-One-Out Cross-Validation \n",
            "Summary of sample sizes: 182, 182, 182, 182, 182, 182, ... \n",
            "Resampling results:\n",
            "\n",
            "  Accuracy   Kappa    \n",
            "  0.7431694  0.4479106"
          ]
        }
      ],
      "source": [
        "train(data      = train3,\n",
        "      model2,\n",
        "      method    = \"glm\",\n",
        "      family    = binomial(link = \"cloglog\"),\n",
        "      metric    = \"Accuracy\",\n",
        "      trControl = trainControl(method = \"LOOCV\"))"
      ],
      "id": "e0e3f011-59a9-4438-bcce-55a270f7501e"
    },
    {
      "cell_type": "markdown",
      "metadata": {},
      "source": [
        "# Appendix\n",
        "\n",
        "### テストデータによる予測\n",
        "\n",
        "トレーニングデータで作成したモデルから, テストデータで予測する."
      ],
      "id": "31719662-3620-4425-9436-641e334e5bf1"
    },
    {
      "cell_type": "code",
      "execution_count": null,
      "metadata": {},
      "outputs": [],
      "source": [
        "test <- titanic_test |> \n",
        "  replace_with_na_all(condition = ~.x %in% c(\"NA\", \"\")) |> \n",
        "  tidyr::drop_na() |> \n",
        "  mutate_at(vars(Pclass, Sex, Embarked), as.factor) |> \n",
        "  broom::augment(x            = glm_logit2,\n",
        "                 newdata      = _,\n",
        "                 type.predict = \"response\") |> \n",
        "  mutate(survive = .fitted > 0.5)"
      ],
      "id": "26a22fd6-3bc4-495e-bfd0-564ad1d84aa2"
    },
    {
      "cell_type": "markdown",
      "metadata": {},
      "source": [
        "### 多重代入法による欠測値の処理\n",
        "\n",
        "欠測値をバイアスをより少なく扱うためには, 多重代入法などを利用する.\n",
        "`mice`, `norm2`, `miceadds`パッケージを利用する."
      ],
      "id": "5ccd5fad-d5dd-414e-b904-98d285619cbd"
    },
    {
      "cell_type": "code",
      "execution_count": null,
      "metadata": {},
      "outputs": [
        {
          "output_type": "stream",
          "name": "stderr",
          "text": [
            "Installing package into '/cloud/lib/x86_64-pc-linux-gnu-library/4.4'\n",
            "(as 'lib' is unspecified)"
          ]
        },
        {
          "output_type": "stream",
          "name": "stderr",
          "text": [
            "also installing the dependencies 'ucminf', 'ordinal', 'pan', 'jomo', 'haven', 'glmnet', 'mitml'"
          ]
        },
        {
          "output_type": "stream",
          "name": "stderr",
          "text": [
            "\n",
            "mice installed"
          ]
        },
        {
          "output_type": "stream",
          "name": "stderr",
          "text": [
            "Installing package into '/cloud/lib/x86_64-pc-linux-gnu-library/4.4'\n",
            "(as 'lib' is unspecified)"
          ]
        },
        {
          "output_type": "stream",
          "name": "stderr",
          "text": [
            "Warning: package 'norm2' is not available for this version of R\n",
            "\n",
            "A version of this package for your version of R might be available elsewhere,\n",
            "see the ideas at\n",
            "https://cran.r-project.org/doc/manuals/r-patched/R-admin.html#Installing-packages"
          ]
        },
        {
          "output_type": "stream",
          "name": "stderr",
          "text": [
            "Warning: 'BiocManager' not available.  Could not check Bioconductor.\n",
            "\n",
            "Please use `install.packages('BiocManager')` and then retry."
          ]
        },
        {
          "output_type": "stream",
          "name": "stderr",
          "text": [
            "Warning in p_install(package, character.only = TRUE, ...):"
          ]
        },
        {
          "output_type": "stream",
          "name": "stderr",
          "text": [
            "Warning in library(package, lib.loc = lib.loc, character.only = TRUE,\n",
            "logical.return = TRUE, : there is no package called 'norm2'"
          ]
        },
        {
          "output_type": "stream",
          "name": "stderr",
          "text": [
            "Installing package into '/cloud/lib/x86_64-pc-linux-gnu-library/4.4'\n",
            "(as 'lib' is unspecified)"
          ]
        },
        {
          "output_type": "stream",
          "name": "stderr",
          "text": [
            "also installing the dependencies 'DBI', 'mitools', 'RcppArmadillo'"
          ]
        },
        {
          "output_type": "stream",
          "name": "stderr",
          "text": [
            "\n",
            "miceadds installed"
          ]
        },
        {
          "output_type": "stream",
          "name": "stderr",
          "text": [
            "Warning in p_load(mice, norm2, miceadds): Failed to install/load:\n",
            "norm2"
          ]
        },
        {
          "output_type": "stream",
          "name": "stderr",
          "text": [
            "Warning in glm.mids(model2, data =\n",
            "mice(select(mutate(replace_with_na_all(train, : Use with(imp, glm(yourmodel)."
          ]
        },
        {
          "output_type": "stream",
          "name": "stdout",
          "text": [
            "\n",
            " iter imp variable\n",
            "  1   1  Age  Embarked\n",
            "  1   2  Age  Embarked\n",
            "  1   3  Age  Embarked\n",
            "  1   4  Age  Embarked\n",
            "  1   5  Age  Embarked\n",
            "  1   6  Age  Embarked\n",
            "  1   7  Age  Embarked\n",
            "  1   8  Age  Embarked\n",
            "  1   9  Age  Embarked\n",
            "  1   10  Age  Embarked\n",
            "  1   11  Age  Embarked\n",
            "  1   12  Age  Embarked\n",
            "  1   13  Age  Embarked\n",
            "  1   14  Age  Embarked\n",
            "  1   15  Age  Embarked\n",
            "  1   16  Age  Embarked\n",
            "  1   17  Age  Embarked\n",
            "  1   18  Age  Embarked\n",
            "  1   19  Age  Embarked\n",
            "  1   20  Age  Embarked\n",
            "  1   21  Age  Embarked\n",
            "  1   22  Age  Embarked\n",
            "  1   23  Age  Embarked\n",
            "  1   24  Age  Embarked\n",
            "  1   25  Age  Embarked\n",
            "  1   26  Age  Embarked\n",
            "  1   27  Age  Embarked\n",
            "  1   28  Age  Embarked\n",
            "  1   29  Age  Embarked\n",
            "  1   30  Age  Embarked\n",
            "  1   31  Age  Embarked\n",
            "  1   32  Age  Embarked\n",
            "  1   33  Age  Embarked\n",
            "  1   34  Age  Embarked\n",
            "  1   35  Age  Embarked\n",
            "  1   36  Age  Embarked\n",
            "  1   37  Age  Embarked\n",
            "  1   38  Age  Embarked\n",
            "  1   39  Age  Embarked\n",
            "  1   40  Age  Embarked\n",
            "  1   41  Age  Embarked\n",
            "  1   42  Age  Embarked\n",
            "  1   43  Age  Embarked\n",
            "  1   44  Age  Embarked\n",
            "  1   45  Age  Embarked\n",
            "  1   46  Age  Embarked\n",
            "  1   47  Age  Embarked\n",
            "  1   48  Age  Embarked\n",
            "  1   49  Age  Embarked\n",
            "  1   50  Age  Embarked\n",
            "  1   51  Age  Embarked\n",
            "  1   52  Age  Embarked\n",
            "  1   53  Age  Embarked\n",
            "  1   54  Age  Embarked\n",
            "  1   55  Age  Embarked\n",
            "  1   56  Age  Embarked\n",
            "  1   57  Age  Embarked\n",
            "  1   58  Age  Embarked\n",
            "  1   59  Age  Embarked\n",
            "  1   60  Age  Embarked\n",
            "  1   61  Age  Embarked\n",
            "  1   62  Age  Embarked\n",
            "  1   63  Age  Embarked\n",
            "  1   64  Age  Embarked\n",
            "  1   65  Age  Embarked\n",
            "  1   66  Age  Embarked\n",
            "  1   67  Age  Embarked\n",
            "  1   68  Age  Embarked\n",
            "  1   69  Age  Embarked\n",
            "  1   70  Age  Embarked\n",
            "  1   71  Age  Embarked\n",
            "  1   72  Age  Embarked\n",
            "  1   73  Age  Embarked\n",
            "  1   74  Age  Embarked\n",
            "  1   75  Age  Embarked\n",
            "  1   76  Age  Embarked\n",
            "  1   77  Age  Embarked\n",
            "  1   78  Age  Embarked\n",
            "  1   79  Age  Embarked\n",
            "  1   80  Age  Embarked\n",
            "  1   81  Age  Embarked\n",
            "  1   82  Age  Embarked\n",
            "  1   83  Age  Embarked\n",
            "  1   84  Age  Embarked\n",
            "  1   85  Age  Embarked\n",
            "  1   86  Age  Embarked\n",
            "  1   87  Age  Embarked\n",
            "  1   88  Age  Embarked\n",
            "  1   89  Age  Embarked\n",
            "  1   90  Age  Embarked\n",
            "  1   91  Age  Embarked\n",
            "  1   92  Age  Embarked\n",
            "  1   93  Age  Embarked\n",
            "  1   94  Age  Embarked\n",
            "  1   95  Age  Embarked\n",
            "  1   96  Age  Embarked\n",
            "  1   97  Age  Embarked\n",
            "  1   98  Age  Embarked\n",
            "  1   99  Age  Embarked\n",
            "  1   100  Age  Embarked\n",
            "  2   1  Age  Embarked\n",
            "  2   2  Age  Embarked\n",
            "  2   3  Age  Embarked\n",
            "  2   4  Age  Embarked\n",
            "  2   5  Age  Embarked\n",
            "  2   6  Age  Embarked\n",
            "  2   7  Age  Embarked\n",
            "  2   8  Age  Embarked\n",
            "  2   9  Age  Embarked\n",
            "  2   10  Age  Embarked\n",
            "  2   11  Age  Embarked\n",
            "  2   12  Age  Embarked\n",
            "  2   13  Age  Embarked\n",
            "  2   14  Age  Embarked\n",
            "  2   15  Age  Embarked\n",
            "  2   16  Age  Embarked\n",
            "  2   17  Age  Embarked\n",
            "  2   18  Age  Embarked\n",
            "  2   19  Age  Embarked\n",
            "  2   20  Age  Embarked\n",
            "  2   21  Age  Embarked\n",
            "  2   22  Age  Embarked\n",
            "  2   23  Age  Embarked\n",
            "  2   24  Age  Embarked\n",
            "  2   25  Age  Embarked\n",
            "  2   26  Age  Embarked\n",
            "  2   27  Age  Embarked\n",
            "  2   28  Age  Embarked\n",
            "  2   29  Age  Embarked\n",
            "  2   30  Age  Embarked\n",
            "  2   31  Age  Embarked\n",
            "  2   32  Age  Embarked\n",
            "  2   33  Age  Embarked\n",
            "  2   34  Age  Embarked\n",
            "  2   35  Age  Embarked\n",
            "  2   36  Age  Embarked\n",
            "  2   37  Age  Embarked\n",
            "  2   38  Age  Embarked\n",
            "  2   39  Age  Embarked\n",
            "  2   40  Age  Embarked\n",
            "  2   41  Age  Embarked\n",
            "  2   42  Age  Embarked\n",
            "  2   43  Age  Embarked\n",
            "  2   44  Age  Embarked\n",
            "  2   45  Age  Embarked\n",
            "  2   46  Age  Embarked\n",
            "  2   47  Age  Embarked\n",
            "  2   48  Age  Embarked\n",
            "  2   49  Age  Embarked\n",
            "  2   50  Age  Embarked\n",
            "  2   51  Age  Embarked\n",
            "  2   52  Age  Embarked\n",
            "  2   53  Age  Embarked\n",
            "  2   54  Age  Embarked\n",
            "  2   55  Age  Embarked\n",
            "  2   56  Age  Embarked\n",
            "  2   57  Age  Embarked\n",
            "  2   58  Age  Embarked\n",
            "  2   59  Age  Embarked\n",
            "  2   60  Age  Embarked\n",
            "  2   61  Age  Embarked\n",
            "  2   62  Age  Embarked\n",
            "  2   63  Age  Embarked\n",
            "  2   64  Age  Embarked\n",
            "  2   65  Age  Embarked\n",
            "  2   66  Age  Embarked\n",
            "  2   67  Age  Embarked\n",
            "  2   68  Age  Embarked\n",
            "  2   69  Age  Embarked\n",
            "  2   70  Age  Embarked\n",
            "  2   71  Age  Embarked\n",
            "  2   72  Age  Embarked\n",
            "  2   73  Age  Embarked\n",
            "  2   74  Age  Embarked\n",
            "  2   75  Age  Embarked\n",
            "  2   76  Age  Embarked\n",
            "  2   77  Age  Embarked\n",
            "  2   78  Age  Embarked\n",
            "  2   79  Age  Embarked\n",
            "  2   80  Age  Embarked\n",
            "  2   81  Age  Embarked\n",
            "  2   82  Age  Embarked\n",
            "  2   83  Age  Embarked\n",
            "  2   84  Age  Embarked\n",
            "  2   85  Age  Embarked\n",
            "  2   86  Age  Embarked\n",
            "  2   87  Age  Embarked\n",
            "  2   88  Age  Embarked\n",
            "  2   89  Age  Embarked\n",
            "  2   90  Age  Embarked\n",
            "  2   91  Age  Embarked\n",
            "  2   92  Age  Embarked\n",
            "  2   93  Age  Embarked\n",
            "  2   94  Age  Embarked\n",
            "  2   95  Age  Embarked\n",
            "  2   96  Age  Embarked\n",
            "  2   97  Age  Embarked\n",
            "  2   98  Age  Embarked\n",
            "  2   99  Age  Embarked\n",
            "  2   100  Age  Embarked\n",
            "  3   1  Age  Embarked\n",
            "  3   2  Age  Embarked\n",
            "  3   3  Age  Embarked\n",
            "  3   4  Age  Embarked\n",
            "  3   5  Age  Embarked\n",
            "  3   6  Age  Embarked\n",
            "  3   7  Age  Embarked\n",
            "  3   8  Age  Embarked\n",
            "  3   9  Age  Embarked\n",
            "  3   10  Age  Embarked\n",
            "  3   11  Age  Embarked\n",
            "  3   12  Age  Embarked\n",
            "  3   13  Age  Embarked\n",
            "  3   14  Age  Embarked\n",
            "  3   15  Age  Embarked\n",
            "  3   16  Age  Embarked\n",
            "  3   17  Age  Embarked\n",
            "  3   18  Age  Embarked\n",
            "  3   19  Age  Embarked\n",
            "  3   20  Age  Embarked\n",
            "  3   21  Age  Embarked\n",
            "  3   22  Age  Embarked\n",
            "  3   23  Age  Embarked\n",
            "  3   24  Age  Embarked\n",
            "  3   25  Age  Embarked\n",
            "  3   26  Age  Embarked\n",
            "  3   27  Age  Embarked\n",
            "  3   28  Age  Embarked\n",
            "  3   29  Age  Embarked\n",
            "  3   30  Age  Embarked\n",
            "  3   31  Age  Embarked\n",
            "  3   32  Age  Embarked\n",
            "  3   33  Age  Embarked\n",
            "  3   34  Age  Embarked\n",
            "  3   35  Age  Embarked\n",
            "  3   36  Age  Embarked\n",
            "  3   37  Age  Embarked\n",
            "  3   38  Age  Embarked\n",
            "  3   39  Age  Embarked\n",
            "  3   40  Age  Embarked\n",
            "  3   41  Age  Embarked\n",
            "  3   42  Age  Embarked\n",
            "  3   43  Age  Embarked\n",
            "  3   44  Age  Embarked\n",
            "  3   45  Age  Embarked\n",
            "  3   46  Age  Embarked\n",
            "  3   47  Age  Embarked\n",
            "  3   48  Age  Embarked\n",
            "  3   49  Age  Embarked\n",
            "  3   50  Age  Embarked\n",
            "  3   51  Age  Embarked\n",
            "  3   52  Age  Embarked\n",
            "  3   53  Age  Embarked\n",
            "  3   54  Age  Embarked\n",
            "  3   55  Age  Embarked\n",
            "  3   56  Age  Embarked\n",
            "  3   57  Age  Embarked\n",
            "  3   58  Age  Embarked\n",
            "  3   59  Age  Embarked\n",
            "  3   60  Age  Embarked\n",
            "  3   61  Age  Embarked\n",
            "  3   62  Age  Embarked\n",
            "  3   63  Age  Embarked\n",
            "  3   64  Age  Embarked\n",
            "  3   65  Age  Embarked\n",
            "  3   66  Age  Embarked\n",
            "  3   67  Age  Embarked\n",
            "  3   68  Age  Embarked\n",
            "  3   69  Age  Embarked\n",
            "  3   70  Age  Embarked\n",
            "  3   71  Age  Embarked\n",
            "  3   72  Age  Embarked\n",
            "  3   73  Age  Embarked\n",
            "  3   74  Age  Embarked\n",
            "  3   75  Age  Embarked\n",
            "  3   76  Age  Embarked\n",
            "  3   77  Age  Embarked\n",
            "  3   78  Age  Embarked\n",
            "  3   79  Age  Embarked\n",
            "  3   80  Age  Embarked\n",
            "  3   81  Age  Embarked\n",
            "  3   82  Age  Embarked\n",
            "  3   83  Age  Embarked\n",
            "  3   84  Age  Embarked\n",
            "  3   85  Age  Embarked\n",
            "  3   86  Age  Embarked\n",
            "  3   87  Age  Embarked\n",
            "  3   88  Age  Embarked\n",
            "  3   89  Age  Embarked\n",
            "  3   90  Age  Embarked\n",
            "  3   91  Age  Embarked\n",
            "  3   92  Age  Embarked\n",
            "  3   93  Age  Embarked\n",
            "  3   94  Age  Embarked\n",
            "  3   95  Age  Embarked\n",
            "  3   96  Age  Embarked\n",
            "  3   97  Age  Embarked\n",
            "  3   98  Age  Embarked\n",
            "  3   99  Age  Embarked\n",
            "  3   100  Age  Embarked\n",
            "  4   1  Age  Embarked\n",
            "  4   2  Age  Embarked\n",
            "  4   3  Age  Embarked\n",
            "  4   4  Age  Embarked\n",
            "  4   5  Age  Embarked\n",
            "  4   6  Age  Embarked\n",
            "  4   7  Age  Embarked\n",
            "  4   8  Age  Embarked\n",
            "  4   9  Age  Embarked\n",
            "  4   10  Age  Embarked\n",
            "  4   11  Age  Embarked\n",
            "  4   12  Age  Embarked\n",
            "  4   13  Age  Embarked\n",
            "  4   14  Age  Embarked\n",
            "  4   15  Age  Embarked\n",
            "  4   16  Age  Embarked\n",
            "  4   17  Age  Embarked\n",
            "  4   18  Age  Embarked\n",
            "  4   19  Age  Embarked\n",
            "  4   20  Age  Embarked\n",
            "  4   21  Age  Embarked\n",
            "  4   22  Age  Embarked\n",
            "  4   23  Age  Embarked\n",
            "  4   24  Age  Embarked\n",
            "  4   25  Age  Embarked\n",
            "  4   26  Age  Embarked\n",
            "  4   27  Age  Embarked\n",
            "  4   28  Age  Embarked\n",
            "  4   29  Age  Embarked\n",
            "  4   30  Age  Embarked\n",
            "  4   31  Age  Embarked\n",
            "  4   32  Age  Embarked\n",
            "  4   33  Age  Embarked\n",
            "  4   34  Age  Embarked\n",
            "  4   35  Age  Embarked\n",
            "  4   36  Age  Embarked\n",
            "  4   37  Age  Embarked\n",
            "  4   38  Age  Embarked\n",
            "  4   39  Age  Embarked\n",
            "  4   40  Age  Embarked\n",
            "  4   41  Age  Embarked\n",
            "  4   42  Age  Embarked\n",
            "  4   43  Age  Embarked\n",
            "  4   44  Age  Embarked\n",
            "  4   45  Age  Embarked\n",
            "  4   46  Age  Embarked\n",
            "  4   47  Age  Embarked\n",
            "  4   48  Age  Embarked\n",
            "  4   49  Age  Embarked\n",
            "  4   50  Age  Embarked\n",
            "  4   51  Age  Embarked\n",
            "  4   52  Age  Embarked\n",
            "  4   53  Age  Embarked\n",
            "  4   54  Age  Embarked\n",
            "  4   55  Age  Embarked\n",
            "  4   56  Age  Embarked\n",
            "  4   57  Age  Embarked\n",
            "  4   58  Age  Embarked\n",
            "  4   59  Age  Embarked\n",
            "  4   60  Age  Embarked\n",
            "  4   61  Age  Embarked\n",
            "  4   62  Age  Embarked\n",
            "  4   63  Age  Embarked\n",
            "  4   64  Age  Embarked\n",
            "  4   65  Age  Embarked\n",
            "  4   66  Age  Embarked\n",
            "  4   67  Age  Embarked\n",
            "  4   68  Age  Embarked\n",
            "  4   69  Age  Embarked\n",
            "  4   70  Age  Embarked\n",
            "  4   71  Age  Embarked\n",
            "  4   72  Age  Embarked\n",
            "  4   73  Age  Embarked\n",
            "  4   74  Age  Embarked\n",
            "  4   75  Age  Embarked\n",
            "  4   76  Age  Embarked\n",
            "  4   77  Age  Embarked\n",
            "  4   78  Age  Embarked\n",
            "  4   79  Age  Embarked\n",
            "  4   80  Age  Embarked\n",
            "  4   81  Age  Embarked\n",
            "  4   82  Age  Embarked\n",
            "  4   83  Age  Embarked\n",
            "  4   84  Age  Embarked\n",
            "  4   85  Age  Embarked\n",
            "  4   86  Age  Embarked\n",
            "  4   87  Age  Embarked\n",
            "  4   88  Age  Embarked\n",
            "  4   89  Age  Embarked\n",
            "  4   90  Age  Embarked\n",
            "  4   91  Age  Embarked\n",
            "  4   92  Age  Embarked\n",
            "  4   93  Age  Embarked\n",
            "  4   94  Age  Embarked\n",
            "  4   95  Age  Embarked\n",
            "  4   96  Age  Embarked\n",
            "  4   97  Age  Embarked\n",
            "  4   98  Age  Embarked\n",
            "  4   99  Age  Embarked\n",
            "  4   100  Age  Embarked\n",
            "  5   1  Age  Embarked\n",
            "  5   2  Age  Embarked\n",
            "  5   3  Age  Embarked\n",
            "  5   4  Age  Embarked\n",
            "  5   5  Age  Embarked\n",
            "  5   6  Age  Embarked\n",
            "  5   7  Age  Embarked\n",
            "  5   8  Age  Embarked\n",
            "  5   9  Age  Embarked\n",
            "  5   10  Age  Embarked\n",
            "  5   11  Age  Embarked\n",
            "  5   12  Age  Embarked\n",
            "  5   13  Age  Embarked\n",
            "  5   14  Age  Embarked\n",
            "  5   15  Age  Embarked\n",
            "  5   16  Age  Embarked\n",
            "  5   17  Age  Embarked\n",
            "  5   18  Age  Embarked\n",
            "  5   19  Age  Embarked\n",
            "  5   20  Age  Embarked\n",
            "  5   21  Age  Embarked\n",
            "  5   22  Age  Embarked\n",
            "  5   23  Age  Embarked\n",
            "  5   24  Age  Embarked\n",
            "  5   25  Age  Embarked\n",
            "  5   26  Age  Embarked\n",
            "  5   27  Age  Embarked\n",
            "  5   28  Age  Embarked\n",
            "  5   29  Age  Embarked\n",
            "  5   30  Age  Embarked\n",
            "  5   31  Age  Embarked\n",
            "  5   32  Age  Embarked\n",
            "  5   33  Age  Embarked\n",
            "  5   34  Age  Embarked\n",
            "  5   35  Age  Embarked\n",
            "  5   36  Age  Embarked\n",
            "  5   37  Age  Embarked\n",
            "  5   38  Age  Embarked\n",
            "  5   39  Age  Embarked\n",
            "  5   40  Age  Embarked\n",
            "  5   41  Age  Embarked\n",
            "  5   42  Age  Embarked\n",
            "  5   43  Age  Embarked\n",
            "  5   44  Age  Embarked\n",
            "  5   45  Age  Embarked\n",
            "  5   46  Age  Embarked\n",
            "  5   47  Age  Embarked\n",
            "  5   48  Age  Embarked\n",
            "  5   49  Age  Embarked\n",
            "  5   50  Age  Embarked\n",
            "  5   51  Age  Embarked\n",
            "  5   52  Age  Embarked\n",
            "  5   53  Age  Embarked\n",
            "  5   54  Age  Embarked\n",
            "  5   55  Age  Embarked\n",
            "  5   56  Age  Embarked\n",
            "  5   57  Age  Embarked\n",
            "  5   58  Age  Embarked\n",
            "  5   59  Age  Embarked\n",
            "  5   60  Age  Embarked\n",
            "  5   61  Age  Embarked\n",
            "  5   62  Age  Embarked\n",
            "  5   63  Age  Embarked\n",
            "  5   64  Age  Embarked\n",
            "  5   65  Age  Embarked\n",
            "  5   66  Age  Embarked\n",
            "  5   67  Age  Embarked\n",
            "  5   68  Age  Embarked\n",
            "  5   69  Age  Embarked\n",
            "  5   70  Age  Embarked\n",
            "  5   71  Age  Embarked\n",
            "  5   72  Age  Embarked\n",
            "  5   73  Age  Embarked\n",
            "  5   74  Age  Embarked\n",
            "  5   75  Age  Embarked\n",
            "  5   76  Age  Embarked\n",
            "  5   77  Age  Embarked\n",
            "  5   78  Age  Embarked\n",
            "  5   79  Age  Embarked\n",
            "  5   80  Age  Embarked\n",
            "  5   81  Age  Embarked\n",
            "  5   82  Age  Embarked\n",
            "  5   83  Age  Embarked\n",
            "  5   84  Age  Embarked\n",
            "  5   85  Age  Embarked\n",
            "  5   86  Age  Embarked\n",
            "  5   87  Age  Embarked\n",
            "  5   88  Age  Embarked\n",
            "  5   89  Age  Embarked\n",
            "  5   90  Age  Embarked\n",
            "  5   91  Age  Embarked\n",
            "  5   92  Age  Embarked\n",
            "  5   93  Age  Embarked\n",
            "  5   94  Age  Embarked\n",
            "  5   95  Age  Embarked\n",
            "  5   96  Age  Embarked\n",
            "  5   97  Age  Embarked\n",
            "  5   98  Age  Embarked\n",
            "  5   99  Age  Embarked\n",
            "  5   100  Age  Embarked"
          ]
        }
      ],
      "source": [
        "p_load(mice, norm2, miceadds)"
      ],
      "id": "751bc711-f4f5-4956-b034-97aa9d7e5d67"
    },
    {
      "cell_type": "markdown",
      "metadata": {},
      "source": [
        "### 多重代入法による結果の確認\n",
        "\n",
        "多重代入法の結果をpoolした上で確認する."
      ],
      "id": "f04a15f8-5e69-4e7f-824d-d3974712df30"
    },
    {
      "cell_type": "code",
      "execution_count": null,
      "metadata": {},
      "outputs": [
        {
          "output_type": "stream",
          "name": "stdout",
          "text": [
            "         term    estimate   std.error  statistic       df      p.value\n",
            "1 (Intercept)  3.53902344 0.375889219   9.415070 709.4391 6.471257e-20\n",
            "2     Pclass2 -1.16841638 0.263008360  -4.442507 857.9440 1.005501e-05\n",
            "3     Pclass3 -2.42909763 0.256826989  -9.458109 813.9947 3.265504e-20\n",
            "4     Sexmale -2.58592457 0.187618050 -13.782920 878.5296 2.867690e-39\n",
            "5         Age -0.03192595 0.007331264  -4.354768 595.1110 1.568431e-05"
          ]
        }
      ],
      "source": [
        "glm_logit_imp |> \n",
        "  pool() |> \n",
        "  summary()"
      ],
      "id": "0780f756-7667-4b01-8dc6-a43057f069ca"
    },
    {
      "cell_type": "markdown",
      "metadata": {},
      "source": [
        "### 多重代入法(ロジスティック回帰モデル)を用いた予測と的中率\n",
        "\n",
        "利用したデータを用いた予測の結果, 79.3%が的中した."
      ],
      "id": "0f16d096-20bf-4588-854e-a2d3d668ae3e"
    },
    {
      "cell_type": "code",
      "execution_count": null,
      "metadata": {},
      "outputs": [
        {
          "output_type": "stream",
          "name": "stdout",
          "text": [
            "# A tibble: 1 × 5\n",
            "  Accuracy Precision Recall    F1 kappa\n",
            "     <dbl>     <dbl>  <dbl> <dbl> <dbl>\n",
            "1    0.793     0.747  0.699 0.722 0.558"
          ]
        }
      ],
      "source": [
        "pooled_lm <-  glm_logit_imp$analyses[[1]]\n",
        "pooled_lm$coefficients <-  summary(pool(glm_logit_imp))$estimate\n",
        "train |> \n",
        "  mutate(predict = predict(pooled_lm, type = \"response\")) |> \n",
        "  mutate(survive = predict > 0.5) |> \n",
        "  perform(Survived, survive)"
      ],
      "id": "e97aefd5-bdc3-419c-8479-a6ff929e46fb"
    },
    {
      "cell_type": "markdown",
      "metadata": {},
      "source": [
        "### テストデータを用いた多重代入法による予測\n",
        "\n",
        "正答率はkaggleにsubimitして確かめて見てください."
      ],
      "id": "447799e3-a2e1-466f-a7c4-e80f89be063b"
    },
    {
      "cell_type": "code",
      "execution_count": null,
      "metadata": {},
      "outputs": [
        {
          "output_type": "stream",
          "name": "stdout",
          "text": [
            "\n",
            " iter imp variable\n",
            "  1   1  Age  Fare\n",
            "  1   2  Age  Fare\n",
            "  1   3  Age  Fare\n",
            "  1   4  Age  Fare\n",
            "  1   5  Age  Fare\n",
            "  1   6  Age  Fare\n",
            "  1   7  Age  Fare\n",
            "  1   8  Age  Fare\n",
            "  1   9  Age  Fare\n",
            "  1   10  Age  Fare\n",
            "  1   11  Age  Fare\n",
            "  1   12  Age  Fare\n",
            "  1   13  Age  Fare\n",
            "  1   14  Age  Fare\n",
            "  1   15  Age  Fare\n",
            "  1   16  Age  Fare\n",
            "  1   17  Age  Fare\n",
            "  1   18  Age  Fare\n",
            "  1   19  Age  Fare\n",
            "  1   20  Age  Fare\n",
            "  1   21  Age  Fare\n",
            "  1   22  Age  Fare\n",
            "  1   23  Age  Fare\n",
            "  1   24  Age  Fare\n",
            "  1   25  Age  Fare\n",
            "  1   26  Age  Fare\n",
            "  1   27  Age  Fare\n",
            "  1   28  Age  Fare\n",
            "  1   29  Age  Fare\n",
            "  1   30  Age  Fare\n",
            "  1   31  Age  Fare\n",
            "  1   32  Age  Fare\n",
            "  1   33  Age  Fare\n",
            "  1   34  Age  Fare\n",
            "  1   35  Age  Fare\n",
            "  1   36  Age  Fare\n",
            "  1   37  Age  Fare\n",
            "  1   38  Age  Fare\n",
            "  1   39  Age  Fare\n",
            "  1   40  Age  Fare\n",
            "  1   41  Age  Fare\n",
            "  1   42  Age  Fare\n",
            "  1   43  Age  Fare\n",
            "  1   44  Age  Fare\n",
            "  1   45  Age  Fare\n",
            "  1   46  Age  Fare\n",
            "  1   47  Age  Fare\n",
            "  1   48  Age  Fare\n",
            "  1   49  Age  Fare\n",
            "  1   50  Age  Fare\n",
            "  1   51  Age  Fare\n",
            "  1   52  Age  Fare\n",
            "  1   53  Age  Fare\n",
            "  1   54  Age  Fare\n",
            "  1   55  Age  Fare\n",
            "  1   56  Age  Fare\n",
            "  1   57  Age  Fare\n",
            "  1   58  Age  Fare\n",
            "  1   59  Age  Fare\n",
            "  1   60  Age  Fare\n",
            "  1   61  Age  Fare\n",
            "  1   62  Age  Fare\n",
            "  1   63  Age  Fare\n",
            "  1   64  Age  Fare\n",
            "  1   65  Age  Fare\n",
            "  1   66  Age  Fare\n",
            "  1   67  Age  Fare\n",
            "  1   68  Age  Fare\n",
            "  1   69  Age  Fare\n",
            "  1   70  Age  Fare\n",
            "  1   71  Age  Fare\n",
            "  1   72  Age  Fare\n",
            "  1   73  Age  Fare\n",
            "  1   74  Age  Fare\n",
            "  1   75  Age  Fare\n",
            "  1   76  Age  Fare\n",
            "  1   77  Age  Fare\n",
            "  1   78  Age  Fare\n",
            "  1   79  Age  Fare\n",
            "  1   80  Age  Fare\n",
            "  1   81  Age  Fare\n",
            "  1   82  Age  Fare\n",
            "  1   83  Age  Fare\n",
            "  1   84  Age  Fare\n",
            "  1   85  Age  Fare\n",
            "  1   86  Age  Fare\n",
            "  1   87  Age  Fare\n",
            "  1   88  Age  Fare\n",
            "  1   89  Age  Fare\n",
            "  1   90  Age  Fare\n",
            "  1   91  Age  Fare\n",
            "  1   92  Age  Fare\n",
            "  1   93  Age  Fare\n",
            "  1   94  Age  Fare\n",
            "  1   95  Age  Fare\n",
            "  1   96  Age  Fare\n",
            "  1   97  Age  Fare\n",
            "  1   98  Age  Fare\n",
            "  1   99  Age  Fare\n",
            "  1   100  Age  Fare\n",
            "  2   1  Age  Fare\n",
            "  2   2  Age  Fare\n",
            "  2   3  Age  Fare\n",
            "  2   4  Age  Fare\n",
            "  2   5  Age  Fare\n",
            "  2   6  Age  Fare\n",
            "  2   7  Age  Fare\n",
            "  2   8  Age  Fare\n",
            "  2   9  Age  Fare\n",
            "  2   10  Age  Fare\n",
            "  2   11  Age  Fare\n",
            "  2   12  Age  Fare\n",
            "  2   13  Age  Fare\n",
            "  2   14  Age  Fare\n",
            "  2   15  Age  Fare\n",
            "  2   16  Age  Fare\n",
            "  2   17  Age  Fare\n",
            "  2   18  Age  Fare\n",
            "  2   19  Age  Fare\n",
            "  2   20  Age  Fare\n",
            "  2   21  Age  Fare\n",
            "  2   22  Age  Fare\n",
            "  2   23  Age  Fare\n",
            "  2   24  Age  Fare\n",
            "  2   25  Age  Fare\n",
            "  2   26  Age  Fare\n",
            "  2   27  Age  Fare\n",
            "  2   28  Age  Fare\n",
            "  2   29  Age  Fare\n",
            "  2   30  Age  Fare\n",
            "  2   31  Age  Fare\n",
            "  2   32  Age  Fare\n",
            "  2   33  Age  Fare\n",
            "  2   34  Age  Fare\n",
            "  2   35  Age  Fare\n",
            "  2   36  Age  Fare\n",
            "  2   37  Age  Fare\n",
            "  2   38  Age  Fare\n",
            "  2   39  Age  Fare\n",
            "  2   40  Age  Fare\n",
            "  2   41  Age  Fare\n",
            "  2   42  Age  Fare\n",
            "  2   43  Age  Fare\n",
            "  2   44  Age  Fare\n",
            "  2   45  Age  Fare\n",
            "  2   46  Age  Fare\n",
            "  2   47  Age  Fare\n",
            "  2   48  Age  Fare\n",
            "  2   49  Age  Fare\n",
            "  2   50  Age  Fare\n",
            "  2   51  Age  Fare\n",
            "  2   52  Age  Fare\n",
            "  2   53  Age  Fare\n",
            "  2   54  Age  Fare\n",
            "  2   55  Age  Fare\n",
            "  2   56  Age  Fare\n",
            "  2   57  Age  Fare\n",
            "  2   58  Age  Fare\n",
            "  2   59  Age  Fare\n",
            "  2   60  Age  Fare\n",
            "  2   61  Age  Fare\n",
            "  2   62  Age  Fare\n",
            "  2   63  Age  Fare\n",
            "  2   64  Age  Fare\n",
            "  2   65  Age  Fare\n",
            "  2   66  Age  Fare\n",
            "  2   67  Age  Fare\n",
            "  2   68  Age  Fare\n",
            "  2   69  Age  Fare\n",
            "  2   70  Age  Fare\n",
            "  2   71  Age  Fare\n",
            "  2   72  Age  Fare\n",
            "  2   73  Age  Fare\n",
            "  2   74  Age  Fare\n",
            "  2   75  Age  Fare\n",
            "  2   76  Age  Fare\n",
            "  2   77  Age  Fare\n",
            "  2   78  Age  Fare\n",
            "  2   79  Age  Fare\n",
            "  2   80  Age  Fare\n",
            "  2   81  Age  Fare\n",
            "  2   82  Age  Fare\n",
            "  2   83  Age  Fare\n",
            "  2   84  Age  Fare\n",
            "  2   85  Age  Fare\n",
            "  2   86  Age  Fare\n",
            "  2   87  Age  Fare\n",
            "  2   88  Age  Fare\n",
            "  2   89  Age  Fare\n",
            "  2   90  Age  Fare\n",
            "  2   91  Age  Fare\n",
            "  2   92  Age  Fare\n",
            "  2   93  Age  Fare\n",
            "  2   94  Age  Fare\n",
            "  2   95  Age  Fare\n",
            "  2   96  Age  Fare\n",
            "  2   97  Age  Fare\n",
            "  2   98  Age  Fare\n",
            "  2   99  Age  Fare\n",
            "  2   100  Age  Fare\n",
            "  3   1  Age  Fare\n",
            "  3   2  Age  Fare\n",
            "  3   3  Age  Fare\n",
            "  3   4  Age  Fare\n",
            "  3   5  Age  Fare\n",
            "  3   6  Age  Fare\n",
            "  3   7  Age  Fare\n",
            "  3   8  Age  Fare\n",
            "  3   9  Age  Fare\n",
            "  3   10  Age  Fare\n",
            "  3   11  Age  Fare\n",
            "  3   12  Age  Fare\n",
            "  3   13  Age  Fare\n",
            "  3   14  Age  Fare\n",
            "  3   15  Age  Fare\n",
            "  3   16  Age  Fare\n",
            "  3   17  Age  Fare\n",
            "  3   18  Age  Fare\n",
            "  3   19  Age  Fare\n",
            "  3   20  Age  Fare\n",
            "  3   21  Age  Fare\n",
            "  3   22  Age  Fare\n",
            "  3   23  Age  Fare\n",
            "  3   24  Age  Fare\n",
            "  3   25  Age  Fare\n",
            "  3   26  Age  Fare\n",
            "  3   27  Age  Fare\n",
            "  3   28  Age  Fare\n",
            "  3   29  Age  Fare\n",
            "  3   30  Age  Fare\n",
            "  3   31  Age  Fare\n",
            "  3   32  Age  Fare\n",
            "  3   33  Age  Fare\n",
            "  3   34  Age  Fare\n",
            "  3   35  Age  Fare\n",
            "  3   36  Age  Fare\n",
            "  3   37  Age  Fare\n",
            "  3   38  Age  Fare\n",
            "  3   39  Age  Fare\n",
            "  3   40  Age  Fare\n",
            "  3   41  Age  Fare\n",
            "  3   42  Age  Fare\n",
            "  3   43  Age  Fare\n",
            "  3   44  Age  Fare\n",
            "  3   45  Age  Fare\n",
            "  3   46  Age  Fare\n",
            "  3   47  Age  Fare\n",
            "  3   48  Age  Fare\n",
            "  3   49  Age  Fare\n",
            "  3   50  Age  Fare\n",
            "  3   51  Age  Fare\n",
            "  3   52  Age  Fare\n",
            "  3   53  Age  Fare\n",
            "  3   54  Age  Fare\n",
            "  3   55  Age  Fare\n",
            "  3   56  Age  Fare\n",
            "  3   57  Age  Fare\n",
            "  3   58  Age  Fare\n",
            "  3   59  Age  Fare\n",
            "  3   60  Age  Fare\n",
            "  3   61  Age  Fare\n",
            "  3   62  Age  Fare\n",
            "  3   63  Age  Fare\n",
            "  3   64  Age  Fare\n",
            "  3   65  Age  Fare\n",
            "  3   66  Age  Fare\n",
            "  3   67  Age  Fare\n",
            "  3   68  Age  Fare\n",
            "  3   69  Age  Fare\n",
            "  3   70  Age  Fare\n",
            "  3   71  Age  Fare\n",
            "  3   72  Age  Fare\n",
            "  3   73  Age  Fare\n",
            "  3   74  Age  Fare\n",
            "  3   75  Age  Fare\n",
            "  3   76  Age  Fare\n",
            "  3   77  Age  Fare\n",
            "  3   78  Age  Fare\n",
            "  3   79  Age  Fare\n",
            "  3   80  Age  Fare\n",
            "  3   81  Age  Fare\n",
            "  3   82  Age  Fare\n",
            "  3   83  Age  Fare\n",
            "  3   84  Age  Fare\n",
            "  3   85  Age  Fare\n",
            "  3   86  Age  Fare\n",
            "  3   87  Age  Fare\n",
            "  3   88  Age  Fare\n",
            "  3   89  Age  Fare\n",
            "  3   90  Age  Fare\n",
            "  3   91  Age  Fare\n",
            "  3   92  Age  Fare\n",
            "  3   93  Age  Fare\n",
            "  3   94  Age  Fare\n",
            "  3   95  Age  Fare\n",
            "  3   96  Age  Fare\n",
            "  3   97  Age  Fare\n",
            "  3   98  Age  Fare\n",
            "  3   99  Age  Fare\n",
            "  3   100  Age  Fare\n",
            "  4   1  Age  Fare\n",
            "  4   2  Age  Fare\n",
            "  4   3  Age  Fare\n",
            "  4   4  Age  Fare\n",
            "  4   5  Age  Fare\n",
            "  4   6  Age  Fare\n",
            "  4   7  Age  Fare\n",
            "  4   8  Age  Fare\n",
            "  4   9  Age  Fare\n",
            "  4   10  Age  Fare\n",
            "  4   11  Age  Fare\n",
            "  4   12  Age  Fare\n",
            "  4   13  Age  Fare\n",
            "  4   14  Age  Fare\n",
            "  4   15  Age  Fare\n",
            "  4   16  Age  Fare\n",
            "  4   17  Age  Fare\n",
            "  4   18  Age  Fare\n",
            "  4   19  Age  Fare\n",
            "  4   20  Age  Fare\n",
            "  4   21  Age  Fare\n",
            "  4   22  Age  Fare\n",
            "  4   23  Age  Fare\n",
            "  4   24  Age  Fare\n",
            "  4   25  Age  Fare\n",
            "  4   26  Age  Fare\n",
            "  4   27  Age  Fare\n",
            "  4   28  Age  Fare\n",
            "  4   29  Age  Fare\n",
            "  4   30  Age  Fare\n",
            "  4   31  Age  Fare\n",
            "  4   32  Age  Fare\n",
            "  4   33  Age  Fare\n",
            "  4   34  Age  Fare\n",
            "  4   35  Age  Fare\n",
            "  4   36  Age  Fare\n",
            "  4   37  Age  Fare\n",
            "  4   38  Age  Fare\n",
            "  4   39  Age  Fare\n",
            "  4   40  Age  Fare\n",
            "  4   41  Age  Fare\n",
            "  4   42  Age  Fare\n",
            "  4   43  Age  Fare\n",
            "  4   44  Age  Fare\n",
            "  4   45  Age  Fare\n",
            "  4   46  Age  Fare\n",
            "  4   47  Age  Fare\n",
            "  4   48  Age  Fare\n",
            "  4   49  Age  Fare\n",
            "  4   50  Age  Fare\n",
            "  4   51  Age  Fare\n",
            "  4   52  Age  Fare\n",
            "  4   53  Age  Fare\n",
            "  4   54  Age  Fare\n",
            "  4   55  Age  Fare\n",
            "  4   56  Age  Fare\n",
            "  4   57  Age  Fare\n",
            "  4   58  Age  Fare\n",
            "  4   59  Age  Fare\n",
            "  4   60  Age  Fare\n",
            "  4   61  Age  Fare\n",
            "  4   62  Age  Fare\n",
            "  4   63  Age  Fare\n",
            "  4   64  Age  Fare\n",
            "  4   65  Age  Fare\n",
            "  4   66  Age  Fare\n",
            "  4   67  Age  Fare\n",
            "  4   68  Age  Fare\n",
            "  4   69  Age  Fare\n",
            "  4   70  Age  Fare\n",
            "  4   71  Age  Fare\n",
            "  4   72  Age  Fare\n",
            "  4   73  Age  Fare\n",
            "  4   74  Age  Fare\n",
            "  4   75  Age  Fare\n",
            "  4   76  Age  Fare\n",
            "  4   77  Age  Fare\n",
            "  4   78  Age  Fare\n",
            "  4   79  Age  Fare\n",
            "  4   80  Age  Fare\n",
            "  4   81  Age  Fare\n",
            "  4   82  Age  Fare\n",
            "  4   83  Age  Fare\n",
            "  4   84  Age  Fare\n",
            "  4   85  Age  Fare\n",
            "  4   86  Age  Fare\n",
            "  4   87  Age  Fare\n",
            "  4   88  Age  Fare\n",
            "  4   89  Age  Fare\n",
            "  4   90  Age  Fare\n",
            "  4   91  Age  Fare\n",
            "  4   92  Age  Fare\n",
            "  4   93  Age  Fare\n",
            "  4   94  Age  Fare\n",
            "  4   95  Age  Fare\n",
            "  4   96  Age  Fare\n",
            "  4   97  Age  Fare\n",
            "  4   98  Age  Fare\n",
            "  4   99  Age  Fare\n",
            "  4   100  Age  Fare\n",
            "  5   1  Age  Fare\n",
            "  5   2  Age  Fare\n",
            "  5   3  Age  Fare\n",
            "  5   4  Age  Fare\n",
            "  5   5  Age  Fare\n",
            "  5   6  Age  Fare\n",
            "  5   7  Age  Fare\n",
            "  5   8  Age  Fare\n",
            "  5   9  Age  Fare\n",
            "  5   10  Age  Fare\n",
            "  5   11  Age  Fare\n",
            "  5   12  Age  Fare\n",
            "  5   13  Age  Fare\n",
            "  5   14  Age  Fare\n",
            "  5   15  Age  Fare\n",
            "  5   16  Age  Fare\n",
            "  5   17  Age  Fare\n",
            "  5   18  Age  Fare\n",
            "  5   19  Age  Fare\n",
            "  5   20  Age  Fare\n",
            "  5   21  Age  Fare\n",
            "  5   22  Age  Fare\n",
            "  5   23  Age  Fare\n",
            "  5   24  Age  Fare\n",
            "  5   25  Age  Fare\n",
            "  5   26  Age  Fare\n",
            "  5   27  Age  Fare\n",
            "  5   28  Age  Fare\n",
            "  5   29  Age  Fare\n",
            "  5   30  Age  Fare\n",
            "  5   31  Age  Fare\n",
            "  5   32  Age  Fare\n",
            "  5   33  Age  Fare\n",
            "  5   34  Age  Fare\n",
            "  5   35  Age  Fare\n",
            "  5   36  Age  Fare\n",
            "  5   37  Age  Fare\n",
            "  5   38  Age  Fare\n",
            "  5   39  Age  Fare\n",
            "  5   40  Age  Fare\n",
            "  5   41  Age  Fare\n",
            "  5   42  Age  Fare\n",
            "  5   43  Age  Fare\n",
            "  5   44  Age  Fare\n",
            "  5   45  Age  Fare\n",
            "  5   46  Age  Fare\n",
            "  5   47  Age  Fare\n",
            "  5   48  Age  Fare\n",
            "  5   49  Age  Fare\n",
            "  5   50  Age  Fare\n",
            "  5   51  Age  Fare\n",
            "  5   52  Age  Fare\n",
            "  5   53  Age  Fare\n",
            "  5   54  Age  Fare\n",
            "  5   55  Age  Fare\n",
            "  5   56  Age  Fare\n",
            "  5   57  Age  Fare\n",
            "  5   58  Age  Fare\n",
            "  5   59  Age  Fare\n",
            "  5   60  Age  Fare\n",
            "  5   61  Age  Fare\n",
            "  5   62  Age  Fare\n",
            "  5   63  Age  Fare\n",
            "  5   64  Age  Fare\n",
            "  5   65  Age  Fare\n",
            "  5   66  Age  Fare\n",
            "  5   67  Age  Fare\n",
            "  5   68  Age  Fare\n",
            "  5   69  Age  Fare\n",
            "  5   70  Age  Fare\n",
            "  5   71  Age  Fare\n",
            "  5   72  Age  Fare\n",
            "  5   73  Age  Fare\n",
            "  5   74  Age  Fare\n",
            "  5   75  Age  Fare\n",
            "  5   76  Age  Fare\n",
            "  5   77  Age  Fare\n",
            "  5   78  Age  Fare\n",
            "  5   79  Age  Fare\n",
            "  5   80  Age  Fare\n",
            "  5   81  Age  Fare\n",
            "  5   82  Age  Fare\n",
            "  5   83  Age  Fare\n",
            "  5   84  Age  Fare\n",
            "  5   85  Age  Fare\n",
            "  5   86  Age  Fare\n",
            "  5   87  Age  Fare\n",
            "  5   88  Age  Fare\n",
            "  5   89  Age  Fare\n",
            "  5   90  Age  Fare\n",
            "  5   91  Age  Fare\n",
            "  5   92  Age  Fare\n",
            "  5   93  Age  Fare\n",
            "  5   94  Age  Fare\n",
            "  5   95  Age  Fare\n",
            "  5   96  Age  Fare\n",
            "  5   97  Age  Fare\n",
            "  5   98  Age  Fare\n",
            "  5   99  Age  Fare\n",
            "  5   100  Age  Fare"
          ]
        }
      ],
      "source": [
        "test2 <- titanic_test |> \n",
        "  replace_with_na_all(condition = ~.x %in% c(\"NA\", \"\")) |> \n",
        "  mutate(across(c(Pclass, Sex, Embarked),\n",
        "                as.factor)) |> \n",
        "  select(Pclass, Sex, Age, SibSp, Parch, Fare, Embarked) |> \n",
        "  mice(m    = 100,\n",
        "       seed = 31415926,\n",
        "       meth = c(\"\", \"\", \"norm\", \"\", \"\", \"norm\", \"\")) |> \n",
        "  complete() %>%\n",
        "  mutate(predict = predict(pooled_lm,\n",
        "                           type    = \"response\", \n",
        "                           newdata = .)) |> \n",
        "  mutate(survive = predict > 0.5)"
      ],
      "id": "8488df62-b709-4729-a7ee-b74f396e430d"
    }
  ],
  "nbformat": 4,
  "nbformat_minor": 5,
  "metadata": {
    "kernelspec": {
      "display_name": "Python 3",
      "language": "python",
      "name": "python3"
    }
  }
}