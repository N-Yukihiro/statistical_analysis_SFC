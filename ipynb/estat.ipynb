{
  "cells": [
    {
      "cell_type": "markdown",
      "metadata": {},
      "source": [
        "# e-statを利用した統計分析\n",
        "\n",
        "### 今日の演習の目標\n",
        "\n",
        "e-stat APIを利用できるようになる. e-stat\n",
        "APIを使って分析ができるようになる.\n",
        "\n",
        "# e-Stat API\n",
        "\n",
        "### e-Stat\n",
        "\n",
        "e-Stat(https://www.e-stat.go.jp/) は,\n",
        "日本の統計が閲覧できる政府統計ポータルサイト. 国勢調査をはじめ,\n",
        "多くの統計調査の結果が掲載されている. しかしながら,\n",
        "公開される統計情報は表示に特化され, 分析しやすい形ではない.\n",
        "\n",
        "### e-Stat API\n",
        "\n",
        "e-Statが提供するAPI(Application Programming Interface). API機能とは,\n",
        "e-Statからの特定データを手作業によることなく,\n",
        "自動で取得することが可能になる機能. XML, JSON,\n",
        "CSVなどによってデータが提供される. 利用には登録が必要.\n",
        "\n",
        "# estatapi\n",
        "\n",
        "### estatapi\n",
        "\n",
        "`estatapi`は, e-Stat APIを利用するためのパッケージ.\n",
        "以下の4つの機能をサポートしている. - 統計表情報取得:\n",
        "提供されている統計表を検索 - メタ情報取得: 統計データのメタ情報を取得 -\n",
        "統計データ取得: 統計データを取得 - データカタログ情報取得:\n",
        "統計表ファイル(Excel, CSV, PDF)および統計データベースの情報を取得\n",
        "\n",
        "### appIdの利用\n",
        "\n",
        "まず, e-statで先ほど作成したIDを変数として格納する."
      ],
      "id": "fbf5124f-cb27-4edd-9746-ddbfc2cf75f8"
    },
    {
      "cell_type": "code",
      "execution_count": null,
      "metadata": {},
      "outputs": [],
      "source": [
        "appId <- \"各自のappId\""
      ],
      "id": "abebac5f-ee08-48af-a3a4-b58254fbeb1b"
    },
    {
      "cell_type": "markdown",
      "metadata": {},
      "source": [
        "### 統計表情報取得(`estat_getStatsList`)\n",
        "\n",
        "どのような統計表が提供されているのか検索するには,\n",
        "`estat_getStatsList`を利用する. キーワードを含む統計を検索するには,\n",
        "`searchWord`に指定する. 特に`STATISTICS_NAME`や`TITLE`に注目し,\n",
        "`@id`が何かを確認する. 検索する際には,\n",
        "`View()`関数を用いて視覚的に探しても良いし,\n",
        "`dplyr::filter()`関数などを利用しても良い."
      ],
      "id": "297bd124-2a20-48c2-ae90-f93a43792a67"
    },
    {
      "cell_type": "code",
      "execution_count": null,
      "metadata": {},
      "outputs": [],
      "source": [
        "library(pacman)\n",
        "p_load(estatapi, dplyr)\n",
        "estat_getStatsList(appId      = appId,\n",
        "                   searchWord = \"人口\") |> \n",
        "  head()"
      ],
      "id": "6e544d9c-f0db-4508-a49c-46d4059e02aa"
    },
    {
      "cell_type": "markdown",
      "metadata": {},
      "source": [
        "### メタ情報取得(`estat_getMetaInfo`)\n",
        "\n",
        "統計データのメタ情報取得するには, `estat_getMetaInfo()`関数を利用し,\n",
        "`statsDataId`にIDを指定する.\n",
        "ここでは2021年の都道府県別5歳階級別人口推計データ(0003448237)のメタ情報を取得する.\n",
        "結果はlist形式で返され, listの各要素がdata frameになっている."
      ],
      "id": "ce1040fb-b68d-4156-8048-4f441ade6c63"
    },
    {
      "cell_type": "code",
      "execution_count": null,
      "metadata": {},
      "outputs": [],
      "source": [
        "meta_info <- estat_getMetaInfo(appId       = appId, \n",
        "                               statsDataId = \"0003448237\")\n",
        "meta_info |> names()"
      ],
      "id": "54eb5523-89b2-4b34-ad63-def95ea79ace"
    },
    {
      "cell_type": "markdown",
      "metadata": {},
      "source": [
        "`cat**`に様々な属性情報が含まれている."
      ],
      "id": "2851c363-e0b4-4297-b32b-c9fbbac1f239"
    },
    {
      "cell_type": "code",
      "execution_count": null,
      "metadata": {},
      "outputs": [],
      "source": [
        "meta_info$cat01\n",
        "meta_info$cat02\n",
        "meta_info$cat03\n",
        "meta_info$area\n",
        "meta_info$time"
      ],
      "id": "17da9a2f-ac89-445d-93e7-32445aa33068"
    },
    {
      "cell_type": "markdown",
      "metadata": {},
      "source": [
        "### 統計データ取得(`estat_getStatsData`)\n",
        "\n",
        "統計データ取得には, `estat_getStatsData()`関数を利用する.\n",
        "必ず指定しなければならない引数は, `appId`と`statsDataId`.\n",
        "\n",
        "しかし, データが大きくなりすぎる場合がある. `cdCat**`などを利用して,\n",
        "データを絞ることも必要. 男女総数かつ総人口,\n",
        "人口総数もしくは65歳以上の人口に絞って取得する."
      ],
      "id": "06cac671-7177-4287-8a49-5bee67986d32"
    },
    {
      "cell_type": "code",
      "execution_count": null,
      "metadata": {},
      "outputs": [],
      "source": [
        "df <- estat_getStatsData(\n",
        "  appId       = appId, \n",
        "  statsDataId = \"0003448237\", \n",
        "  cdCat01     = \"000\",\n",
        "  cdCat02     = c(\"01000\", \"01014\", \"01015\", \n",
        "                  \"01016\", \"01017\", \"04018\"),\n",
        "  cdCat03     = \"001\")"
      ],
      "id": "2ebe8afa-83fc-4d97-a6fd-1145c531ac33"
    },
    {
      "cell_type": "markdown",
      "metadata": {},
      "source": [
        "# データの整形\n",
        "\n",
        "### 列の選択\n",
        "\n",
        "データの整形には`dplyr`パッケージを利用する. 必要のない列が多いので,\n",
        "必要な列のみを選択する. 列を選択するには,\n",
        "`dplyr::select()`関数を利用する."
      ],
      "id": "d905f7f8-528f-4fa9-b1a2-4a2106ed826d"
    },
    {
      "cell_type": "code",
      "execution_count": null,
      "metadata": {},
      "outputs": [],
      "source": [
        "df <- dplyr::select(df, 5, 6, 9, 10, 11, 14)"
      ],
      "id": "9ea8bf29-6449-4463-98c8-f54a78595cfd"
    },
    {
      "cell_type": "markdown",
      "metadata": {},
      "source": [
        "### 行の選択\n",
        "\n",
        "次に, データから全国のデータを取り除く.\n",
        "データを取り除くには`dplyr::filter()`関数を利用する."
      ],
      "id": "6eb25774-b987-4b52-b015-a9bc89d23d42"
    },
    {
      "cell_type": "code",
      "execution_count": null,
      "metadata": {},
      "outputs": [],
      "source": [
        "df <- dplyr::filter(df, area_code != \"00000\") |> \n",
        "  filter(time_code == \"1301\")"
      ],
      "id": "1feece94-ce13-4944-be71-e83656612712"
    },
    {
      "cell_type": "markdown",
      "metadata": {},
      "source": [
        "人口総数のデータと5歳階級別65歳以上人口のデータに分ける."
      ],
      "id": "c8dbedd1-3ecd-418e-bdbc-662449c88aaf"
    },
    {
      "cell_type": "code",
      "execution_count": null,
      "metadata": {},
      "outputs": [],
      "source": [
        "df_all <- dplyr::filter(df, cat02_code == \"01000\")\n",
        "df_65  <- dplyr::filter(df, cat02_code != \"01000\")"
      ],
      "id": "b7bdf3ba-53e7-4217-8f08-688be2b0b445"
    },
    {
      "cell_type": "markdown",
      "metadata": {},
      "source": [
        "### データの集約\n",
        "\n",
        "5歳階級別65歳以上人口のデータから都道府県別65歳以上人口の合計を求める."
      ],
      "id": "b1cb1642-7cd6-4750-a66d-3a9349311052"
    },
    {
      "cell_type": "code",
      "execution_count": null,
      "metadata": {},
      "outputs": [],
      "source": [
        "df_65 <- df_65 |> \n",
        "  dplyr::group_by(area_code) |> \n",
        "  dplyr::summarise(pop_65 = sum(value))"
      ],
      "id": "ae7defaa-4c91-45d4-b2b2-3d1daa6367e9"
    },
    {
      "cell_type": "markdown",
      "metadata": {},
      "source": [
        "### データの結合\n",
        "\n",
        "データフレーム同士を列をキーにして結合するには,\n",
        "`dplyr::left_join()`関数を利用する."
      ],
      "id": "c39464d0-61f2-41bf-92a1-d1d9eefaebf2"
    },
    {
      "cell_type": "code",
      "execution_count": null,
      "metadata": {},
      "outputs": [],
      "source": [
        "df2 <- dplyr::left_join(df_all, df_65,\n",
        "                        by = \"area_code\")"
      ],
      "id": "8623ef62-f35e-44f7-b156-411d3dfc065e"
    },
    {
      "cell_type": "markdown",
      "metadata": {},
      "source": [
        "### 新しい列の作成\n",
        "\n",
        "新しい列を作成するには, `dplyr::mutate()`関数を利用する.\n",
        "65歳以上人口と総人口から高齢化率を求める."
      ],
      "id": "1dd8012a-440d-4222-ac9a-92d75efbc0c0"
    },
    {
      "cell_type": "code",
      "execution_count": null,
      "metadata": {},
      "outputs": [],
      "source": [
        "df2 <- mutate(df2, \n",
        "              aged_ratio = pop_65 / value)"
      ],
      "id": "3e3049d8-d46b-4e13-aeb5-4e757c1149d4"
    },
    {
      "cell_type": "markdown",
      "metadata": {},
      "source": [
        "# 分析\n",
        "\n",
        "### ヒストグラム\n",
        "\n",
        "都道府県別高齢化率のヒストグラムを描画する."
      ],
      "id": "d7eef318-d56a-49de-a5b8-1a17afd2e27b"
    },
    {
      "cell_type": "code",
      "execution_count": null,
      "metadata": {},
      "outputs": [],
      "source": [
        "p_load(ggplot2)\n",
        "ggplot(df2) +\n",
        "  aes(x = aged_ratio) +\n",
        "  geom_histogram()"
      ],
      "id": "0b629e15-9c2c-433c-a5ec-2942295fad0f"
    },
    {
      "cell_type": "markdown",
      "metadata": {},
      "source": [
        "### 散布図\n",
        "\n",
        "都道府県別高齢化率と総人口の散布図を描画する."
      ],
      "id": "8809a6f0-8d2c-4339-9348-24dc1b732a69"
    },
    {
      "cell_type": "code",
      "execution_count": null,
      "metadata": {},
      "outputs": [],
      "source": [
        "ggplot(df2) +\n",
        "  aes(x = value,\n",
        "      y = aged_ratio) +\n",
        "  geom_point()"
      ],
      "id": "55e2b5de-b7b7-40e1-9879-7b272649bbfd"
    },
    {
      "cell_type": "markdown",
      "metadata": {},
      "source": [
        "### 回帰分析\n",
        "\n",
        "高齢化率を結果変数に, 総人口を説明変数にして回帰分析を行う. なお,\n",
        "この分析は参考のために行っており, 因果関係を求めるものではない."
      ],
      "id": "3c13fa9e-0c88-4bdc-92b7-ed3a555cd3a2"
    },
    {
      "cell_type": "code",
      "execution_count": null,
      "metadata": {},
      "outputs": [],
      "source": [
        "df_lm <- lm(aged_ratio ~ value,\n",
        "            data = df2)"
      ],
      "id": "47dabc2b-0d28-4f1f-9c57-713b6a81ae34"
    },
    {
      "cell_type": "markdown",
      "metadata": {},
      "source": [
        "### 結果の表示\n",
        "\n",
        "分析の結果をきれいに表示するには, `stargazer()`関数を利用する."
      ],
      "id": "7df97b69-6683-46c2-81f6-5baa0234a3fb"
    },
    {
      "cell_type": "code",
      "execution_count": null,
      "metadata": {},
      "outputs": [],
      "source": [
        "p_load(stargazer)\n",
        "stargazer(df_lm,\n",
        "          type              = \"text\", \n",
        "          style             = \"all\",\n",
        "          ci                = TRUE,\n",
        "          star.cutoffs      = NA,\n",
        "          omit.table.layout = 'n',\n",
        "          align             = TRUE)"
      ],
      "id": "b151452f-3f89-4a01-afe9-fa08c95d7962"
    },
    {
      "cell_type": "markdown",
      "metadata": {},
      "source": [
        "### 回帰係数の図示\n",
        "\n",
        "`coefplot`パッケージの`coefplot()`関数を利用して推定された係数を図示する."
      ],
      "id": "79e345a5-760a-44fb-88ef-ca153e19f79e"
    },
    {
      "cell_type": "code",
      "execution_count": null,
      "metadata": {},
      "outputs": [],
      "source": [
        "p_load(coefplot)\n",
        "coefplot(df_lm)"
      ],
      "id": "05853251-58ed-4b3b-a55f-07797f6dd32a"
    },
    {
      "cell_type": "markdown",
      "metadata": {},
      "source": [
        "### 散布図に回帰直線を加える\n",
        "\n",
        "散布図に回帰直線と信頼区間を加える."
      ],
      "id": "182b9621-bd8f-4ae2-8615-8b37800d08e4"
    },
    {
      "cell_type": "code",
      "execution_count": null,
      "metadata": {},
      "outputs": [],
      "source": [
        "df2 |> \n",
        "  ggplot() +\n",
        "  aes(x = value, \n",
        "      y = aged_ratio) + \n",
        "  geom_point() +\n",
        "  geom_smooth(method = \"lm\")"
      ],
      "id": "ceff3f7e-44c5-43ec-b357-5fe6efc59d4c"
    },
    {
      "cell_type": "markdown",
      "metadata": {},
      "source": [
        "# Appendix\n",
        "\n",
        "### 統計データを少しだけ取得する\n",
        "\n",
        "統計データを少しだけ取得するためには, 取得数を`limit`で制限する."
      ],
      "id": "e8da1f31-abfa-4f26-ba6f-ea03cd1082d8"
    },
    {
      "cell_type": "code",
      "execution_count": null,
      "metadata": {},
      "outputs": [],
      "source": [
        "df_limit <- estat_getStatsData(\n",
        "  appId       = appId, \n",
        "  statsDataId = \"0003448237\", \n",
        "  limit       = 5)"
      ],
      "id": "f5b16a29-d8ea-4efc-a59e-b6a57265b4c7"
    },
    {
      "cell_type": "markdown",
      "metadata": {},
      "source": [
        "### ダウンロードしたファイルの読み込み\n",
        "\n",
        "実はこれでもきれいな形にはなりきっていない. 非表示の列や行があるため.\n",
        "問題があれば読み込みで対処する."
      ],
      "id": "35856040-4627-49ef-87f8-25fd1f819023"
    },
    {
      "cell_type": "code",
      "execution_count": null,
      "metadata": {},
      "outputs": [],
      "source": [
        "p_load(readxl, here)\n",
        "df_xl <- readxl::read_excel(here(\"data\",\n",
        "                                 \"a01000.xls\"),\n",
        "                            skip = 2) |> \n",
        "  dplyr::select(-c(1:6))"
      ],
      "id": "3bcf7531-3372-44b2-a3f1-7201d0331240"
    },
    {
      "cell_type": "markdown",
      "metadata": {},
      "source": [
        "###"
      ],
      "id": "7b4210fd-c8a6-4ca4-8dee-9253728b9ab7"
    },
    {
      "cell_type": "code",
      "execution_count": null,
      "metadata": {},
      "outputs": [],
      "source": [
        "df_xl |> \n",
        "  head()"
      ],
      "id": "094a04e4-65e7-496e-a33c-48c957181728"
    }
  ],
  "nbformat": 4,
  "nbformat_minor": 5,
  "metadata": {
    "kernelspec": {
      "display_name": "Python 3",
      "language": "python",
      "name": "python3"
    }
  }
}