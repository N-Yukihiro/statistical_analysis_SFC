{
  "cells": [
    {
      "cell_type": "markdown",
      "metadata": {},
      "source": [
        "# スパース推定\n",
        "\n",
        "### 今日使うデータ\n",
        "\n",
        "`lars`パッケージの`diabetes`データを利用する.\n",
        "糖尿病患者の1年後の疾患進行度合いを応答変数に,\n",
        "デモグラフィック属性や血液状態などを説明変数としている.\n",
        "データは少し複雑な構造をしている."
      ],
      "id": "8a64a4f7-aa23-4186-9d41-ff17ee5d5761"
    },
    {
      "cell_type": "code",
      "execution_count": null,
      "metadata": {},
      "outputs": [],
      "source": [
        "library(pacman)\n",
        "p_load(lars)\n",
        "data(\"diabetes\", package = \"lars\")"
      ],
      "id": "ae2d9aa8-d1ff-48e9-87b0-add606e8b96b"
    },
    {
      "cell_type": "markdown",
      "metadata": {},
      "source": [
        "### データ構造\n",
        "\n",
        "データ構造を確認する."
      ],
      "id": "dd3e0382-89a3-4ca4-9a89-9d428f707aff"
    },
    {
      "cell_type": "code",
      "execution_count": null,
      "metadata": {},
      "outputs": [],
      "source": [
        "p_load(dplyr)\n",
        "glimpse(diabetes)"
      ],
      "id": "149cd519-193d-41a2-95cf-63bcfb96350d"
    },
    {
      "cell_type": "markdown",
      "metadata": {},
      "source": [
        "### データの変換\n",
        "\n",
        "データを扱いやすいように必要な変数だけデータフレームに変換する.\n",
        "`magrittr`パッケージの`%$%`演算子を利用するとオブジェクトの中に直接アクセスできる."
      ],
      "id": "4789bb18-f52d-454c-b770-0f2da8166d72"
    },
    {
      "cell_type": "code",
      "execution_count": null,
      "metadata": {},
      "outputs": [],
      "source": [
        "p_load(magrittr)\n",
        "diabetes <- diabetes %$% \n",
        "  cbind(y, x) |> \n",
        "  as.data.frame()"
      ],
      "id": "3fdefe44-92b7-443b-b606-9bee2457529a"
    },
    {
      "cell_type": "markdown",
      "metadata": {},
      "source": [
        "### 記述統計\n",
        "\n",
        "説明変数はすべて標準化されている."
      ],
      "id": "df53954d-f3b9-47a7-9258-eb6cdf6470f3"
    },
    {
      "cell_type": "code",
      "execution_count": null,
      "metadata": {},
      "outputs": [],
      "source": [
        "diabetes |> \n",
        "  summary()"
      ],
      "id": "4a4af479-60c5-4fd2-90d5-2349b5c18bd7"
    },
    {
      "cell_type": "markdown",
      "metadata": {},
      "source": [
        "### ヒストグラム\n",
        "\n",
        "データの概要をヒストグラムを描画して確認する."
      ],
      "id": "1366e391-9037-466b-aaf0-c1116999cd0f"
    },
    {
      "cell_type": "code",
      "execution_count": null,
      "metadata": {},
      "outputs": [],
      "source": [
        "p_load(ggplot2)\n",
        "ggplot(diabetes) +\n",
        "  aes(x = y) +\n",
        "  geom_histogram()"
      ],
      "id": "2aa50d91-bcef-4915-a555-335cc2c8fc61"
    },
    {
      "cell_type": "markdown",
      "metadata": {},
      "source": [
        "### 散布図\n",
        "\n",
        "変数間の関係をペアプロットで確認する."
      ],
      "id": "970663cf-6b87-4062-a1c5-b9e5ca01f6dc"
    },
    {
      "cell_type": "code",
      "execution_count": null,
      "metadata": {},
      "outputs": [],
      "source": [
        "diabetes |> \n",
        "  dplyr::select(1:5) |> \n",
        "  GGally::ggpairs()"
      ],
      "id": "005b72f5-db9d-4b3f-86b7-01feac8f803a"
    },
    {
      "cell_type": "markdown",
      "metadata": {},
      "source": [
        "# Linear Regression Model\n",
        "\n",
        "### 線形回帰モデルの推定\n",
        "\n",
        "まずは線形回帰分析を行う.\n",
        "`y ~ .`は応答変数を除いたすべての変数を説明変数とするという指示."
      ],
      "id": "ac9d6728-7e3a-4c4a-8caa-d91002072dc5"
    },
    {
      "cell_type": "code",
      "execution_count": null,
      "metadata": {},
      "outputs": [],
      "source": [
        "dia_lm <- lm(y ~ ., \n",
        "             data = diabetes)"
      ],
      "id": "58164630-52a3-452e-85fb-a95e6753faa8"
    },
    {
      "cell_type": "markdown",
      "metadata": {},
      "source": [
        "### 線形回帰モデルの結果"
      ],
      "id": "a570f3d6-3013-4114-8c7b-5b347955504f"
    },
    {
      "cell_type": "code",
      "execution_count": null,
      "metadata": {},
      "outputs": [],
      "source": [
        "p_load(jtools)\n",
        "summ(dia_lm)"
      ],
      "id": "946a0466-7116-429c-b7cf-0ee48dc59587"
    },
    {
      "cell_type": "markdown",
      "metadata": {},
      "source": [
        "### 推定結果の確認\n",
        "\n",
        "推定された結果を散布図上に表示して確認する."
      ],
      "id": "8fbb342f-5e72-4f0e-aaf4-5ad6fe912d47"
    },
    {
      "cell_type": "code",
      "execution_count": null,
      "metadata": {},
      "outputs": [],
      "source": [
        "diabetes |> \n",
        "  mutate(predict =\n",
        "           predict(dia_lm, \n",
        "                   type = \"response\")) |>\n",
        "  ggplot() +\n",
        "  aes(x = y,\n",
        "      y = predict) +\n",
        "  geom_point() +\n",
        "  geom_abline(slope     = 1, \n",
        "              intercept = 0, \n",
        "              linetype  = \"dashed\")"
      ],
      "id": "9d1e9301-8194-4658-8f01-19976f983f15"
    },
    {
      "cell_type": "markdown",
      "metadata": {},
      "source": [
        "# Ridge Regression Model\n",
        "\n",
        "### Ridge回帰モデルの推定\n",
        "\n",
        "Ridge回帰モデルを推定する. Ridge回帰を行うには,\n",
        "`glmnet`パッケージと`glmnetUtils`パッケージを利用する.\n",
        "`glmnet(alpha = 0)`と指定するとRidge回帰を行うことができる."
      ],
      "id": "7a920c2d-ee9b-4ef2-bfb4-6658cfff6dde"
    },
    {
      "cell_type": "code",
      "execution_count": null,
      "metadata": {},
      "outputs": [],
      "source": [
        "p_load(glmnet, glmnetUtils)\n",
        "dia_ridge <- glmnet(y ~ .,\n",
        "                    data  = diabetes, \n",
        "                    alpha = 0)"
      ],
      "id": "0a3d9874-4e92-44c5-be92-d5e6206a560c"
    },
    {
      "cell_type": "markdown",
      "metadata": {},
      "source": [
        "### \n",
        "\n",
        "回帰係数と$log(\\lambda)$との関係を可視化する."
      ],
      "id": "c6c88d36-8dd2-405f-b1dc-f23b702e57c7"
    },
    {
      "cell_type": "code",
      "execution_count": null,
      "metadata": {},
      "outputs": [],
      "source": [
        "p_load(ggfortify)\n",
        "autoplot(dia_ridge)"
      ],
      "id": "203456c2-33cf-4135-8b05-058d7cd5318e"
    },
    {
      "cell_type": "markdown",
      "metadata": {},
      "source": [
        "回帰係数と$\\lambda$との関係を可視化する."
      ],
      "id": "f392af3c-bf9f-4d27-b93d-2cc1f595524b"
    },
    {
      "cell_type": "code",
      "execution_count": null,
      "metadata": {},
      "outputs": [],
      "source": [
        "autoplot(dia_ridge, xvar = \"lambda\")"
      ],
      "id": "d1406f03-c077-4792-a225-434fde213a9c"
    },
    {
      "cell_type": "markdown",
      "metadata": {},
      "source": [
        "### 最適なラムダの決定(Ridge)\n",
        "\n",
        "クロスバリデーションによって, 最適な$\\lambda$を決定する. そのために,\n",
        "`cv.glmnet()`関数を利用する."
      ],
      "id": "fe86188b-44e6-4515-8302-d2c7ffa580a6"
    },
    {
      "cell_type": "code",
      "execution_count": null,
      "metadata": {},
      "outputs": [],
      "source": [
        "dia_ridge_cv <- cv.glmnet(y ~ ., \n",
        "                          data  = diabetes, \n",
        "                          alpha = 0)"
      ],
      "id": "a26a0d11-1b04-4c47-9ad2-3a34be1bb947"
    },
    {
      "cell_type": "markdown",
      "metadata": {},
      "source": [
        "左側の縦点線が, MSEが最小となる$log(\\lambda)$となる."
      ],
      "id": "e0cf4038-737b-43e5-9f59-f2c4e0cb158f"
    },
    {
      "cell_type": "code",
      "execution_count": null,
      "metadata": {},
      "outputs": [],
      "source": [
        "autoplot(dia_ridge_cv)"
      ],
      "id": "b05986dd-078d-4f48-9b40-c7cf76bcf4bd"
    },
    {
      "cell_type": "markdown",
      "metadata": {},
      "source": [
        "Cross-varidated errorの最小値, $\\lambda$の最小値,\n",
        "及びその対数値は以下の通り."
      ],
      "id": "ca1f7fc5-6852-447d-a17c-5718791764d8"
    },
    {
      "cell_type": "code",
      "execution_count": null,
      "metadata": {},
      "outputs": [],
      "source": [
        "min(dia_ridge_cv$cvm)\n",
        "dia_ridge_cv$lambda.min\n",
        "log(dia_ridge_cv$lambda.min)"
      ],
      "id": "8e3a67b1-2a51-40d4-9ef6-3c7e18fccf80"
    },
    {
      "cell_type": "code",
      "execution_count": null,
      "metadata": {},
      "outputs": [],
      "source": [
        "autoplot(dia_ridge, \n",
        "         xvar = \"lambda\") +\n",
        "  geom_vline(xintercept = log(dia_ridge_cv$lambda.min),\n",
        "             linetype   = \"dashed\")"
      ],
      "id": "883acf31-54b0-4528-8a1b-aaa44607de0e"
    },
    {
      "cell_type": "markdown",
      "metadata": {},
      "source": [
        "### Ridge回帰によって推定されたパラメータ\n",
        "\n",
        "MSEが最小となる時の$\\lambda$に対応するパラメータ."
      ],
      "id": "1bb8b521-b1cf-484e-9e7c-fcca8cd46889"
    },
    {
      "cell_type": "code",
      "execution_count": null,
      "metadata": {},
      "outputs": [],
      "source": [
        "coef(dia_ridge_cv, s = \"lambda.min\")"
      ],
      "id": "2f19a4ac-4728-421f-b382-360dcac9448f"
    },
    {
      "cell_type": "markdown",
      "metadata": {},
      "source": [
        "MSEが最小となるときのMSEの上側1seとなるときの$\\lambda$に対応するパラメータ."
      ],
      "id": "6f53d172-6c1c-462f-bd50-52a808a65984"
    },
    {
      "cell_type": "code",
      "execution_count": null,
      "metadata": {},
      "outputs": [],
      "source": [
        "coef(dia_ridge_cv, s　= \"lambda.1se\")"
      ],
      "id": "2b82cabd-bfb5-4132-85f8-447ed5464827"
    },
    {
      "cell_type": "markdown",
      "metadata": {},
      "source": [
        "### 推定結果の確認\n",
        "\n",
        "推定された結果を散布図上に表示して確認する."
      ],
      "id": "10764b6b-a774-456c-a98e-75c4d4a279b8"
    },
    {
      "cell_type": "code",
      "execution_count": null,
      "metadata": {},
      "outputs": [],
      "source": [
        "diabetes %>%\n",
        "  mutate(predict = \n",
        "           predict(dia_ridge_cv,\n",
        "                   s = \"lambda.min\",\n",
        "                   newdata = .)) |>\n",
        "  ggplot() +\n",
        "  aes(x = y,\n",
        "      y = predict) +\n",
        "  geom_point() +\n",
        "  geom_abline(slope     = 1, \n",
        "              intercept = 0, \n",
        "              linetype  = \"dashed\")"
      ],
      "id": "c5b79921-35c0-4f0f-b3a5-ef451a291a73"
    },
    {
      "cell_type": "markdown",
      "metadata": {},
      "source": [
        "# Lasso Regression Model\n",
        "\n",
        "### Lasso回帰モデルの推定\n",
        "\n",
        "Lasso回帰モデルを推定する. Lasso回帰を行うには,\n",
        "`glmnet(alpha = 1)`を利用する."
      ],
      "id": "b2939167-0bf9-4328-a08c-54d0e9a4d003"
    },
    {
      "cell_type": "code",
      "execution_count": null,
      "metadata": {},
      "outputs": [],
      "source": [
        "dia_lasso <- glmnet(y ~ ., \n",
        "                    data  = diabetes, \n",
        "                    alpha = 1)"
      ],
      "id": "1bd4184e-1b28-408e-b9b2-5bb5cfe1296a"
    },
    {
      "cell_type": "markdown",
      "metadata": {},
      "source": [
        "回帰係数と$log(\\lambda)$との関係を可視化する."
      ],
      "id": "7bb03285-8e75-4a51-9d18-736202b6177d"
    },
    {
      "cell_type": "code",
      "execution_count": null,
      "metadata": {},
      "outputs": [],
      "source": [
        "autoplot(dia_lasso)"
      ],
      "id": "7b3fda62-6fd2-4774-a8bc-ca7867940aad"
    },
    {
      "cell_type": "markdown",
      "metadata": {},
      "source": [
        "回帰係数と$\\lambda$との関係を可視化する."
      ],
      "id": "d76c0225-ca5b-4df2-a1cc-6b13596b9609"
    },
    {
      "cell_type": "code",
      "execution_count": null,
      "metadata": {},
      "outputs": [],
      "source": [
        "autoplot(dia_lasso, xvar = \"lambda\")"
      ],
      "id": "27cb6e88-4818-4c67-96a7-0928e878ccd8"
    },
    {
      "cell_type": "markdown",
      "metadata": {},
      "source": [
        "### 最適なラムダの決定(Lasso)\n",
        "\n",
        "クロスバリデーションによって, 最適な$\\lambda$を決定する."
      ],
      "id": "c9d78f3a-a596-4f3b-9745-e6e9a94a5333"
    },
    {
      "cell_type": "code",
      "execution_count": null,
      "metadata": {},
      "outputs": [],
      "source": [
        "dia_lasso_cv <- cv.glmnet(y ~ ., \n",
        "                          data  = diabetes, \n",
        "                          alpha = 1)"
      ],
      "id": "c7102d48-8519-4572-9fdb-54d73b0711c3"
    },
    {
      "cell_type": "markdown",
      "metadata": {},
      "source": [
        "左側の縦点線が, MSEが最小となる$log(\\lambda)$となる."
      ],
      "id": "52369953-072f-4993-ad8d-a0bdca4cf107"
    },
    {
      "cell_type": "code",
      "execution_count": null,
      "metadata": {},
      "outputs": [],
      "source": [
        "autoplot(dia_lasso_cv)"
      ],
      "id": "f9ae4f2f-394f-45d5-a05e-c1da59547df2"
    },
    {
      "cell_type": "markdown",
      "metadata": {},
      "source": [
        "Cross-varidated errorの最小値, $\\lambda$の最小値,\n",
        "及びその対数値は以下の通り."
      ],
      "id": "5da3334c-20fb-4428-b9e6-b4ee9fba9615"
    },
    {
      "cell_type": "code",
      "execution_count": null,
      "metadata": {},
      "outputs": [],
      "source": [
        "min(dia_lasso_cv$cvm)\n",
        "dia_lasso_cv$lambda.min\n",
        "log(dia_lasso_cv$lambda.min)"
      ],
      "id": "19c4e824-b312-4955-9e7c-5515796f3f3e"
    },
    {
      "cell_type": "code",
      "execution_count": null,
      "metadata": {},
      "outputs": [],
      "source": [
        "autoplot(dia_lasso,\n",
        "         xvar = \"lambda\") +\n",
        "  geom_vline(xintercept = log(dia_lasso_cv$lambda.min),\n",
        "             linetype   = \"dashed\")"
      ],
      "id": "a8213c63-6ccd-4bc4-94aa-bc8eb0b9a878"
    },
    {
      "cell_type": "markdown",
      "metadata": {},
      "source": [
        "### Lasso回帰によって推定されたパラメータ\n",
        "\n",
        "MSEが最小となる時の$\\lambda$に対応するパラメータ."
      ],
      "id": "e46b43a1-d2d9-47d9-85f5-558c71d52833"
    },
    {
      "cell_type": "code",
      "execution_count": null,
      "metadata": {},
      "outputs": [],
      "source": [
        "coef(dia_lasso_cv, s = \"lambda.min\")"
      ],
      "id": "65ee96dc-37a9-4dbe-bb9a-d531226f0ce1"
    },
    {
      "cell_type": "markdown",
      "metadata": {},
      "source": [
        "MSEが最小となるときのMSEの上側1seとなるときのλに対応するパラメータ."
      ],
      "id": "9a6288bc-25e4-4479-b89e-fafeb1a0c2b0"
    },
    {
      "cell_type": "code",
      "execution_count": null,
      "metadata": {},
      "outputs": [],
      "source": [
        "coef(dia_lasso_cv, s = \"lambda.1se\")"
      ],
      "id": "96123fb6-f3b8-4856-8804-5c1106d7889e"
    },
    {
      "cell_type": "markdown",
      "metadata": {},
      "source": [
        "### 推定結果の確認\n",
        "\n",
        "推定された結果を散布図上に表示して確認する."
      ],
      "id": "e61e69a6-186e-4a21-af9f-ec20f34ad105"
    },
    {
      "cell_type": "code",
      "execution_count": null,
      "metadata": {},
      "outputs": [],
      "source": [
        "diabetes %>%\n",
        "  mutate(predict = \n",
        "           predict(dia_lasso_cv,\n",
        "                   s = \"lambda.min\",\n",
        "                   newdata = .)) |>\n",
        "  ggplot() +\n",
        "  aes(x = y, \n",
        "      y = predict) +\n",
        "  geom_point() +\n",
        "  geom_abline(slope     = 1, \n",
        "              intercept = 0,\n",
        "              linetype  = \"dashed\")"
      ],
      "id": "1d3e9add-e3b8-4ee9-9a74-b4ed5e4408d7"
    },
    {
      "cell_type": "markdown",
      "metadata": {},
      "source": [
        "# EN Regression Model\n",
        "\n",
        "### EN回帰モデルの推定\n",
        "\n",
        "EN回帰モデルを推定する. EN回帰を行うには,\n",
        "`glmnet`の引数`alpha`を$0 \\sim 1$で指定する. ここでは,\n",
        "`alpha = 0.5`で実習を行う."
      ],
      "id": "16e97fd0-55da-45cb-81fe-d46ea1a35131"
    },
    {
      "cell_type": "code",
      "execution_count": null,
      "metadata": {},
      "outputs": [],
      "source": [
        "dia_EN <- glmnet(y ~ ., \n",
        "                 data  = diabetes, \n",
        "                 alpha = 0.5)"
      ],
      "id": "b1d2b8d5-f084-458c-8c8b-18dafc4d1871"
    },
    {
      "cell_type": "markdown",
      "metadata": {},
      "source": [
        "回帰係数と$log(\\lambda)$との関係を可視化する."
      ],
      "id": "f0b1364e-a5e4-49e2-a047-3e31fea86197"
    },
    {
      "cell_type": "code",
      "execution_count": null,
      "metadata": {},
      "outputs": [],
      "source": [
        "autoplot(dia_EN)"
      ],
      "id": "842a5f95-525f-4e97-a838-0908dded220f"
    },
    {
      "cell_type": "markdown",
      "metadata": {},
      "source": [
        "回帰係数と$\\lambda$との関係を可視化する."
      ],
      "id": "a2537e90-544a-4c1c-9823-f21d334d25bb"
    },
    {
      "cell_type": "code",
      "execution_count": null,
      "metadata": {},
      "outputs": [],
      "source": [
        "autoplot(dia_EN, xvar = \"lambda\")"
      ],
      "id": "d059f123-69e5-454c-91da-7af40b2477f8"
    },
    {
      "cell_type": "markdown",
      "metadata": {},
      "source": [
        "### 最適なラムダの決定(EN)\n",
        "\n",
        "クロスバリデーションによって, 最適な$\\lambda$を決定する."
      ],
      "id": "26c1fc94-8a67-453d-bc29-46d467b0739a"
    },
    {
      "cell_type": "code",
      "execution_count": null,
      "metadata": {},
      "outputs": [],
      "source": [
        "dia_EN_cv <- cv.glmnet(y ~ ., \n",
        "                       data  = diabetes, \n",
        "                       alpha = 0.5)"
      ],
      "id": "51b4d1aa-807e-4f98-ac41-aba6fdc0c9e7"
    },
    {
      "cell_type": "markdown",
      "metadata": {},
      "source": [
        "左側の縦点線が, MSEが最小となる$log(\\lambda)$となる."
      ],
      "id": "d391608d-40f3-4ae8-bd2b-2a110cd50545"
    },
    {
      "cell_type": "code",
      "execution_count": null,
      "metadata": {},
      "outputs": [],
      "source": [
        "autoplot(dia_EN_cv)"
      ],
      "id": "01fafa83-28cd-4c86-bae9-6c6dc4bbc9cf"
    },
    {
      "cell_type": "markdown",
      "metadata": {},
      "source": [
        "Cross-varidated errorの最小値, $\\lambda$の最小値,\n",
        "及びその対数値は以下の通り."
      ],
      "id": "80a98ddb-3923-45c6-b243-d686fd0d9a3b"
    },
    {
      "cell_type": "code",
      "execution_count": null,
      "metadata": {},
      "outputs": [],
      "source": [
        "min(dia_EN_cv$cvm)\n",
        "dia_EN_cv$lambda.min\n",
        "log(dia_EN_cv$lambda.min)"
      ],
      "id": "68e046b3-768e-41b9-afa3-2afdc761a7ce"
    },
    {
      "cell_type": "code",
      "execution_count": null,
      "metadata": {},
      "outputs": [],
      "source": [
        "autoplot(dia_EN, xvar = \"lambda\") +\n",
        "  geom_vline(xintercept = log(dia_EN_cv$lambda.min),\n",
        "             linetype   = \"dashed\")"
      ],
      "id": "9c07e5e2-0df7-4e17-987b-cd6fa7c867b2"
    },
    {
      "cell_type": "markdown",
      "metadata": {},
      "source": [
        "### EN回帰によって推定されたパラメータ\n",
        "\n",
        "MSEが最小となる時の$\\lambda$に対応するパラメータ."
      ],
      "id": "27e51d49-f027-4d2a-aa87-f12a43af9764"
    },
    {
      "cell_type": "code",
      "execution_count": null,
      "metadata": {},
      "outputs": [],
      "source": [
        "coef(dia_EN_cv, s = \"lambda.min\")"
      ],
      "id": "95371cad-36e8-4241-886a-cdf347548cf4"
    },
    {
      "cell_type": "markdown",
      "metadata": {},
      "source": [
        "MSEが最小となるときのMSEの上側1seとなるときのλに対応するパラメータ."
      ],
      "id": "9b1034ab-e066-49cb-b506-cb1b051d4d00"
    },
    {
      "cell_type": "code",
      "execution_count": null,
      "metadata": {},
      "outputs": [],
      "source": [
        "coef(dia_EN_cv, s = \"lambda.1se\")"
      ],
      "id": "c4e3b516-6c39-42a1-b668-4ed5a8b9b13e"
    },
    {
      "cell_type": "markdown",
      "metadata": {},
      "source": [
        "### 推定結果の確認\n",
        "\n",
        "推定された結果を散布図上に表示して確認する."
      ],
      "id": "9f812a49-b6d9-4fe8-aed1-dbe91a84a29d"
    },
    {
      "cell_type": "code",
      "execution_count": null,
      "metadata": {},
      "outputs": [],
      "source": [
        "diabetes %>%\n",
        "  mutate(predict =\n",
        "           predict(dia_EN_cv, \n",
        "                   s = \"lambda.min\",\n",
        "                   newdata = .)) |>\n",
        "  ggplot() +\n",
        "  aes(x = y,\n",
        "      y = predict) +\n",
        "  geom_point() +\n",
        "  geom_abline(slope     = 1, \n",
        "              intercept = 0,\n",
        "              linetype  = \"dashed\")"
      ],
      "id": "49b6a92d-3019-4aa1-8c54-a0f0504a4da6"
    }
  ],
  "nbformat": 4,
  "nbformat_minor": 5,
  "metadata": {
    "kernelspec": {
      "display_name": "Python 3",
      "language": "python",
      "name": "python3"
    }
  }
}