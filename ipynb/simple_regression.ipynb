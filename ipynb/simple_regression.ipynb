{
  "cells": [
    {
      "cell_type": "markdown",
      "metadata": {},
      "source": [
        "# Rの導入と単回帰分析\n",
        "\n",
        "### Quarto\n",
        "\n",
        "`#`を使ったコメントよりも長い文章とともにコードを書きたい場合はQuartoファイルがおすすめ.\n",
        "皆さんが開いているこのファイルがQuartoファイルである.\n",
        "少し設定するだけで簡単にhtmlファイルやpdfファイルが作成できる.\n",
        "\n",
        "以下の範囲に書かれたコードがRのコードとして認識される.\n",
        "`{}`内を変更すればR以外の言語も実行できる."
      ],
      "id": "bf8d2fb0-aa95-4827-a6de-ebd3b43e912c"
    },
    {
      "cell_type": "code",
      "execution_count": null,
      "metadata": {},
      "outputs": [],
      "source": [
        "# code"
      ],
      "id": "4122dfdc-badc-4e01-aac0-bc24822791cd"
    },
    {
      "cell_type": "markdown",
      "metadata": {},
      "source": [
        "右上の実行ボタンもしくは`ctrl + Enter`や`command + Enter`で実行できる.\n",
        "\n",
        "### 作業ディレクトリの指定\n",
        "\n",
        "現在の作業ディレクトリ(フォルダ)を確認するためには`getwd()`関数を利用する.\n",
        "プロジェクトからではなく, 直接R(Studio)を開いた場合,\n",
        "作業ディレクトリ(フォルダ)の指定が必要となる.\n",
        "作業ディレクトリを指定しない場合,\n",
        "Documentなどがデフォルトで指定されている場合が多い."
      ],
      "id": "84d0f09c-3f5b-4624-bfa3-26bbfa41a121"
    },
    {
      "cell_type": "code",
      "execution_count": null,
      "metadata": {},
      "outputs": [],
      "source": [
        "getwd()"
      ],
      "id": "b5d19b0b-efe1-42f3-991d-0a5ecdd4dd5b"
    },
    {
      "cell_type": "markdown",
      "metadata": {},
      "source": [
        "任意のディレクトリを指定するためには, `setwd()`関数を利用する.\n",
        "ここでは移動するディレクトリがないので,\n",
        "#をつけてRを実行しないようにしている.\n",
        "パスの指定は相対パスでも絶対パスでもよい."
      ],
      "id": "8560c722-77ce-4a46-8459-893d7eb91ea6"
    },
    {
      "cell_type": "code",
      "execution_count": null,
      "metadata": {},
      "outputs": [],
      "source": [
        "#setwd(\"ここにパスを打ち込む\")"
      ],
      "id": "b7c7b5b7-47cc-450f-8d67-6285ce639f9a"
    },
    {
      "cell_type": "markdown",
      "metadata": {},
      "source": [
        "### ディレクトリの内容を確認\n",
        "\n",
        "現在のディレクトリにきちんと新しいフォルダが作成できたか確認する.\n",
        "作業ディレクトリ内のファイルやフォルダを確認するには,\n",
        "`list.files()`関数を利用する."
      ],
      "id": "8aeda57a-08e5-476b-b1b6-aeba391dc71f"
    },
    {
      "cell_type": "code",
      "execution_count": null,
      "metadata": {},
      "outputs": [],
      "source": [
        "list.files()"
      ],
      "id": "2d28d5b9-6c45-4b59-aad6-4d5c62d2055e"
    },
    {
      "cell_type": "markdown",
      "metadata": {},
      "source": [
        "### パッケージのインストール\n",
        "\n",
        "パッケージのインストールをしてみる.\n",
        "CRANに登録されたパッケージをインストールするには,\n",
        "`install.packages()`関数を利用する."
      ],
      "id": "df0e6a56-9390-4459-bd94-9208c960b1eb"
    },
    {
      "cell_type": "code",
      "execution_count": null,
      "metadata": {},
      "outputs": [],
      "source": [
        "install.packages(\"dplyr\")\n",
        "install.packages(\"readr\")\n",
        "install.packages(\"ggplot2\")"
      ],
      "id": "03976873-0ebc-4ccd-ac69-de1f2d42ae77"
    },
    {
      "cell_type": "markdown",
      "metadata": {},
      "source": [
        "### パッケージの利用\n",
        "\n",
        "インストールされたファイルなどは適当な場所に保存されるのでユーザーが操作する必要はない.\n",
        "インストールしたパッケージを利用するには,\n",
        "`library()関数`で利用するパッケージ名を指定し, パッケージを読み込む.\n",
        "この作業はセッションを再開する度に必要となる."
      ],
      "id": "b5066a51-f4d8-48dc-a0e8-677fe0fbe79d"
    },
    {
      "cell_type": "code",
      "execution_count": null,
      "metadata": {},
      "outputs": [],
      "source": [
        "library(dplyr)\n",
        "library(readr)\n",
        "library(ggplot2)"
      ],
      "id": "69b7e1f5-84f5-4012-9999-56f6e07c4b90"
    },
    {
      "cell_type": "markdown",
      "metadata": {},
      "source": [
        "### `pacman`パッケージ\n",
        "\n",
        "パッケージ管理については`pacman`が便利.\n",
        "CRANに登録されているパッケージは`p_load()`関数を利用する.\n",
        "\n",
        "インストールされていなければパッケージをインストールの上読み込み,\n",
        "パッケージに更新があればアップデートの上で読み込み,\n",
        "特に何もなければ読み込みを行ってくれる.\n",
        "\n",
        "github上のパッケージは`p_load_gh()`関数を利用する."
      ],
      "id": "ec24f6e0-f917-424e-b26c-9a80930e4dbf"
    },
    {
      "cell_type": "code",
      "execution_count": null,
      "metadata": {},
      "outputs": [],
      "source": [
        "install.packages(\"pacman\")\n",
        "library(pacman)\n",
        "p_load(dplyr, readr, ggplot2)"
      ],
      "id": "71b04b43-af07-4ee8-9460-8e38a48a9a4d"
    },
    {
      "cell_type": "markdown",
      "metadata": {},
      "source": [
        "### `here`パッケージ\n",
        "\n",
        "データの場所を指定するのに便利な`here`パッケージを利用してみる.\n",
        "`here`パッケージは,\n",
        "プロジェクト(`.Rproj`)を起点にデータがどこにあるのかOSに関わらず同様に記述できる.\n",
        "`here()`関数の引数として,\n",
        "フォルダ名とファイル名をそれぞれダブルクオーテーションで囲み,\n",
        "カンマで繋ぐ."
      ],
      "id": "628ee389-765e-4c36-a769-d4b6aab0eef6"
    },
    {
      "cell_type": "code",
      "execution_count": null,
      "metadata": {},
      "outputs": [],
      "source": [
        "p_load(here)\n",
        "here()\n",
        "#here(\"フォルダ名\", \"ファイル名\")"
      ],
      "id": "1d751ec0-5214-4e65-9773-13a61cb47309"
    },
    {
      "cell_type": "markdown",
      "metadata": {},
      "source": [
        "### HELPの利用\n",
        "\n",
        "パッケージや関数の利用についてわからないことがあればHELPを利用してみる.\n",
        "HELPの出し方は`?`を知りたい関数やパッケージ名の前につけるだけでよい.\n",
        "`?`を2個つける(`??`)と単語検索のように利用できる."
      ],
      "id": "bce9b5d7-1052-4a03-aaf8-62e2f31f7413"
    },
    {
      "cell_type": "code",
      "execution_count": null,
      "metadata": {},
      "outputs": [],
      "source": [
        "?library\n",
        "?ggplot2\n",
        "??dplyr"
      ],
      "id": "70d33eed-a7f2-423c-91ab-d43c39dedead"
    },
    {
      "cell_type": "markdown",
      "metadata": {},
      "source": [
        "### データの読み込み\n",
        "\n",
        "『家計調査』2017年11月、第2−6表「年間収入階級別1世帯当たり1か月間の収入と支出」から作成した所得階級と支出のデータ`kakei201709_l18.csv`を用いる.\n",
        "月間消費支出(円)(`CONS`), 月間消費支出(1万円)(`CONS1`),\n",
        "年間収入(1万円)(INC), 有業人員(人)(`WORK`). いずれも調査世帯の平均値."
      ],
      "id": "1f1006bd-ec76-4e61-a878-e2e093291cf4"
    },
    {
      "cell_type": "code",
      "execution_count": null,
      "metadata": {},
      "outputs": [],
      "source": [
        "kakei <- readr::read_csv(here(\"data\", \"kakei201709_l18.csv\"))\n",
        "names(kakei)"
      ],
      "id": "794cbf1f-a4f0-4e7c-ada8-f29f88f777bc"
    },
    {
      "cell_type": "markdown",
      "metadata": {},
      "source": [
        "### データ構造の把握\n",
        "\n",
        "データを読み込んだらどのようなデータで構成されているのか確認を行う.\n",
        "`dplyr`パッケージの`glimpse`関数を利用する.\n",
        "`dplyr::glimpse`は`dplyr`パッケージの`glimpse`関数を利用することを明示的に示す記法であり,\n",
        "`library`すれば基本的には必要はない."
      ],
      "id": "44a58b20-5b90-4ba6-bf34-83ab0ab98afe"
    },
    {
      "cell_type": "code",
      "execution_count": null,
      "metadata": {},
      "outputs": [],
      "source": [
        "dplyr::glimpse(kakei)"
      ],
      "id": "7f48c5a1-e228-4f80-9508-229abe441437"
    },
    {
      "cell_type": "markdown",
      "metadata": {},
      "source": [
        "### 記述統計の確認\n",
        "\n",
        "データ構造を確認したら, 次に記述統計を確認する. 記述統計を把握するには,\n",
        "`summary`を利用する."
      ],
      "id": "8fff2336-cef5-4273-906d-8f5a33ae282d"
    },
    {
      "cell_type": "code",
      "execution_count": null,
      "metadata": {},
      "outputs": [],
      "source": [
        "summary(kakei)"
      ],
      "id": "75752c37-163a-46d3-a55c-5fcd6e79f0cd"
    },
    {
      "cell_type": "markdown",
      "metadata": {},
      "source": [
        "### ヒストグラムの描画\n",
        "\n",
        "記述統計を把握したら, ヒストグラムを描いてデータをグラフで確認する.\n",
        "`ggplot2`パッケージをの`geom_histogram()`関数を使ってヒストグラムを描く."
      ],
      "id": "5856a07c-b7e4-440a-a721-870554f7cf0a"
    },
    {
      "cell_type": "code",
      "execution_count": null,
      "metadata": {},
      "outputs": [],
      "source": [
        "ggplot(data = kakei) +\n",
        "  aes(x = CONS1) +\n",
        "  geom_histogram() +\n",
        "  xlab(\"Consumption (10,000 yen)\") +\n",
        "  ggtitle(\"Histogram\")"
      ],
      "id": "ffefc2a4-5ef0-4930-9eca-2b28be0440a3"
    },
    {
      "cell_type": "markdown",
      "metadata": {},
      "source": [
        "### 散布図の描画\n",
        "\n",
        "2変数間の関係を把握するために散布図を描くには,\n",
        "`geom_point()`関数を利用する."
      ],
      "id": "058d8ef4-4d72-4e52-82ab-8046b2277c25"
    },
    {
      "cell_type": "code",
      "execution_count": null,
      "metadata": {},
      "outputs": [],
      "source": [
        "ggplot(data = kakei) +\n",
        "  aes(x = INC, \n",
        "      y = CONS1) +\n",
        "  geom_point() + \n",
        "  xlab(\"Income (10,000 yen)\") + \n",
        "  ylab(\"Consumption (10,000 yen)\") +\n",
        "  ggtitle(\"Scatter plot\")"
      ],
      "id": "e8c9c938-53fb-494f-9148-94ffbf60525c"
    },
    {
      "cell_type": "markdown",
      "metadata": {},
      "source": [
        "### 単回帰分析\n",
        "\n",
        "最小二乗法を用いて単回帰分析を行うためには, `lm()`関数を利用する.\n",
        "第1引数に分析のモデルを指定する. `~`の前に応答変数を,\n",
        "`~`の後に説明変数を指定する."
      ],
      "id": "f2689a30-5d72-49c0-b54d-afa05f391bf9"
    },
    {
      "cell_type": "code",
      "execution_count": null,
      "metadata": {},
      "outputs": [],
      "source": [
        "ols1 <- lm(CONS1 ~ INC, data = kakei)"
      ],
      "id": "d9533d5b-87b6-4e07-a73f-6694e0a136a3"
    },
    {
      "cell_type": "markdown",
      "metadata": {},
      "source": [
        "### 結果の示し方\n",
        "\n",
        "`summary()`関数で結果を見るのが一般的だが,\n",
        "`jtools`パッケージの`summ()`関数や`stargazer`パッケージの`stargazer()`関数などを使うほうが良い.\n",
        "`jtools`パッケージは自分が結果を見るときに使うのがおすすめ.\n",
        "`stargazer`パッケージは結果をそのまま論文などに転載したいときにおすすめ."
      ],
      "id": "3ff34963-6304-4df7-ad8a-2b8c03f89a1b"
    },
    {
      "cell_type": "code",
      "execution_count": null,
      "metadata": {},
      "outputs": [],
      "source": [
        "p_load(jtools)\n",
        "jtools::summ(ols1)"
      ],
      "id": "4afceb86-4db1-411b-82c8-199fff9f8dc7"
    },
    {
      "cell_type": "markdown",
      "metadata": {},
      "source": [
        "### 回帰係数の95%信頼区間を表示\n",
        "\n",
        "回帰係数の95%信頼区間を表示するには, `summ(confint = TRUE)`を指定する."
      ],
      "id": "ee40130a-b8ff-4ebc-a88f-3118f8878cce"
    },
    {
      "cell_type": "code",
      "execution_count": null,
      "metadata": {},
      "outputs": [],
      "source": [
        "summ(ols1, confint = TRUE)"
      ],
      "id": "cef0984d-94c1-48bc-955a-2735177cba30"
    },
    {
      "cell_type": "markdown",
      "metadata": {},
      "source": [
        "### 結果を論文に掲載する\n",
        "\n",
        "結果を論文に掲載できるようにきれいに整形するには`stargazer`パッケージを利用するのが便利.\n",
        "様々な引数があるので, 使いこなすにはHELPを参照.\n",
        "`star.cutoffs = NA, omit.table.layout = \"n\"`は忘れない.\n",
        "分析がしたいのであって, 天体観測がしたいわけではないことに注意."
      ],
      "id": "a18e95d9-433b-4c89-aede-a7aa696813b5"
    },
    {
      "cell_type": "code",
      "execution_count": null,
      "metadata": {},
      "outputs": [],
      "source": [
        "p_load(stargazer)\n",
        "stargazer::stargazer(ols1,\n",
        "                     type              = \"text\",\n",
        "                     style             = \"all\", \n",
        "                     ci                = TRUE,\n",
        "                     star.cutoffs      = NA, \n",
        "                     omit.table.layout = 'n',\n",
        "                     align             = TRUE)"
      ],
      "id": "522d2ebc-f3cc-47ee-8deb-1540b29143e9"
    },
    {
      "cell_type": "markdown",
      "metadata": {},
      "source": [
        "### 散布図と回帰直線\n",
        "\n",
        "散布図に回帰直線を引きたい場合には, `geom_smooth()`関数を利用する."
      ],
      "id": "84ebe6c9-272b-45af-b20a-6c1296b9e62e"
    },
    {
      "cell_type": "code",
      "execution_count": null,
      "metadata": {},
      "outputs": [],
      "source": [
        "ggplot(data = kakei) +\n",
        "  aes(x = INC,\n",
        "      y = CONS1) +\n",
        "  geom_point() +\n",
        "  geom_smooth(method = \"lm\", \n",
        "              se     = FALSE)"
      ],
      "id": "6048f376-e198-449a-9eda-3b64aee1b42e"
    },
    {
      "cell_type": "markdown",
      "metadata": {},
      "source": [
        "### 予測(新しい説明変数のデータセットを作成)\n",
        "\n",
        "データを予測するため, まずは新しい説明変数のデータセットを作成する.\n",
        "データの列名は分析に利用したものと同じ名前, 同じ列数である必要性がある.\n",
        "簡単のため, 単回帰で行うが重回帰でも問題なく予測できる."
      ],
      "id": "fbad4f56-46f2-45f4-9c7e-090a575bbaef"
    },
    {
      "cell_type": "code",
      "execution_count": null,
      "metadata": {},
      "outputs": [],
      "source": [
        "new_dat <- data.frame(\n",
        "  INC = seq(from       = 50,\n",
        "            to         = 2050,\n",
        "            length.out = 20)\n",
        ")"
      ],
      "id": "f172a968-959a-4769-be35-895c82a37306"
    },
    {
      "cell_type": "markdown",
      "metadata": {},
      "source": [
        "### 予測\n",
        "\n",
        "データを予測するためには, `predict()`関数を利用する.\n",
        "第1引数に回帰分析の結果のオブジェクト,\n",
        "`newdata`に新しい説明変数のデータフレーム, `interval`に求めたい区間,\n",
        "`level`に$100(1 - \\alpha)\\%$区間の値を指定する.\n",
        "`interval = \"confidence\"`で信頼区間が,\n",
        "`interval = \"prediction\"`で予測区間が求められる."
      ],
      "id": "dc490ad6-d992-4768-930e-34548bc48062"
    },
    {
      "cell_type": "code",
      "execution_count": null,
      "metadata": {},
      "outputs": [],
      "source": [
        "ci <- predict(ols1, \n",
        "              newdata  = new_dat, \n",
        "              interval = \"confidence\",\n",
        "              level    = 0.95)\n",
        "ci <- bind_cols(new_dat, ci)\n",
        "pred <- predict(ols1, \n",
        "                newdata  = new_dat, \n",
        "                interval = \"prediction\",\n",
        "                level    = 0.95)\n",
        "pred <- bind_cols(new_dat, pred)"
      ],
      "id": "0f6debd5-0227-4528-9490-4888d018b381"
    },
    {
      "cell_type": "markdown",
      "metadata": {},
      "source": [
        "### 予測区間の図示\n",
        "\n",
        "データの散布図に予測区間を図示する."
      ],
      "id": "4ceae7cb-7d51-4231-80e0-8608f1401f39"
    },
    {
      "cell_type": "code",
      "execution_count": null,
      "metadata": {},
      "outputs": [],
      "source": [
        "ggplot() +\n",
        "  aes(x = INC) +\n",
        "  geom_point(\n",
        "    data = kakei,\n",
        "    aes(y = CONS1)) +\n",
        "  geom_smooth(\n",
        "    data   = kakei,\n",
        "    aes(y = CONS1),\n",
        "    method = \"lm\",\n",
        "    se     = FALSE) +\n",
        "  geom_ribbon(\n",
        "    data     = pred,\n",
        "    aes(ymin = lwr,\n",
        "        ymax = upr),\n",
        "    fill     = \"lightblue\",\n",
        "    alpha    = 0.5)"
      ],
      "id": "e5d83790-34f4-465c-a4da-f59086e3d22e"
    },
    {
      "cell_type": "markdown",
      "metadata": {},
      "source": [
        "### `geom_smooth()`と区間\n",
        "\n",
        "`geom_smooth()`関数を利用するとデフォルトでは回帰直線とともに,\n",
        "区間が表示されている. これは回帰直線の信頼区間."
      ],
      "id": "5dd1bea0-4b70-45fd-8b57-77ac8668e6cf"
    },
    {
      "cell_type": "code",
      "execution_count": null,
      "metadata": {},
      "outputs": [],
      "source": [
        "ggplot(data = kakei) +\n",
        "  aes(x = INC,\n",
        "      y = CONS1) +\n",
        "  geom_point() +\n",
        "  geom_smooth(\n",
        "    method = \"lm\"\n",
        "  )"
      ],
      "id": "56927810-4df3-418d-ba9e-8b4f9876c0dc"
    },
    {
      "cell_type": "markdown",
      "metadata": {},
      "source": [
        "### 回帰直線の信頼区間\n",
        "\n",
        "`add_ci()`関数で推定した値と`geom_smooth(se = TRUE)`は一致する."
      ],
      "id": "d1169bd7-0b46-4818-aefe-2034aa2b8afb"
    },
    {
      "cell_type": "code",
      "execution_count": null,
      "metadata": {},
      "outputs": [],
      "source": [
        "ggplot() +\n",
        "  aes(x = INC) +\n",
        "  geom_point(\n",
        "    data = kakei,\n",
        "    aes(y = CONS1)) +\n",
        "  geom_smooth(\n",
        "    data   = kakei,\n",
        "    aes(y = CONS1),\n",
        "    method = \"lm\",\n",
        "    se     = FALSE) +\n",
        "  geom_ribbon(\n",
        "    data     = ci,\n",
        "    aes(ymin = lwr,\n",
        "        ymax = upr),\n",
        "    fill     = \"lightblue\",\n",
        "    alpha    = 0.5)"
      ],
      "id": "14a012ef-1d85-4487-af7b-73f3e23c8a5f"
    }
  ],
  "nbformat": 4,
  "nbformat_minor": 5,
  "metadata": {
    "kernelspec": {
      "display_name": "Python 3",
      "language": "python",
      "name": "python3"
    }
  }
}