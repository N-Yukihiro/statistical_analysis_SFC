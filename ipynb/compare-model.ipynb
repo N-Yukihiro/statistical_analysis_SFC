{
  "cells": [
    {
      "cell_type": "markdown",
      "metadata": {},
      "source": [
        "# モデルの比較, 選択\n",
        "\n",
        "### 今日使うデータ\n",
        "\n",
        "Stata pressで公開されているデータを用いる.\n",
        "博士号を取得した生化学者が発表した論文数に関するデータである.\n",
        "性別や既婚未婚, 6歳未満の子供の数などの変数が含まれている."
      ],
      "id": "260a5dde-e433-436a-bafe-3b0d31cf6bf3"
    },
    {
      "cell_type": "code",
      "execution_count": null,
      "metadata": {},
      "outputs": [],
      "source": [
        "library(pacman)\n",
        "p_load(foreign)\n",
        "npub <- foreign::read.dta(\n",
        "  \"http://www.stata-press.com/data/lf2/couart2.dta\")\n",
        "names(npub)"
      ],
      "id": "a35c38b3-2feb-49ea-97a7-301b0420bd5a"
    },
    {
      "cell_type": "markdown",
      "metadata": {},
      "source": [
        "### データ構造の確認\n",
        "\n",
        "`dplyr`パッケージの`glimpse()`関数を利用してデータの構造を確認する."
      ],
      "id": "88edd8fd-d7ee-4cd7-a2be-a2e67b174452"
    },
    {
      "cell_type": "code",
      "execution_count": null,
      "metadata": {},
      "outputs": [],
      "source": [
        "p_load(dplyr)\n",
        "glimpse(npub)"
      ],
      "id": "f54d5c37-9e0b-4784-8a29-4234529dfd61"
    },
    {
      "cell_type": "markdown",
      "metadata": {},
      "source": [
        "### データの要約統計量\n",
        "\n",
        "データの要約統計量を確認する."
      ],
      "id": "bbe81b39-a354-451a-ad72-4f9fa7b2f218"
    },
    {
      "cell_type": "code",
      "execution_count": null,
      "metadata": {},
      "outputs": [],
      "source": [
        "summary(npub)"
      ],
      "id": "5c0a3321-cdc3-484e-9250-904a157cdc8c"
    },
    {
      "cell_type": "markdown",
      "metadata": {},
      "source": [
        "### データの平均と分散\n",
        "\n",
        "`summarise()`関数を利用して平均と分散を計算する."
      ],
      "id": "82a53e91-e75a-4a18-8ad3-56aea57d8ad6"
    },
    {
      "cell_type": "code",
      "execution_count": null,
      "metadata": {},
      "outputs": [],
      "source": [
        "npub |> \n",
        "  summarise(mean  = mean(art), \n",
        "            var   = var(art), \n",
        "            ratio = var(art) / mean(art))"
      ],
      "id": "5cbe155f-14e0-4869-9f82-d6b32246eb00"
    },
    {
      "cell_type": "markdown",
      "metadata": {},
      "source": [
        "### ヒストグラム\n",
        "\n",
        "-   データの概要をヒストグラムを描画して確認する"
      ],
      "id": "9521feb3-655c-4b7a-98b7-0e8f098707a3"
    },
    {
      "cell_type": "code",
      "execution_count": null,
      "metadata": {},
      "outputs": [],
      "source": [
        "p_load(ggplot2)\n",
        "ggplot(npub) +\n",
        "  aes(x = art) +\n",
        "  geom_histogram()"
      ],
      "id": "8446aa5f-1afb-48d6-a1d1-98017e248471"
    },
    {
      "cell_type": "markdown",
      "metadata": {},
      "source": [
        "### 散布図\n",
        "\n",
        "-   変数`ment`と`art`の関係を散布図を描いて確認する"
      ],
      "id": "12be178f-99e0-4406-8365-cdbbaf5433df"
    },
    {
      "cell_type": "code",
      "execution_count": null,
      "metadata": {},
      "outputs": [],
      "source": [
        "ggplot(npub) + \n",
        "  aes(x = ment,\n",
        "      y = art) +\n",
        "  geom_point()"
      ],
      "id": "936a695e-59be-4efb-b54b-079bd9f99256"
    },
    {
      "cell_type": "markdown",
      "metadata": {},
      "source": [
        "# モデル推定とモデル選択\n",
        "\n",
        "### ポアソン回帰モデルの推定\n",
        "\n",
        "まず,\n",
        "全変数を投入したモデルnpub_poisson1とphdを除いたnpub_poisson2を推定する."
      ],
      "id": "7649eaee-f54a-4977-8632-7adf527dd874"
    },
    {
      "cell_type": "code",
      "execution_count": null,
      "metadata": {},
      "outputs": [],
      "source": [
        "npub_poisson1 <- glm(art ~ ., \n",
        "                     data   = npub, \n",
        "                     family = poisson(link = \"log\"))\n",
        "npub_poisson2 <- glm(art ~ fem + mar + kid5 + ment, \n",
        "                     data   = npub, \n",
        "                     family = poisson(link = \"log\"))\n",
        "npub_poisson3 <- glm(art ~ ment, \n",
        "                     data   = npub, \n",
        "                     family = poisson(link = \"log\"))"
      ],
      "id": "d436fa04-c7a7-48cf-b44c-1248dc31cc0d"
    },
    {
      "cell_type": "markdown",
      "metadata": {},
      "source": [
        "### 推定結果の確認\n",
        "\n",
        "`ment`のみを説明変数として推定された結果を散布図上に表示して確認する"
      ],
      "id": "b15eff4c-aaf8-4897-8373-93dd16e80b65"
    },
    {
      "cell_type": "code",
      "execution_count": null,
      "metadata": {},
      "outputs": [],
      "source": [
        "ggplot(npub) +\n",
        "  aes(x = ment,\n",
        "      y = art) +\n",
        "  geom_point() + \n",
        "  geom_smooth(method      = \"glm\", \n",
        "              method.args = \n",
        "                list(family = \"poisson\"))"
      ],
      "id": "61341e6a-8e57-4359-acf8-2d3c81809aa5"
    },
    {
      "cell_type": "markdown",
      "metadata": {},
      "source": [
        "### ポアソン回帰モデル(全変数)の結果"
      ],
      "id": "8032a664-c105-43bd-aeb0-1ab4e9bc8c27"
    },
    {
      "cell_type": "code",
      "execution_count": null,
      "metadata": {},
      "outputs": [],
      "source": [
        "p_load(jtools)\n",
        "summ(npub_poisson1, confint = TRUE)"
      ],
      "id": "ec6d09be-13ee-4fd6-9e25-1b4a14a1a89d"
    },
    {
      "cell_type": "markdown",
      "metadata": {},
      "source": [
        "### `stargazer`による表示\n",
        "\n",
        "今回利用する統計量などは`stargazer()`関数では自動で出力されるので便利."
      ],
      "id": "5c99d928-7bf1-4d0d-8a51-23429c03d5bb"
    },
    {
      "cell_type": "code",
      "execution_count": null,
      "metadata": {},
      "outputs": [],
      "source": [
        "stargazer::stargazer(npub_poisson1,\n",
        "                     type              = \"text\",\n",
        "                     style             = \"all\",\n",
        "                     star.cutoffs      = NA,\n",
        "                     omit.table.layout = 'n',\n",
        "                     ci                = TRUE,\n",
        "                     align             = TRUE)"
      ],
      "id": "ffb0cd07-8323-49e3-831c-52e2f4cb70f4"
    },
    {
      "cell_type": "markdown",
      "metadata": {},
      "source": [
        "### 過分散のチェック\n",
        "\n",
        "残差逸脱度(Residual Deviance)と残差自由度(degree of\n",
        "freedom)の関係をチェックする.\n",
        "残差逸脱度と残差自由度の比が1を大きく上回っており,\n",
        "過分散であることが示唆される(1.5程度が目安であるとする意見もある).\n",
        "過分散であると本当は有意でない変数も有意になりやすくなる."
      ],
      "id": "8e3c65e8-7aa4-42dd-b080-9baa652473ef"
    },
    {
      "cell_type": "code",
      "execution_count": null,
      "metadata": {},
      "outputs": [],
      "source": [
        "deviance(npub_poisson1)\n",
        "df.residual(npub_poisson1)\n",
        "deviance(npub_poisson1) / df.residual(npub_poisson1)"
      ],
      "id": "5508c410-16bd-4850-8696-842aa0e24c2c"
    },
    {
      "cell_type": "markdown",
      "metadata": {},
      "source": [
        "### データのばらつき具合を推定する\n",
        "\n",
        "データのばらつき具合の推定値(dispersion parameter)を計算する."
      ],
      "id": "355b7433-0be1-4fae-b82b-3145e14010aa"
    },
    {
      "cell_type": "code",
      "execution_count": null,
      "metadata": {},
      "outputs": [],
      "source": [
        "p_load(magrittr)\n",
        "residuals(npub_poisson1,\n",
        "          type = \"pearson\") |> \n",
        "  raise_to_power(2) |> \n",
        "  sum() |> \n",
        "  divide_by(df.residual(npub_poisson1))"
      ],
      "id": "109c8045-b812-4de8-9349-6754b126342e"
    },
    {
      "cell_type": "markdown",
      "metadata": {},
      "source": [
        "### LOOCV\n",
        "\n",
        "`caret`パッケージによってLOOCVで評価を行う."
      ],
      "id": "d199208b-7089-4607-b18e-12e634c5d434"
    },
    {
      "cell_type": "code",
      "execution_count": null,
      "metadata": {},
      "outputs": [],
      "source": [
        "p_load(caret)\n",
        "train(art ~ .,\n",
        "      npub,\n",
        "      method    = \"glm\",\n",
        "      family    = poisson(link = \"log\"),\n",
        "      trControl = trainControl(\"LOOCV\"))"
      ],
      "id": "6399f216-2965-4e60-82cb-c444455aa3a7"
    },
    {
      "cell_type": "markdown",
      "metadata": {},
      "source": [
        "### ポアソン回帰モデル(除phd)の結果\n",
        "\n",
        "変数`phd`を除いたモデルの結果も確認する."
      ],
      "id": "6c3d8793-0b66-44ba-8e5c-49681a2719e6"
    },
    {
      "cell_type": "code",
      "execution_count": null,
      "metadata": {},
      "outputs": [],
      "source": [
        "summ(npub_poisson2)"
      ],
      "id": "9a3bbdfb-e67f-47ff-8205-23f6df782427"
    },
    {
      "cell_type": "markdown",
      "metadata": {},
      "source": [
        "### `stargazer`による表示\n",
        "\n",
        "今回利用する統計量などは`stargazer()`関数では自動で出力されるので便利."
      ],
      "id": "cce8558e-4fc3-4441-92c9-683c8091fa1e"
    },
    {
      "cell_type": "code",
      "execution_count": null,
      "metadata": {},
      "outputs": [],
      "source": [
        "stargazer::stargazer(npub_poisson2,\n",
        "                     type              = \"text\",\n",
        "                     style             = \"all\",\n",
        "                     star.cutoffs      = NA,\n",
        "                     omit.table.layout = 'n',\n",
        "                     ci                = TRUE,\n",
        "                     align             = TRUE)"
      ],
      "id": "c7252da6-d802-4a24-8aab-31e0a1a300c1"
    },
    {
      "cell_type": "markdown",
      "metadata": {},
      "source": [
        "### 過分散のチェック\n",
        "\n",
        "残差逸脱度(Residual Deviance)と残差自由度(degree of\n",
        "freedom)の関係をチェックする."
      ],
      "id": "467966d2-6bdb-40b8-b431-f7d191d5076f"
    },
    {
      "cell_type": "code",
      "execution_count": null,
      "metadata": {},
      "outputs": [],
      "source": [
        "deviance(npub_poisson2)\n",
        "df.residual(npub_poisson2)\n",
        "deviance(npub_poisson2) / df.residual(npub_poisson2)"
      ],
      "id": "fcc69670-0349-4b84-8c32-5a1924b8fe4c"
    },
    {
      "cell_type": "markdown",
      "metadata": {},
      "source": [
        "### データのばらつき具合を推定する\n",
        "\n",
        "データのばらつき具合の推定値(dispersion parameter)を計算する."
      ],
      "id": "1c59a9da-06b7-479b-823d-f85e30464bad"
    },
    {
      "cell_type": "code",
      "execution_count": null,
      "metadata": {},
      "outputs": [],
      "source": [
        "residuals(npub_poisson2,\n",
        "          type = \"pearson\") |> \n",
        "  raise_to_power(2) |> \n",
        "  sum() |> \n",
        "  divide_by(df.residual(npub_poisson2))"
      ],
      "id": "23e7b11b-9762-4c79-8601-f27d50adeefe"
    },
    {
      "cell_type": "markdown",
      "metadata": {},
      "source": [
        "### LOOCV\n",
        "\n",
        "`caret`パッケージによってLOOCVで評価を行う."
      ],
      "id": "27543ada-73f8-4792-b1b5-99cfc9becfba"
    },
    {
      "cell_type": "code",
      "execution_count": null,
      "metadata": {},
      "outputs": [],
      "source": [
        "train(art ~ fem + mar + kid5 + ment,\n",
        "      npub,\n",
        "      method    = \"glm\",\n",
        "      family    = poisson(link = \"log\"),\n",
        "      trControl = trainControl(\"LOOCV\"))"
      ],
      "id": "09547984-004c-4e9e-acf4-1d08d686e439"
    },
    {
      "cell_type": "markdown",
      "metadata": {},
      "source": [
        "### 疑似ポアソン回帰\n",
        "\n",
        "過分散であることが示唆されるため, 疑似ポアソンを利用して,\n",
        "データのばらつきを調整する."
      ],
      "id": "6ec816ee-aa52-493b-a904-530762154465"
    },
    {
      "cell_type": "code",
      "execution_count": null,
      "metadata": {},
      "outputs": [],
      "source": [
        "npub_qpois1 <- glm(art ~ ., \n",
        "                   data   = npub, \n",
        "                   family = quasipoisson(link = \"log\"))\n",
        "npub_qpois2 <- glm(art ~ fem + mar + kid5 + ment, \n",
        "                   data   = npub, \n",
        "                   family = quasipoisson(link = \"log\"))"
      ],
      "id": "ee617328-ea7a-4c42-979d-428294eb8119"
    },
    {
      "cell_type": "markdown",
      "metadata": {},
      "source": [
        "### `stargazer`による表示\n",
        "\n",
        "今回利用する統計量などは`stargazer()`関数では自動で出力されるので便利."
      ],
      "id": "37b5f0f8-28ba-40e3-a878-3dcb2b2ac6f2"
    },
    {
      "cell_type": "code",
      "execution_count": null,
      "metadata": {},
      "outputs": [],
      "source": [
        "stargazer::stargazer(npub_qpois1,\n",
        "                     npub_qpois2,\n",
        "                     type              = \"text\",\n",
        "                     style             =\"all\",\n",
        "                     star.cutoffs      = NA,\n",
        "                     omit.table.layout = 'n',\n",
        "                     ci                = TRUE,\n",
        "                     align             = TRUE)"
      ],
      "id": "b619be65-199b-4a5b-a75b-12923ec578d7"
    },
    {
      "cell_type": "markdown",
      "metadata": {},
      "source": [
        "### 標準誤差の比較\n",
        "\n",
        "ポアソン回帰と疑似ポアソン回帰では標準誤差が約35%異なる.\n",
        "それだけ疑似ポアソンでは回帰係数が有意になりづらくなる."
      ],
      "id": "00f7af7f-d483-4f46-b0e0-ab129a1b2476"
    },
    {
      "cell_type": "code",
      "execution_count": null,
      "metadata": {},
      "outputs": [],
      "source": [
        "summary(npub_qpois1)$coefficients[, 2] /\n",
        "  summary(npub_poisson1)$coefficients[, 2]\n",
        "summary(npub_qpois2)$coefficients[, 2] /\n",
        "  summary(npub_poisson2)$coefficients[, 2]  "
      ],
      "id": "63626be0-1507-48e5-b9ff-f2c721c7e914"
    },
    {
      "cell_type": "markdown",
      "metadata": {},
      "source": [
        "### 負の二項回帰\n",
        "\n",
        "過分散であることが示唆されるため, 負の二項回帰を利用して,\n",
        "データのばらつきを調整する."
      ],
      "id": "3ef80a67-8116-4a22-97ab-f5fcd4c74ee1"
    },
    {
      "cell_type": "code",
      "execution_count": null,
      "metadata": {},
      "outputs": [],
      "source": [
        "p_load(MASS)\n",
        "npub_nb1 <- glm.nb(art ~ .,\n",
        "                   data = npub)\n",
        "npub_nb2 <- glm.nb(art ~ fem + mar + kid5 + ment, \n",
        "                   data = npub)"
      ],
      "id": "9e8f3fe1-a681-41b5-8ff0-6ea42e0539d7"
    },
    {
      "cell_type": "markdown",
      "metadata": {},
      "source": [
        "### `stargazer`による表示\n",
        "\n",
        "今回利用する統計量などは`stargazer()`関数では自動で出力されるので便利."
      ],
      "id": "d412eb48-1e55-4559-9ddc-cb3fec618676"
    },
    {
      "cell_type": "code",
      "execution_count": null,
      "metadata": {},
      "outputs": [],
      "source": [
        "stargazer::stargazer(npub_nb1,\n",
        "                     npub_nb2,\n",
        "                     type              = \"text\",\n",
        "                     style             =\"all\",\n",
        "                     star.cutoffs      = NA,\n",
        "                     omit.table.layout = 'n',\n",
        "                     ci                = TRUE,\n",
        "                     align             = TRUE)"
      ],
      "id": "e12b1b66-e95a-4b61-9e18-61fcaf6f536b"
    },
    {
      "cell_type": "markdown",
      "metadata": {},
      "source": [
        "### Bootstrap\n",
        "\n",
        "Bootstrapによってモデルを評価する."
      ],
      "id": "8f8acb58-ce53-4f3f-a3fd-91134eca9569"
    },
    {
      "cell_type": "code",
      "execution_count": null,
      "metadata": {},
      "outputs": [],
      "source": [
        "train(art ~ .,\n",
        "      data      = npub,\n",
        "      method    = \"glm.nb\",\n",
        "      trControl = trainControl(method = \"cv\",\n",
        "                               number = 100))"
      ],
      "id": "3822d143-6d7a-4f9d-a51b-c766856c0c66"
    },
    {
      "cell_type": "code",
      "execution_count": null,
      "metadata": {},
      "outputs": [],
      "source": [
        "train(art ~ fem + mar + kid5 + ment,\n",
        "      data      = npub,\n",
        "      method    = \"glm.nb\",\n",
        "      trControl = trainControl(method = \"cv\",\n",
        "                               number = 100))"
      ],
      "id": "2c864d1d-999a-45db-871a-70cf3492f5a8"
    },
    {
      "cell_type": "markdown",
      "metadata": {},
      "source": [
        "### 全ての結果を比較\n",
        "\n",
        "`stargazer`を利用すれば全ての結果を容易に比較できる."
      ],
      "id": "7b7e6b03-31b5-46e6-9fad-090af1036ef1"
    },
    {
      "cell_type": "code",
      "execution_count": null,
      "metadata": {},
      "outputs": [],
      "source": [
        "stargazer::stargazer(npub_poisson1,\n",
        "                     npub_poisson2,\n",
        "                     npub_qpois1,\n",
        "                     npub_qpois2,\n",
        "                     npub_nb1,\n",
        "                     npub_nb2,\n",
        "                     type              = \"text\",\n",
        "                     style             =\"all\",\n",
        "                     star.cutoffs      = NA,\n",
        "                     omit.table.layout = 'n',\n",
        "                     ci                = TRUE,\n",
        "                     align             = TRUE)"
      ],
      "id": "eac49118-b52d-42d5-8e28-7d608312091d"
    },
    {
      "cell_type": "markdown",
      "metadata": {},
      "source": [
        "### 最大対数尤度による比較\n",
        "\n",
        "ポアソン回帰と負の二項回帰の最大対数尤度を比較すると負の二項回帰のほうが望ましいことがわかる.\n",
        "ただし, 対数尤度は説明変数の数が増えれば自動的に増加する."
      ],
      "id": "b47141ce-2aee-4b65-af80-35ef4dbcf9c7"
    },
    {
      "cell_type": "code",
      "execution_count": null,
      "metadata": {},
      "outputs": [],
      "source": [
        "logLik(npub_poisson1)\n",
        "logLik(npub_poisson2)\n",
        "logLik(npub_nb1)\n",
        "logLik(npub_nb2)"
      ],
      "id": "dc8f8357-bf92-4b60-a8bc-98fa4c97de78"
    },
    {
      "cell_type": "markdown",
      "metadata": {},
      "source": [
        "### AICによる比較\n",
        "\n",
        "AICを比較することで説明変数の数に関わらず予測の良いモデルが何かを探すことができる."
      ],
      "id": "6f48f47a-597c-4fa7-b756-80104b37dc70"
    },
    {
      "cell_type": "code",
      "execution_count": null,
      "metadata": {},
      "outputs": [],
      "source": [
        "AIC(npub_poisson1)\n",
        "AIC(npub_poisson2)\n",
        "AIC(npub_nb1)\n",
        "AIC(npub_nb2)"
      ],
      "id": "d46ab815-e412-4b6d-af59-da2350adb309"
    },
    {
      "cell_type": "markdown",
      "metadata": {},
      "source": [
        "### 逸脱度による比較\n",
        "\n",
        "線形回帰分析による残差平方和に相当する逸脱度を比較することもできる."
      ],
      "id": "ae3f8476-9bdc-4b66-b352-67146cbcd7b6"
    },
    {
      "cell_type": "code",
      "execution_count": null,
      "metadata": {},
      "outputs": [],
      "source": [
        "deviance(npub_poisson1)\n",
        "deviance(npub_poisson2)\n",
        "deviance(npub_nb1)\n",
        "deviance(npub_nb2)"
      ],
      "id": "528d79b4-7c36-4185-bd18-1305a0692134"
    },
    {
      "cell_type": "markdown",
      "metadata": {},
      "source": [
        "### ANOVA(TYPE I)(逸脱度分析)\n",
        "\n",
        "ANOVAのTYPE Iによってモデルを評価する.\n",
        "変数`mar`に効果がないと検出されている.\n",
        "変数`mar`を取り除いてもモデルの当てはまりにあまり影響がない. ただし,\n",
        "説明変数の投入順序により結果が変わりうることに注意."
      ],
      "id": "bfb57cf2-72a5-4649-9949-8f47aafb148e"
    },
    {
      "cell_type": "code",
      "execution_count": null,
      "metadata": {},
      "outputs": [],
      "source": [
        "anova(npub_poisson1, test = \"Chisq\")"
      ],
      "id": "15a9a939-f013-4133-b70d-2bae20188dd7"
    },
    {
      "cell_type": "markdown",
      "metadata": {},
      "source": [
        "### ANOVA(TYPE II)\n",
        "\n",
        "`car::Anova`を利用してTYPE IIも利用する. TYPE\n",
        "Iと異なり説明変数の順序に影響されない."
      ],
      "id": "24c65e74-3e39-4390-afa3-14b8a1215c1c"
    },
    {
      "cell_type": "code",
      "execution_count": null,
      "metadata": {},
      "outputs": [],
      "source": [
        "p_load(car)\n",
        "car::Anova(npub_poisson1, type = c(\"II\"))"
      ],
      "id": "f44a9343-b049-4a6b-9325-e7735d28ac7c"
    },
    {
      "cell_type": "markdown",
      "metadata": {},
      "source": [
        "### ANOVA(TYPE II)\n",
        "\n",
        "`car::Anova`を利用してTYPE IIIも利用する."
      ],
      "id": "9a156130-1fe8-49df-9d9b-28978e3e97e7"
    },
    {
      "cell_type": "code",
      "execution_count": null,
      "metadata": {},
      "outputs": [],
      "source": [
        "car::Anova(npub_poisson1, type = c(\"III\"))"
      ],
      "id": "9e2ac257-8f8d-4b91-bec6-67d19b3b490d"
    },
    {
      "cell_type": "markdown",
      "metadata": {},
      "source": [
        "### モデルの比較\n",
        "\n",
        "ANOVAにより2つのモデルを比較する."
      ],
      "id": "9e42e793-396a-42cb-9c2d-08bb06e0d1e1"
    },
    {
      "cell_type": "code",
      "execution_count": null,
      "metadata": {},
      "outputs": [],
      "source": [
        "anova(npub_poisson1, npub_poisson2, test = \"Chisq\")"
      ],
      "id": "c4544f4f-c256-4c96-87ab-2b6ee5bec6f5"
    },
    {
      "cell_type": "markdown",
      "metadata": {},
      "source": [
        "### モデルの比較\n",
        "\n",
        "ANOVAにより2つのモデルを比較する."
      ],
      "id": "b1bd3257-7490-482c-a118-dd27a3540be5"
    },
    {
      "cell_type": "code",
      "execution_count": null,
      "metadata": {},
      "outputs": [],
      "source": [
        "anova(npub_nb1, npub_nb2, test = \"Chisq\")"
      ],
      "id": "0064a74a-72d0-413a-abc5-48641ef7b196"
    },
    {
      "cell_type": "markdown",
      "metadata": {},
      "source": [
        "### 適合度の尤度比検定\n",
        "\n",
        "ポアソン回帰と負の二項回帰を比較する.\n",
        "2つのモデルの逸脱度の差がdispersion\n",
        "parameterが0であるとする帰無仮説の下で$\\chi^2$分布に従うことを利用して尤度比検定を行う."
      ],
      "id": "3d222fee-7437-4742-84c9-f40da1e0295b"
    },
    {
      "cell_type": "code",
      "execution_count": null,
      "metadata": {},
      "outputs": [],
      "source": [
        "pchisq(deviance(npub_poisson2) - deviance(npub_nb2),\n",
        "       df         = 1,\n",
        "       lower.tail = FALSE)"
      ],
      "id": "fd5c52b8-b519-4f74-b2ba-c20be7630272"
    }
  ],
  "nbformat": 4,
  "nbformat_minor": 5,
  "metadata": {
    "kernelspec": {
      "display_name": "Python 3",
      "language": "python",
      "name": "python3"
    }
  }
}