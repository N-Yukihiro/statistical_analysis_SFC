{
  "cells": [
    {
      "cell_type": "markdown",
      "metadata": {},
      "source": [
        "# モデルの比較, 選択\n",
        "\n",
        "# Today’s dataset\n",
        "\n",
        "### 今日使うデータ\n",
        "\n",
        "Stata pressで公開されているデータを用いる.\n",
        "博士号を取得した生化学者が発表した論文数に関するデータである.\n",
        "性別や既婚未婚, 6歳未満の子供の数などの変数が含まれている."
      ],
      "id": "161f1280-b4b1-4b58-8276-56fb35f369bb"
    },
    {
      "cell_type": "code",
      "execution_count": null,
      "metadata": {},
      "outputs": [],
      "source": [
        "library(pacman)\n",
        "p_load(foreign)\n",
        "npub <- foreign::read.dta(\n",
        "  \"http://www.stata-press.com/data/lf2/couart2.dta\")\n",
        "names(npub)"
      ],
      "id": "9351a138-f7e2-4c0d-b005-942c590f6026"
    },
    {
      "cell_type": "markdown",
      "metadata": {},
      "source": [
        "### データ構造の確認\n",
        "\n",
        "`dplyr`パッケージの`glimpse()`関数を利用してデータの構造を確認する."
      ],
      "id": "ec89e926-7cbb-4c51-bc14-41432bec1028"
    },
    {
      "cell_type": "code",
      "execution_count": null,
      "metadata": {},
      "outputs": [],
      "source": [
        "p_load(dplyr)\n",
        "glimpse(npub)"
      ],
      "id": "f0615846-42e5-4a2a-98d8-acede5216678"
    },
    {
      "cell_type": "markdown",
      "metadata": {},
      "source": [
        "### データの要約統計量\n",
        "\n",
        "データの要約統計量を確認する."
      ],
      "id": "4e35e468-a489-42fa-aac3-d24a34fc356e"
    },
    {
      "cell_type": "code",
      "execution_count": null,
      "metadata": {},
      "outputs": [],
      "source": [
        "summary(npub)"
      ],
      "id": "c3f51633-6178-4626-be45-3abf1c224f62"
    },
    {
      "cell_type": "markdown",
      "metadata": {},
      "source": [
        "### データの平均と分散\n",
        "\n",
        "`summarise()`関数を利用して平均と分散を計算する."
      ],
      "id": "7853d966-89b9-49b5-b8f3-aa4f32f566c3"
    },
    {
      "cell_type": "code",
      "execution_count": null,
      "metadata": {},
      "outputs": [],
      "source": [
        "npub |> \n",
        "  summarise(mean  = mean(art), \n",
        "            var   = var(art), \n",
        "            ratio = var(art) / mean(art))"
      ],
      "id": "fac986ac-d0a9-44be-8f0c-34bb1e83f311"
    },
    {
      "cell_type": "markdown",
      "metadata": {},
      "source": [
        "### ヒストグラム\n",
        "\n",
        "-   データの概要をヒストグラムを描画して確認する"
      ],
      "id": "1bee6d60-da8f-490a-901a-abca823e7c4c"
    },
    {
      "cell_type": "code",
      "execution_count": null,
      "metadata": {},
      "outputs": [],
      "source": [
        "p_load(ggplot2)\n",
        "ggplot(npub) +\n",
        "  aes(x = art) +\n",
        "  geom_histogram()"
      ],
      "id": "f446bb72-f272-441c-9b84-0aa68b6329e7"
    },
    {
      "cell_type": "markdown",
      "metadata": {},
      "source": [
        "### 散布図\n",
        "\n",
        "-   変数`ment`と`art`の関係を散布図を描いて確認する"
      ],
      "id": "b3168d6f-7aa4-4f3d-9bef-1c84d91a253d"
    },
    {
      "cell_type": "code",
      "execution_count": null,
      "metadata": {},
      "outputs": [],
      "source": [
        "ggplot(npub) + \n",
        "  aes(x = ment,\n",
        "      y = art) +\n",
        "  geom_point()"
      ],
      "id": "4d33e2cb-019f-4a6c-8045-84c18f4be979"
    },
    {
      "cell_type": "markdown",
      "metadata": {},
      "source": [
        "# モデル推定とモデル選択\n",
        "\n",
        "### ポアソン回帰モデルの推定\n",
        "\n",
        "まず,\n",
        "全変数を投入したモデルnpub_poisson1とphdを除いたnpub_poisson2を推定する."
      ],
      "id": "52e5bf3a-4cea-40aa-87f2-377c02843855"
    },
    {
      "cell_type": "code",
      "execution_count": null,
      "metadata": {},
      "outputs": [],
      "source": [
        "npub_poisson1 <- glm(art ~ ., \n",
        "                     data   = npub, \n",
        "                     family = poisson(link = \"log\"))\n",
        "npub_poisson2 <- glm(art ~ fem + mar + kid5 + ment, \n",
        "                     data   = npub, \n",
        "                     family = poisson(link = \"log\"))\n",
        "npub_poisson3 <- glm(art ~ ment, \n",
        "                     data   = npub, \n",
        "                     family = poisson(link = \"log\"))"
      ],
      "id": "a3c01e9c-5da7-4a62-8467-3a31c4e1ede6"
    },
    {
      "cell_type": "markdown",
      "metadata": {},
      "source": [
        "### 推定結果の確認\n",
        "\n",
        "`ment`のみを説明変数として推定された結果を散布図上に表示して確認する"
      ],
      "id": "cad1e0f1-c77e-4702-9787-78036a3110d1"
    },
    {
      "cell_type": "code",
      "execution_count": null,
      "metadata": {},
      "outputs": [],
      "source": [
        "ggplot(npub) +\n",
        "  aes(x = ment,\n",
        "      y = art) +\n",
        "  geom_point() + \n",
        "  geom_smooth(method      = \"glm\", \n",
        "              method.args = \n",
        "                list(family = \"poisson\"))"
      ],
      "id": "4c2c4b33-6fa4-4797-aadc-76015d6a76da"
    },
    {
      "cell_type": "markdown",
      "metadata": {},
      "source": [
        "### ポアソン回帰モデル(全変数)の結果"
      ],
      "id": "c7a161fc-5e47-4f74-832e-a8c7a18b43d6"
    },
    {
      "cell_type": "code",
      "execution_count": null,
      "metadata": {},
      "outputs": [],
      "source": [
        "p_load(jtools)\n",
        "summ(npub_poisson1, confint = TRUE)"
      ],
      "id": "1a09319a-1214-41e5-a794-18a2ff9cfbfc"
    },
    {
      "cell_type": "markdown",
      "metadata": {},
      "source": [
        "### `stargazer`による表示\n",
        "\n",
        "今回利用する統計量などは`stargazer()`関数では自動で出力されるので便利."
      ],
      "id": "7f3403a4-ba46-448b-b508-8ca9d85727ef"
    },
    {
      "cell_type": "code",
      "execution_count": null,
      "metadata": {},
      "outputs": [],
      "source": [
        "stargazer::stargazer(npub_poisson1,\n",
        "                     type              = \"text\",\n",
        "                     style             = \"all\",\n",
        "                     star.cutoffs      = NA,\n",
        "                     omit.table.layout = 'n',\n",
        "                     ci                = TRUE,\n",
        "                     align             = TRUE)"
      ],
      "id": "d57a2e7a-8bc4-47ee-a119-521d1273c3a2"
    },
    {
      "cell_type": "markdown",
      "metadata": {},
      "source": [
        "### 過分散のチェック\n",
        "\n",
        "残差逸脱度(Residual Deviance)と残差自由度(degree of\n",
        "freedom)の関係をチェックする.\n",
        "残差逸脱度と残差自由度の比が1を大きく上回っており,\n",
        "過分散であることが示唆される(1.5程度が目安であるとする意見もある).\n",
        "過分散であると本当は有意でない変数も有意になりやすくなる."
      ],
      "id": "0b44b0fc-23b0-4914-b644-5b47ee0dc78d"
    },
    {
      "cell_type": "code",
      "execution_count": null,
      "metadata": {},
      "outputs": [],
      "source": [
        "deviance(npub_poisson1)\n",
        "df.residual(npub_poisson1)\n",
        "deviance(npub_poisson1) / df.residual(npub_poisson1)"
      ],
      "id": "65e6f057-c602-40be-82d3-75cff1d08b00"
    },
    {
      "cell_type": "markdown",
      "metadata": {},
      "source": [
        "### データのばらつき具合を推定する\n",
        "\n",
        "データのばらつき具合の推定値(dispersion parameter)を計算する."
      ],
      "id": "5880580c-8147-4901-9931-83abb8033e49"
    },
    {
      "cell_type": "code",
      "execution_count": null,
      "metadata": {},
      "outputs": [],
      "source": [
        "p_load(magrittr)\n",
        "residuals(npub_poisson1,\n",
        "          type = \"pearson\") |> \n",
        "  raise_to_power(2) |> \n",
        "  sum() |> \n",
        "  divide_by(df.residual(npub_poisson1))"
      ],
      "id": "aa63a657-76c3-44b2-b666-9c431a0f1e84"
    },
    {
      "cell_type": "markdown",
      "metadata": {},
      "source": [
        "### LOOCV\n",
        "\n",
        "`caret`パッケージによってLOOCVで評価を行う."
      ],
      "id": "37dc9b41-7914-4683-ba69-95cd8fd2db95"
    },
    {
      "cell_type": "code",
      "execution_count": null,
      "metadata": {},
      "outputs": [],
      "source": [
        "p_load(caret)\n",
        "train(art ~ .,\n",
        "      npub,\n",
        "      method    = \"glm\",\n",
        "      family    = poisson(link = \"log\"),\n",
        "      trControl = trainControl(\"LOOCV\"))"
      ],
      "id": "eeb13e01-774f-4e16-bce5-2b4791dc8997"
    },
    {
      "cell_type": "markdown",
      "metadata": {},
      "source": [
        "### ポアソン回帰モデル(除phd)の結果\n",
        "\n",
        "変数`phd`を除いたモデルの結果も確認する."
      ],
      "id": "6dd74f7b-f89f-4d22-a4ce-194a60acda99"
    },
    {
      "cell_type": "code",
      "execution_count": null,
      "metadata": {},
      "outputs": [],
      "source": [
        "summ(npub_poisson2)"
      ],
      "id": "19b68288-84e7-4366-b33e-de7eeffa1ddc"
    },
    {
      "cell_type": "markdown",
      "metadata": {},
      "source": [
        "### `stargazer`による表示\n",
        "\n",
        "今回利用する統計量などは`stargazer()`関数では自動で出力されるので便利."
      ],
      "id": "e38f9aa3-95c3-4796-9bde-05aafd26422e"
    },
    {
      "cell_type": "code",
      "execution_count": null,
      "metadata": {},
      "outputs": [],
      "source": [
        "stargazer::stargazer(npub_poisson2,\n",
        "                     type              = \"text\",\n",
        "                     style             = \"all\",\n",
        "                     star.cutoffs      = NA,\n",
        "                     omit.table.layout = 'n',\n",
        "                     ci                = TRUE,\n",
        "                     align             = TRUE)"
      ],
      "id": "5ab85c57-f8fc-4c92-9919-c948dc4dcd48"
    },
    {
      "cell_type": "markdown",
      "metadata": {},
      "source": [
        "### 過分散のチェック\n",
        "\n",
        "残差逸脱度(Residual Deviance)と残差自由度(degree of\n",
        "freedom)の関係をチェックする."
      ],
      "id": "a614b8c3-75b8-498e-ad42-4e37a97a5ab2"
    },
    {
      "cell_type": "code",
      "execution_count": null,
      "metadata": {},
      "outputs": [],
      "source": [
        "deviance(npub_poisson2)\n",
        "df.residual(npub_poisson2)\n",
        "deviance(npub_poisson2) / df.residual(npub_poisson2)"
      ],
      "id": "db198fa2-e99d-456b-8cdc-d24d6eeaabe8"
    },
    {
      "cell_type": "markdown",
      "metadata": {},
      "source": [
        "### データのばらつき具合を推定する\n",
        "\n",
        "データのばらつき具合の推定値(dispersion parameter)を計算する."
      ],
      "id": "02a2c8fe-133e-4c6f-b030-d3fb9651e4ca"
    },
    {
      "cell_type": "code",
      "execution_count": null,
      "metadata": {},
      "outputs": [],
      "source": [
        "residuals(npub_poisson2,\n",
        "          type = \"pearson\") |> \n",
        "  raise_to_power(2) |> \n",
        "  sum() |> \n",
        "  divide_by(df.residual(npub_poisson2))"
      ],
      "id": "9a4772ee-1b05-4a10-b622-4ba203cc8fe5"
    },
    {
      "cell_type": "markdown",
      "metadata": {},
      "source": [
        "### LOOCV\n",
        "\n",
        "`caret`パッケージによってLOOCVで評価を行う."
      ],
      "id": "d28deb3e-01e1-48a7-88cf-7c48700a4e8d"
    },
    {
      "cell_type": "code",
      "execution_count": null,
      "metadata": {},
      "outputs": [],
      "source": [
        "train(art ~ fem + mar + kid5 + ment,\n",
        "      npub,\n",
        "      method    = \"glm\",\n",
        "      family    = poisson(link = \"log\"),\n",
        "      trControl = trainControl(\"LOOCV\"))"
      ],
      "id": "fabfe53b-97fb-4316-899d-a60f272b2b35"
    },
    {
      "cell_type": "markdown",
      "metadata": {},
      "source": [
        "### 疑似ポアソン回帰\n",
        "\n",
        "過分散であることが示唆されるため, 疑似ポアソンを利用して,\n",
        "データのばらつきを調整する."
      ],
      "id": "b1a1a8b9-9f1e-41b4-a708-0bf5c937ba83"
    },
    {
      "cell_type": "code",
      "execution_count": null,
      "metadata": {},
      "outputs": [],
      "source": [
        "npub_qpois1 <- glm(art ~ ., \n",
        "                   data   = npub, \n",
        "                   family = quasipoisson(link = \"log\"))\n",
        "npub_qpois2 <- glm(art ~ fem + mar + kid5 + ment, \n",
        "                   data   = npub, \n",
        "                   family = quasipoisson(link = \"log\"))"
      ],
      "id": "21e56f1b-95b5-4a50-a4e8-2268383c3905"
    },
    {
      "cell_type": "markdown",
      "metadata": {},
      "source": [
        "### `stargazer`による表示\n",
        "\n",
        "今回利用する統計量などは`stargazer()`関数では自動で出力されるので便利."
      ],
      "id": "6d924017-17e8-4812-861a-972a8c5eacd0"
    },
    {
      "cell_type": "code",
      "execution_count": null,
      "metadata": {},
      "outputs": [],
      "source": [
        "stargazer::stargazer(npub_qpois1,\n",
        "                     npub_qpois2,\n",
        "                     type              = \"text\",\n",
        "                     style             =\"all\",\n",
        "                     star.cutoffs      = NA,\n",
        "                     omit.table.layout = 'n',\n",
        "                     ci                = TRUE,\n",
        "                     align             = TRUE)"
      ],
      "id": "d8a2ae24-7923-4eed-b57a-77ae85929ac0"
    },
    {
      "cell_type": "markdown",
      "metadata": {},
      "source": [
        "### 標準誤差の比較\n",
        "\n",
        "ポアソン回帰と疑似ポアソン回帰では標準誤差が約35%異なる.\n",
        "それだけ疑似ポアソンでは回帰係数が有意になりづらくなる."
      ],
      "id": "33c2fb0a-0374-48b9-8d9c-c3ad2e9f2040"
    },
    {
      "cell_type": "code",
      "execution_count": null,
      "metadata": {},
      "outputs": [],
      "source": [
        "summary(npub_qpois1)$coefficients[, 2] /\n",
        "  summary(npub_poisson1)$coefficients[, 2]\n",
        "summary(npub_qpois2)$coefficients[, 2] /\n",
        "  summary(npub_poisson2)$coefficients[, 2]  "
      ],
      "id": "9b4630ee-b40f-4f5a-a1c5-3b6e6b2831f8"
    },
    {
      "cell_type": "markdown",
      "metadata": {},
      "source": [
        "### 負の二項回帰\n",
        "\n",
        "過分散であることが示唆されるため, 負の二項回帰を利用して,\n",
        "データのばらつきを調整する."
      ],
      "id": "f155e43c-b981-4657-987f-3ac9f9bde655"
    },
    {
      "cell_type": "code",
      "execution_count": null,
      "metadata": {},
      "outputs": [],
      "source": [
        "p_load(MASS)\n",
        "npub_nb1 <- glm.nb(art ~ .,\n",
        "                   data = npub)\n",
        "npub_nb2 <- glm.nb(art ~ fem + mar + kid5 + ment, \n",
        "                   data = npub)"
      ],
      "id": "48910b58-ce90-4e29-8a83-327f62e40629"
    },
    {
      "cell_type": "markdown",
      "metadata": {},
      "source": [
        "### `stargazer`による表示\n",
        "\n",
        "今回利用する統計量などは`stargazer()`関数では自動で出力されるので便利."
      ],
      "id": "8704f6b4-410d-4b9f-938b-ee929eed76e2"
    },
    {
      "cell_type": "code",
      "execution_count": null,
      "metadata": {},
      "outputs": [],
      "source": [
        "stargazer::stargazer(npub_nb1,\n",
        "                     npub_nb2,\n",
        "                     type              = \"text\",\n",
        "                     style             =\"all\",\n",
        "                     star.cutoffs      = NA,\n",
        "                     omit.table.layout = 'n',\n",
        "                     ci                = TRUE,\n",
        "                     align             = TRUE)"
      ],
      "id": "e2e82c1c-43d7-430c-975d-c237dd96a48e"
    },
    {
      "cell_type": "markdown",
      "metadata": {},
      "source": [
        "### LOOCV\n",
        "\n",
        "LOOCVによってモデルを評価する."
      ],
      "id": "e6b0bbfa-c88e-485b-965a-f9c33fad828a"
    },
    {
      "cell_type": "code",
      "execution_count": null,
      "metadata": {},
      "outputs": [],
      "source": [
        "train(art ~ .,\n",
        "      data = npub,\n",
        "      method = \"glm.nb\",\n",
        "      trControl = trainControl(\"LOOCV\"))"
      ],
      "id": "a25888d6-e294-4afc-b60e-af7c0421d01e"
    },
    {
      "cell_type": "code",
      "execution_count": null,
      "metadata": {},
      "outputs": [],
      "source": [
        "train(art ~ art ~ fem + mar + kid5 + ment,\n",
        "      data = npub,\n",
        "      method = \"glm.nb\",\n",
        "      trControl = trainControl(\"LOOCV\"))"
      ],
      "id": "531e89a7-cb44-48b9-9af7-2ff40ded6500"
    },
    {
      "cell_type": "markdown",
      "metadata": {},
      "source": [
        "### 全ての結果を比較\n",
        "\n",
        "`stargazer`を利用すれば全ての結果を容易に比較できる."
      ],
      "id": "4309b47a-0865-42fd-bc5e-fb8896e33be2"
    },
    {
      "cell_type": "code",
      "execution_count": null,
      "metadata": {},
      "outputs": [],
      "source": [
        "stargazer::stargazer(npub_poisson1,\n",
        "                     npub_poisson2,\n",
        "                     npub_qpois1,\n",
        "                     npub_qpois2,\n",
        "                     npub_nb1,\n",
        "                     npub_nb2,\n",
        "                     type              = \"text\",\n",
        "                     style             =\"all\",\n",
        "                     star.cutoffs      = NA,\n",
        "                     omit.table.layout = 'n',\n",
        "                     ci                = TRUE,\n",
        "                     align             = TRUE)"
      ],
      "id": "fac3fe0a-9758-4577-872e-b98331ab311e"
    },
    {
      "cell_type": "markdown",
      "metadata": {},
      "source": [
        "### 最大対数尤度による比較\n",
        "\n",
        "ポアソン回帰と負の二項回帰の最大対数尤度を比較すると負の二項回帰のほうが望ましいことがわかる.\n",
        "ただし, 対数尤度は説明変数の数が増えれば自動的に増加する."
      ],
      "id": "372b5582-4aad-4a92-a9ff-5331d23a1ea4"
    },
    {
      "cell_type": "code",
      "execution_count": null,
      "metadata": {},
      "outputs": [],
      "source": [
        "logLik(npub_poisson1)\n",
        "logLik(npub_poisson2)\n",
        "logLik(npub_nb1)\n",
        "logLik(npub_nb2)"
      ],
      "id": "96ac9373-98de-431d-8f22-0b3c1cbcd4ce"
    },
    {
      "cell_type": "markdown",
      "metadata": {},
      "source": [
        "### AICによる比較\n",
        "\n",
        "AICを比較することで説明変数の数に関わらず予測の良いモデルが何かを探すことができる."
      ],
      "id": "f93c7c86-7f6a-496f-876e-5eac725b7f0f"
    },
    {
      "cell_type": "code",
      "execution_count": null,
      "metadata": {},
      "outputs": [],
      "source": [
        "AIC(npub_poisson1)\n",
        "AIC(npub_poisson2)\n",
        "AIC(npub_nb1)\n",
        "AIC(npub_nb2)"
      ],
      "id": "fd145852-f483-4e6a-adf0-b0e142019684"
    },
    {
      "cell_type": "markdown",
      "metadata": {},
      "source": [
        "### 逸脱度による比較\n",
        "\n",
        "線形回帰分析による残差平方和に相当する逸脱度を比較することもできる."
      ],
      "id": "8970000f-8597-44ce-9bf1-0c8c41952601"
    },
    {
      "cell_type": "code",
      "execution_count": null,
      "metadata": {},
      "outputs": [],
      "source": [
        "deviance(npub_poisson1)\n",
        "deviance(npub_poisson2)\n",
        "deviance(npub_nb1)\n",
        "deviance(npub_nb2)"
      ],
      "id": "1163ee52-ad36-43e5-bfb3-fc1730a355d2"
    },
    {
      "cell_type": "markdown",
      "metadata": {},
      "source": [
        "### ANOVA(TYPE I)(逸脱度分析)\n",
        "\n",
        "ANOVAのTYPE Iによってモデルを評価する.\n",
        "変数`mar`に効果がないと検出されている.\n",
        "変数`mar`を取り除いてもモデルの当てはまりにあまり影響がない. ただし,\n",
        "説明変数の投入順序により結果が変わりうることに注意."
      ],
      "id": "35845457-dbb4-4f78-81c4-c8c6d55921cc"
    },
    {
      "cell_type": "code",
      "execution_count": null,
      "metadata": {},
      "outputs": [],
      "source": [
        "anova(npub_poisson1, test = \"Chisq\")"
      ],
      "id": "8c6cf31e-8a35-4268-adab-e2af1e751445"
    },
    {
      "cell_type": "markdown",
      "metadata": {},
      "source": [
        "### ANOVA(TYPE II)\n",
        "\n",
        "`car::Anova`を利用してTYPE IIも利用する. TYPE\n",
        "Iと異なり説明変数の順序に影響されない."
      ],
      "id": "e3984265-c60a-41dc-870f-cc3144416fa0"
    },
    {
      "cell_type": "code",
      "execution_count": null,
      "metadata": {},
      "outputs": [],
      "source": [
        "p_load(car)\n",
        "car::Anova(npub_poisson1, type = c(\"II\"))"
      ],
      "id": "e1121e59-f529-4606-bf22-13b2b16bd984"
    },
    {
      "cell_type": "markdown",
      "metadata": {},
      "source": [
        "### ANOVA(TYPE II)\n",
        "\n",
        "`car::Anova`を利用してTYPE IIIも利用する."
      ],
      "id": "e11d05f5-4e72-4991-91e4-c03444b73b94"
    },
    {
      "cell_type": "code",
      "execution_count": null,
      "metadata": {},
      "outputs": [],
      "source": [
        "car::Anova(npub_poisson1, type = c(\"III\"))"
      ],
      "id": "e9185c4b-4691-4bb3-803d-694a8fccb8f2"
    },
    {
      "cell_type": "markdown",
      "metadata": {},
      "source": [
        "### モデルの比較\n",
        "\n",
        "ANOVAにより2つのモデルを比較する."
      ],
      "id": "6697b105-cfbf-428d-bdca-89eb3f0a074b"
    },
    {
      "cell_type": "code",
      "execution_count": null,
      "metadata": {},
      "outputs": [],
      "source": [
        "anova(npub_poisson1, npub_poisson2, test = \"Chisq\")"
      ],
      "id": "7375a510-e7c9-4012-b1e6-5913e8d9527b"
    },
    {
      "cell_type": "markdown",
      "metadata": {},
      "source": [
        "### モデルの比較\n",
        "\n",
        "ANOVAにより2つのモデルを比較する."
      ],
      "id": "01c532ab-a43b-4f05-ac87-7b82382ce923"
    },
    {
      "cell_type": "code",
      "execution_count": null,
      "metadata": {},
      "outputs": [],
      "source": [
        "anova(npub_nb1, npub_nb2, test = \"Chisq\")"
      ],
      "id": "d5c87ec1-cce6-4bb4-ab33-a4beafade2bf"
    },
    {
      "cell_type": "markdown",
      "metadata": {},
      "source": [
        "### 適合度の尤度比検定\n",
        "\n",
        "ポアソン回帰と負の二項回帰を比較する.\n",
        "2つのモデルの逸脱度の差がdispersion\n",
        "parameterが0であるとする帰無仮説の下で$\\chi^2$分布に従うことを利用して尤度比検定を行う."
      ],
      "id": "4974f770-86e3-47fc-a1eb-1860d1f389c6"
    },
    {
      "cell_type": "code",
      "execution_count": null,
      "metadata": {},
      "outputs": [],
      "source": [
        "pchisq(deviance(npub_poisson2) - deviance(npub_nb2),\n",
        "       df         = 1,\n",
        "       lower.tail = FALSE)"
      ],
      "id": "926fc447-a2ce-4eb7-ac34-1ff04ecc0caa"
    }
  ],
  "nbformat": 4,
  "nbformat_minor": 5,
  "metadata": {
    "kernelspec": {
      "display_name": "Python 3",
      "language": "python",
      "name": "python3"
    }
  }
}