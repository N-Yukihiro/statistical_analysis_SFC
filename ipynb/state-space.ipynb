{
  "cells": [
    {
      "cell_type": "markdown",
      "metadata": {},
      "source": [
        "# 状態空間モデル\n",
        "\n",
        "### 今日使うデータ\n",
        "\n",
        "`datasets`パッケージに含まれる`Nile`データを用いる.\n",
        "1871-1970年の100年間のナイル川での年間河川流量($10^8 m^3$)\n",
        "に関する時系列データ. 1898年のアスワンダム建設により,\n",
        "流量が変化している. 流量データのみが格納されているため,\n",
        "年情報を追加したデータセットに変換する."
      ],
      "id": "ab34cc7e-7a9a-470f-be03-d3103cf4febf"
    },
    {
      "cell_type": "code",
      "execution_count": null,
      "metadata": {},
      "outputs": [],
      "source": [
        "library(pacman)\n",
        "p_load(tibble, dplyr)\n",
        "data(Nile, package = \"datasets\")\n",
        "Nile_df <- tibble(\"flow\" = Nile,\n",
        "                  \"year\" = 1871:1970) |> \n",
        "  mutate(flow = as.numeric(flow))"
      ],
      "id": "23878294-1b5c-4e08-b5c7-dfc7329280ef"
    },
    {
      "cell_type": "markdown",
      "metadata": {},
      "source": [
        "### データ構造\n",
        "\n",
        "データ構造を確認する."
      ],
      "id": "6e22a549-7306-447f-ad50-3b8c8b422d4a"
    },
    {
      "cell_type": "code",
      "execution_count": null,
      "metadata": {},
      "outputs": [],
      "source": [
        "glimpse(Nile_df)"
      ],
      "id": "af382857-50bc-4aa9-9924-a3ca98d46254"
    },
    {
      "cell_type": "markdown",
      "metadata": {},
      "source": [
        "### 記述統計\n",
        "\n",
        "記述統計を確認する."
      ],
      "id": "fe93cc6a-f42f-410d-bec8-2569e4c8b5c9"
    },
    {
      "cell_type": "code",
      "execution_count": null,
      "metadata": {},
      "outputs": [],
      "source": [
        "summary(Nile_df)"
      ],
      "id": "ac3c27c6-2f0a-43a4-a96a-501e4d453d90"
    },
    {
      "cell_type": "markdown",
      "metadata": {},
      "source": [
        "### データの可視化1\n",
        "\n",
        "ナイル川の流量を可視化して概要を把握する."
      ],
      "id": "5b908bf6-47ad-4976-9f88-5f736d56961a"
    },
    {
      "cell_type": "code",
      "execution_count": null,
      "metadata": {},
      "outputs": [],
      "source": [
        "p_load(ggplot2)\n",
        "ggplot(Nile_df) +\n",
        "  aes(x = year,\n",
        "      y = flow) +\n",
        "  geom_line(colour = \"blue\") +\n",
        "  labs(y = \"Annual Flow\", \n",
        "       x = \"Year\") "
      ],
      "id": "d832fdaa-ed94-4b29-9fad-b26ac57952fe"
    },
    {
      "cell_type": "markdown",
      "metadata": {},
      "source": [
        "### データの可視化2\n",
        "\n",
        "ナイル川の流量を可視化して概要を把握する.\n",
        "最初の年の流量を1となるように基準化する."
      ],
      "id": "defcc5d5-dffb-40fb-91e4-09b8a013f673"
    },
    {
      "cell_type": "code",
      "execution_count": null,
      "metadata": {},
      "outputs": [],
      "source": [
        "Nile_df |> \n",
        "  mutate(flow_ratio = flow / first(flow)) |> \n",
        "  ggplot() +\n",
        "  aes(x = year,\n",
        "      y = flow_ratio) +\n",
        "  geom_line(colour = \"blue\") +\n",
        "  labs(y = \"Annual Flow\", \n",
        "       x = \"Year\") "
      ],
      "id": "70e46ec8-4821-4d9d-a579-24a569acaf62"
    },
    {
      "cell_type": "markdown",
      "metadata": {},
      "source": [
        "### データの可視化3\n",
        "\n",
        "ナイル川の流量を可視化して概要を把握する. 前年からの変化を計算する."
      ],
      "id": "f99933dc-fb3d-437b-aa63-07d48c6adb6c"
    },
    {
      "cell_type": "code",
      "execution_count": null,
      "metadata": {},
      "outputs": [],
      "source": [
        "p_load(magrittr)\n",
        "Nile_df |> \n",
        "  mutate(flow_diff = subtract(flow |> log(),\n",
        "                              flow |> lag() |> log()) |> \n",
        "           multiply_by(100)) |> \n",
        "  ggplot() +\n",
        "  aes(x = year,\n",
        "      y = flow_diff) +\n",
        "  geom_line(colour = \"blue\") +\n",
        "  labs(y = \"Annual Flow\", \n",
        "       x = \"Year\")"
      ],
      "id": "80e59947-f5d9-45e7-8011-85a94ff4e232"
    },
    {
      "cell_type": "markdown",
      "metadata": {},
      "source": [
        "### 前年の流量との散布図\n",
        "\n",
        "前年のナイル川の流量と比較するために散布図を描く."
      ],
      "id": "e0a67dad-fed6-41bb-9573-46cfebb6eb03"
    },
    {
      "cell_type": "code",
      "execution_count": null,
      "metadata": {},
      "outputs": [],
      "source": [
        "Nile_df |> \n",
        "  ggplot() +\n",
        "  aes(x = flow,\n",
        "      y = lag(flow)) +\n",
        "  geom_point()"
      ],
      "id": "1ecba974-3b85-46cb-b6ad-aaf35723d2b7"
    },
    {
      "cell_type": "markdown",
      "metadata": {},
      "source": [
        "# 時系列モデルの推定\n",
        "\n",
        "### 単位根の有無の検定\n",
        "\n",
        "単位根の有無を検定するには`tseries::adf.test()`関数を利用する.\n",
        "帰無仮説は単位根を持つ($\\phi = 1$).\n",
        "p値が大きいときの解釈は単位根を持つことを否定できない."
      ],
      "id": "077bc3cb-450b-4b0d-a71e-5c7b62ab88bd"
    },
    {
      "cell_type": "code",
      "execution_count": null,
      "metadata": {},
      "outputs": [],
      "source": [
        "p_load(tseries)\n",
        "adf.test(Nile_df$flow)"
      ],
      "id": "b5d5f67c-8b96-4e21-b88c-1dfda39065e8"
    },
    {
      "cell_type": "markdown",
      "metadata": {},
      "source": [
        "### 自己相関係数の算出\n",
        "\n",
        "過去の自身の値との相関(自己相関係数)を計算する."
      ],
      "id": "6cf7fd2f-cc97-4544-9010-186f676ba750"
    },
    {
      "cell_type": "code",
      "execution_count": null,
      "metadata": {},
      "outputs": [],
      "source": [
        "acf(Nile_df$flow,\n",
        "    plot = FALSE)"
      ],
      "id": "bf08df82-c9e0-4e2b-9e8e-91fda8fe587c"
    },
    {
      "cell_type": "markdown",
      "metadata": {},
      "source": [
        "### 偏自己相関係数の算出\n",
        "\n",
        "偏自己相関係数を算出する. ラグ2の場合$t-2$期の値は,\n",
        "$t-1$期も通して$t$期へ影響を与えるため, $t-1$期の影響をコントロールする."
      ],
      "id": "24315e9b-de7e-40c6-9696-0e261e9c15ff"
    },
    {
      "cell_type": "code",
      "execution_count": null,
      "metadata": {},
      "outputs": [],
      "source": [
        "acf(Nile_df$flow,\n",
        "    plot = FALSE,\n",
        "    type = \"partial\")"
      ],
      "id": "8e77f6c2-5d1c-4fb6-be5b-8399ee5e59b5"
    },
    {
      "cell_type": "markdown",
      "metadata": {},
      "source": [
        "### モデル選択\n",
        "\n",
        "`forecast::auto.arima()`関数を用いてAICを基準に最適な時系列モデルを選択を行う.\n",
        "`ARIMA(1,1,1)`が選択される."
      ],
      "id": "88ecc62b-0876-4234-b18f-8a03b581647b"
    },
    {
      "cell_type": "code",
      "execution_count": null,
      "metadata": {},
      "outputs": [],
      "source": [
        "p_load(forecast)\n",
        "model_Nile <- auto.arima(\n",
        "  Nile_df$flow,\n",
        "  ic            = \"aic\",\n",
        "  trace         = T,\n",
        "  stepwise      = F,\n",
        "  approximation = F\n",
        ")"
      ],
      "id": "8bb0dea4-c215-4b39-b846-906ca0841e23"
    },
    {
      "cell_type": "markdown",
      "metadata": {},
      "source": [
        "### 結果の確認\n",
        "\n",
        "`stargazer`も`jtools`も対応していないため, `summary`で結果を確認する."
      ],
      "id": "e727ba19-2dce-49d2-a09f-d705bf50956e"
    },
    {
      "cell_type": "code",
      "execution_count": null,
      "metadata": {},
      "outputs": [],
      "source": [
        "summary(model_Nile)"
      ],
      "id": "918c61e2-2776-46f0-8831-eabfa98aca04"
    },
    {
      "cell_type": "markdown",
      "metadata": {},
      "source": [
        "### 残差の確認1\n",
        "\n",
        "残差に時系列的な影響が残っていないかをチェックする."
      ],
      "id": "67435035-e1af-4479-bc61-37e86f118afa"
    },
    {
      "cell_type": "code",
      "execution_count": null,
      "metadata": {},
      "outputs": [],
      "source": [
        "auto.arima(\n",
        "  model_Nile$residuals,\n",
        "  ic            = \"aic\",\n",
        "  trace         = F,\n",
        "  stepwise      = F,\n",
        "  approximation = F\n",
        ")"
      ],
      "id": "2894a798-2344-4feb-aeb9-91baaac7e295"
    },
    {
      "cell_type": "markdown",
      "metadata": {},
      "source": [
        "### 残差の確認2\n",
        "\n",
        "残差に時系列的な影響が残っていないかをチェックする."
      ],
      "id": "54917d71-7a71-4e16-869e-2640b7cd3636"
    },
    {
      "cell_type": "code",
      "execution_count": null,
      "metadata": {},
      "outputs": [],
      "source": [
        "auto.arima(\n",
        "  model_Nile$residuals^2,\n",
        "  ic            = \"aic\",\n",
        "  trace         = F,\n",
        "  stepwise      = F,\n",
        "  approximation = F\n",
        ")"
      ],
      "id": "ebd96d3e-5ead-4a8f-9d6c-52c674589d80"
    },
    {
      "cell_type": "markdown",
      "metadata": {},
      "source": [
        "### ARIMAモデルによる予測の図示\n",
        "\n",
        "`forecast()`関数を利用して予測を行う.\n",
        "基本的に先のことはあまりわからない."
      ],
      "id": "4ce1e808-9897-4aa2-b01c-5dd9db276fbf"
    },
    {
      "cell_type": "code",
      "execution_count": null,
      "metadata": {},
      "outputs": [],
      "source": [
        "forecast(model_Nile, \n",
        "         level = c(95),\n",
        "         h     = 10) |> \n",
        "  plot()"
      ],
      "id": "9c4614e2-5e8f-4a34-be24-24bcc61cd24f"
    },
    {
      "cell_type": "markdown",
      "metadata": {},
      "source": [
        "# State Space Model\n",
        "\n",
        "### モデルの型の指定\n",
        "\n",
        "まずは, ローカルレベルモデル(ランダムウォーク+ノイズモデル)を推定する.\n",
        "はじめに, 状態空間モデルの型を指定する.\n",
        "`order`はでローカルレベルモデル(1)か,\n",
        "ローカルトレンドモデル(2)かを指定する. `dv`で観測方程式のモデルを指定し,\n",
        "`dW`で状態の分散行列の対角成分を指定, `m0`で初期値を指定する.\n",
        "指数変換するとパラメーターは非負になる."
      ],
      "id": "b9ffcee0-669c-4146-afba-e66b9470a0da"
    },
    {
      "cell_type": "code",
      "execution_count": null,
      "metadata": {},
      "outputs": [],
      "source": [
        "p_load(dlm)\n",
        "buildModPoly1 <- function(theta){\n",
        "  dlmModPoly(order = 1,\n",
        "             dV    = exp(theta[1]),\n",
        "             dW    = exp(theta[2]),\n",
        "             m0    = theta[3])     \n",
        "}"
      ],
      "id": "8c971937-053a-478e-a6eb-46a9602c3b1b"
    },
    {
      "cell_type": "markdown",
      "metadata": {},
      "source": [
        "### モデルの推定\n",
        "\n",
        "`dlm::dlmMLE()`関数を利用して型に入れるパラメーターを推定する."
      ],
      "id": "a0d16dfb-652c-427d-8164-54f2c7ef66de"
    },
    {
      "cell_type": "code",
      "execution_count": null,
      "metadata": {},
      "outputs": [],
      "source": [
        "p_load(magrittr)\n",
        "Nile_local <- Nile_df %$% \n",
        "  dlmMLE(flow, \n",
        "         parm = c(0, 0, flow[1]), \n",
        "         buildModPoly1)\n",
        "Nile_local"
      ],
      "id": "8486c03c-cd4c-45b8-b0e0-4ff593b48081"
    },
    {
      "cell_type": "markdown",
      "metadata": {},
      "source": [
        "### モデルの再編\n",
        "\n",
        "推定したパラメータを使ってモデルを組み直す. Vは観測誤差の大きさ(分散)を,\n",
        "Wは状態の変動の大きさ(プロセスエラーの分散)を表す."
      ],
      "id": "e14b2af4-8de1-4649-8ed1-21b38935145d"
    },
    {
      "cell_type": "code",
      "execution_count": null,
      "metadata": {},
      "outputs": [],
      "source": [
        "mod_Nile <- buildModPoly1(Nile_local$par)\n",
        "mod_Nile"
      ],
      "id": "53570932-df76-412a-9734-43657139e349"
    },
    {
      "cell_type": "markdown",
      "metadata": {},
      "source": [
        "### フィルタリング\n",
        "\n",
        "次に,\n",
        "パラメーターを型に入れてカルマンフィルターによるフィルタリングを行う."
      ],
      "id": "d26064ea-9a95-4ba4-a765-279d75618c7d"
    },
    {
      "cell_type": "code",
      "execution_count": null,
      "metadata": {},
      "outputs": [],
      "source": [
        "Nile_filt <- dlmFilter(Nile_df$flow, mod_Nile)\n",
        "Nile_filt$m"
      ],
      "id": "a6c2eb29-2d06-42ee-8283-96390511da8c"
    },
    {
      "cell_type": "markdown",
      "metadata": {},
      "source": [
        "### フィルタリング結果の図示\n",
        "\n",
        "フィルタリングの結果を可視化します(オレンジ色)."
      ],
      "id": "f27d27a2-bdfa-465e-a203-c096dd8037a6"
    },
    {
      "cell_type": "code",
      "execution_count": null,
      "metadata": {},
      "outputs": [],
      "source": [
        "ggplot(Nile_df) +\n",
        "  aes(x = year,\n",
        "      y = flow) +\n",
        "  geom_line(colour = \"blue\") +\n",
        "  geom_line(aes(y = Nile_filt$m[2:101]), \n",
        "            colour = \"orange\") +\n",
        "  labs(y = \"Annual Flow\",\n",
        "       x = \"Year\") "
      ],
      "id": "2e70f2cc-8b4a-4627-9718-3221619020b9"
    },
    {
      "cell_type": "markdown",
      "metadata": {},
      "source": [
        "### スムージング\n",
        "\n",
        "最後にカルマンフィルターの結果を使ってスムージングを適用する."
      ],
      "id": "5f8619c5-c453-47bc-976d-f98825f40289"
    },
    {
      "cell_type": "code",
      "execution_count": null,
      "metadata": {},
      "outputs": [],
      "source": [
        "Nile_smooth <- dlmSmooth(Nile_filt)\n",
        "Nile_smooth$s"
      ],
      "id": "6e419cdc-5512-4883-867a-8725e5c1a87d"
    },
    {
      "cell_type": "markdown",
      "metadata": {},
      "source": [
        "### スムージング結果の図示\n",
        "\n",
        "スムージングの結果を可視化します(赤色)."
      ],
      "id": "a38881e7-81d4-46fd-8bbf-213ab84db88b"
    },
    {
      "cell_type": "code",
      "execution_count": null,
      "metadata": {},
      "outputs": [],
      "source": [
        "ggplot(Nile_df) +\n",
        "  aes(x = year,\n",
        "      y = flow) +\n",
        "  geom_line(colour = \"blue\") +\n",
        "  geom_line(aes(y = Nile_filt$m[1:100]),\n",
        "            colour = \"orange\") +\n",
        "  geom_line(aes(y = Nile_smooth$s[1:100]),\n",
        "            colour = \"red\") +\n",
        "  labs(y = \"Annual Flow\",\n",
        "       x = \"Year\") "
      ],
      "id": "59d2bb61-c6fa-40f5-b828-6ca267aaaf0a"
    }
  ],
  "nbformat": 4,
  "nbformat_minor": 5,
  "metadata": {
    "kernelspec": {
      "display_name": "Python 3",
      "language": "python",
      "name": "python3"
    }
  }
}