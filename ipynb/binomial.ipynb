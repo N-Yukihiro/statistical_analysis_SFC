{
  "cells": [
    {
      "cell_type": "markdown",
      "metadata": {},
      "source": [
        "# ロジスティック回帰他\n",
        "\n",
        "### 今回利用するデータ\n",
        "\n",
        "今回の演習では、Titanicの生存者情報データを用いる.\n",
        "データは`titanic`パッケージに入っている`titanic_train`を用いる.\n",
        "\n",
        "まずは, 変数を確認する"
      ],
      "id": "026f5565-42b4-4da2-9baa-537294a31d95"
    },
    {
      "cell_type": "code",
      "execution_count": null,
      "metadata": {},
      "outputs": [],
      "source": [
        "library(pacman)\n",
        "p_load(titanic)\n",
        "names(titanic_train)"
      ],
      "id": "532568a1-9c1e-4f2e-81b8-bbffb6b72dd9"
    },
    {
      "cell_type": "markdown",
      "metadata": {},
      "source": [
        "# data transformation\n",
        "\n",
        "## 欠測値の処理\n",
        "\n",
        "### 欠測値の定義\n",
        "\n",
        "今回使うデータは空欄と`NA`が混在しているため, NAに統一する.\n",
        "利用するのは`naniar::replace_with_na_all()`関数."
      ],
      "id": "237ced8a-1d5e-42cc-9ede-596b94e1d12a"
    },
    {
      "cell_type": "code",
      "execution_count": null,
      "metadata": {},
      "outputs": [],
      "source": [
        "p_load(naniar)\n",
        "train <- replace_with_na_all(titanic_train,\n",
        "                             condition = ~.x %in% c(\"NA\", \"\"))"
      ],
      "id": "666447be-5ebd-45dd-bcf2-7a7e81f2a7d7"
    },
    {
      "cell_type": "markdown",
      "metadata": {},
      "source": [
        "### データ構造の確認\n",
        "\n",
        "データ構造を確認するため, `dplyr::glimpse()`関数を利用する."
      ],
      "id": "43e44d23-2c1f-4bde-88d3-956281b0e893"
    },
    {
      "cell_type": "code",
      "execution_count": null,
      "metadata": {},
      "outputs": [],
      "source": [
        "p_load(dplyr)\n",
        "glimpse(train)"
      ],
      "id": "fc6d2537-1de8-4e2c-b968-67ea2bb61ab8"
    },
    {
      "cell_type": "markdown",
      "metadata": {},
      "source": [
        "## 先頭から数行を確認\n",
        "\n",
        "先頭から数行を確認するために`head()`関数を利用する.\n",
        "`Cabin`の1行目と3行目は欠測値になっていることがわかる."
      ],
      "id": "00d5ae5e-d0b9-403f-b494-0b983049c5f7"
    },
    {
      "cell_type": "code",
      "execution_count": null,
      "metadata": {},
      "outputs": [],
      "source": [
        "head(train)"
      ],
      "id": "c8f33c4d-d38d-41cc-b1bf-8debf67aff16"
    },
    {
      "cell_type": "markdown",
      "metadata": {},
      "source": [
        "### データの概要を確認\n",
        "\n",
        "データの記述統計を確認するために`summary()`関数を利用する.\n",
        "文字列の欠測値は表示されない."
      ],
      "id": "0e1115cc-dc4d-49e5-9b2e-ab93cfc7b98a"
    },
    {
      "cell_type": "code",
      "execution_count": null,
      "metadata": {},
      "outputs": [],
      "source": [
        "summary(train)"
      ],
      "id": "c6c5c627-8f23-45da-afbc-2c96d77efac7"
    },
    {
      "cell_type": "markdown",
      "metadata": {},
      "source": [
        "### 欠測値を確認\n",
        "\n",
        "このデータはいくつかの欠測値を含んでいるため,\n",
        "欠測値がどの変数にいくつ含まれているのか確認する.\n",
        "`dplyr::summarise()`関数を利用し,\n",
        "`is.na`でNAに該当するセルがいくつあるのかを数え上げる."
      ],
      "id": "489f6d8e-f866-452d-8d92-0e4e0087e170"
    },
    {
      "cell_type": "code",
      "execution_count": null,
      "metadata": {},
      "outputs": [],
      "source": [
        "summarise(train,\n",
        "          across(everything(),\n",
        "                 \\(x) sum(is.na(x))))"
      ],
      "id": "62e031bc-9358-434b-9426-78f717968201"
    },
    {
      "cell_type": "markdown",
      "metadata": {},
      "source": [
        "### 欠測値の除去\n",
        "\n",
        "欠測値を含む行を削除する. これをリストワイズ除去という. ここでは,\n",
        "`na.omit()`関数と`tidyr::drop_na()`関数の2種類を紹介する."
      ],
      "id": "eadc58c6-36c3-4c51-9932-34ea83a7ed11"
    },
    {
      "cell_type": "code",
      "execution_count": null,
      "metadata": {},
      "outputs": [],
      "source": [
        "train2 <- na.omit(train)\n",
        "\n",
        "p_load(tidyr)\n",
        "train2 <- tidyr::drop_na(train)"
      ],
      "id": "5fa1a1c0-9648-4177-9782-4a2180825c1d"
    },
    {
      "cell_type": "markdown",
      "metadata": {},
      "source": [
        "### 欠測値を除去したデータを確認"
      ],
      "id": "d16244b8-ee0a-4a78-82a4-e3b48740b30f"
    },
    {
      "cell_type": "code",
      "execution_count": null,
      "metadata": {},
      "outputs": [],
      "source": [
        "head(train2)"
      ],
      "id": "86f9a327-0538-4b8d-a2ff-633ce5692c05"
    },
    {
      "cell_type": "code",
      "execution_count": null,
      "metadata": {},
      "outputs": [],
      "source": [
        "summary(train2)"
      ],
      "id": "f0ba6c94-d37f-4043-826f-7fc18c0911c7"
    },
    {
      "cell_type": "markdown",
      "metadata": {},
      "source": [
        "## パイプ演算子\n",
        "\n",
        "### コードを書いていて困ること1\n",
        "\n",
        "`()`がいくつも重なるととてもコードが読みにくい.\n",
        "`()`の一番内側から処理を実行し,\n",
        "コードの先頭にある関数は一番最後に実行する関数となる. 例えば,\n",
        "下の例にあるコードを実行する場合, `fun3(x)`を最初に実行し,\n",
        "その結果に対して`fun2()`を実行し,\n",
        "さらにその結果を`fun1()`が受け取って実行する.\n",
        "これは人間の思考と逆である."
      ],
      "id": "e3e46c3b-d4a2-479f-9de4-6013a828d377"
    },
    {
      "cell_type": "code",
      "execution_count": null,
      "metadata": {},
      "outputs": [],
      "source": [
        "fun1(fun2(fun3(x)))"
      ],
      "id": "c6f1f5db-f3d3-48c8-8a41-05644bf925f6"
    },
    {
      "cell_type": "markdown",
      "metadata": {},
      "source": [
        "### コードを書いていて困ること2\n",
        "\n",
        "関数などをネストして書くことを避けると一時的に作成した中間的なオブジェクトが多くなる.\n",
        "全くだめなわけではないが, 多すぎると見通しが悪い."
      ],
      "id": "53e9c6bf-3739-426e-93c1-28e99d41009e"
    },
    {
      "cell_type": "code",
      "execution_count": null,
      "metadata": {},
      "outputs": [],
      "source": [
        "x1 <- fun3(x)\n",
        "x2 <- fun2(x1)\n",
        "fun1(x2)"
      ],
      "id": "8581130e-c6e4-49ec-a93c-860ed8ecd465"
    },
    {
      "cell_type": "markdown",
      "metadata": {},
      "source": [
        "$\\rightarrow$ これらの解決する手段として`|>`(パイプ)演算子がある\n",
        "\n",
        "### `|>`(パイプ)とは\n",
        "\n",
        "`|>`(パイプ)演算子を使うことで、パイプ演算子の前の結果をパイプ演算子の後の関数の第一引数に入れることができる.\n",
        "パイプ演算子はR4.1.0から素のRに導入された.\n",
        "\n",
        "以前のパイプ演算子`%>%`は`magrittr`パッケージの中の関数の1つ.\n",
        "`dplyr`パッケージを読み込むと一緒に読み込んでくれる.\n",
        "\n",
        "`|>`はctrl(cmd) + Shift(opt) + Mで書くことができる.\n",
        "特に`dplyr`パッケージ等を用いたデータの前処理で大活躍する."
      ],
      "id": "cc7eb177-ef8d-4aa4-bb3c-52c6f2f77eaa"
    },
    {
      "cell_type": "code",
      "execution_count": null,
      "metadata": {},
      "outputs": [],
      "source": [
        "fun3(x) |> \n",
        "  fun2() |> \n",
        "  fun1()"
      ],
      "id": "a2f895bd-912e-4bc0-9be0-31da0a3e6d0b"
    },
    {
      "cell_type": "markdown",
      "metadata": {},
      "source": [
        "## データの整形\n",
        "\n",
        "### 変数の変換\n",
        "\n",
        "いくつかの変数のデータ型を`Integer`や`Character`から`factor`に,\n",
        "`Character`から文字の抜き出しなどを行う.\n",
        "列の変換には`dplyr::mutate()`関数を利用する"
      ],
      "id": "1cab05ed-7fe2-43d9-bc2d-970bffc85bbe"
    },
    {
      "cell_type": "code",
      "execution_count": null,
      "metadata": {},
      "outputs": [],
      "source": [
        "p_load(stringr)\n",
        "train3 <- train2 |> \n",
        "  mutate(across(c(Survived, Pclass, Sex, Embarked),\n",
        "                as.factor)) |> \n",
        "  mutate(CabinLetter = str_sub(Cabin,\n",
        "                               start = 1,\n",
        "                               end   = 1) |> \n",
        "           as.factor()) |> \n",
        "  mutate(Title = str_sub(Name,\n",
        "                         start = str_locate(Name, \",\")[,1] + 2,\n",
        "                         end   = str_locate(Name, \"\\\\.\")[,1] - 1) |> \n",
        "           as.factor())"
      ],
      "id": "c2c80637-8fca-4f15-a26e-72cf29d4a269"
    },
    {
      "cell_type": "markdown",
      "metadata": {},
      "source": [
        "# Logistic Regression Model\n",
        "\n",
        "### ロジスティック回帰モデル\n",
        "\n",
        "ロジスティック回帰モデルを推定するために`glm(family = binomial(link=\"logit\"))`を利用する.\n",
        "モデルを2つ作成し, 推定を行う."
      ],
      "id": "4d34296f-efd7-4e0f-b344-ea5d62f4140e"
    },
    {
      "cell_type": "code",
      "execution_count": null,
      "metadata": {},
      "outputs": [],
      "source": [
        "model1 <- Survived ~ Pclass + Sex + Age + \n",
        "  SibSp + Parch + Fare + Embarked +\n",
        "  CabinLetter + Title\n",
        "model2 <- Survived ~ Pclass + Sex + Age"
      ],
      "id": "fb8c2d88-d2bd-4fe6-975e-23fc6159b385"
    },
    {
      "cell_type": "markdown",
      "metadata": {},
      "source": [
        "### モデル1の結果\n",
        "\n",
        "`jtools::summ()`関数を利用して結果の確認を行う."
      ],
      "id": "6e0a200d-82c4-49ed-82ed-b460dfaf8348"
    },
    {
      "cell_type": "code",
      "execution_count": null,
      "metadata": {},
      "outputs": [],
      "source": [
        "glm_logit1 <- glm(model1, \n",
        "                  data   = train3, \n",
        "                  family = binomial(link = 'logit'))\n",
        "p_load(jtools)\n",
        "summ(glm_logit1)"
      ],
      "id": "54d9fcb4-fe54-4d96-ba4f-a1e657b59257"
    },
    {
      "cell_type": "markdown",
      "metadata": {},
      "source": [
        "### 多重共線性のチェック\n",
        "\n",
        "`summ()`関数の引数`vifs`を利用してモデル1の多重共線性をチェックする.\n",
        "`Sex`と`Title`の値が大きく, 推定に問題があることが示唆される. `Sex`とMr,\n",
        "Mrsなどを含む`Title`が相関するのは当然."
      ],
      "id": "706f62f7-2375-4234-b717-1b02b851200a"
    },
    {
      "cell_type": "code",
      "execution_count": null,
      "metadata": {},
      "outputs": [],
      "source": [
        "summ(glm_logit1, vifs = TRUE)"
      ],
      "id": "0cd107e0-7298-488c-86e9-d786149709cd"
    },
    {
      "cell_type": "markdown",
      "metadata": {},
      "source": [
        "### モデル2の結果\n",
        "\n",
        "モデルを変えて(`CabinLetter`と`Title`を除いて)分析を行う."
      ],
      "id": "a8cf4e0c-1995-473a-a9a0-91f5906a24c7"
    },
    {
      "cell_type": "code",
      "execution_count": null,
      "metadata": {},
      "outputs": [],
      "source": [
        "glm_logit2 <- glm(model2,\n",
        "                  data   = train3, \n",
        "                  family = binomial(link = 'logit'))\n",
        "summ(glm_logit2,\n",
        "     vifs = TRUE)"
      ],
      "id": "95321be6-06dd-4884-aace-71edaf20931e"
    },
    {
      "cell_type": "markdown",
      "metadata": {},
      "source": [
        "### 推定された係数の図示\n",
        "\n",
        "推定された係数を図で確認するために,\n",
        "`coefplot::coefplot()`関数を利用する."
      ],
      "id": "bce82646-8860-4ead-b8ab-3928483182b8"
    },
    {
      "cell_type": "code",
      "execution_count": null,
      "metadata": {},
      "outputs": [],
      "source": [
        "p_load(coefplot)\n",
        "coefplot(glm_logit2, \n",
        "         intercept = FALSE)"
      ],
      "id": "216c1d64-aa42-438d-8698-71c743faf817"
    },
    {
      "cell_type": "markdown",
      "metadata": {},
      "source": [
        "### オッズ比の算出\n",
        "\n",
        "ロジスティック回帰モデルにより算出された回帰係数はそのままでは解釈できないため,\n",
        "指数変換しオッズ比を計算する."
      ],
      "id": "c273eabf-89b3-485c-a1cd-8dba7a50ce8e"
    },
    {
      "cell_type": "code",
      "execution_count": null,
      "metadata": {},
      "outputs": [],
      "source": [
        "summ(glm_logit2, exp = TRUE)"
      ],
      "id": "615d84d5-1cb1-42fc-9961-551aaf7afe16"
    },
    {
      "cell_type": "markdown",
      "metadata": {},
      "source": [
        "# オッズ比の理解\n",
        "\n",
        "指数変換して計算したオッズ比がどのようなものかを理解する."
      ],
      "id": "a5c4c393-3726-42f7-a2d9-d96f303469a9"
    },
    {
      "cell_type": "code",
      "execution_count": null,
      "metadata": {},
      "outputs": [],
      "source": [
        "p <- predict(glm_logit2,\n",
        "        newdata = tibble(Pclass = factor(1),\n",
        "                         Sex    = \"male\",\n",
        "                         Age    = 35),\n",
        "        type    = \"response\")\n",
        "q <- predict(glm_logit2,\n",
        "        newdata = tibble(Pclass = factor(2),\n",
        "                         Sex    = \"male\",\n",
        "                         Age    = 35),\n",
        "        type    = \"response\")\n",
        "(q / (1 - q)) / (p / (1 - p))"
      ],
      "id": "50d8401e-c26d-4ad9-a3e1-4d913f3e47fd"
    },
    {
      "cell_type": "markdown",
      "metadata": {},
      "source": [
        "### オッズ比の図示\n",
        "\n",
        "`ggplot2`を使ってオッズ比の信頼区間を図示する."
      ],
      "id": "74bfd1f1-b72d-46a2-a3da-da13ac585031"
    },
    {
      "cell_type": "code",
      "execution_count": null,
      "metadata": {},
      "outputs": [],
      "source": [
        "p_load(broom)\n",
        "broom::tidy(glm_logit2, \n",
        "            conf.int     = TRUE, \n",
        "            exponentiate = TRUE) |> \n",
        "  select(term, \n",
        "         estimate,\n",
        "         conf.low, \n",
        "         conf.high) |> \n",
        "  filter(term != \"(Intercept)\") |> \n",
        "  ggplot() +\n",
        "  aes(x    = term,\n",
        "      y    = estimate,\n",
        "      ymin = conf.low,\n",
        "      ymax = conf.high) +\n",
        "  geom_pointrange(size   = .5,\n",
        "                  colour = \"blue\") +\n",
        "  geom_hline(yintercept = 1,\n",
        "             linetype   = 'dotted') +\n",
        "  coord_flip()"
      ],
      "id": "5031486a-764a-465e-ac08-746de685fad6"
    },
    {
      "cell_type": "markdown",
      "metadata": {},
      "source": [
        "### ロジスティック回帰モデルの残差チェック\n",
        "\n",
        "残差をチェックするために`autoplot`を行う."
      ],
      "id": "338431d7-0145-4fab-89b3-cab802ee3084"
    },
    {
      "cell_type": "code",
      "execution_count": null,
      "metadata": {},
      "outputs": [],
      "source": [
        "p_load(ggfortify)\n",
        "autoplot(glm_logit2)"
      ],
      "id": "84689a65-a457-4971-8ac1-5d91cd84168b"
    },
    {
      "cell_type": "markdown",
      "metadata": {},
      "source": [
        "### 評価用の関数作成"
      ],
      "id": "d69c9ced-b463-40fa-83b9-5a2a95032ca2"
    },
    {
      "cell_type": "code",
      "execution_count": null,
      "metadata": {},
      "outputs": [],
      "source": [
        "perform <- function(data, observed, predict){\n",
        "  library(dplyr)\n",
        "  obs  <- enquo(observed)\n",
        "  pred <- enquo(predict)\n",
        "  result <- data |> \n",
        "    select(obs  := !!obs, \n",
        "           pred := !!pred) |> \n",
        "    mutate(TP = if_else(obs == 1 & pred == 1,\n",
        "                        1, 0),\n",
        "           FP = if_else(obs == 0 & pred == 1,\n",
        "                        1, 0),\n",
        "           TN = if_else(obs == 0 & pred == 0,\n",
        "                        1, 0),\n",
        "           FN = if_else(obs == 1 & pred == 0,\n",
        "                        1, 0)) |> \n",
        "    summarise(across(c(TP, FP, TN, FN), sum)) |> \n",
        "    mutate(Pe = ((TP + FN) * (TP + FP) + (TN + FN) * (TN + FP)) /\n",
        "             sum(TP, FP, TN, FN)^2) |> \n",
        "    transmute(Accuracy  = (TP + TN) / (TP + TN + FP + FN),\n",
        "              Precision = TP / (TP + FP),\n",
        "              Recall    = TP / (TP + FN),\n",
        "              F1        = 2 * Precision * Recall / (Precision + Recall),\n",
        "              kappa     = (Accuracy - Pe) / (1 - Pe))\n",
        "  return(result)\n",
        "}"
      ],
      "id": "3c9e966a-fa71-4ed9-9db7-25108d0e33f1"
    },
    {
      "cell_type": "markdown",
      "metadata": {},
      "source": [
        "### ロジスティックモデルを用いた予測と的中率\n",
        "\n",
        "`predict`を用いてモデル上の(理論的な)生存確率を予測する.\n",
        "予測された結果が0.5より大きい場合は生存, 0.5以下であれば死亡とする.\n",
        "利用したデータを用いた予測の結果, 76.5%が的中した."
      ],
      "id": "376a82a7-d545-4615-b086-f9c94cfdaf3f"
    },
    {
      "cell_type": "code",
      "execution_count": null,
      "metadata": {},
      "outputs": [],
      "source": [
        "train3 |>\n",
        "  mutate(predict = predict(glm_logit2, \n",
        "                           type = \"response\")) |> \n",
        "  mutate(survive = if_else(predict > 0.5, 1, 0)) |> \n",
        "  perform(Survived, survive)"
      ],
      "id": "b24caefe-5490-4f38-ad4c-ddc55524841f"
    },
    {
      "cell_type": "markdown",
      "metadata": {},
      "source": [
        "### LOOCVによる評価\n",
        "\n",
        "`caret`パッケージを利用してLOOCVによるモデルの評価を行う. 正解率は75.4%."
      ],
      "id": "f3028709-c66d-40b6-9843-16b316f1b7e5"
    },
    {
      "cell_type": "code",
      "execution_count": null,
      "metadata": {},
      "outputs": [],
      "source": [
        "p_load(caret)\n",
        "train(data      = train3,\n",
        "      model2,\n",
        "      method    = \"glm\",\n",
        "      family    = binomial(link = \"logit\"),\n",
        "      metric    = \"Accuracy\",\n",
        "      trControl = trainControl(method = \"LOOCV\"))"
      ],
      "id": "59b52946-07be-4c1e-80b7-9fb12c9b1184"
    },
    {
      "cell_type": "markdown",
      "metadata": {},
      "source": [
        "# Probit Regression Model\n",
        "\n",
        "### プロビット回帰モデル\n",
        "\n",
        "プロビット回帰モデルを推定するためには,\n",
        "`glm(family=binomial(link='probit'))`を指定する."
      ],
      "id": "9f3db59b-3b72-4d3f-aa93-298b85ecf6b4"
    },
    {
      "cell_type": "code",
      "execution_count": null,
      "metadata": {},
      "outputs": [],
      "source": [
        "glm_probit <- glm(model2, \n",
        "                  data   = train3,\n",
        "                  family = binomial(link = 'probit'))\n",
        "summ(glm_probit)"
      ],
      "id": "859e3af1-b71d-4a70-b3f6-626c52b3abb1"
    },
    {
      "cell_type": "markdown",
      "metadata": {},
      "source": [
        "### プロビットモデルで推定された係数の図示\n",
        "\n",
        "推定された係数を図で確認するために, `coefplot::coefplot`を利用する."
      ],
      "id": "dbd9a7b7-bed2-4c38-a72d-ac2a48a54ab6"
    },
    {
      "cell_type": "code",
      "execution_count": null,
      "metadata": {},
      "outputs": [],
      "source": [
        "coefplot(glm_probit, intercept = FALSE)"
      ],
      "id": "9331a47a-a51a-4a26-997f-bd1e88ae4643"
    },
    {
      "cell_type": "markdown",
      "metadata": {},
      "source": [
        "### プロビットモデルの残差チェック\n",
        "\n",
        "残差をチェックするために`autoplot`を行う."
      ],
      "id": "43e89b03-d6b3-48b7-80cd-9176a7175d3c"
    },
    {
      "cell_type": "code",
      "execution_count": null,
      "metadata": {},
      "outputs": [],
      "source": [
        "autoplot(glm_probit)"
      ],
      "id": "3a651643-bb4c-48ec-9787-f87962bb607c"
    },
    {
      "cell_type": "markdown",
      "metadata": {},
      "source": [
        "### プロビットモデルを用いた予測と的中率\n",
        "\n",
        "`predict`を用いてモデル上の(理論的な)生存確率を予測する.\n",
        "予測された結果が0.5より大きい場合は生存, 0.5以下であれば死亡とする.\n",
        "利用したデータを用いた予測の結果, 77.0%が的中した."
      ],
      "id": "5a38d3ed-4368-4aa7-9e39-269543f621c7"
    },
    {
      "cell_type": "code",
      "execution_count": null,
      "metadata": {},
      "outputs": [],
      "source": [
        "train3 |>\n",
        "  mutate(predict = predict(glm_probit, \n",
        "                           type = \"response\")) |> \n",
        "  mutate(survive = if_else(predict > 0.5, 1, 0)) |> \n",
        "  perform(Survived, survive)"
      ],
      "id": "34179a84-61b5-49c1-a286-e9274867dbc1"
    },
    {
      "cell_type": "markdown",
      "metadata": {},
      "source": [
        "### LOOCVによる評価\n",
        "\n",
        "`caret`パッケージを利用してLOOCVによるモデルの評価を行う. 正解率は75.4%."
      ],
      "id": "06d829b5-fc96-4c81-b79e-da5032414084"
    },
    {
      "cell_type": "code",
      "execution_count": null,
      "metadata": {},
      "outputs": [],
      "source": [
        "train(data      = train3,\n",
        "      model2,\n",
        "      method    = \"glm\",\n",
        "      family    = binomial(link = \"probit\"),\n",
        "      metric    = \"Accuracy\",\n",
        "      trControl = trainControl(method = \"LOOCV\"))"
      ],
      "id": "f99bec7c-2433-4fa2-a579-e49289421905"
    },
    {
      "cell_type": "markdown",
      "metadata": {},
      "source": [
        "# Complementary Log-Log regression model\n",
        "\n",
        "### 補対数対数回帰モデル\n",
        "\n",
        "補対数対数回帰モデルを推定するためには,\n",
        "`glm(family=binomial(link='cloglog'))`を指定する."
      ],
      "id": "864c70c4-c54d-4f84-9177-91d2ae20cbb0"
    },
    {
      "cell_type": "code",
      "execution_count": null,
      "metadata": {},
      "outputs": [],
      "source": [
        "glm_cloglog <- glm(model2, \n",
        "                   data   = train3,\n",
        "                   family = binomial(link = 'cloglog'))\n",
        "summ(glm_cloglog)"
      ],
      "id": "f9fa5fed-b10b-4aee-8c27-127c67f6e5d8"
    },
    {
      "cell_type": "markdown",
      "metadata": {},
      "source": [
        "### 補対数対数モデルで推定された係数の図示\n",
        "\n",
        "推定された係数を図で確認するために, `coefplot::coefplot`を利用する."
      ],
      "id": "52f3c914-c440-4797-ab34-84d78d7649cf"
    },
    {
      "cell_type": "code",
      "execution_count": null,
      "metadata": {},
      "outputs": [],
      "source": [
        "coefplot(glm_cloglog, intercept = FALSE)"
      ],
      "id": "92bda8c4-a5ba-4a42-a6e1-fc00508a5c95"
    },
    {
      "cell_type": "markdown",
      "metadata": {},
      "source": [
        "### 補対数対数モデルの残差チェック\n",
        "\n",
        "残差をチェックするために`autoplot`を行う."
      ],
      "id": "f3293c43-d019-4c54-a6ff-93f8d504830c"
    },
    {
      "cell_type": "code",
      "execution_count": null,
      "metadata": {},
      "outputs": [],
      "source": [
        "autoplot(glm_cloglog)"
      ],
      "id": "f08ef0f5-9dca-4306-96d3-3035036e025e"
    },
    {
      "cell_type": "markdown",
      "metadata": {},
      "source": [
        "### 補対数対数モデルを用いた予測と的中率\n",
        "\n",
        "`predict`を用いてモデル上の(理論的な)生存確率を予測する.\n",
        "予測された結果が0.5より大きい場合は生存, 0.5以下であれば死亡とする.\n",
        "利用したデータを用いた予測の結果, 77.6%が的中した."
      ],
      "id": "041c5f17-f2ab-4f99-b399-1dd2511f269f"
    },
    {
      "cell_type": "code",
      "execution_count": null,
      "metadata": {},
      "outputs": [],
      "source": [
        "train3 |>\n",
        "  mutate(predict = predict(glm_cloglog, \n",
        "                           type = \"response\")) |> \n",
        "  mutate(survive = if_else(predict > 0.5, 1, 0)) |> \n",
        "  perform(Survived, survive)"
      ],
      "id": "67d3d4bb-54db-483f-b725-f0be1beee00c"
    },
    {
      "cell_type": "markdown",
      "metadata": {},
      "source": [
        "### LOOCVによる評価\n",
        "\n",
        "`caret`パッケージを利用してLOOCVによるモデルの評価を行う. 正解率は74.3%."
      ],
      "id": "bb800425-7c74-4cc7-aa11-afd8fc8402e1"
    },
    {
      "cell_type": "code",
      "execution_count": null,
      "metadata": {},
      "outputs": [],
      "source": [
        "train(data      = train3,\n",
        "      model2,\n",
        "      method    = \"glm\",\n",
        "      family    = binomial(link = \"cloglog\"),\n",
        "      metric    = \"Accuracy\",\n",
        "      trControl = trainControl(method = \"LOOCV\"))"
      ],
      "id": "0a2436e1-d816-4b44-a69c-4b86b3509ba6"
    },
    {
      "cell_type": "markdown",
      "metadata": {},
      "source": [
        "# Appendix\n",
        "\n",
        "### テストデータによる予測\n",
        "\n",
        "トレーニングデータで作成したモデルから, テストデータで予測する."
      ],
      "id": "150f6914-2ca1-4ea0-9d2f-32a9f8d70315"
    },
    {
      "cell_type": "code",
      "execution_count": null,
      "metadata": {},
      "outputs": [],
      "source": [
        "test <- titanic_test |> \n",
        "  replace_with_na_all(condition = ~.x %in% c(\"NA\", \"\")) |> \n",
        "  tidyr::drop_na() |> \n",
        "  mutate_at(vars(Pclass, Sex, Embarked), as.factor) |> \n",
        "  broom::augment(x            = glm_logit2,\n",
        "                 newdata      = _,\n",
        "                 type.predict = \"response\") |> \n",
        "  mutate(survive = if_else(.fitted > 0.5, 1, 0))"
      ],
      "id": "85971f43-df1a-4921-b858-4a3fb072308b"
    },
    {
      "cell_type": "markdown",
      "metadata": {},
      "source": [
        "### 多重代入法による欠測値の処理\n",
        "\n",
        "欠測値をバイアスをより少なく扱うためには, 多重代入法などを利用する.\n",
        "`mice`, `norm2`, `miceadds`パッケージを利用する."
      ],
      "id": "ceaf4e7b-03f7-4688-b31c-fd8e140cb83e"
    },
    {
      "cell_type": "code",
      "execution_count": null,
      "metadata": {},
      "outputs": [],
      "source": [
        "p_load(mice, norm2, miceadds)\n",
        "glm_logit_imp <- train |> \n",
        "  replace_with_na_all(condition = ~.x %in% c(\"NA\", \"\")) |> \n",
        "  mutate(across(c(Pclass, Sex, Embarked), \n",
        "                as.factor)) |> \n",
        "  select(Survived, Pclass, Sex, Age, SibSp, Parch, Fare, Embarked) |> \n",
        "  mice(m    = 100,\n",
        "       seed = 20191015,\n",
        "       meth = c(\"\", \"\", \"\", \"norm\", \"\", \"\", \"norm\", \"polyreg\")) |> \n",
        "  glm.mids(model2, \n",
        "           data   = _, \n",
        "           family = binomial(link = 'logit'))"
      ],
      "id": "b94d9565-449c-4734-963d-416e05587e2e"
    },
    {
      "cell_type": "markdown",
      "metadata": {},
      "source": [
        "### 多重代入法による結果の確認\n",
        "\n",
        "多重代入法の結果をpoolした上で確認する."
      ],
      "id": "1fc6f3f6-2019-4731-b401-9edc29860dc0"
    },
    {
      "cell_type": "code",
      "execution_count": null,
      "metadata": {},
      "outputs": [],
      "source": [
        "glm_logit_imp |> \n",
        "  pool() |> \n",
        "  summary()"
      ],
      "id": "3d89b420-ff00-4616-94fd-f49b3cf9d41f"
    },
    {
      "cell_type": "markdown",
      "metadata": {},
      "source": [
        "### 多重代入法(ロジスティック回帰モデル)を用いた予測と的中率\n",
        "\n",
        "利用したデータを用いた予測の結果, 79.3%が的中した."
      ],
      "id": "17581b8f-5866-4a86-b6cd-3c57e860bd43"
    },
    {
      "cell_type": "code",
      "execution_count": null,
      "metadata": {},
      "outputs": [],
      "source": [
        "pooled_lm <-  glm_logit_imp$analyses[[1]]\n",
        "pooled_lm$coefficients <-  summary(pool(glm_logit_imp))$estimate\n",
        "train |> \n",
        "  mutate(predict = predict(pooled_lm, type = \"response\")) |> \n",
        "  mutate(survive = if_else(predict > 0.5, 1, 0)) |> \n",
        "  perform(Survived, survive)"
      ],
      "id": "c5737470-1dd6-4cc6-a97b-b13cab5b39ec"
    },
    {
      "cell_type": "markdown",
      "metadata": {},
      "source": [
        "### テストデータを用いた多重代入法による予測\n",
        "\n",
        "正答率はkaggleにsubimitして確かめて見てください."
      ],
      "id": "dab77f77-bcf5-4a0b-9376-f89b34e6cfeb"
    },
    {
      "cell_type": "code",
      "execution_count": null,
      "metadata": {},
      "outputs": [],
      "source": [
        "test2 <- titanic_test |> \n",
        "  replace_with_na_all(condition = ~.x %in% c(\"NA\", \"\")) |> \n",
        "  mutate(across(c(Pclass, Sex, Embarked),\n",
        "                as.factor)) |> \n",
        "  select(Pclass, Sex, Age, SibSp, Parch, Fare, Embarked) |> \n",
        "  mice(m    = 100,\n",
        "       seed = 31415926,\n",
        "       meth = c(\"\", \"\", \"norm\", \"\", \"\", \"norm\", \"\")) |> \n",
        "  complete() %>%\n",
        "  mutate(predict = predict(pooled_lm,\n",
        "                           type    = \"response\", \n",
        "                           newdata = .)) |> \n",
        "  mutate(survive = if_else(predict > 0.5, 1, 0))"
      ],
      "id": "7cc57f06-be80-4729-825b-be5d8e85b6d5"
    }
  ],
  "nbformat": 4,
  "nbformat_minor": 5,
  "metadata": {
    "kernelspec": {
      "display_name": "Python 3",
      "language": "python",
      "name": "python3"
    }
  }
}