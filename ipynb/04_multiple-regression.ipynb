{
  "cells": [
    {
      "cell_type": "markdown",
      "metadata": {},
      "source": [
        "# 重回帰分析\n",
        "\n",
        "### データの読み込み\n",
        "\n",
        "『家計調査』2017年11月、第2−6表「年間収入階級別1世帯当たり1か月間の収入と支出」から作成した所得階級と支出のデータ`kakei201709_l18.csv`を用いる.\n",
        "\n",
        "月間消費支出(円)(`CONS`), 月間消費支出(1万円)(`CONS1`),\n",
        "年間収入(1万円)(INC), 有業人員(人)(`WORK`). いずれも調査世帯の平均値"
      ],
      "id": "d2bb3fde-b2e9-489f-a13f-5b329cb7f385"
    },
    {
      "cell_type": "code",
      "execution_count": null,
      "metadata": {},
      "outputs": [],
      "source": [
        "library(pacman)\n",
        "p_load(here)\n",
        "kakei <- readr::read_csv(here(\"data\", \"kakei201709_l18.csv\"))"
      ],
      "id": "ba1df3a4-c6cc-4071-a168-5a00bedc5eb8"
    },
    {
      "cell_type": "markdown",
      "metadata": {},
      "source": [
        "### ペアプロット\n",
        "\n",
        "いくつかの変数をまとめて散布図を描くには,\n",
        "`GGally`パッケージの`ggpairs()`関数が便利.\n",
        "右上(upper)にはピアソンの積率相関係数を示し,\n",
        "対角線(diag)には密度などを表してくれる."
      ],
      "id": "94ec964c-e0be-4adb-b1b2-86e9a559e4d8"
    },
    {
      "cell_type": "code",
      "execution_count": null,
      "metadata": {},
      "outputs": [],
      "source": [
        "p_load(GGally)\n",
        "ggpairs(kakei)"
      ],
      "id": "b0ce9d1c-a84b-4518-aa13-e5988d05b2dc"
    },
    {
      "cell_type": "markdown",
      "metadata": {},
      "source": [
        "### 最尤推定\n",
        "\n",
        "最尤推定法を利用するには, `glm()`関数を利用する.\n",
        "確率密度関数の分布族として正規分布(ガウス分布)を利用することを`family = \"gaussian\"`で宣言する.\n",
        "説明変数を増やして重回帰分析とするには, 説明変数を`+`でつなぐ.\n",
        "最小二乗法を行う`lm()`関数でも同じ."
      ],
      "id": "06b6d240-3e01-4a74-b0c1-f5fc7df50477"
    },
    {
      "cell_type": "code",
      "execution_count": null,
      "metadata": {},
      "outputs": [],
      "source": [
        "model1 <- glm(CONS1 ~ INC, \n",
        "              family = \"gaussian\", data = kakei)\n",
        "model2 <- glm(CONS1 ~ INC + WORK, \n",
        "              family = \"gaussian\", data = kakei)\n",
        "model3 <- glm(CONS1 ~ WORK, \n",
        "              family = \"gaussian\", data = kakei)"
      ],
      "id": "b9db86e9-29ad-474f-b400-b546d2df4437"
    },
    {
      "cell_type": "markdown",
      "metadata": {},
      "source": [
        "### 結果の表示\n",
        "\n",
        "`jtools`パッケージの`summ()`関数を利用して結果を確認する.\n",
        "最尤推定法は正規分布以外も利用できるため,\n",
        "より汎用的な$R^2$などが計算されるが, 今回は線形回帰分析であるため割愛.\n",
        "最終行に$\\hat{\\sigma}^2$も計算される."
      ],
      "id": "148187db-e43e-46ac-9532-0b8d8c9e9ce5"
    },
    {
      "cell_type": "code",
      "execution_count": null,
      "metadata": {},
      "outputs": [],
      "source": [
        "p_load(jtools)\n",
        "summ(model2)"
      ],
      "id": "42d6b5d8-d639-49c3-8f8b-e797c4ff4667"
    },
    {
      "cell_type": "markdown",
      "metadata": {},
      "source": [
        "### 標準回帰係数の算出\n",
        "\n",
        "標準回帰係数を算出するには,\n",
        "`scale = TRUE, transform.response = TRUE`を利用する."
      ],
      "id": "8a3a66c4-3186-4736-943b-26ed4ec2deb8"
    },
    {
      "cell_type": "code",
      "execution_count": null,
      "metadata": {},
      "outputs": [],
      "source": [
        "summ(model2, \n",
        "     scale              = TRUE, \n",
        "     transform.response = TRUE)"
      ],
      "id": "66136bef-a5ca-41bb-8a31-bd98548828f8"
    },
    {
      "cell_type": "markdown",
      "metadata": {},
      "source": [
        "### 複数の分析結果を並べる\n",
        "\n",
        "複数の分析結果を並べるのには`stargazer`は有用."
      ],
      "id": "4ba0428a-ab96-406c-b9cb-8ce640fab68f"
    },
    {
      "cell_type": "code",
      "execution_count": null,
      "metadata": {},
      "outputs": [],
      "source": [
        "p_load(stargazer)\n",
        "stargazer(model1, model2, model3,\n",
        "          type              = \"text\",\n",
        "          style             = \"all\", \n",
        "          ci                = TRUE,\n",
        "          star.cutoffs      = NA, \n",
        "          omit.table.layout = 'n',\n",
        "          align             = TRUE)"
      ],
      "id": "35633c93-a9f5-4238-b038-33e225087c54"
    },
    {
      "cell_type": "markdown",
      "metadata": {},
      "source": [
        "### AICによるモデル間の比較\n",
        "\n",
        "`AIC()`関数を用いて、モデル推定結果を比較できる."
      ],
      "id": "0f2e8aa7-470b-4ef2-885c-498ea8823a14"
    },
    {
      "cell_type": "code",
      "execution_count": null,
      "metadata": {},
      "outputs": [],
      "source": [
        "AIC(model1, model2, model3)"
      ],
      "id": "16c68db0-6356-4207-ba97-d547c1e85125"
    },
    {
      "cell_type": "markdown",
      "metadata": {},
      "source": [
        "### BICによるモデル間の比較\n",
        "\n",
        "`BIC()`関数を用いて、モデル推定結果を比較できる."
      ],
      "id": "9268d41b-cdcd-4a76-a5ef-e271f82473b1"
    },
    {
      "cell_type": "code",
      "execution_count": null,
      "metadata": {},
      "outputs": [],
      "source": [
        "BIC(model1, model2, model3)"
      ],
      "id": "140829bd-9884-45df-aefc-e7c4c05d1505"
    },
    {
      "cell_type": "markdown",
      "metadata": {},
      "source": [
        "## 結果の図示\n",
        "\n",
        "### 結果の図示\n",
        "\n",
        "回帰分析の結果は表だけでなく, グラフ化するとわかりやすい.\n",
        "結果のグラフ化には`coefplot`パッケージの`coefplot()`関数が便利."
      ],
      "id": "d65cba81-eb38-4835-bb42-5bdebfd051c4"
    },
    {
      "cell_type": "code",
      "execution_count": null,
      "metadata": {},
      "outputs": [],
      "source": [
        "p_load(coefplot)\n",
        "coefplot(model2)"
      ],
      "id": "930a5224-8bb8-4107-943e-5fd9cbdebe73"
    },
    {
      "cell_type": "markdown",
      "metadata": {},
      "source": [
        "### 結果の図示2\n",
        "\n",
        "定数項は基準が違うために一緒にプロットすると見づらい場合がある.\n",
        "`intercept = FALSE`を引数に入れれば定数項を表示しない."
      ],
      "id": "6ffe4c91-62d8-4943-9579-3c9f9b39a106"
    },
    {
      "cell_type": "code",
      "execution_count": null,
      "metadata": {},
      "outputs": [],
      "source": [
        "coefplot(model2,\n",
        "         intercept = FALSE)"
      ],
      "id": "9c27dfeb-4e5b-45ac-9198-45814c446ee8"
    },
    {
      "cell_type": "markdown",
      "metadata": {},
      "source": [
        "### 複数のモデルを比較\n",
        "\n",
        "複数のモデルをグラフを用いて比較するには,\n",
        "`coefplot`パッケージの`multiplot()`関数が便利."
      ],
      "id": "bfeb6cbb-49a3-40f1-a0b8-89c0ecb7bcc4"
    },
    {
      "cell_type": "code",
      "execution_count": null,
      "metadata": {},
      "outputs": [],
      "source": [
        "multiplot(model1, \n",
        "          model2, \n",
        "          model3)"
      ],
      "id": "ef429d60-b53d-491b-815f-e5400f95795b"
    },
    {
      "cell_type": "markdown",
      "metadata": {},
      "source": [
        "### 標準回帰係数のプロット\n",
        "\n",
        "標準回帰係数へは`arm`パッケージの`standardize(standardize.y = TRUE)`で変換できる."
      ],
      "id": "0ddcbda5-ec67-4349-9130-430b502be319"
    },
    {
      "cell_type": "code",
      "execution_count": null,
      "metadata": {},
      "outputs": [],
      "source": [
        "p_load(arm)\n",
        "coefplot::coefplot(\n",
        "  arm::standardize(model2,\n",
        "                   standardize.y = TRUE))"
      ],
      "id": "354edf1d-f964-4e4c-addb-e462ce504a86"
    },
    {
      "cell_type": "markdown",
      "metadata": {},
      "source": [
        "### 標準回帰係数のマルチプロット\n",
        "\n",
        "標準回帰係数へは`arm`パッケージの`standardize(standardize.y = TRUE)`で変換すれば,\n",
        "マルチプロットもできる."
      ],
      "id": "e3f8f5b0-8cef-42e9-a28a-6d1e482fe5a1"
    },
    {
      "cell_type": "code",
      "execution_count": null,
      "metadata": {},
      "outputs": [],
      "source": [
        "multiplot(\n",
        "  arm::standardize(model1,\n",
        "                   standardize.y = TRUE),\n",
        "  arm::standardize(model2,\n",
        "                   standardize.y = TRUE),\n",
        "  arm::standardize(model3,\n",
        "                   standardize.y = TRUE),\n",
        "  names = c(\"model1\", \"model2\", \"model3\"))"
      ],
      "id": "cebc3987-8e7d-420e-bf2d-228e954965f8"
    },
    {
      "cell_type": "markdown",
      "metadata": {},
      "source": [
        "### 予測値の算出\n",
        "\n",
        "`predict()`関数を利用して予測値を算出する."
      ],
      "id": "e926ce6a-ec04-4c92-8e33-b4cd5e3093ff"
    },
    {
      "cell_type": "code",
      "execution_count": null,
      "metadata": {},
      "outputs": [],
      "source": [
        "p_load(dplyr)\n",
        "pred1 <- predict(model1)\n",
        "pred2 <- predict(model2)\n",
        "pred3 <- predict(model3)"
      ],
      "id": "ee82e6dc-2fec-40fa-8d41-c967bcb30a9d"
    },
    {
      "cell_type": "markdown",
      "metadata": {},
      "source": [
        "### 予測値と実測値のプロット\n",
        "\n",
        "予測値と実測値のプロットを行う."
      ],
      "id": "d276c387-9fc3-4ca4-a84d-b53310ba2515"
    },
    {
      "cell_type": "code",
      "execution_count": null,
      "metadata": {},
      "outputs": [],
      "source": [
        "p_load(ggplot2)\n",
        "ggplot() +\n",
        "  aes(x = kakei$CONS1) +\n",
        "  geom_point(aes(y = pred1),\n",
        "             colour = \"blue\") +\n",
        "  geom_point(aes(y = pred2),\n",
        "             colour = \"red\") +\n",
        "  geom_point(aes(y = pred3),\n",
        "             colour = \"green\") +\n",
        "  geom_abline(slope     = 1, \n",
        "              intercept = 0)"
      ],
      "id": "b59e59ac-8f47-47e6-8ffa-1db4c16ccfba"
    },
    {
      "cell_type": "markdown",
      "metadata": {},
      "source": [
        "### 分散不均一の考慮\n",
        "\n",
        "Welchのt検定のように分散不均一を考慮する際には`estimatr`パッケージの`lm_robust()`関数を利用すると分散不均一を補正した標準誤差を計算できる."
      ],
      "id": "49d3efb4-20a3-4264-854e-87d379d06c5c"
    },
    {
      "cell_type": "code",
      "execution_count": null,
      "metadata": {},
      "outputs": [],
      "source": [
        "p_load(estimatr)\n",
        "lm_robust(CONS1 ~ INC + WORK, \n",
        "          data    = kakei,\n",
        "          se_type = \"HC3\") |> \n",
        "  summary()"
      ],
      "id": "5cf9c976-c2cf-4e79-83b6-874e4d2e941e"
    },
    {
      "cell_type": "markdown",
      "metadata": {},
      "source": [
        "分散不均一を補正した結果は`summ()`関数の中で`robust`の引数を指定することでも表示できる."
      ],
      "id": "e76811be-605c-43ee-bf26-8bc4d632e9cf"
    },
    {
      "cell_type": "code",
      "execution_count": null,
      "metadata": {},
      "outputs": [],
      "source": [
        "summ(model2, robust = \"HC3\")"
      ],
      "id": "14e29811-c12b-4744-9952-1e7859bd4f5d"
    },
    {
      "cell_type": "markdown",
      "metadata": {},
      "source": [
        "### LOOCVの計算\n",
        "\n",
        "`caret`パッケージを利用してLOOCVを求める."
      ],
      "id": "87e0754e-af25-4d44-bd98-57180a2801de"
    },
    {
      "cell_type": "code",
      "execution_count": null,
      "metadata": {},
      "outputs": [],
      "source": [
        "p_load(caret)\n",
        "LOOCV1 <- train(CONS1 ~ INC, \n",
        "                data      = kakei,\n",
        "                method    = \"lm\", \n",
        "                trControl = trainControl(method = \"LOOCV\"))\n",
        "LOOCV1"
      ],
      "id": "8ae0d802-8c08-4043-a400-77a39963c2ba"
    },
    {
      "cell_type": "code",
      "execution_count": null,
      "metadata": {},
      "outputs": [],
      "source": [
        "LOOCV2 <- train(CONS1 ~ INC + WORK, \n",
        "                data      = kakei,\n",
        "                method    = \"lm\", \n",
        "                trControl = trainControl(method = \"LOOCV\"))\n",
        "LOOCV2"
      ],
      "id": "9201411b-67a3-459b-a662-033aca248063"
    },
    {
      "cell_type": "code",
      "execution_count": null,
      "metadata": {},
      "outputs": [],
      "source": [
        "LOOCV3 <- train(CONS1 ~ WORK, \n",
        "                data      = kakei,\n",
        "                method    = \"lm\", \n",
        "                trControl = trainControl(method = \"LOOCV\"))\n",
        "LOOCV3"
      ],
      "id": "ff55e7ad-30f1-4c46-87ca-ef86db9ba1b9"
    },
    {
      "cell_type": "markdown",
      "metadata": {},
      "source": [
        "### 残差と予測値のプロット\n",
        "\n",
        "残差プロットをするためには,\n",
        "`ggfortify`パッケージと`autoplot()`関数を利用するのが便利. x軸が予測値,\n",
        "y軸が残差"
      ],
      "id": "5c92e082-4e44-4a90-a94f-fa5c7d91a57c"
    },
    {
      "cell_type": "code",
      "execution_count": null,
      "metadata": {},
      "outputs": [],
      "source": [
        "p_load(ggfortify)\n",
        "autoplot(model2, \n",
        "         which = 1, \n",
        "         ncol  = 1)"
      ],
      "id": "0e581783-eba1-496b-b684-d9920ff66804"
    },
    {
      "cell_type": "markdown",
      "metadata": {},
      "source": [
        "### 残差の平方根プロット\n",
        "\n",
        "残差の変動を確認するため, x軸が予測値,\n",
        "y軸が標準化した残差の絶対値の平和根の散布図を描く."
      ],
      "id": "94d612a8-6e49-4275-a35d-b0fdbdb1d8a7"
    },
    {
      "cell_type": "code",
      "execution_count": null,
      "metadata": {},
      "outputs": [],
      "source": [
        "autoplot(model2, \n",
        "         which = 3, \n",
        "         ncol  = 1)"
      ],
      "id": "d4399f6c-4da4-41cd-b21d-7b8c7539d4a8"
    },
    {
      "cell_type": "markdown",
      "metadata": {},
      "source": [
        "### 残差の正規Q-Qプロット\n",
        "\n",
        "残差の正規Q-Qプロットで直線状に標準化した残差が乗っているかチェックする."
      ],
      "id": "1e63900e-27b3-477f-94a3-4419cbf77f3c"
    },
    {
      "cell_type": "code",
      "execution_count": null,
      "metadata": {},
      "outputs": [],
      "source": [
        "autoplot(model2, \n",
        "         which = 2,\n",
        "         ncol  = 1)"
      ],
      "id": "9c0e8934-d1f5-44c9-b572-3926f4b8a903"
    },
    {
      "cell_type": "markdown",
      "metadata": {},
      "source": [
        "### 標準化残差とてこ比のプロット\n",
        "\n",
        "x軸にてこ比, y軸に標準化残差を描画する."
      ],
      "id": "d6b2d57d-4235-44ca-9bae-587ccbd9dee1"
    },
    {
      "cell_type": "code",
      "execution_count": null,
      "metadata": {},
      "outputs": [],
      "source": [
        "autoplot(model2,\n",
        "         which = 5,\n",
        "         ncol  = 1)"
      ],
      "id": "dc398249-f9ef-4988-ae28-18645afb896c"
    },
    {
      "cell_type": "markdown",
      "metadata": {},
      "source": [
        "### てこ比とCookの距離のプロット\n",
        "\n",
        "x軸にてこ比, y軸にCookの距離を設定し, 散布図を描く."
      ],
      "id": "5aeb7e40-6b6d-4661-9657-ee4942e7fb23"
    },
    {
      "cell_type": "code",
      "execution_count": null,
      "metadata": {},
      "outputs": [],
      "source": [
        "autoplot(model2, \n",
        "         which = 6, \n",
        "         ncol  = 1)"
      ],
      "id": "a473f019-b7dc-485a-8445-2177dcfcc585"
    },
    {
      "cell_type": "markdown",
      "metadata": {},
      "source": [
        "### 多重共線性のチェック\n",
        "\n",
        "多重共線性のチェックのため, VIFを計算する. VIFの計算には,\n",
        "`summ()`関数の引数で`vifs = TRUE`を追加する.\n",
        "VIFが10以下であれば問題ない. 2以下が理想だとする意見もある."
      ],
      "id": "d2eb8278-c903-44ce-8703-a8537b6228df"
    },
    {
      "cell_type": "code",
      "execution_count": null,
      "metadata": {},
      "outputs": [],
      "source": [
        "summ(model2, vifs = TRUE)"
      ],
      "id": "b3205f43-df5c-4b2d-902f-2032d3f1aeb1"
    }
  ],
  "nbformat": 4,
  "nbformat_minor": 5,
  "metadata": {
    "kernelspec": {
      "display_name": "Python 3",
      "language": "python",
      "name": "python3"
    }
  }
}