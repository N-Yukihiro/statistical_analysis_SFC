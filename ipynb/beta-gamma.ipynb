{
  "cells": [
    {
      "cell_type": "markdown",
      "metadata": {},
      "source": [
        "# ベータ回帰, ガンマ回帰, 指数-ガウス回帰\n",
        "\n",
        "# Beta Regression\n",
        "\n",
        "### ベータ回帰モデルで利用するデータ\n",
        "\n",
        "`betareg`パッケージの`GasolineYield`データを用いる.\n",
        "原油からガソリンが得られる割合(`yield`), 原油が全て気化した温度(華氏,\n",
        "`temp`), 重力や圧力,\n",
        "原油の10%が気化した温度から因子(`batch`)などが含まれる."
      ],
      "id": "5a418928-6be4-4982-afd2-837d24902473"
    },
    {
      "cell_type": "code",
      "execution_count": null,
      "metadata": {},
      "outputs": [],
      "source": [
        "library(pacman)\n",
        "p_load(betareg)\n",
        "data(\"GasolineYield\", package = \"betareg\")\n",
        "names(GasolineYield)"
      ],
      "id": "d85657bd-f19f-47f9-8e2f-22edea1d9adf"
    },
    {
      "cell_type": "markdown",
      "metadata": {},
      "source": [
        "### ベータ回帰モデルで利用するデータの要約統計量\n",
        "\n",
        "データの要約統計量を確認する."
      ],
      "id": "20e381e9-9ad9-4576-babe-6889c790b363"
    },
    {
      "cell_type": "code",
      "execution_count": null,
      "metadata": {},
      "outputs": [],
      "source": [
        "summary(GasolineYield)"
      ],
      "id": "74a62881-2a2f-4e0d-9a85-3c7eae236100"
    },
    {
      "cell_type": "markdown",
      "metadata": {},
      "source": [
        "### ベータ回帰モデルで利用するデータのヒストグラム\n",
        "\n",
        "`yield`の概要をヒストグラムを描画して確認する."
      ],
      "id": "afb0aecd-0c51-4dcb-89e4-6d5f7038a3da"
    },
    {
      "cell_type": "code",
      "execution_count": null,
      "metadata": {},
      "outputs": [],
      "source": [
        "p_load(ggplot2)\n",
        "ggplot(GasolineYield) +\n",
        "  aes(x = yield) +\n",
        "  geom_histogram()"
      ],
      "id": "10567539-7158-4c35-838e-49d1340159ab"
    },
    {
      "cell_type": "markdown",
      "metadata": {},
      "source": [
        "`temp`の概要をヒストグラムを描画して確認する."
      ],
      "id": "7c7b6845-12e4-42e0-b485-80f1696860e8"
    },
    {
      "cell_type": "code",
      "execution_count": null,
      "metadata": {},
      "outputs": [],
      "source": [
        "ggplot(GasolineYield) +\n",
        "  aes(x = temp) +\n",
        "  geom_histogram()"
      ],
      "id": "1ab2fad6-76d1-4c9f-ba97-99d2cd4c464c"
    },
    {
      "cell_type": "markdown",
      "metadata": {},
      "source": [
        "### ベータ回帰モデルで利用するデータの散布図\n",
        "\n",
        "変数間の関係をペアプロットで確認する."
      ],
      "id": "2bb0e3cc-23bc-4e04-b810-5e86c44eb2ee"
    },
    {
      "cell_type": "code",
      "execution_count": null,
      "metadata": {},
      "outputs": [],
      "source": [
        "p_load(GGally, dplyr)\n",
        "GasolineYield |> \n",
        "  dplyr::select(yield, \n",
        "                temp,\n",
        "                batch) |> \n",
        "  ggpairs()"
      ],
      "id": "4ad16740-15ea-4cc3-ae80-1c9b3b18be33"
    },
    {
      "cell_type": "markdown",
      "metadata": {},
      "source": [
        "### ベータ回帰モデルの推定\n",
        "\n",
        "ベータ回帰モデルを推定する.\n",
        "`betareg`パッケージの`betareg()`関数を用いる."
      ],
      "id": "d0ab3225-0e2c-4e2d-80e7-038b6af64f60"
    },
    {
      "cell_type": "code",
      "execution_count": null,
      "metadata": {},
      "outputs": [],
      "source": [
        "gs_beta <- betareg(yield ~ batch + temp,\n",
        "                   data = GasolineYield)"
      ],
      "id": "b80949bc-a1da-42de-83d7-ef6bd55082ed"
    },
    {
      "cell_type": "markdown",
      "metadata": {},
      "source": [
        "### ベータ回帰モデルの結果"
      ],
      "id": "ded66fa4-8dba-43c1-ba6f-21926764db0a"
    },
    {
      "cell_type": "code",
      "execution_count": null,
      "metadata": {},
      "outputs": [],
      "source": [
        "summary(gs_beta)"
      ],
      "id": "5fb6d823-6d05-4e60-bbbe-3e587bdb06d1"
    },
    {
      "cell_type": "markdown",
      "metadata": {},
      "source": [
        "### 推定結果の確認\n",
        "\n",
        "推定された結果を散布図上に表示して確認する."
      ],
      "id": "1102272d-b656-4b9a-863b-3dffd7eb30ea"
    },
    {
      "cell_type": "code",
      "execution_count": null,
      "metadata": {},
      "outputs": [],
      "source": [
        "GasolineYield |> \n",
        "  mutate(\n",
        "    predict = predict(gs_beta,\n",
        "                      type = \"response\")) |>\n",
        "  ggplot() +\n",
        "  aes(x = yield,\n",
        "      y = predict) +\n",
        "  geom_point() +\n",
        "  geom_abline(slope     = 1,\n",
        "              intercept = 0, \n",
        "              linetype  = \"dashed\")"
      ],
      "id": "3f398fe3-c59d-4add-8a8e-bec70dab7067"
    },
    {
      "cell_type": "markdown",
      "metadata": {},
      "source": [
        "### LOOCV\n",
        "\n",
        "ベータ回帰のLOOCVが`caret`パッケージに実装されていないので、自分で計算する."
      ],
      "id": "718a53a5-b7a0-44e6-9eb7-b279948f296d"
    },
    {
      "cell_type": "code",
      "execution_count": null,
      "metadata": {},
      "outputs": [],
      "source": [
        "p_load(tibble, dplyr)\n",
        "n <- nrow(GasolineYield); result <- tibble()\n",
        "for (i in 1:n){\n",
        "  data  <- GasolineYield[-i,]\n",
        "  reg   <- betareg(yield ~ temp + batch, data = data)\n",
        "  pred  <- predict(reg,  newdata = GasolineYield[i, ])\n",
        "  result[i, 1] <- GasolineYield[i, 1]\n",
        "  result[i, 2] <- pred\n",
        "}\n",
        "result |>\n",
        "  rename(obs = 1, pred = 2) |> \n",
        "  mutate(diff = obs - pred) |> \n",
        "  summarise(RMSE = diff^2 |> mean() |> sqrt(),\n",
        "            R2   = cor(obs, pred)^2,\n",
        "            MAE  = diff |> abs() |> mean())"
      ],
      "id": "42ada239-4593-4de4-a77e-9b58def15a05"
    },
    {
      "cell_type": "markdown",
      "metadata": {},
      "source": [
        "# Gamma Regression\n",
        "\n",
        "### ガンマ回帰モデルで利用するデータ\n",
        "\n",
        "`Zelig`パッケージの`coalition`データを利用する.\n",
        "ヨーロッパ(+カナダ)15カ国における連立政権の生存期間(`duration`)に関するデータ.\n",
        "議会における政党数の指標(`fract`)や内閣が議会で多数派を占めるのかを示すダミー変数(`numst2`)などが含まれる."
      ],
      "id": "656a858c-e99a-4ca5-a744-a0fb2c288386"
    },
    {
      "cell_type": "code",
      "execution_count": null,
      "metadata": {},
      "outputs": [],
      "source": [
        "p_load_gh(\"IQSS/Zelig\")\n",
        "data(coalition, package = \"Zelig\")\n",
        "names(coalition)"
      ],
      "id": "f5daf66f-59ec-4f20-a9ac-520b22374b76"
    },
    {
      "cell_type": "markdown",
      "metadata": {},
      "source": [
        "### ガンマ回帰モデルで利用するデータの要約統計量\n",
        "\n",
        "データの要約統計量を確認する."
      ],
      "id": "8dbf227c-aef4-47fb-90b4-b277ce51ed99"
    },
    {
      "cell_type": "code",
      "execution_count": null,
      "metadata": {},
      "outputs": [],
      "source": [
        "summary(coalition)"
      ],
      "id": "68f42850-9bb5-43e3-a052-c149afd83f36"
    },
    {
      "cell_type": "markdown",
      "metadata": {},
      "source": [
        "### ガンマ回帰モデルで利用するデータのヒストグラム\n",
        "\n",
        "`duration`の概要をヒストグラムを描画して確認する."
      ],
      "id": "329f162d-c807-4741-9506-73843b5096ec"
    },
    {
      "cell_type": "code",
      "execution_count": null,
      "metadata": {},
      "outputs": [],
      "source": [
        "ggplot(coalition) +\n",
        "  aes(x = duration,\n",
        "      y = after_stat(density)) +\n",
        "  geom_histogram() +\n",
        "  geom_density(fill  = \"lightblue\", \n",
        "               alpha = 0.5)"
      ],
      "id": "dec7d012-8736-45ef-a43a-c3b07b948745"
    },
    {
      "cell_type": "markdown",
      "metadata": {},
      "source": [
        "`fract`の概要をヒストグラムを描画して確認する."
      ],
      "id": "7561ca58-e466-4f0d-98b7-1e6faa546a91"
    },
    {
      "cell_type": "code",
      "execution_count": null,
      "metadata": {},
      "outputs": [],
      "source": [
        "ggplot(coalition) +\n",
        "  aes(x = fract,\n",
        "      y = after_stat(density)) +\n",
        "  geom_histogram() +\n",
        "  geom_density(fill  = \"lightblue\", \n",
        "               alpha = 0.5)"
      ],
      "id": "066887e2-bdad-4d79-95ec-ef1615b1a16f"
    },
    {
      "cell_type": "markdown",
      "metadata": {},
      "source": [
        "### ガンマ回帰モデルで利用するデータの散布図\n",
        "\n",
        "変数間の関係をペアプロットで確認する."
      ],
      "id": "faeb76c2-d94d-4f3c-9ae7-76acbc9e29cb"
    },
    {
      "cell_type": "code",
      "execution_count": null,
      "metadata": {},
      "outputs": [],
      "source": [
        "coalition |> \n",
        "  dplyr::select(duration,\n",
        "                fract, \n",
        "                numst2) |> \n",
        "  mutate(across(numst2,\n",
        "                as.factor)) |> \n",
        "  ggpairs()"
      ],
      "id": "46890ab6-be90-4f5b-839a-da011ff6c4d9"
    },
    {
      "cell_type": "markdown",
      "metadata": {},
      "source": [
        "### ガンマ回帰モデルの推定\n",
        "\n",
        "ガンマ回帰モデルを推定する."
      ],
      "id": "a86472e0-8c3d-4d21-8e95-c5510e0ba33c"
    },
    {
      "cell_type": "code",
      "execution_count": null,
      "metadata": {},
      "outputs": [],
      "source": [
        "coa_gam <- glm(duration ~ fract + numst2,\n",
        "               data   = coalition,\n",
        "               family = Gamma)"
      ],
      "id": "ff8bfc4f-5ff0-4317-9eb7-5acad0a3b87b"
    },
    {
      "cell_type": "markdown",
      "metadata": {},
      "source": [
        "### ガンマ回帰モデルの結果"
      ],
      "id": "244f24e5-314b-4d62-b966-cf8904e2a04e"
    },
    {
      "cell_type": "code",
      "execution_count": null,
      "metadata": {},
      "outputs": [],
      "source": [
        "summary(coa_gam)"
      ],
      "id": "066856a0-f37a-485b-905c-db9b8cccfcd3"
    },
    {
      "cell_type": "markdown",
      "metadata": {},
      "source": [
        "### 推定結果の確認\n",
        "\n",
        "推定された結果を散布図上に表示して確認する."
      ],
      "id": "295f0fc9-8ca8-456f-b45a-afc67f75b475"
    },
    {
      "cell_type": "code",
      "execution_count": null,
      "metadata": {},
      "outputs": [],
      "source": [
        "coalition |> \n",
        "  mutate(predict =predict(coa_gam,\n",
        "                          type = \"response\")) |> \n",
        "  ggplot() +\n",
        "  aes(x = duration,\n",
        "      y = predict) +\n",
        "  geom_point() +\n",
        "  geom_abline(slope     = 1, \n",
        "              intercept = 0, \n",
        "              linetype  = \"dashed\")"
      ],
      "id": "0f93678d-459a-45d8-9fa4-ec485cc578f2"
    },
    {
      "cell_type": "markdown",
      "metadata": {},
      "source": [
        "### 予測\n",
        "\n",
        "変数の影響がわかりづらいので予測値を計算する."
      ],
      "id": "55468d76-df72-4933-a88b-41731b32da24"
    },
    {
      "cell_type": "code",
      "execution_count": null,
      "metadata": {},
      "outputs": [],
      "source": [
        "p_load(tidyr)\n",
        "new_data <- expand_grid(fract = 350:870,\n",
        "                        numst2 = 0:1) %>%\n",
        "  mutate(pred = predict(coa_gam, \n",
        "                        newdata = .)) |> \n",
        "  mutate(across(numst2,\n",
        "                as.factor)) "
      ],
      "id": "f203364f-80bc-48f3-80b6-164e303acaab"
    },
    {
      "cell_type": "markdown",
      "metadata": {},
      "source": [
        "### 予測値のプロット"
      ],
      "id": "ef9d67ef-b15b-43d2-8861-0facb3837c71"
    },
    {
      "cell_type": "code",
      "execution_count": null,
      "metadata": {},
      "outputs": [],
      "source": [
        "ggplot(data = new_data) +\n",
        "  aes(x      = fract, \n",
        "      y      = pred,\n",
        "      colour = numst2) +\n",
        "  geom_line()"
      ],
      "id": "9a487d2b-7ada-4835-8d72-9cd8d82005bf"
    },
    {
      "cell_type": "markdown",
      "metadata": {},
      "source": [
        "# Ex-Gaussian Regression\n",
        "\n",
        "### 指数-ガウス分布\n",
        "\n",
        "指数-ガウス分布は指数分布とガウス(正規)分布の重なったような分布である.\n",
        "シミュレーションデータによって確認する."
      ],
      "id": "a201bb02-e8a1-43e3-adc8-35de4fdafb7a"
    },
    {
      "cell_type": "code",
      "execution_count": null,
      "metadata": {},
      "outputs": [],
      "source": [
        "p_load(gamlss, tidyr)\n",
        "df <- data.frame(\n",
        "  norm    = rnorm(1000, mean = 10, sd = 1),\n",
        "  exp     = rexp(1000,  rate = 0.5),\n",
        "  exGauss = rexGAUS(2000,\n",
        "                    mu    = 10,\n",
        "                    sigma = 1,\n",
        "                    nu    = 1 / 0.5)) |> \n",
        "  mutate(norm_exp = norm + exp) |>\n",
        "  tidyr::pivot_longer(cols      = everything(),\n",
        "                      names_to  = \"key\",\n",
        "                      values_to = \"value\") |>\n",
        "  transform(key = factor(key,\n",
        "                         levels = c(\"norm\", \"exp\",\n",
        "                                    \"norm_exp\",\"exGauss\")))"
      ],
      "id": "5503cce9-275e-4eaf-b13f-24146f81d6a1"
    },
    {
      "cell_type": "markdown",
      "metadata": {},
      "source": [
        "### 指数-ガウス分布のプロット"
      ],
      "id": "0a7da8c7-a2ed-4d29-b7db-9b69f512d968"
    },
    {
      "cell_type": "code",
      "execution_count": null,
      "metadata": {},
      "outputs": [],
      "source": [
        "ggplot(df) +\n",
        "  aes(value, fill = key) +\n",
        "  geom_histogram() +\n",
        "  facet_wrap(~key)"
      ],
      "id": "099110e6-1814-4857-a0bd-6bbc135de8e4"
    },
    {
      "cell_type": "markdown",
      "metadata": {},
      "source": [
        "### 指数-ガウス回帰モデルで利用するデータ\n",
        "\n",
        "`lme4`パッケージの`sleepstudy`データを利用する.\n",
        "睡眠時間を制限された被験者の反応速度(`Reaction`)."
      ],
      "id": "ccc0d9c6-9198-47c8-a7aa-63edb8359b0b"
    },
    {
      "cell_type": "code",
      "execution_count": null,
      "metadata": {},
      "outputs": [],
      "source": [
        "data(sleepstudy, package = \"lme4\")\n",
        "names(sleepstudy)"
      ],
      "id": "2b0ccb80-3d06-44da-b2f8-7fb2ae461b59"
    },
    {
      "cell_type": "markdown",
      "metadata": {},
      "source": [
        "### 指数-ガウス回帰モデルで利用するデータの要約統計量\n",
        "\n",
        "データの要約統計量を確認する."
      ],
      "id": "6a2043b2-a5dd-4ec8-be57-c143b057ad25"
    },
    {
      "cell_type": "code",
      "execution_count": null,
      "metadata": {},
      "outputs": [],
      "source": [
        "summary(sleepstudy)"
      ],
      "id": "de4cb670-0735-4ba4-bad9-0a679154668b"
    },
    {
      "cell_type": "markdown",
      "metadata": {},
      "source": [
        "### 指数-ガウス回帰モデルで利用するデータのヒストグラム\n",
        "\n",
        "`Reaction`の概要をヒストグラムを描画して確認する."
      ],
      "id": "2153222e-72ff-4332-865d-3f91e3f632c3"
    },
    {
      "cell_type": "code",
      "execution_count": null,
      "metadata": {},
      "outputs": [],
      "source": [
        "ggplot(sleepstudy) + \n",
        "  aes(x = Reaction,\n",
        "      y = after_stat(density)) +\n",
        "  geom_histogram() +\n",
        "  geom_density(fill  = \"lightblue\", \n",
        "               alpha = 0.5)"
      ],
      "id": "8d906a56-ca93-47ea-8f39-4cb51024efcb"
    },
    {
      "cell_type": "markdown",
      "metadata": {},
      "source": [
        "### 指数- ガウス回帰モデルで利用するデータの散布図\n",
        "\n",
        "変数間の関係を散布図で確認する."
      ],
      "id": "82b6fc43-f295-4648-a8b5-0e3d1c5db1c6"
    },
    {
      "cell_type": "code",
      "execution_count": null,
      "metadata": {},
      "outputs": [],
      "source": [
        "ggplot(sleepstudy) +\n",
        "  aes(x = Days,\n",
        "      y = Reaction) +\n",
        "  geom_point()"
      ],
      "id": "f9c804fb-e8ef-45c7-8b79-cb69cd8e6d5e"
    },
    {
      "cell_type": "markdown",
      "metadata": {},
      "source": [
        "### 指数-ガウス回帰モデルの推定\n",
        "\n",
        "指数-ガウス回帰モデルを推定する.\n",
        "`gamlss`パッケージの`gamlss()`関数を用いる."
      ],
      "id": "250a2290-a3ee-4e1a-9479-6402cc10d318"
    },
    {
      "cell_type": "code",
      "execution_count": null,
      "metadata": {},
      "outputs": [],
      "source": [
        "sleep_model <- gamlss(Reaction ~ Days,\n",
        "                      data      = sleepstudy,\n",
        "                      family    = exGAUS, \n",
        "                      mu.fix    = FALSE,\n",
        "                      sigma.fix = FALSE,\n",
        "                      nu.fix    = FALSE)"
      ],
      "id": "b73b37ac-241c-4cd0-b5d2-17be54af4dc3"
    },
    {
      "cell_type": "markdown",
      "metadata": {},
      "source": [
        "### 指数-ガウス回帰モデルの結果"
      ],
      "id": "d3501774-ca9c-4552-aca1-69b082843ea8"
    },
    {
      "cell_type": "code",
      "execution_count": null,
      "metadata": {},
      "outputs": [],
      "source": [
        "summary(sleep_model)"
      ],
      "id": "1b1f5904-e1fb-4a26-90d3-73dc3c5bada0"
    },
    {
      "cell_type": "markdown",
      "metadata": {},
      "source": [
        "### 推定結果の確認\n",
        "\n",
        "推定された結果を散布図上に表示して確認する."
      ],
      "id": "8e7fde17-be89-452b-8aab-f0bcb2432dc0"
    },
    {
      "cell_type": "code",
      "execution_count": null,
      "metadata": {},
      "outputs": [],
      "source": [
        "sleepstudy |> \n",
        "  mutate(\n",
        "    predict = predict(sleep_model,\n",
        "                      type = \"response\")) |> \n",
        "  ggplot(aes(Reaction, predict)) +\n",
        "  geom_point() +\n",
        "  geom_abline(slope     = 1,\n",
        "              intercept = 0, \n",
        "              linetype  = \"dashed\")"
      ],
      "id": "09f6d805-e71c-41c5-ab3b-cbbe4b7d193f"
    }
  ],
  "nbformat": 4,
  "nbformat_minor": 5,
  "metadata": {
    "kernelspec": {
      "display_name": "Python 3",
      "language": "python",
      "name": "python3"
    }
  }
}