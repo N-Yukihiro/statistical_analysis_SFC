{
  "cells": [
    {
      "cell_type": "markdown",
      "metadata": {},
      "source": [
        "# Rの導入と単回帰分析\n",
        "\n",
        "### Quarto\n",
        "\n",
        "`#`を使ったコメントよりも長い文章とともにコードを書きたい場合はQuartoファイルがおすすめ.\n",
        "皆さんが開いているこのファイルがQuartoファイルである.\n",
        "少し設定するだけで簡単にhtmlファイルやpdfファイルが作成できる.\n",
        "\n",
        "以下の範囲に書かれたコードがRのコードとして認識される.\n",
        "`{}`内を変更すればR以外の言語も実行できる."
      ],
      "id": "9db87366-ccdc-4fa4-b057-f4fdd9bb8ea6"
    },
    {
      "cell_type": "code",
      "execution_count": null,
      "metadata": {},
      "outputs": [],
      "source": [
        "# code"
      ],
      "id": "d8a91daa-ac87-4c8b-b567-0e856334047c"
    },
    {
      "cell_type": "markdown",
      "metadata": {},
      "source": [
        "右上の実行ボタンもしくは`ctrl + Enter`や`command + Enter`で実行できる.\n",
        "\n",
        "### 作業ディレクトリの指定\n",
        "\n",
        "現在の作業ディレクトリ(フォルダ)を確認するためには`getwd()`関数を利用する.\n",
        "プロジェクトからではなく, 直接R(Studio)を開いた場合,\n",
        "作業ディレクトリ(フォルダ)の指定が必要となる.\n",
        "作業ディレクトリを指定しない場合,\n",
        "Documentなどがデフォルトで指定されている場合が多い."
      ],
      "id": "e8d00027-7e84-48c5-9424-35fb5af17744"
    },
    {
      "cell_type": "code",
      "execution_count": null,
      "metadata": {},
      "outputs": [
        {
          "output_type": "stream",
          "name": "stdout",
          "text": [
            "[1] \"/cloud/project\""
          ]
        }
      ],
      "source": [
        "getwd()"
      ],
      "id": "5489c732-f0bc-4ea0-900c-75fc99c657e0"
    },
    {
      "cell_type": "markdown",
      "metadata": {},
      "source": [
        "任意のディレクトリを指定するためには, `setwd()`関数を利用する.\n",
        "ここでは移動するディレクトリがないので,\n",
        "#をつけてRを実行しないようにしている.\n",
        "パスの指定は相対パスでも絶対パスでもよい."
      ],
      "id": "9e08aded-1f25-41c8-af31-b38825285978"
    },
    {
      "cell_type": "code",
      "execution_count": null,
      "metadata": {},
      "outputs": [],
      "source": [
        "#setwd(\"ここにパスを打ち込む\")"
      ],
      "id": "43288638-6e24-41db-ae58-846d0cf26161"
    },
    {
      "cell_type": "markdown",
      "metadata": {},
      "source": [
        "### ディレクトリの内容を確認\n",
        "\n",
        "現在のディレクトリにきちんと新しいフォルダが作成できたか確認する.\n",
        "作業ディレクトリ内のファイルやフォルダを確認するには,\n",
        "`list.files()`関数を利用する."
      ],
      "id": "52710ab4-7e9b-4960-b7e2-38e796ae8467"
    },
    {
      "cell_type": "code",
      "execution_count": null,
      "metadata": {},
      "outputs": [
        {
          "output_type": "stream",
          "name": "stdout",
          "text": [
            " [1] \"02_simple_regression.qmd\"       \"02_simple_regression.rmarkdown\"\n",
            " [3] \"04_multiple-regression.qmd\"     \"05_binomial.qmd\"               \n",
            " [5] \"06_count-data.qmd\"              \"07_compare-model.qmd\"          \n",
            " [7] \"08_Hurdle-zero.qmd\"             \"09_beta-gamma.qmd\"             \n",
            " [9] \"10_ridge-lasso.qmd\"             \"11_multilevel.qmd\"             \n",
            "[11] \"12_state-space.qmd\"             \"13_data_wrangling.qmd\"         \n",
            "[13] \"14_estat.qmd\"                   \"data\"                          \n",
            "[15] \"ipynb\"                          \"project.Rproj\"                 \n",
            "[17] \"README.md\"                     "
          ]
        }
      ],
      "source": [
        "list.files()"
      ],
      "id": "60d0a2f4-54b4-4748-b74a-1892bd342553"
    },
    {
      "cell_type": "markdown",
      "metadata": {},
      "source": [
        "### パッケージのインストール\n",
        "\n",
        "パッケージのインストールをしてみる.\n",
        "CRANに登録されたパッケージをインストールするには,\n",
        "`install.packages()`関数を利用する."
      ],
      "id": "de9c95ab-5fb3-4a35-97f0-bebb0d723841"
    },
    {
      "cell_type": "code",
      "execution_count": null,
      "metadata": {},
      "outputs": [
        {
          "output_type": "stream",
          "name": "stderr",
          "text": [
            "Installing package into '/cloud/lib/x86_64-pc-linux-gnu-library/4.4'\n",
            "(as 'lib' is unspecified)"
          ]
        }
      ],
      "source": [
        "install.packages(\"dplyr\")"
      ],
      "id": "832f096f-e4f7-4560-9709-5cb55e529fd6"
    },
    {
      "cell_type": "markdown",
      "metadata": {},
      "source": [
        "### パッケージの利用\n",
        "\n",
        "インストールされたファイルなどは適当な場所に保存されるのでユーザーが操作する必要はない.\n",
        "インストールしたパッケージを利用するには,\n",
        "`library()関数`で利用するパッケージ名を指定し, パッケージを読み込む.\n",
        "この作業はセッションを再開する度に必要となる."
      ],
      "id": "302c1740-4e71-41a0-bbc0-09c316357a78"
    },
    {
      "cell_type": "code",
      "execution_count": null,
      "metadata": {},
      "outputs": [
        {
          "output_type": "stream",
          "name": "stderr",
          "text": [
            "\n",
            "Attaching package: 'dplyr'"
          ]
        },
        {
          "output_type": "stream",
          "name": "stderr",
          "text": [
            "The following objects are masked from 'package:stats':\n",
            "\n",
            "    filter, lag"
          ]
        },
        {
          "output_type": "stream",
          "name": "stderr",
          "text": [
            "The following objects are masked from 'package:base':\n",
            "\n",
            "    intersect, setdiff, setequal, union"
          ]
        }
      ],
      "source": [
        "library(dplyr)"
      ],
      "id": "66f2a90d-870e-4f20-8e71-f8d41751244e"
    },
    {
      "cell_type": "markdown",
      "metadata": {},
      "source": [
        "### `pacman`パッケージ\n",
        "\n",
        "パッケージ管理については`pacman`が便利.\n",
        "CRANに登録されているパッケージは`p_load()`関数を利用する.\n",
        "\n",
        "インストールされていなければパッケージをインストールの上読み込み,\n",
        "パッケージに更新があればアップデートの上で読み込み,\n",
        "特に何もなければ読み込みを行ってくれる.\n",
        "\n",
        "github上のパッケージは`p_load_gh()`関数を利用する."
      ],
      "id": "4c76cf17-6618-4f08-a4aa-2146dc9f3c8a"
    },
    {
      "cell_type": "code",
      "execution_count": null,
      "metadata": {},
      "outputs": [
        {
          "output_type": "stream",
          "name": "stderr",
          "text": [
            "Installing package into '/cloud/lib/x86_64-pc-linux-gnu-library/4.4'\n",
            "(as 'lib' is unspecified)"
          ]
        }
      ],
      "source": [
        "install.packages(\"pacman\")"
      ],
      "id": "7d83b1a7-e004-4ffd-be28-3c1685705d22"
    },
    {
      "cell_type": "markdown",
      "metadata": {},
      "source": [
        "### `here`パッケージ\n",
        "\n",
        "データの場所を指定するのに便利な`here`パッケージを利用してみる.\n",
        "`here`パッケージは,\n",
        "プロジェクト(`.Rproj`)を起点にデータがどこにあるのかOSに関わらず同様に記述できる.\n",
        "`here()`関数の引数として,\n",
        "フォルダ名とファイル名をそれぞれダブルクオーテーションで囲み,\n",
        "カンマで繋ぐ."
      ],
      "id": "d6985828-3e46-439d-8dfb-2b83f64c0385"
    },
    {
      "cell_type": "code",
      "execution_count": null,
      "metadata": {},
      "outputs": [
        {
          "output_type": "stream",
          "name": "stderr",
          "text": [
            "Installing package into '/cloud/lib/x86_64-pc-linux-gnu-library/4.4'\n",
            "(as 'lib' is unspecified)"
          ]
        },
        {
          "output_type": "stream",
          "name": "stderr",
          "text": [
            "also installing the dependency 'rprojroot'"
          ]
        },
        {
          "output_type": "stream",
          "name": "stderr",
          "text": [
            "\n",
            "here installed"
          ]
        },
        {
          "output_type": "stream",
          "name": "stdout",
          "text": [
            "[1] \"/cloud/project\""
          ]
        },
        {
          "output_type": "stream",
          "name": "stdout",
          "text": [
            "[1] \"/cloud/project/フォルダ名/ファイル名\""
          ]
        }
      ],
      "source": [
        "p_load(here)"
      ],
      "id": "7f52dc60-329c-484a-85a9-707b8db46962"
    },
    {
      "cell_type": "markdown",
      "metadata": {},
      "source": [
        "### HELPの利用\n",
        "\n",
        "パッケージや関数の利用についてわからないことがあればHELPを利用してみる.\n",
        "HELPの出し方は`?`を知りたい関数やパッケージ名の前につけるだけでよい.\n",
        "`?`を2個つける(`??`)と単語検索のように利用できる."
      ],
      "id": "fb423ec9-452c-4955-b0ab-621766a8abc6"
    },
    {
      "cell_type": "code",
      "execution_count": null,
      "metadata": {},
      "outputs": [],
      "source": [
        "?library\n",
        "?ggplot2\n",
        "??dplyr"
      ],
      "id": "70d5c5d3-e847-4de0-aeab-10ff4fbd8aa3"
    },
    {
      "cell_type": "markdown",
      "metadata": {},
      "source": [
        "### データの読み込み\n",
        "\n",
        "『家計調査』2017年11月、第2−6表「年間収入階級別1世帯当たり1か月間の収入と支出」から作成した所得階級と支出のデータ`kakei201709_l18.csv`を用いる.\n",
        "月間消費支出(円)(`CONS`), 月間消費支出(1万円)(`CONS1`),\n",
        "年間収入(1万円)(INC), 有業人員(人)(`WORK`). いずれも調査世帯の平均値."
      ],
      "id": "9ee73923-9a9a-4909-98e8-93ae9dd21cb2"
    },
    {
      "cell_type": "code",
      "execution_count": null,
      "metadata": {},
      "outputs": [
        {
          "output_type": "stream",
          "name": "stderr",
          "text": [
            "Rows: 18 Columns: 4\n",
            "── Column specification ────────────────────────────────────────────────────────\n",
            "Delimiter: \",\"\n",
            "dbl (4): CONS, CONS1, INC, WORK\n",
            "\n",
            "ℹ Use `spec()` to retrieve the full column specification for this data.\n",
            "ℹ Specify the column types or set `show_col_types = FALSE` to quiet this message."
          ]
        },
        {
          "output_type": "stream",
          "name": "stdout",
          "text": [
            "[1] \"CONS\"  \"CONS1\" \"INC\"   \"WORK\" "
          ]
        }
      ],
      "source": [
        "kakei <- readr::read_csv(here(\"data\", \"kakei201709_l18.csv\"))"
      ],
      "id": "07cff180-8951-4590-b342-8c186a88438a"
    },
    {
      "cell_type": "markdown",
      "metadata": {},
      "source": [
        "### データ構造の把握\n",
        "\n",
        "データを読み込んだらどのようなデータで構成されているのか確認を行う.\n",
        "`dplyr`パッケージの`glimpse`関数を利用する.\n",
        "`dplyr::glimpse`は`dplyr`パッケージの`glimpse`関数を利用することを明示的に示す記法であり,\n",
        "`library`すれば基本的には必要はない."
      ],
      "id": "7457956e-08b6-4266-8645-bc551cdcc721"
    },
    {
      "cell_type": "code",
      "execution_count": null,
      "metadata": {},
      "outputs": [
        {
          "output_type": "stream",
          "name": "stdout",
          "text": [
            "Rows: 18\n",
            "Columns: 4\n",
            "$ CONS  <dbl> 136729, 183383, 188091, 220990, 233309, 242098, 244986, 254604, …\n",
            "$ CONS1 <dbl> 13.6729, 18.3383, 18.8091, 22.0990, 23.3309, 24.2098, 24.4986, 2…\n",
            "$ INC   <dbl> 154, 226, 275, 322, 372, 422, 473, 521, 573, 622, 672, 720, 771,…\n",
            "$ WORK  <dbl> 0.49, 0.68, 0.59, 0.68, 0.85, 1.12, 1.31, 1.45, 1.50, 1.72, 1.70…"
          ]
        }
      ],
      "source": [
        "dplyr::glimpse(kakei)"
      ],
      "id": "cce9c55e-3edc-459c-9980-633c66f3b186"
    },
    {
      "cell_type": "markdown",
      "metadata": {},
      "source": [
        "### 記述統計の確認\n",
        "\n",
        "データ構造を確認したら, 次に記述統計を確認する. 記述統計を把握するには,\n",
        "`summary`を利用する."
      ],
      "id": "77312f43-1b4e-4d8f-9e32-67cf8c0c8ee0"
    },
    {
      "cell_type": "code",
      "execution_count": null,
      "metadata": {},
      "outputs": [
        {
          "output_type": "stream",
          "name": "stdout",
          "text": [
            "      CONS            CONS1            INC              WORK       \n",
            " Min.   :136729   Min.   :13.67   Min.   : 154.0   Min.   :0.4900  \n",
            " 1st Qu.:235506   1st Qu.:23.55   1st Qu.: 384.5   1st Qu.:0.9175  \n",
            " Median :281254   Median :28.13   Median : 597.5   Median :1.6000  \n",
            " Mean   :291127   Mean   :29.11   Mean   : 688.7   Mean   :1.4150  \n",
            " 3rd Qu.:316269   3rd Qu.:31.63   3rd Qu.: 825.0   3rd Qu.:1.8275  \n",
            " Max.   :551735   Max.   :55.17   Max.   :2034.0   Max.   :2.1400  "
          ]
        }
      ],
      "source": [
        "summary(kakei)"
      ],
      "id": "a1a903e4-a462-4be4-a353-e5cc31f9b0fe"
    },
    {
      "cell_type": "markdown",
      "metadata": {},
      "source": [
        "### ヒストグラムの描画\n",
        "\n",
        "記述統計を把握したら, ヒストグラムを描いてデータをグラフで確認する.\n",
        "`ggplot2`パッケージをの`geom_histogram()`関数を使ってヒストグラムを描く."
      ],
      "id": "5e4b50f2-4348-4563-8c35-be786fc5803c"
    },
    {
      "cell_type": "code",
      "execution_count": null,
      "metadata": {},
      "outputs": [
        {
          "output_type": "stream",
          "name": "stderr",
          "text": [
            "`stat_bin()` using `bins = 30`. Pick better value with `binwidth`."
          ]
        },
        {
          "output_type": "display_data",
          "metadata": {},
          "data": {
            "image/png": "[encoded data removed]"
          }
        }
      ],
      "source": [
        "ggplot(data = kakei) +\n",
        "  aes(x = CONS1) +\n",
        "  geom_histogram() +\n",
        "  xlab(\"Consumption (10,000 yen)\") +\n",
        "  ggtitle(\"Histogram\")"
      ],
      "id": "c75f5de7-6589-4cec-ac80-f2f97553804d"
    },
    {
      "cell_type": "markdown",
      "metadata": {},
      "source": [
        "### 散布図の描画\n",
        "\n",
        "2変数間の関係を把握するために散布図を描くには,\n",
        "`geom_point()`関数を利用する."
      ],
      "id": "3cf7773b-ed57-4e77-9cec-1c3d8ad2b56a"
    },
    {
      "cell_type": "code",
      "execution_count": null,
      "metadata": {},
      "outputs": [
        {
          "output_type": "display_data",
          "metadata": {},
          "data": {
            "image/png": "[encoded data removed]"
          }
        }
      ],
      "source": [
        "ggplot(data = kakei) +\n",
        "  aes(x = INC, \n",
        "      y = CONS1) +\n",
        "  geom_point() + \n",
        "  xlab(\"Income (10,000 yen)\") + \n",
        "  ylab(\"Consumption (10,000 yen)\") +\n",
        "  ggtitle(\"Scatter plot\")"
      ],
      "id": "ce3a956d-1951-406a-be03-25dfd9bc1a2c"
    },
    {
      "cell_type": "markdown",
      "metadata": {},
      "source": [
        "### 単回帰分析\n",
        "\n",
        "最小二乗法を用いて単回帰分析を行うためには, `lm()`関数を利用する.\n",
        "第1引数に分析のモデルを指定する. `~`の前に応答変数を,\n",
        "`~`の後に説明変数を指定する."
      ],
      "id": "f5165048-a128-4fa9-b228-bd272b0dc960"
    },
    {
      "cell_type": "code",
      "execution_count": null,
      "metadata": {},
      "outputs": [],
      "source": [
        "ols1 <- lm(CONS1 ~ INC, data = kakei)"
      ],
      "id": "0bbcb65b-7899-48a9-8b69-8867a52340f7"
    },
    {
      "cell_type": "markdown",
      "metadata": {},
      "source": [
        "### 結果の示し方\n",
        "\n",
        "`summary()`関数で結果を見るのが一般的だが,\n",
        "`jtools`パッケージの`summ()`関数や`stargazer`パッケージの`stargazer()`関数などを使うほうが良い.\n",
        "`jtools`パッケージは自分が結果を見るときに使うのがおすすめ.\n",
        "`stargazer`パッケージは結果をそのまま論文などに転載したいときにおすすめ."
      ],
      "id": "7e60aea1-b4f3-478f-a9b8-06dabddbb291"
    },
    {
      "cell_type": "code",
      "execution_count": null,
      "metadata": {},
      "outputs": [
        {
          "output_type": "stream",
          "name": "stdout",
          "text": [
            "MODEL INFO:\n",
            "Observations: 18\n",
            "Dependent Variable: CONS1\n",
            "Type: OLS linear regression \n",
            "\n",
            "MODEL FIT:\n",
            "F(1,16) = 584.11, p = 0.00\n",
            "R² = 0.97\n",
            "Adj. R² = 0.97 \n",
            "\n",
            "Standard errors:OLS\n",
            "------------------------------------------------\n",
            "                     Est.   S.E.   t val.      p\n",
            "----------------- ------- ------ -------- ------\n",
            "(Intercept)         14.35   0.73    19.71   0.00\n",
            "INC                  0.02   0.00    24.17   0.00\n",
            "------------------------------------------------"
          ]
        }
      ],
      "source": [
        "p_load(jtools)\n",
        "jtools::summ(ols1)"
      ],
      "id": "8441e992-1ee1-4384-b76f-56ef42fa3b6b"
    },
    {
      "cell_type": "markdown",
      "metadata": {},
      "source": [
        "### 回帰係数の95%信頼区間を表示\n",
        "\n",
        "回帰係数の95%信頼区間を表示するには, `summ(confint = TRUE)`を指定する."
      ],
      "id": "7369c465-a846-4d16-9a31-a0030a66356d"
    },
    {
      "cell_type": "code",
      "execution_count": null,
      "metadata": {},
      "outputs": [
        {
          "output_type": "stream",
          "name": "stdout",
          "text": [
            "MODEL INFO:\n",
            "Observations: 18\n",
            "Dependent Variable: CONS1\n",
            "Type: OLS linear regression \n",
            "\n",
            "MODEL FIT:\n",
            "F(1,16) = 584.11, p = 0.00\n",
            "R² = 0.97\n",
            "Adj. R² = 0.97 \n",
            "\n",
            "Standard errors:OLS\n",
            "---------------------------------------------------------\n",
            "                     Est.    2.5%   97.5%   t val.      p\n",
            "----------------- ------- ------- ------- -------- ------\n",
            "(Intercept)         14.35   12.81   15.89    19.71   0.00\n",
            "INC                  0.02    0.02    0.02    24.17   0.00\n",
            "---------------------------------------------------------"
          ]
        }
      ],
      "source": [
        "summ(ols1, confint = TRUE)"
      ],
      "id": "00c4bd86-fc6c-4b81-963d-bf201329e685"
    },
    {
      "cell_type": "markdown",
      "metadata": {},
      "source": [
        "### 結果を論文に掲載する\n",
        "\n",
        "結果を論文に掲載できるようにきれいに整形するには`stargazer`パッケージを利用するのが便利.\n",
        "様々な引数があるので, 使いこなすにはHELPを参照.\n",
        "`star.cutoffs = NA, omit.table.layout = \"n\"`は忘れない.\n",
        "分析がしたいのであって, 天体観測がしたいわけではないことに注意."
      ],
      "id": "11e6210a-6e15-4bf9-bd98-6c93298f22f0"
    },
    {
      "cell_type": "code",
      "execution_count": null,
      "metadata": {},
      "outputs": [
        {
          "output_type": "stream",
          "name": "stdout",
          "text": [
            "\n",
            "====================================================\n",
            "                          Dependent variable:       \n",
            "                    --------------------------------\n",
            "                                 CONS1              \n",
            "----------------------------------------------------\n",
            "INC                              0.021              \n",
            "                             (0.020, 0.023)         \n",
            "                               t = 24.168           \n",
            "                               p = 0.000            \n",
            "Constant                         14.350             \n",
            "                            (12.923, 15.777)        \n",
            "                               t = 19.713           \n",
            "                               p = 0.000            \n",
            "----------------------------------------------------\n",
            "Observations                       18               \n",
            "R2                               0.973              \n",
            "Adjusted R2                      0.972              \n",
            "Residual Std. Error         1.680 (df = 16)         \n",
            "F Statistic         584.114 (df = 1; 16) (p = 0.000)\n",
            "===================================================="
          ]
        }
      ],
      "source": [
        "p_load(stargazer)\n",
        "stargazer::stargazer(ols1,\n",
        "                     type              = \"text\",\n",
        "                     style             = \"all\", \n",
        "                     ci                = TRUE,\n",
        "                     star.cutoffs      = NA, \n",
        "                     omit.table.layout = 'n',\n",
        "                     align             = TRUE)"
      ],
      "id": "dc8976e0-8c85-42f8-a381-d4f604e56494"
    },
    {
      "cell_type": "markdown",
      "metadata": {},
      "source": [
        "### 散布図と回帰直線\n",
        "\n",
        "散布図に回帰直線を引きたい場合には, `geom_smooth()`関数を利用する."
      ],
      "id": "9ec0fba2-b553-42c9-84aa-dd9c38d835f4"
    },
    {
      "cell_type": "code",
      "execution_count": null,
      "metadata": {},
      "outputs": [
        {
          "output_type": "stream",
          "name": "stderr",
          "text": [
            "`geom_smooth()` using formula = 'y ~ x'"
          ]
        },
        {
          "output_type": "display_data",
          "metadata": {},
          "data": {
            "image/png": "[encoded data removed]"
          }
        }
      ],
      "source": [
        "ggplot(data = kakei) +\n",
        "  aes(x = INC,\n",
        "      y = CONS1) +\n",
        "  geom_point() +\n",
        "  geom_smooth(method = \"lm\", \n",
        "              se     = FALSE)"
      ],
      "id": "c5887900-6838-44c3-99ca-129894e29534"
    },
    {
      "cell_type": "markdown",
      "metadata": {},
      "source": [
        "### 予測(新しい説明変数のデータセットを作成)\n",
        "\n",
        "データを予測するため, まずは新しい説明変数のデータセットを作成する.\n",
        "データの列名は分析に利用したものと同じ名前, 同じ列数である必要性がある.\n",
        "簡単のため, 単回帰で行うが重回帰でも問題なく予測できる."
      ],
      "id": "ab10929a-ad01-49da-81b1-a32442d17236"
    },
    {
      "cell_type": "code",
      "execution_count": null,
      "metadata": {},
      "outputs": [],
      "source": [
        "new_dat <- data.frame(\n",
        "  INC = seq(from       = 50,\n",
        "            to         = 2050,\n",
        "            length.out = 20)\n",
        ")"
      ],
      "id": "8191431d-1c74-4003-868c-00c9e5524a04"
    },
    {
      "cell_type": "markdown",
      "metadata": {},
      "source": [
        "### 予測\n",
        "\n",
        "データを予測するためには, `predict()`関数を利用する.\n",
        "第1引数に回帰分析の結果のオブジェクト,\n",
        "`newdata`に新しい説明変数のデータフレーム, `interval`に求めたい区間,\n",
        "`level`に$100(1 - \\alpha)\\%$区間の値を指定する.\n",
        "`interval = \"confidence\"`で信頼区間が,\n",
        "`interval = \"prediction\"`で予測区間が求められる."
      ],
      "id": "d59ff86f-1ca0-41f8-84b5-5bad33808531"
    },
    {
      "cell_type": "code",
      "execution_count": null,
      "metadata": {},
      "outputs": [],
      "source": [
        "ci <- predict(ols1, \n",
        "              newdata  = new_dat, \n",
        "              interval = \"confidence\",\n",
        "              level    = 0.95)\n",
        "ci <- bind_cols(new_dat, ci)\n",
        "pred <- predict(ols1, \n",
        "                newdata  = new_dat, \n",
        "                interval = \"prediction\",\n",
        "                level    = 0.95)\n",
        "pred <- bind_cols(new_dat, pred)"
      ],
      "id": "2a38a1fd-6896-4f01-82b5-6c7dbc972759"
    },
    {
      "cell_type": "markdown",
      "metadata": {},
      "source": [
        "### 予測区間の図示\n",
        "\n",
        "データの散布図に予測区間を図示する."
      ],
      "id": "3d1b6163-7b89-4fbb-9eb9-5beed648b6a2"
    },
    {
      "cell_type": "code",
      "execution_count": null,
      "metadata": {},
      "outputs": [
        {
          "output_type": "stream",
          "name": "stderr",
          "text": [
            "`geom_smooth()` using formula = 'y ~ x'"
          ]
        },
        {
          "output_type": "display_data",
          "metadata": {},
          "data": {
            "image/png": "[encoded data removed]"
          }
        }
      ],
      "source": [
        "ggplot() +\n",
        "  aes(x = INC) +\n",
        "  geom_point(\n",
        "    data = kakei,\n",
        "    aes(y = CONS1)) +\n",
        "  geom_smooth(\n",
        "    data   = kakei,\n",
        "    aes(y = CONS1),\n",
        "    method = \"lm\",\n",
        "    se     = FALSE) +\n",
        "  geom_ribbon(\n",
        "    data     = pred,\n",
        "    aes(ymin = lwr,\n",
        "        ymax = upr),\n",
        "    fill     = \"lightblue\",\n",
        "    alpha    = 0.5)"
      ],
      "id": "92db67dc-6c28-4416-bc4f-28c79bb11c90"
    },
    {
      "cell_type": "markdown",
      "metadata": {},
      "source": [
        "### `geom_smooth()`と区間\n",
        "\n",
        "`geom_smooth()`関数を利用するとデフォルトでは回帰直線とともに,\n",
        "区間が表示されている. これは回帰直線の信頼区間."
      ],
      "id": "aa4b9ce6-c3eb-4506-835f-5f2d8d743f29"
    },
    {
      "cell_type": "code",
      "execution_count": null,
      "metadata": {},
      "outputs": [
        {
          "output_type": "stream",
          "name": "stderr",
          "text": [
            "`geom_smooth()` using formula = 'y ~ x'"
          ]
        },
        {
          "output_type": "display_data",
          "metadata": {},
          "data": {
            "image/png": "[encoded data removed]"
          }
        }
      ],
      "source": [
        "ggplot(data = kakei) +\n",
        "  aes(x = INC,\n",
        "      y = CONS1) +\n",
        "  geom_point() +\n",
        "  geom_smooth(\n",
        "    method = \"lm\"\n",
        "  )"
      ],
      "id": "307fd949-4a16-4430-a411-660ec878f022"
    },
    {
      "cell_type": "markdown",
      "metadata": {},
      "source": [
        "### 回帰直線の信頼区間\n",
        "\n",
        "`add_ci()`関数で推定した値と`geom_smooth(se = TRUE)`は一致する."
      ],
      "id": "9c937886-98de-40c8-814c-3f2f8a2b32e0"
    },
    {
      "cell_type": "code",
      "execution_count": null,
      "metadata": {},
      "outputs": [
        {
          "output_type": "stream",
          "name": "stderr",
          "text": [
            "`geom_smooth()` using formula = 'y ~ x'"
          ]
        },
        {
          "output_type": "display_data",
          "metadata": {},
          "data": {
            "image/png": "[encoded data removed]"
          }
        }
      ],
      "source": [
        "ggplot() +\n",
        "  aes(x = INC) +\n",
        "  geom_point(\n",
        "    data = kakei,\n",
        "    aes(y = CONS1)) +\n",
        "  geom_smooth(\n",
        "    data   = kakei,\n",
        "    aes(y = CONS1),\n",
        "    method = \"lm\",\n",
        "    se     = FALSE) +\n",
        "  geom_ribbon(\n",
        "    data     = ci,\n",
        "    aes(ymin = lwr,\n",
        "        ymax = upr),\n",
        "    fill     = \"lightblue\",\n",
        "    alpha    = 0.5)"
      ],
      "id": "6e0dff5f-c1e3-4148-abf6-a36e90f4e4c5"
    }
  ],
  "nbformat": 4,
  "nbformat_minor": 5,
  "metadata": {
    "kernelspec": {
      "display_name": "Python 3",
      "language": "python",
      "name": "python3"
    }
  }
}