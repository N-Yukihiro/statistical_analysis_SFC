{
  "cells": [
    {
      "cell_type": "markdown",
      "metadata": {},
      "source": [
        "# マルチレベルモデル\n",
        "\n",
        "### 今日使うデータ\n",
        "\n",
        "首都圏の市町村別住宅地地価のデータを用いる.\n",
        "[ここ](http://web.sfc.keio.ac.jp/~maunz/BS19/data/lph.csv)\n",
        "からダウンロードする. LPH(住宅地地価(万円 / $m^2$),\n",
        "POPD(常住人口密度(千人 / $km^2$)), EMP3D(第三次産業従業人口(千人 /\n",
        "$km^2$)), AREA(都県名)などから成る."
      ],
      "id": "a9355d2b-dd8b-4273-8e73-f57da113d52c"
    },
    {
      "cell_type": "code",
      "execution_count": null,
      "metadata": {},
      "outputs": [],
      "source": [
        "library(pacman)\n",
        "p_load(here, readr)\n",
        "lph <- readr::read_csv(here(\"data\", \"lph.csv\"))"
      ],
      "id": "8502e6e9-81c0-440a-8758-9be2630c78ce"
    },
    {
      "cell_type": "markdown",
      "metadata": {},
      "source": [
        "### データ構造\n",
        "\n",
        "データ構造を確認する."
      ],
      "id": "7594bca6-aa89-433f-a919-f15f24325aa6"
    },
    {
      "cell_type": "code",
      "execution_count": null,
      "metadata": {},
      "outputs": [],
      "source": [
        "p_load(dplyr)\n",
        "glimpse(lph)"
      ],
      "id": "54071d87-9a3c-4d7e-9213-e2fe1412d7fd"
    },
    {
      "cell_type": "markdown",
      "metadata": {},
      "source": [
        "### 記述統計\n",
        "\n",
        "記述統計を確認する."
      ],
      "id": "0b4bdf10-9b1b-4e2d-afe9-63ef75ba342c"
    },
    {
      "cell_type": "code",
      "execution_count": null,
      "metadata": {},
      "outputs": [],
      "source": [
        "summary(lph)"
      ],
      "id": "f563de47-d0ba-4ceb-ace1-d1160c816b56"
    },
    {
      "cell_type": "markdown",
      "metadata": {},
      "source": [
        "### ヒストグラム\n",
        "\n",
        "データの概要をヒストグラムを描画して確認する."
      ],
      "id": "84115d6a-fe97-4b28-85dc-1aece7d1e346"
    },
    {
      "cell_type": "code",
      "execution_count": null,
      "metadata": {},
      "outputs": [],
      "source": [
        "p_load(ggplot2)\n",
        "ggplot(lph) +\n",
        "  aes(x = LPH) +\n",
        "  geom_histogram()"
      ],
      "id": "095b064c-a5db-4698-ae67-c71b8685f007"
    },
    {
      "cell_type": "markdown",
      "metadata": {},
      "source": [
        "### 散布図\n",
        "\n",
        "変数間の関係をペアプロットで確認する."
      ],
      "id": "eb764159-43fc-4a26-bcba-d30f5ad77d13"
    },
    {
      "cell_type": "code",
      "execution_count": null,
      "metadata": {},
      "outputs": [],
      "source": [
        "p_load(GGally)\n",
        "lph |> \n",
        "  select(LPH, POPD, EMP3D) |> \n",
        "  ggpairs()"
      ],
      "id": "cd17ef48-0cbd-4e66-89c1-8a5d6f7bd0a9"
    },
    {
      "cell_type": "markdown",
      "metadata": {},
      "source": [
        "### 地域ごとの散布図\n",
        "\n",
        "地域ごとに散布図と回帰直線を描く."
      ],
      "id": "273bcc06-bb4e-4073-9aba-b8995a6c30e7"
    },
    {
      "cell_type": "code",
      "execution_count": null,
      "metadata": {},
      "outputs": [],
      "source": [
        "lph |> \n",
        "  ggplot() +\n",
        "  aes(x      = EMP3D,\n",
        "      y      = LPH,\n",
        "      colour = AREA) +\n",
        "  geom_point() +\n",
        "  geom_smooth(method = \"lm\", \n",
        "              se     = FALSE)"
      ],
      "id": "40b0e307-b0b2-4672-a83d-dec2e4d6d327"
    },
    {
      "cell_type": "markdown",
      "metadata": {},
      "source": [
        "###"
      ],
      "id": "d77006c7-eb25-4928-84ec-081348fc6db8"
    },
    {
      "cell_type": "code",
      "execution_count": null,
      "metadata": {},
      "outputs": [],
      "source": [
        "lph |> \n",
        "  ggplot() +\n",
        "  aes(x = EMP3D,\n",
        "      y = LPH) +\n",
        "  geom_point() +\n",
        "  geom_smooth(method = \"lm\") +\n",
        "  facet_wrap(~AREA, \n",
        "             scales = \"free\")"
      ],
      "id": "500375e4-d1b0-4377-a84e-dbae9dcf8ca2"
    },
    {
      "cell_type": "markdown",
      "metadata": {},
      "source": [
        "# Linear Model\n",
        "\n",
        "### 線形回帰による推計\n",
        "\n",
        "まずは, 最小二乗法によって線形回帰を行う."
      ],
      "id": "41f9da39-116d-40b8-b8b6-e55e37448eb4"
    },
    {
      "cell_type": "code",
      "execution_count": null,
      "metadata": {},
      "outputs": [],
      "source": [
        "lph_lm1 <- lm(LPH ~ POPD + EMP3D, \n",
        "              data = lph)\n",
        "lph_lm2 <- lm(LPH ~ POPD, \n",
        "              data = lph)\n",
        "lph_lm3 <- lm(LPH ~ EMP3D,\n",
        "              data = lph)"
      ],
      "id": "2991d0a6-b1f0-4745-ad0c-0541dd0c7c4a"
    },
    {
      "cell_type": "markdown",
      "metadata": {},
      "source": [
        "### 結果の確認\n",
        "\n",
        "`stargazer::stargazer()`関数を利用して3つのモデルを比較する."
      ],
      "id": "8c37cb8f-3539-4ca1-9253-cac3ad575bd0"
    },
    {
      "cell_type": "code",
      "execution_count": null,
      "metadata": {},
      "outputs": [],
      "source": [
        "p_load(stargazer)\n",
        "stargazer(lph_lm1, lph_lm2, lph_lm3,\n",
        "          type              = \"text\",\n",
        "          style             = \"all\",\n",
        "          star.cutoffs      = NA,\n",
        "          omit.table.layout = 'n',\n",
        "          ci                = TRUE,\n",
        "          align             = TRUE)"
      ],
      "id": "5f5fc0c9-533b-4756-bb20-0ee15c505124"
    },
    {
      "cell_type": "markdown",
      "metadata": {},
      "source": [
        "### 回帰係数の図示\n",
        "\n",
        "`coefplot::coefplot()`関数を利用して回帰係数を図示する."
      ],
      "id": "c094a97e-08f7-42e7-8e8b-807bd34bbf44"
    },
    {
      "cell_type": "code",
      "execution_count": null,
      "metadata": {},
      "outputs": [],
      "source": [
        "p_load(coefplot)\n",
        "coefplot::coefplot(lph_lm1,\n",
        "                   lph_lm2,\n",
        "                   lph_lm3)"
      ],
      "id": "38dd5cf1-015e-4e6c-baa0-20b4c2fd65be"
    },
    {
      "cell_type": "markdown",
      "metadata": {},
      "source": [
        "### ANOVAによるモデル比較\n",
        "\n",
        "ANOVAによってモデルを比較する."
      ],
      "id": "668c139d-823b-4b5b-99ea-cad24fbe3868"
    },
    {
      "cell_type": "code",
      "execution_count": null,
      "metadata": {},
      "outputs": [],
      "source": [
        "anova(lph_lm1, lph_lm2, lph_lm3)"
      ],
      "id": "0bde890d-bc38-4b8b-bfb3-30ea978ffff2"
    },
    {
      "cell_type": "markdown",
      "metadata": {},
      "source": [
        "### AICによるモデル比較\n",
        "\n",
        "AICによってモデルを比較する."
      ],
      "id": "52a69416-2be2-4841-8944-28cb7035abae"
    },
    {
      "cell_type": "code",
      "execution_count": null,
      "metadata": {},
      "outputs": [],
      "source": [
        "AIC(lph_lm1, lph_lm2, lph_lm3)"
      ],
      "id": "58a4b373-68b2-47d3-9aed-df65f4364a47"
    },
    {
      "cell_type": "markdown",
      "metadata": {},
      "source": [
        "### BICによるモデル比較\n",
        "\n",
        "BICによってモデルを比較する."
      ],
      "id": "71461567-aa79-4d2e-abac-df1b5cb4d20d"
    },
    {
      "cell_type": "code",
      "execution_count": null,
      "metadata": {},
      "outputs": [],
      "source": [
        "BIC(lph_lm1, lph_lm2, lph_lm3)"
      ],
      "id": "f5d205f3-43ce-43af-9fce-9dcdb7704e58"
    },
    {
      "cell_type": "markdown",
      "metadata": {},
      "source": [
        "### モデル1の予測精度を図示\n",
        "\n",
        "推定された結果を散布図上に表示して確認する."
      ],
      "id": "a6e51919-94bc-4fec-8199-2e4bf7c03b85"
    },
    {
      "cell_type": "code",
      "execution_count": null,
      "metadata": {},
      "outputs": [],
      "source": [
        "lph |> \n",
        "  mutate(\n",
        "    predict = predict(lph_lm1,\n",
        "                      type = \"response\")) |> \n",
        "  ggplot() +\n",
        "  aes(x = LPH,\n",
        "      y = predict) +\n",
        "  geom_point() +\n",
        "  geom_abline(slope     = 1, \n",
        "              intercept = 0, \n",
        "              linetype  = \"dashed\")"
      ],
      "id": "2c520199-b4aa-4803-b841-888be26704ab"
    },
    {
      "cell_type": "markdown",
      "metadata": {},
      "source": [
        "### マルチレベルモデルにより近づけた線形回帰モデル\n",
        "\n",
        "地域ごとに異なる切片,\n",
        "異なる回帰係数を求めるには交互作用項を利用しても良い.\n",
        "交互作用項を利用するには, 変数を`+`ではなく`*`でつなぐ.\n",
        "一般的に連続変数は平均が0になるように中心化する.\n",
        "地域ごとの係数は算出できるが, その平均や分散はわからない.\n",
        "等分散性の仮定は外れない."
      ],
      "id": "eb8b37b1-60d8-4caa-8d9e-ec1d0ee09ed7"
    },
    {
      "cell_type": "code",
      "execution_count": null,
      "metadata": {},
      "outputs": [],
      "source": [
        "lph_c <- lph |> \n",
        "  mutate(POPD_c  = POPD  - mean(POPD),\n",
        "         EMP3D_c = EMP3D - mean(EMP3D))\n",
        "lph_inter <- lm(LPH ~ AREA * POPD_c + AREA * EMP3D_c,\n",
        "                data = lph_c)\n",
        "p_load(jtools)\n",
        "summ(lph_inter)"
      ],
      "id": "b365e76f-bd01-4682-b8f4-fd6cbe3e1de7"
    },
    {
      "cell_type": "markdown",
      "metadata": {},
      "source": [
        "### 交互作用項を利用したモデルの予測精度を図示\n",
        "\n",
        "推定された結果を散布図上に表示して確認する."
      ],
      "id": "ba7d9eec-7b46-4953-9b4f-c70cd4348d5e"
    },
    {
      "cell_type": "code",
      "execution_count": null,
      "metadata": {},
      "outputs": [],
      "source": [
        "lph |> \n",
        "  mutate(\n",
        "    predict = predict(lph_inter,\n",
        "                      type = \"response\")) |> \n",
        "  ggplot() +\n",
        "  aes(x = LPH,\n",
        "      y = predict) +\n",
        "  geom_point() +\n",
        "  geom_abline(slope     = 1, \n",
        "              intercept = 0, \n",
        "              linetype  = \"dashed\")"
      ],
      "id": "8a86f20f-f462-444f-9303-a93ecefcd087"
    },
    {
      "cell_type": "markdown",
      "metadata": {},
      "source": [
        "# Multi-Level Model\n",
        "\n",
        "### マルチレベルモデル\n",
        "\n",
        "マルチレベルモデルを実行するには`lmer()`関数を利用する.\n",
        "`lme4`パッケージにも含まれるが、　`lmerTest`パッケージの`lmer`を利用すると検定まで行ってくれる.\n",
        "\n",
        "通常の説明変数に追加すると固定効果を,\n",
        "`(variables | Groups)`に追加するとランダム効果を推定する.\n",
        "`1`は切片を表す.\n",
        "ここでは、都県(及び政令市)毎にランダムなモデルを推定する.\n",
        "マルチレベルの種類は主に以下3つ.\n",
        "\n",
        "1.  傾きが固定で切片がランダムなモデル\n",
        "2.  傾きがランダムで切片が固定されたモデル\n",
        "3.  傾きと切片がランダムなモデル\n",
        "\n",
        "### 傾きが固定で切片がランダムなモデル\n",
        "\n",
        "傾きが固定で切片がランダムなモデルを推定するには,\n",
        "説明変数に`(1 | Group)`を追加する. 説明変数に`-1`を追加しないと,\n",
        "切片の平均が0となる."
      ],
      "id": "6124d980-155d-4bd5-af98-a68ac9b1552a"
    },
    {
      "cell_type": "code",
      "execution_count": null,
      "metadata": {},
      "outputs": [],
      "source": [
        "p_load(lmerTest)\n",
        "lph_lme1_1 <- lmer(LPH ~ POPD + EMP3D \n",
        "                         + (1 | AREA),\n",
        "                   data = lph)\n",
        "lph_lme1_2 <- lmer(LPH ~ -1 + POPD + EMP3D \n",
        "                         + (1 | AREA),\n",
        "                   data = lph)"
      ],
      "id": "34a2ea69-0f14-4e75-bdd4-37dea78a8711"
    },
    {
      "cell_type": "markdown",
      "metadata": {},
      "source": [
        "###"
      ],
      "id": "a2b2d614-4936-4ab6-b85d-a74c9eec9afe"
    },
    {
      "cell_type": "code",
      "execution_count": null,
      "metadata": {},
      "outputs": [],
      "source": [
        "p_load(jtools)\n",
        "summ(lph_lme1_1)"
      ],
      "id": "ef3cf6c9-cd8a-439a-affd-2915e85caa04"
    },
    {
      "cell_type": "markdown",
      "metadata": {},
      "source": [
        "###"
      ],
      "id": "a2654b9f-3385-4829-93a7-1191ae2101da"
    },
    {
      "cell_type": "code",
      "execution_count": null,
      "metadata": {},
      "outputs": [],
      "source": [
        "ranef(lph_lme1_1)"
      ],
      "id": "5c666651-640b-4344-bc78-e6f8fdd5a20e"
    },
    {
      "cell_type": "code",
      "execution_count": null,
      "metadata": {},
      "outputs": [],
      "source": [
        "p_load(magrittr)\n",
        "ranef(lph_lme1_1)$AREA |>\n",
        "  summary"
      ],
      "id": "c6debedb-2389-41e3-a7d5-79d428b608d9"
    },
    {
      "cell_type": "markdown",
      "metadata": {},
      "source": [
        "###"
      ],
      "id": "417b6e68-e463-4d40-8e35-1252a29aaae1"
    },
    {
      "cell_type": "code",
      "execution_count": null,
      "metadata": {},
      "outputs": [],
      "source": [
        "jtools::summ(lph_lme1_2)"
      ],
      "id": "8bfc1764-a450-4f30-8c10-0fedf0d165f3"
    },
    {
      "cell_type": "markdown",
      "metadata": {},
      "source": [
        "###"
      ],
      "id": "af5e2c12-50ba-483e-a791-900a197b56d2"
    },
    {
      "cell_type": "code",
      "execution_count": null,
      "metadata": {},
      "outputs": [],
      "source": [
        "ranef(lph_lme1_2)"
      ],
      "id": "b757cf73-9986-4f0f-afe4-ef32c32ed37d"
    },
    {
      "cell_type": "markdown",
      "metadata": {},
      "source": [
        "### 傾きがランダムで切片が固定されたモデル\n",
        "\n",
        "傾きがランダムで切片が固定されたモデルを推定するには,\n",
        "説明変数に`(-1 + variables | Group)`を追加する.\n",
        "固定効果とランダム効果の双方を推定するとランダム効果は平均が0となる."
      ],
      "id": "44bae204-1c35-4ff2-a180-16c3ba996449"
    },
    {
      "cell_type": "code",
      "execution_count": null,
      "metadata": {},
      "outputs": [],
      "source": [
        "lph_lme2_1 <- lmer(LPH ~ (-1 + POPD + EMP3D | AREA),\n",
        "                   data = lph)\n",
        "lph_lme2_2 <- lmer(LPH ~ POPD + EMP3D \n",
        "                         + (-1 + POPD + EMP3D | AREA),\n",
        "                   data = lph)"
      ],
      "id": "0d1cf9ff-1d93-45a5-9a25-1bd1d95474be"
    },
    {
      "cell_type": "markdown",
      "metadata": {},
      "source": [
        "###"
      ],
      "id": "9dddb74d-fa64-4379-8fab-0c6ccaf6cded"
    },
    {
      "cell_type": "code",
      "execution_count": null,
      "metadata": {},
      "outputs": [],
      "source": [
        "jtools::summ(lph_lme2_1)"
      ],
      "id": "53496432-e60f-4a0a-9c81-0df607e871a6"
    },
    {
      "cell_type": "markdown",
      "metadata": {},
      "source": [
        "###"
      ],
      "id": "5d698ad7-3476-4b08-80a0-fa074652f919"
    },
    {
      "cell_type": "code",
      "execution_count": null,
      "metadata": {},
      "outputs": [],
      "source": [
        "ranef(lph_lme2_1)"
      ],
      "id": "2c3e3a32-6514-40ce-8315-1e37d70589bc"
    },
    {
      "cell_type": "markdown",
      "metadata": {},
      "source": [
        "###"
      ],
      "id": "a946d622-1322-4120-b7f3-44281e2607d8"
    },
    {
      "cell_type": "code",
      "execution_count": null,
      "metadata": {},
      "outputs": [],
      "source": [
        "ranef(lph_lme2_1)$AREA |>\n",
        "  summary"
      ],
      "id": "b5c0167b-897c-4301-b72d-f02666c85468"
    },
    {
      "cell_type": "markdown",
      "metadata": {},
      "source": [
        "###"
      ],
      "id": "fcdab85c-3ea3-4ae4-b5d2-682da55d4f87"
    },
    {
      "cell_type": "code",
      "execution_count": null,
      "metadata": {},
      "outputs": [],
      "source": [
        "jtools::summ(lph_lme2_2)"
      ],
      "id": "22717997-879f-42ee-a33c-8f50c119fbb0"
    },
    {
      "cell_type": "markdown",
      "metadata": {},
      "source": [
        "###"
      ],
      "id": "5ce1bc73-84d2-44d9-b6c1-7b9024be6df7"
    },
    {
      "cell_type": "code",
      "execution_count": null,
      "metadata": {},
      "outputs": [],
      "source": [
        "ranef(lph_lme2_2)"
      ],
      "id": "5bb8e782-c7ce-4a8f-a391-667b906b4840"
    },
    {
      "cell_type": "markdown",
      "metadata": {},
      "source": [
        "### 傾きと切片がランダムなモデル\n",
        "\n",
        "傾きと切片がランダムなモデルを推定するには,\n",
        "説明変数に`(variables | Group)`を追加する.\n",
        "固定効果とランダム効果の双方を推定するとランダム効果は平均が0となる."
      ],
      "id": "c54002c4-7be8-422c-b80c-8160407805a5"
    },
    {
      "cell_type": "code",
      "execution_count": null,
      "metadata": {},
      "outputs": [],
      "source": [
        "lph_lme3_1 <- lmer(LPH ~ (POPD + EMP3D | AREA),\n",
        "                   data = lph)\n",
        "lph_lme3_2 <- lmer(LPH ~ POPD + EMP3D \n",
        "                   + (POPD + EMP3D | AREA),\n",
        "                   data = lph)"
      ],
      "id": "30d4007a-ec61-4c2e-a7bf-78b5345d88dc"
    },
    {
      "cell_type": "markdown",
      "metadata": {},
      "source": [
        "###"
      ],
      "id": "76fe9e0b-9285-43c2-9b8d-f88ebdbab7f4"
    },
    {
      "cell_type": "code",
      "execution_count": null,
      "metadata": {},
      "outputs": [],
      "source": [
        "jtools::summ(lph_lme3_1)"
      ],
      "id": "a4147cc0-3b44-45b9-87fa-0d80155f65cf"
    },
    {
      "cell_type": "markdown",
      "metadata": {},
      "source": [
        "###"
      ],
      "id": "8c0f08cd-3e1f-4f5e-ac7a-102c26f4e392"
    },
    {
      "cell_type": "code",
      "execution_count": null,
      "metadata": {},
      "outputs": [],
      "source": [
        "ranef(lph_lme3_1)$AREA |> \n",
        "  summary"
      ],
      "id": "88392d77-69a1-415b-b33f-fcc771723772"
    },
    {
      "cell_type": "markdown",
      "metadata": {},
      "source": [
        "###"
      ],
      "id": "211901ec-e6d8-4a19-ae24-ca6df1cd10bc"
    },
    {
      "cell_type": "code",
      "execution_count": null,
      "metadata": {},
      "outputs": [],
      "source": [
        "jtools::summ(lph_lme3_2)"
      ],
      "id": "02bccef8-4585-4c82-85c9-d534c371c527"
    },
    {
      "cell_type": "markdown",
      "metadata": {},
      "source": [
        "###"
      ],
      "id": "4377348d-7f2a-451d-b661-ed1d705e2dfd"
    },
    {
      "cell_type": "code",
      "execution_count": null,
      "metadata": {},
      "outputs": [],
      "source": [
        "ranef(lph_lme3_2)"
      ],
      "id": "79e17c89-781a-440a-9123-600b7f57d552"
    },
    {
      "cell_type": "markdown",
      "metadata": {},
      "source": [
        "### モデル比較\n",
        "\n",
        "anovaによってモデルを比較する."
      ],
      "id": "210f125e-ab90-463b-b73f-aa58dc79d9a5"
    },
    {
      "cell_type": "code",
      "execution_count": null,
      "metadata": {},
      "outputs": [],
      "source": [
        "anova(lph_lme1_1, lph_lme1_2, \n",
        "      lph_lme2_1, lph_lme2_2,\n",
        "      lph_lme3_1, lph_lme3_2)"
      ],
      "id": "b32410ce-90a4-46af-bdb2-b4b2620056be"
    },
    {
      "cell_type": "markdown",
      "metadata": {},
      "source": [
        "### AIC\n",
        "\n",
        "AICによってモデルを比較する."
      ],
      "id": "8af4a4f2-2ba0-4d8c-a6f2-147e74d0dc51"
    },
    {
      "cell_type": "code",
      "execution_count": null,
      "metadata": {},
      "outputs": [],
      "source": [
        "AIC(lph_lme1_1, lph_lme1_2, \n",
        "    lph_lme2_1, lph_lme2_2,\n",
        "    lph_lme3_1, lph_lme3_2)"
      ],
      "id": "75da2651-6563-4c23-9219-49dfad7a5c9b"
    },
    {
      "cell_type": "markdown",
      "metadata": {},
      "source": [
        "### BIC\n",
        "\n",
        "BICによってモデルを比較する."
      ],
      "id": "835c9611-5683-401d-a6cc-97f5f10d7088"
    },
    {
      "cell_type": "code",
      "execution_count": null,
      "metadata": {},
      "outputs": [],
      "source": [
        "BIC(lph_lme1_1, lph_lme1_2, \n",
        "    lph_lme2_1, lph_lme2_2,\n",
        "    lph_lme3_1, lph_lme3_2)"
      ],
      "id": "31c64472-6b6f-453b-8bd9-3022a340543d"
    },
    {
      "cell_type": "markdown",
      "metadata": {},
      "source": [
        "### 交互作用項を利用したモデルの予測精度を図示\n",
        "\n",
        "推定された結果を散布図上に表示して確認する."
      ],
      "id": "04d05670-b78e-45f6-8bde-9fed38ccabfc"
    },
    {
      "cell_type": "code",
      "execution_count": null,
      "metadata": {},
      "outputs": [],
      "source": [
        "lph |> \n",
        "  mutate(\n",
        "    predict = predict(lph_lme3_2,\n",
        "                      type = \"response\")) |> \n",
        "  ggplot() +\n",
        "  aes(x = LPH,\n",
        "      y = predict) +\n",
        "  geom_point() +\n",
        "  geom_abline(slope     = 1, \n",
        "              intercept = 0, \n",
        "              linetype  = \"dashed\")"
      ],
      "id": "1cf7d8cd-0846-4e82-8ae2-23e7734430cf"
    },
    {
      "cell_type": "markdown",
      "metadata": {},
      "source": [
        "### ベイズ推定\n",
        "\n",
        "ベイズ推定をするためには, `brms`パッケージを利用するのが便利. Posit\n",
        "Cloudでは利用が少しむずかしいので, 自身のPC等で試したい方はどうぞ."
      ],
      "id": "ecde760d-f5a7-44f9-9daf-8b021e5deef1"
    },
    {
      "cell_type": "code",
      "execution_count": null,
      "metadata": {},
      "outputs": [],
      "source": [
        "p_load(brms)\n",
        "lph_brm <- brm(LPH ~ POPD + EMP3D \n",
        "                     + (POPD + EMP3D|AREA),\n",
        "               data = lph)"
      ],
      "id": "b5c60022-2120-4886-a389-89badcb4e75d"
    }
  ],
  "nbformat": 4,
  "nbformat_minor": 5,
  "metadata": {
    "kernelspec": {
      "display_name": "Python 3",
      "language": "python",
      "name": "python3"
    }
  }
}